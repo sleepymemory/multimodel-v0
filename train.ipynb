{
 "cells": [
  {
   "cell_type": "code",
   "execution_count": 1,
   "id": "f347e359",
   "metadata": {},
   "outputs": [],
   "source": [
    "import os\n",
    "import tqdm\n",
    "from torch import nn, optim\n",
    "import torch\n",
    "from torch.utils.data import DataLoader\n",
    "from dataloader import *\n",
    "from model import *\n",
    "from torchvision.utils import save_image"
   ]
  },
  {
   "cell_type": "code",
   "execution_count": 2,
   "id": "c203b332",
   "metadata": {},
   "outputs": [],
   "source": [
    "from tensorboardX import SummaryWriter\n",
    "import datetime\n",
    "import time\n",
    "import os\n",
    "\n",
    "import logging\n",
    "import sys\n",
    "import yaml"
   ]
  },
  {
   "cell_type": "code",
   "execution_count": 3,
   "id": "5d35be8b",
   "metadata": {},
   "outputs": [],
   "source": [
    "def create_folder_structure(log_folder):\n",
    "    \"\"\"\n",
    "    Creates the folder structure for logging. Subfolders can be added here\n",
    "    \"\"\"\n",
    "    base_dir = log_folder\n",
    "    sub_folders = [\"runs\", \"models\"]\n",
    "\n",
    "    if not os.path.exists(base_dir):\n",
    "        os.mkdir(base_dir)\n",
    "        \n",
    "    for sf in sub_folders:\n",
    "        if not os.path.exists(os.path.join(base_dir, sf)):\n",
    "            os.mkdir(os.path.join(base_dir, sf))"
   ]
  },
  {
   "cell_type": "code",
   "execution_count": 4,
   "id": "85b42877",
   "metadata": {},
   "outputs": [],
   "source": [
    "log_name=\"5C\"\n",
    "log_folder = os.path.join(\"./log\", log_name)\n",
    "tb_prefix = log_name\n",
    "\n",
    "\n",
    "create_folder_structure(log_folder)\n",
    "\n",
    "log_path = os.path.join(log_folder, \"log.log\")\n",
    "print_logger = logging.getLogger()\n",
    "print_logger.setLevel(getattr(logging, 'INFO', None))\n",
    "handlers = [logging.StreamHandler(sys.stdout), logging.FileHandler(log_path)]\n",
    "formatter = logging.Formatter(\"%(levelname)s - %(filename)s - %(asctime)s - %(message)s\")\n",
    "for h in handlers:\n",
    "    h.setFormatter(formatter)\n",
    "    print_logger.addHandler(h)\n",
    "tb = SummaryWriter(os.path.join(log_folder, \"runs\", tb_prefix))"
   ]
  },
  {
   "cell_type": "code",
   "execution_count": 5,
   "id": "7d864ca7",
   "metadata": {},
   "outputs": [],
   "source": [
    "def logprint(self, *args):\n",
    "    \"\"\"\n",
    "    Wrapper for print statement\n",
    "    \"\"\"\n",
    "    print_logger.info(args)\n"
   ]
  },
  {
   "cell_type": "code",
   "execution_count": 6,
   "id": "f7f19a4c",
   "metadata": {},
   "outputs": [],
   "source": [
    "device = torch.device('cuda' if torch.cuda.is_available() else 'cpu')\n",
    "data_path = r'train'\n",
    "val_path = r'val\n",
    "val_ratio=1"
   ]
  },
  {
   "cell_type": "code",
   "execution_count": 7,
   "id": "df43a843",
   "metadata": {},
   "outputs": [],
   "source": [
    "filename_list = []\n",
    "for file in os.listdir(os.path.join(data_path,\"D_real\")):\n",
    "    filename_list.append(file)"
   ]
  },
  {
   "cell_type": "code",
   "execution_count": 8,
   "id": "20a95671",
   "metadata": {},
   "outputs": [],
   "source": [
    "val_filename_list = []\n",
    "for file in os.listdir(os.path.join(val_path,\"D_real\")):\n",
    "    val_filename_list.append(file)"
   ]
  },
  {
   "cell_type": "code",
   "execution_count": 9,
   "id": "bcb6769b",
   "metadata": {},
   "outputs": [],
   "source": [
    "global_cnt_val=0"
   ]
  },
  {
   "cell_type": "code",
   "execution_count": 10,
   "id": "9b66b159",
   "metadata": {},
   "outputs": [],
   "source": [
    "datasets_train=DataLoader(MyDataset(data_path,filename_list), batch_size=8, shuffle=True)\n",
    "datasets_val =DataLoader(MyDataset(data_path,val_filename_list), batch_size=1, shuffle=False)"
   ]
  },
  {
   "cell_type": "code",
   "execution_count": 11,
   "id": "4a1be7dd",
   "metadata": {},
   "outputs": [],
   "source": [
    "train_len_data = len(datasets_train)\n",
    "val_len_data=len(datasets_val)"
   ]
  },
  {
   "cell_type": "code",
   "execution_count": 12,
   "id": "11f00be6",
   "metadata": {},
   "outputs": [],
   "source": [
    "model = SensorFusion(device=device).to(device)"
   ]
  },
  {
   "cell_type": "code",
   "execution_count": 13,
   "id": "2603c6eb",
   "metadata": {},
   "outputs": [],
   "source": [
    "opt= optim.Adam(\n",
    "    model.parameters(),\n",
    "    lr=0.0001,\n",
    "    betas=(0.9, 0.999),\n",
    "    weight_decay=0.0,\n",
    ")"
   ]
  },
  {
   "cell_type": "code",
   "execution_count": 14,
   "id": "2635e0f7",
   "metadata": {},
   "outputs": [],
   "source": [
    "loss_P = nn.MSELoss()\n",
    "loss_F = nn.MSELoss()\n",
    "loss_D = nn.MSELoss()"
   ]
  },
  {
   "cell_type": "code",
   "execution_count": 15,
   "id": "1cf4736c",
   "metadata": {},
   "outputs": [
    {
     "name": "stderr",
     "output_type": "stream",
     "text": [
      "100%|███████████████████████████| 272/272 [01:51<00:00,  2.43it/s, D_loss=0.15, F_loss_=1.01e+4, P_loss=3e+3, epoch_=0]\n"
     ]
    },
    {
     "name": "stdout",
     "output_type": "stream",
     "text": [
      "708734402.7568359\n"
     ]
    },
    {
     "name": "stderr",
     "output_type": "stream",
     "text": [
      "100%|████████████████████████| 263/263 [00:07<00:00, 36.03it/s, D_loss=0.153, F_loss_=2.1e+4, P_loss=1.36e+4, epoch_=0]\n"
     ]
    },
    {
     "name": "stdout",
     "output_type": "stream",
     "text": [
      "32815788.646484375\n",
      "save successfully!\n"
     ]
    },
    {
     "name": "stderr",
     "output_type": "stream",
     "text": [
      "100%|█████████████████████| 272/272 [00:45<00:00,  5.97it/s, D_loss=0.00857, F_loss_=3.27e+4, P_loss=1.38e+4, epoch_=1]\n"
     ]
    },
    {
     "name": "stdout",
     "output_type": "stream",
     "text": [
      "40696573.0859375\n"
     ]
    },
    {
     "name": "stderr",
     "output_type": "stream",
     "text": [
      "100%|███████████████████████| 263/263 [00:06<00:00, 37.61it/s, D_loss=0.0109, F_loss_=2.56e+4, P_loss=1.2e+4, epoch_=1]\n"
     ]
    },
    {
     "name": "stdout",
     "output_type": "stream",
     "text": [
      "33091239.53515625\n"
     ]
    },
    {
     "name": "stderr",
     "output_type": "stream",
     "text": [
      "100%|███████████████████████| 272/272 [00:45<00:00,  5.99it/s, D_loss=0.971, F_loss_=3.32e+3, P_loss=1.27e+3, epoch_=2]\n"
     ]
    },
    {
     "name": "stdout",
     "output_type": "stream",
     "text": [
      "40633276.06347656\n"
     ]
    },
    {
     "name": "stderr",
     "output_type": "stream",
     "text": [
      "100%|███████████████████████| 263/263 [00:07<00:00, 37.22it/s, D_loss=0.397, F_loss_=1.46e+4, P_loss=6.97e+3, epoch_=2]\n"
     ]
    },
    {
     "name": "stdout",
     "output_type": "stream",
     "text": [
      "33120572.759765625\n"
     ]
    },
    {
     "name": "stderr",
     "output_type": "stream",
     "text": [
      "100%|███████████████████████| 272/272 [00:45<00:00,  6.00it/s, D_loss=0.406, F_loss_=1.28e+5, P_loss=7.52e+4, epoch_=3]\n"
     ]
    },
    {
     "name": "stdout",
     "output_type": "stream",
     "text": [
      "40657902.68359375\n"
     ]
    },
    {
     "name": "stderr",
     "output_type": "stream",
     "text": [
      "100%|███████████████████████| 263/263 [00:06<00:00, 38.01it/s, D_loss=0.661, F_loss_=2.44e+4, P_loss=2.21e+4, epoch_=3]\n"
     ]
    },
    {
     "name": "stdout",
     "output_type": "stream",
     "text": [
      "32272159.122070312\n"
     ]
    },
    {
     "name": "stderr",
     "output_type": "stream",
     "text": [
      "100%|███████████████████████| 272/272 [00:45<00:00,  5.99it/s, D_loss=0.283, F_loss_=1.37e+4, P_loss=1.12e+5, epoch_=4]\n"
     ]
    },
    {
     "name": "stdout",
     "output_type": "stream",
     "text": [
      "39984079.26171875\n"
     ]
    },
    {
     "name": "stderr",
     "output_type": "stream",
     "text": [
      "100%|███████████████████████| 263/263 [00:06<00:00, 38.07it/s, D_loss=0.338, F_loss_=1.31e+4, P_loss=9.33e+3, epoch_=4]\n"
     ]
    },
    {
     "name": "stdout",
     "output_type": "stream",
     "text": [
      "28779468.13671875\n"
     ]
    },
    {
     "name": "stderr",
     "output_type": "stream",
     "text": [
      "100%|███████████████████████████| 272/272 [00:45<00:00,  6.00it/s, D_loss=0.214, F_loss_=216, P_loss=4.97e+3, epoch_=5]\n"
     ]
    },
    {
     "name": "stdout",
     "output_type": "stream",
     "text": [
      "12570886.590820312\n"
     ]
    },
    {
     "name": "stderr",
     "output_type": "stream",
     "text": [
      "100%|███████████████████████████████| 263/263 [00:06<00:00, 37.98it/s, D_loss=0.165, F_loss_=712, P_loss=721, epoch_=5]\n"
     ]
    },
    {
     "name": "stdout",
     "output_type": "stream",
     "text": [
      "2763594.8439331055\n",
      "save successfully!\n"
     ]
    },
    {
     "name": "stderr",
     "output_type": "stream",
     "text": [
      "100%|███████████████████████| 272/272 [00:45<00:00,  5.98it/s, D_loss=0.176, F_loss_=1.24e+3, P_loss=1.06e+3, epoch_=6]\n"
     ]
    },
    {
     "name": "stdout",
     "output_type": "stream",
     "text": [
      "2884220.9125976562\n"
     ]
    },
    {
     "name": "stderr",
     "output_type": "stream",
     "text": [
      "100%|████████████████████████████| 263/263 [00:06<00:00, 39.40it/s, D_loss=1.01, F_loss_=1.63e+3, P_loss=754, epoch_=6]\n"
     ]
    },
    {
     "name": "stdout",
     "output_type": "stream",
     "text": [
      "2131491.3176879883\n"
     ]
    },
    {
     "name": "stderr",
     "output_type": "stream",
     "text": [
      "100%|████████████████████████| 272/272 [00:44<00:00,  6.08it/s, D_loss=0.28, F_loss_=4.01e+3, P_loss=2.45e+3, epoch_=7]\n"
     ]
    },
    {
     "name": "stdout",
     "output_type": "stream",
     "text": [
      "2269518.5869140625\n"
     ]
    },
    {
     "name": "stderr",
     "output_type": "stream",
     "text": [
      "100%|███████████████████████| 263/263 [00:06<00:00, 38.49it/s, D_loss=0.772, F_loss_=1.71e+3, P_loss=5.44e+3, epoch_=7]\n"
     ]
    },
    {
     "name": "stdout",
     "output_type": "stream",
     "text": [
      "2241570.70111084\n"
     ]
    },
    {
     "name": "stderr",
     "output_type": "stream",
     "text": [
      "100%|██████████████████████████| 272/272 [00:45<00:00,  6.04it/s, D_loss=0.0178, F_loss_=1.59e+4, P_loss=624, epoch_=8]\n"
     ]
    },
    {
     "name": "stdout",
     "output_type": "stream",
     "text": [
      "2110647.94140625\n"
     ]
    },
    {
     "name": "stderr",
     "output_type": "stream",
     "text": [
      "100%|███████████████████████| 263/263 [00:06<00:00, 38.10it/s, D_loss=0.215, F_loss_=1.63e+3, P_loss=2.47e+3, epoch_=8]\n"
     ]
    },
    {
     "name": "stdout",
     "output_type": "stream",
     "text": [
      "1879912.9129638672\n"
     ]
    },
    {
     "name": "stderr",
     "output_type": "stream",
     "text": [
      "100%|████████████████████████████| 272/272 [00:45<00:00,  6.01it/s, D_loss=0.133, F_loss_=381, P_loss=2.9e+3, epoch_=9]\n"
     ]
    },
    {
     "name": "stdout",
     "output_type": "stream",
     "text": [
      "1993208.8581542969\n"
     ]
    },
    {
     "name": "stderr",
     "output_type": "stream",
     "text": [
      "100%|█████████████████████████| 263/263 [00:06<00:00, 38.61it/s, D_loss=0.35, F_loss_=1.99e+3, P_loss=6.4e+3, epoch_=9]\n"
     ]
    },
    {
     "name": "stdout",
     "output_type": "stream",
     "text": [
      "2589684.6484375\n"
     ]
    },
    {
     "name": "stderr",
     "output_type": "stream",
     "text": [
      "100%|█████████████████████████| 272/272 [00:45<00:00,  6.02it/s, D_loss=0.0951, F_loss_=418, P_loss=1.47e+4, epoch_=10]\n"
     ]
    },
    {
     "name": "stdout",
     "output_type": "stream",
     "text": [
      "1938160.9333496094\n"
     ]
    },
    {
     "name": "stderr",
     "output_type": "stream",
     "text": [
      "100%|██████████████████████████| 263/263 [00:06<00:00, 38.19it/s, D_loss=0.554, F_loss_=2.52e+3, P_loss=642, epoch_=10]\n"
     ]
    },
    {
     "name": "stdout",
     "output_type": "stream",
     "text": [
      "1635441.802368164\n",
      "save successfully!\n"
     ]
    },
    {
     "name": "stderr",
     "output_type": "stream",
     "text": [
      "100%|██████████████████████| 272/272 [00:45<00:00,  6.01it/s, D_loss=0.512, F_loss_=3.05e+3, P_loss=5.82e+3, epoch_=11]\n"
     ]
    },
    {
     "name": "stdout",
     "output_type": "stream",
     "text": [
      "2012927.2626953125\n"
     ]
    },
    {
     "name": "stderr",
     "output_type": "stream",
     "text": [
      "100%|██████████████████████| 263/263 [00:06<00:00, 37.88it/s, D_loss=0.417, F_loss_=1.43e+3, P_loss=4.94e+3, epoch_=11]\n"
     ]
    },
    {
     "name": "stdout",
     "output_type": "stream",
     "text": [
      "1518818.1832885742\n"
     ]
    },
    {
     "name": "stderr",
     "output_type": "stream",
     "text": [
      "100%|█████████████████████████| 272/272 [00:45<00:00,  6.04it/s, D_loss=0.0272, F_loss_=879, P_loss=7.86e+3, epoch_=12]\n"
     ]
    },
    {
     "name": "stdout",
     "output_type": "stream",
     "text": [
      "1839044.2932128906\n"
     ]
    },
    {
     "name": "stderr",
     "output_type": "stream",
     "text": [
      "100%|████████████████████████████| 263/263 [00:06<00:00, 38.83it/s, D_loss=0.1, F_loss_=1.82e+3, P_loss=470, epoch_=12]\n"
     ]
    },
    {
     "name": "stdout",
     "output_type": "stream",
     "text": [
      "1382307.9711914062\n"
     ]
    },
    {
     "name": "stderr",
     "output_type": "stream",
     "text": [
      "100%|██████████████████████████| 272/272 [00:44<00:00,  6.11it/s, D_loss=0.034, F_loss_=5.25e+3, P_loss=188, epoch_=13]\n"
     ]
    },
    {
     "name": "stdout",
     "output_type": "stream",
     "text": [
      "1699641.4660644531\n"
     ]
    },
    {
     "name": "stderr",
     "output_type": "stream",
     "text": [
      "100%|█████████████████████| 263/263 [00:06<00:00, 37.76it/s, D_loss=0.0619, F_loss_=2.53e+3, P_loss=5.34e+3, epoch_=13]\n"
     ]
    },
    {
     "name": "stdout",
     "output_type": "stream",
     "text": [
      "2307090.360900879\n"
     ]
    },
    {
     "name": "stderr",
     "output_type": "stream",
     "text": [
      "100%|█████████████████████████| 272/272 [00:44<00:00,  6.08it/s, D_loss=0.199, F_loss_=8.14e+3, P_loss=74.4, epoch_=14]\n"
     ]
    },
    {
     "name": "stdout",
     "output_type": "stream",
     "text": [
      "2038959.5173339844\n"
     ]
    },
    {
     "name": "stderr",
     "output_type": "stream",
     "text": [
      "100%|██████████████████████| 263/263 [00:06<00:00, 38.67it/s, D_loss=0.742, F_loss_=1.99e+3, P_loss=3.16e+3, epoch_=14]\n"
     ]
    },
    {
     "name": "stdout",
     "output_type": "stream",
     "text": [
      "1724463.5037841797\n"
     ]
    },
    {
     "name": "stderr",
     "output_type": "stream",
     "text": [
      "100%|██████████████████████| 272/272 [00:45<00:00,  6.00it/s, D_loss=0.103, F_loss_=8.89e+3, P_loss=1.59e+3, epoch_=15]\n"
     ]
    },
    {
     "name": "stdout",
     "output_type": "stream",
     "text": [
      "1678406.4377441406\n"
     ]
    },
    {
     "name": "stderr",
     "output_type": "stream",
     "text": [
      "100%|███████████████████████████| 263/263 [00:07<00:00, 37.00it/s, D_loss=1.78, F_loss_=2.85e+3, P_loss=692, epoch_=15]\n"
     ]
    },
    {
     "name": "stdout",
     "output_type": "stream",
     "text": [
      "1490018.1922607422\n",
      "save successfully!\n"
     ]
    },
    {
     "name": "stderr",
     "output_type": "stream",
     "text": [
      "100%|█████████████████████| 272/272 [00:46<00:00,  5.91it/s, D_loss=0.0459, F_loss_=4.24e+3, P_loss=2.47e+3, epoch_=16]\n"
     ]
    },
    {
     "name": "stdout",
     "output_type": "stream",
     "text": [
      "1476290.5590820312\n"
     ]
    },
    {
     "name": "stderr",
     "output_type": "stream",
     "text": [
      "100%|██████████████████████| 263/263 [00:06<00:00, 37.76it/s, D_loss=0.342, F_loss_=2.28e+3, P_loss=2.04e+3, epoch_=16]\n"
     ]
    },
    {
     "name": "stdout",
     "output_type": "stream",
     "text": [
      "1460914.7453613281\n"
     ]
    },
    {
     "name": "stderr",
     "output_type": "stream",
     "text": [
      "100%|███████████████████████| 272/272 [00:45<00:00,  5.93it/s, D_loss=0.127, F_loss_=2.5e+3, P_loss=2.33e+3, epoch_=17]\n"
     ]
    },
    {
     "name": "stdout",
     "output_type": "stream",
     "text": [
      "1352984.3697509766\n"
     ]
    },
    {
     "name": "stderr",
     "output_type": "stream",
     "text": [
      "100%|██████████████████████| 263/263 [00:06<00:00, 38.88it/s, D_loss=0.0522, F_loss_=1.9e+3, P_loss=1.86e+3, epoch_=17]\n"
     ]
    },
    {
     "name": "stdout",
     "output_type": "stream",
     "text": [
      "1224563.9237670898\n"
     ]
    },
    {
     "name": "stderr",
     "output_type": "stream",
     "text": [
      "100%|██████████████████████| 272/272 [00:44<00:00,  6.07it/s, D_loss=0.181, F_loss_=1.04e+3, P_loss=2.93e+3, epoch_=18]\n"
     ]
    },
    {
     "name": "stdout",
     "output_type": "stream",
     "text": [
      "1272577.2314453125\n"
     ]
    },
    {
     "name": "stderr",
     "output_type": "stream",
     "text": [
      "100%|██████████████████████| 263/263 [00:06<00:00, 39.01it/s, D_loss=0.125, F_loss_=2.52e+3, P_loss=4.91e+3, epoch_=18]\n"
     ]
    },
    {
     "name": "stdout",
     "output_type": "stream",
     "text": [
      "1872604.2407836914\n"
     ]
    },
    {
     "name": "stderr",
     "output_type": "stream",
     "text": [
      "100%|█████████████████████████| 272/272 [00:44<00:00,  6.08it/s, D_loss=0.0189, F_loss_=7.16e+3, P_loss=443, epoch_=19]\n"
     ]
    },
    {
     "name": "stdout",
     "output_type": "stream",
     "text": [
      "1243174.2844238281\n"
     ]
    },
    {
     "name": "stderr",
     "output_type": "stream",
     "text": [
      "100%|██████████████████████| 263/263 [00:06<00:00, 38.54it/s, D_loss=0.113, F_loss_=3.58e+3, P_loss=2.42e+3, epoch_=19]\n"
     ]
    },
    {
     "name": "stdout",
     "output_type": "stream",
     "text": [
      "1563921.1389160156\n"
     ]
    },
    {
     "name": "stderr",
     "output_type": "stream",
     "text": [
      "100%|█████████████████████| 272/272 [00:44<00:00,  6.06it/s, D_loss=0.0894, F_loss_=4.32e+3, P_loss=1.25e+3, epoch_=20]\n"
     ]
    },
    {
     "name": "stdout",
     "output_type": "stream",
     "text": [
      "1155575.4542236328\n"
     ]
    },
    {
     "name": "stderr",
     "output_type": "stream",
     "text": [
      "100%|██████████████████████| 263/263 [00:06<00:00, 39.35it/s, D_loss=0.198, F_loss_=2.22e+3, P_loss=2.13e+3, epoch_=20]\n"
     ]
    },
    {
     "name": "stdout",
     "output_type": "stream",
     "text": [
      "1421942.7780761719\n",
      "save successfully!\n"
     ]
    },
    {
     "name": "stderr",
     "output_type": "stream",
     "text": [
      "100%|█████████████████████| 272/272 [00:44<00:00,  6.06it/s, D_loss=0.0128, F_loss_=1.55e+3, P_loss=1.41e+3, epoch_=21]\n"
     ]
    },
    {
     "name": "stdout",
     "output_type": "stream",
     "text": [
      "1090900.9694824219\n"
     ]
    },
    {
     "name": "stderr",
     "output_type": "stream",
     "text": [
      "100%|█████████████████████████| 263/263 [00:06<00:00, 38.90it/s, D_loss=0.00576, F_loss_=2.89e+3, P_loss=93, epoch_=21]\n"
     ]
    },
    {
     "name": "stdout",
     "output_type": "stream",
     "text": [
      "962567.9498291016\n"
     ]
    },
    {
     "name": "stderr",
     "output_type": "stream",
     "text": [
      "100%|██████████████████████████| 272/272 [00:44<00:00,  6.12it/s, D_loss=0.056, F_loss_=3.99e+3, P_loss=791, epoch_=22]\n"
     ]
    },
    {
     "name": "stdout",
     "output_type": "stream",
     "text": [
      "1045471.7615966797\n"
     ]
    },
    {
     "name": "stderr",
     "output_type": "stream",
     "text": [
      "100%|█████████████████████| 263/263 [00:06<00:00, 39.53it/s, D_loss=0.0179, F_loss_=2.15e+3, P_loss=1.04e+3, epoch_=22]\n"
     ]
    },
    {
     "name": "stdout",
     "output_type": "stream",
     "text": [
      "716328.1442871094\n"
     ]
    },
    {
     "name": "stderr",
     "output_type": "stream",
     "text": [
      "100%|███████████████████████| 272/272 [00:44<00:00,  6.10it/s, D_loss=0.129, F_loss_=6.79e+3, P_loss=3.7e+3, epoch_=23]\n"
     ]
    },
    {
     "name": "stdout",
     "output_type": "stream",
     "text": [
      "1002714.3485107422\n"
     ]
    },
    {
     "name": "stderr",
     "output_type": "stream",
     "text": [
      "100%|█████████████████████| 263/263 [00:06<00:00, 40.97it/s, D_loss=0.0606, F_loss_=2.14e+3, P_loss=1.13e+3, epoch_=23]\n"
     ]
    },
    {
     "name": "stdout",
     "output_type": "stream",
     "text": [
      "813873.5765380859\n"
     ]
    },
    {
     "name": "stderr",
     "output_type": "stream",
     "text": [
      "100%|█████████████████████████| 272/272 [00:44<00:00,  6.05it/s, D_loss=0.0208, F_loss_=9.25e+3, P_loss=923, epoch_=24]\n"
     ]
    },
    {
     "name": "stdout",
     "output_type": "stream",
     "text": [
      "1009034.0129394531\n"
     ]
    },
    {
     "name": "stderr",
     "output_type": "stream",
     "text": [
      "100%|██████████████████████████| 263/263 [00:06<00:00, 37.62it/s, D_loss=0.0277, F_loss_=3.7e+3, P_loss=299, epoch_=24]\n"
     ]
    },
    {
     "name": "stdout",
     "output_type": "stream",
     "text": [
      "975382.6401367188\n"
     ]
    },
    {
     "name": "stderr",
     "output_type": "stream",
     "text": [
      "100%|██████████████████████████| 272/272 [00:45<00:00,  5.92it/s, D_loss=0.308, F_loss_=1.81e+3, P_loss=603, epoch_=25]\n"
     ]
    },
    {
     "name": "stdout",
     "output_type": "stream",
     "text": [
      "956374.6685791016\n"
     ]
    },
    {
     "name": "stderr",
     "output_type": "stream",
     "text": [
      "100%|██████████████████████████| 263/263 [00:07<00:00, 37.23it/s, D_loss=0.163, F_loss_=2.01e+3, P_loss=417, epoch_=25]\n"
     ]
    },
    {
     "name": "stdout",
     "output_type": "stream",
     "text": [
      "667299.7807006836\n",
      "save successfully!\n"
     ]
    },
    {
     "name": "stderr",
     "output_type": "stream",
     "text": [
      "100%|█████████████████████████| 272/272 [00:45<00:00,  5.96it/s, D_loss=0.0261, F_loss_=1.98e+3, P_loss=934, epoch_=26]\n"
     ]
    },
    {
     "name": "stdout",
     "output_type": "stream",
     "text": [
      "956777.55078125\n"
     ]
    },
    {
     "name": "stderr",
     "output_type": "stream",
     "text": [
      "100%|██████████████████████████| 263/263 [00:06<00:00, 39.19it/s, D_loss=0.154, F_loss_=3.31e+3, P_loss=866, epoch_=26]\n"
     ]
    },
    {
     "name": "stdout",
     "output_type": "stream",
     "text": [
      "1076995.181640625\n"
     ]
    },
    {
     "name": "stderr",
     "output_type": "stream",
     "text": [
      "100%|███████████████████████| 272/272 [00:45<00:00,  5.97it/s, D_loss=0.15, F_loss_=1.01e+3, P_loss=1.91e+3, epoch_=27]\n"
     ]
    },
    {
     "name": "stdout",
     "output_type": "stream",
     "text": [
      "935400.1373291016\n"
     ]
    },
    {
     "name": "stderr",
     "output_type": "stream",
     "text": [
      "100%|████████████████████████| 263/263 [00:06<00:00, 39.85it/s, D_loss=0.00681, F_loss_=2.45e+3, P_loss=437, epoch_=27]\n"
     ]
    },
    {
     "name": "stdout",
     "output_type": "stream",
     "text": [
      "723511.1742553711\n"
     ]
    },
    {
     "name": "stderr",
     "output_type": "stream",
     "text": [
      "100%|█████████████████████| 272/272 [00:44<00:00,  6.16it/s, D_loss=0.0757, F_loss_=1.87e+3, P_loss=2.12e+3, epoch_=28]\n"
     ]
    },
    {
     "name": "stdout",
     "output_type": "stream",
     "text": [
      "926010.8314208984\n"
     ]
    },
    {
     "name": "stderr",
     "output_type": "stream",
     "text": [
      "100%|█████████████████████████| 263/263 [00:06<00:00, 39.18it/s, D_loss=0.0367, F_loss_=1.78e+3, P_loss=596, epoch_=28]\n"
     ]
    },
    {
     "name": "stdout",
     "output_type": "stream",
     "text": [
      "699311.7257080078\n"
     ]
    },
    {
     "name": "stderr",
     "output_type": "stream",
     "text": [
      "100%|██████████████████████| 272/272 [00:45<00:00,  5.99it/s, D_loss=0.104, F_loss_=2.96e+3, P_loss=1.85e+3, epoch_=29]\n"
     ]
    },
    {
     "name": "stdout",
     "output_type": "stream",
     "text": [
      "901877.0903320312\n"
     ]
    },
    {
     "name": "stderr",
     "output_type": "stream",
     "text": [
      "100%|██████████████████████████| 263/263 [00:06<00:00, 41.29it/s, D_loss=0.022, F_loss_=1.49e+3, P_loss=513, epoch_=29]\n"
     ]
    },
    {
     "name": "stdout",
     "output_type": "stream",
     "text": [
      "739574.8563842773\n"
     ]
    },
    {
     "name": "stderr",
     "output_type": "stream",
     "text": [
      "100%|█████████████████████| 272/272 [00:44<00:00,  6.14it/s, D_loss=0.0904, F_loss_=1.69e+3, P_loss=1.46e+3, epoch_=30]\n"
     ]
    },
    {
     "name": "stdout",
     "output_type": "stream",
     "text": [
      "908176.3032226562\n"
     ]
    },
    {
     "name": "stderr",
     "output_type": "stream",
     "text": [
      "100%|█████████████████████████| 263/263 [00:06<00:00, 42.64it/s, D_loss=0.0248, F_loss_=3.52e+3, P_loss=237, epoch_=30]\n"
     ]
    },
    {
     "name": "stdout",
     "output_type": "stream",
     "text": [
      "834795.2001342773\n",
      "save successfully!\n"
     ]
    },
    {
     "name": "stderr",
     "output_type": "stream",
     "text": [
      "100%|█████████████████████████| 272/272 [00:44<00:00,  6.10it/s, D_loss=0.0128, F_loss_=103, P_loss=1.24e+3, epoch_=31]\n"
     ]
    },
    {
     "name": "stdout",
     "output_type": "stream",
     "text": [
      "879596.5922851562\n"
     ]
    },
    {
     "name": "stderr",
     "output_type": "stream",
     "text": [
      "100%|██████████████████████| 263/263 [00:06<00:00, 39.41it/s, D_loss=0.0337, F_loss_=2.62e+3, P_loss=1.8e+3, epoch_=31]\n"
     ]
    },
    {
     "name": "stdout",
     "output_type": "stream",
     "text": [
      "920621.2446899414\n"
     ]
    },
    {
     "name": "stderr",
     "output_type": "stream",
     "text": [
      "100%|███████████████████████████| 272/272 [00:44<00:00,  6.16it/s, D_loss=0.28, F_loss_=3.92e+3, P_loss=888, epoch_=32]\n"
     ]
    },
    {
     "name": "stdout",
     "output_type": "stream",
     "text": [
      "860363.7346191406\n"
     ]
    },
    {
     "name": "stderr",
     "output_type": "stream",
     "text": [
      "100%|████████████████████████| 263/263 [00:06<00:00, 38.99it/s, D_loss=0.0963, F_loss_=2.55e+3, P_loss=61.7, epoch_=32]\n"
     ]
    },
    {
     "name": "stdout",
     "output_type": "stream",
     "text": [
      "722196.827545166\n"
     ]
    },
    {
     "name": "stderr",
     "output_type": "stream",
     "text": [
      "100%|█████████████████████████| 272/272 [00:44<00:00,  6.13it/s, D_loss=0.0432, F_loss_=2.03e+3, P_loss=275, epoch_=33]\n"
     ]
    },
    {
     "name": "stdout",
     "output_type": "stream",
     "text": [
      "839824.1849365234\n"
     ]
    },
    {
     "name": "stderr",
     "output_type": "stream",
     "text": [
      "100%|██████████████████████████| 263/263 [00:06<00:00, 39.52it/s, D_loss=0.172, F_loss_=2.15e+3, P_loss=636, epoch_=33]\n"
     ]
    },
    {
     "name": "stdout",
     "output_type": "stream",
     "text": [
      "794610.1282348633\n"
     ]
    },
    {
     "name": "stderr",
     "output_type": "stream",
     "text": [
      "100%|██████████████████████████████| 272/272 [00:44<00:00,  6.13it/s, D_loss=0.105, F_loss_=198, P_loss=734, epoch_=34]\n"
     ]
    },
    {
     "name": "stdout",
     "output_type": "stream",
     "text": [
      "810849.1594238281\n"
     ]
    },
    {
     "name": "stderr",
     "output_type": "stream",
     "text": [
      "100%|██████████████████████████| 263/263 [00:06<00:00, 38.93it/s, D_loss=0.244, F_loss_=2.06e+3, P_loss=413, epoch_=34]\n"
     ]
    },
    {
     "name": "stdout",
     "output_type": "stream",
     "text": [
      "589538.3329467773\n"
     ]
    },
    {
     "name": "stderr",
     "output_type": "stream",
     "text": [
      "100%|██████████████████████████| 272/272 [00:44<00:00,  6.10it/s, D_loss=0.143, F_loss_=5.35e+3, P_loss=977, epoch_=35]\n"
     ]
    },
    {
     "name": "stdout",
     "output_type": "stream",
     "text": [
      "822103.8323974609\n"
     ]
    },
    {
     "name": "stderr",
     "output_type": "stream",
     "text": [
      "100%|██████████████████████████| 263/263 [00:06<00:00, 39.59it/s, D_loss=0.189, F_loss_=1.95e+3, P_loss=603, epoch_=35]\n"
     ]
    },
    {
     "name": "stdout",
     "output_type": "stream",
     "text": [
      "653011.1973876953\n",
      "save successfully!\n"
     ]
    },
    {
     "name": "stderr",
     "output_type": "stream",
     "text": [
      "100%|█████████████████████████| 272/272 [00:44<00:00,  6.12it/s, D_loss=0.0401, F_loss_=151, P_loss=5.75e+3, epoch_=36]\n"
     ]
    },
    {
     "name": "stdout",
     "output_type": "stream",
     "text": [
      "799819.0559082031\n"
     ]
    },
    {
     "name": "stderr",
     "output_type": "stream",
     "text": [
      "100%|██████████████████████████| 263/263 [00:06<00:00, 39.06it/s, D_loss=0.144, F_loss_=2.56e+3, P_loss=782, epoch_=36]\n"
     ]
    },
    {
     "name": "stdout",
     "output_type": "stream",
     "text": [
      "585689.3391723633\n"
     ]
    },
    {
     "name": "stderr",
     "output_type": "stream",
     "text": [
      "100%|█████████████████████████████| 272/272 [00:45<00:00,  6.01it/s, D_loss=0.0646, F_loss_=665, P_loss=904, epoch_=37]\n"
     ]
    },
    {
     "name": "stdout",
     "output_type": "stream",
     "text": [
      "779485.2741699219\n"
     ]
    },
    {
     "name": "stderr",
     "output_type": "stream",
     "text": [
      "100%|███████████████████████| 263/263 [00:07<00:00, 37.56it/s, D_loss=0.521, F_loss_=2.03e+3, P_loss=1.1e+3, epoch_=37]\n"
     ]
    },
    {
     "name": "stdout",
     "output_type": "stream",
     "text": [
      "611412.0054016113\n"
     ]
    },
    {
     "name": "stderr",
     "output_type": "stream",
     "text": [
      "100%|█████████████████████| 272/272 [00:46<00:00,  5.87it/s, D_loss=0.0311, F_loss_=3.76e+3, P_loss=1.13e+3, epoch_=38]\n"
     ]
    },
    {
     "name": "stdout",
     "output_type": "stream",
     "text": [
      "801339.8546142578\n"
     ]
    },
    {
     "name": "stderr",
     "output_type": "stream",
     "text": [
      "100%|█████████████████████████| 263/263 [00:06<00:00, 37.80it/s, D_loss=0.0165, F_loss_=1.81e+3, P_loss=950, epoch_=38]\n"
     ]
    },
    {
     "name": "stdout",
     "output_type": "stream",
     "text": [
      "588646.0047912598\n"
     ]
    },
    {
     "name": "stderr",
     "output_type": "stream",
     "text": [
      "100%|█████████████████████| 272/272 [00:46<00:00,  5.87it/s, D_loss=0.0216, F_loss_=3.91e+3, P_loss=5.18e+3, epoch_=39]\n"
     ]
    },
    {
     "name": "stdout",
     "output_type": "stream",
     "text": [
      "816991.4896240234\n"
     ]
    },
    {
     "name": "stderr",
     "output_type": "stream",
     "text": [
      "100%|█████████████████████████| 263/263 [00:07<00:00, 37.54it/s, D_loss=0.0312, F_loss_=1.86e+3, P_loss=730, epoch_=39]\n"
     ]
    },
    {
     "name": "stdout",
     "output_type": "stream",
     "text": [
      "528124.5742492676\n"
     ]
    },
    {
     "name": "stderr",
     "output_type": "stream",
     "text": [
      "100%|█████████████████████| 272/272 [00:45<00:00,  5.92it/s, D_loss=0.0211, F_loss_=1.92e+3, P_loss=1.12e+3, epoch_=40]\n"
     ]
    },
    {
     "name": "stdout",
     "output_type": "stream",
     "text": [
      "759320.4294433594\n"
     ]
    },
    {
     "name": "stderr",
     "output_type": "stream",
     "text": [
      "100%|███████████████████████████████| 263/263 [00:07<00:00, 35.85it/s, D_loss=0.17, F_loss_=995, P_loss=751, epoch_=40]\n"
     ]
    },
    {
     "name": "stdout",
     "output_type": "stream",
     "text": [
      "474787.71185302734\n",
      "save successfully!\n"
     ]
    },
    {
     "name": "stderr",
     "output_type": "stream",
     "text": [
      "100%|█████████████████████████| 272/272 [00:44<00:00,  6.07it/s, D_loss=0.0489, F_loss_=2.69e+3, P_loss=697, epoch_=41]\n"
     ]
    },
    {
     "name": "stdout",
     "output_type": "stream",
     "text": [
      "758892.8673095703\n"
     ]
    },
    {
     "name": "stderr",
     "output_type": "stream",
     "text": [
      "100%|████████████████████████| 263/263 [00:06<00:00, 38.64it/s, D_loss=0.00406, F_loss_=1.48e+3, P_loss=593, epoch_=41]\n"
     ]
    },
    {
     "name": "stdout",
     "output_type": "stream",
     "text": [
      "543354.4616394043\n"
     ]
    },
    {
     "name": "stderr",
     "output_type": "stream",
     "text": [
      "100%|████████████████████████| 272/272 [00:45<00:00,  6.02it/s, D_loss=0.00907, F_loss_=1.02e+3, P_loss=104, epoch_=42]\n"
     ]
    },
    {
     "name": "stdout",
     "output_type": "stream",
     "text": [
      "738776.1589355469\n"
     ]
    },
    {
     "name": "stderr",
     "output_type": "stream",
     "text": [
      "100%|██████████████████████████| 263/263 [00:06<00:00, 38.38it/s, D_loss=0.0397, F_loss_=1.7e+3, P_loss=460, epoch_=42]\n"
     ]
    },
    {
     "name": "stdout",
     "output_type": "stream",
     "text": [
      "523816.8249206543\n"
     ]
    },
    {
     "name": "stderr",
     "output_type": "stream",
     "text": [
      "100%|███████████████████████| 272/272 [00:45<00:00,  6.01it/s, D_loss=0.271, F_loss_=1.05e+3, P_loss=1.5e+3, epoch_=43]\n"
     ]
    },
    {
     "name": "stdout",
     "output_type": "stream",
     "text": [
      "744674.1446533203\n"
     ]
    },
    {
     "name": "stderr",
     "output_type": "stream",
     "text": [
      "100%|██████████████████████████████| 263/263 [00:06<00:00, 38.02it/s, D_loss=0.113, F_loss_=729, P_loss=306, epoch_=43]\n"
     ]
    },
    {
     "name": "stdout",
     "output_type": "stream",
     "text": [
      "442939.7125930786\n"
     ]
    },
    {
     "name": "stderr",
     "output_type": "stream",
     "text": [
      "100%|█████████████████████████| 272/272 [00:45<00:00,  6.02it/s, D_loss=0.0847, F_loss_=1.44e+3, P_loss=232, epoch_=44]\n"
     ]
    },
    {
     "name": "stdout",
     "output_type": "stream",
     "text": [
      "733458.8116455078\n"
     ]
    },
    {
     "name": "stderr",
     "output_type": "stream",
     "text": [
      "100%|█████████████████████████████| 263/263 [00:06<00:00, 38.09it/s, D_loss=0.0647, F_loss_=846, P_loss=956, epoch_=44]\n"
     ]
    },
    {
     "name": "stdout",
     "output_type": "stream",
     "text": [
      "496199.45933532715\n"
     ]
    },
    {
     "name": "stderr",
     "output_type": "stream",
     "text": [
      "100%|██████████████████████████| 272/272 [00:45<00:00,  6.00it/s, D_loss=0.23, F_loss_=3.23e+3, P_loss=93.7, epoch_=45]\n"
     ]
    },
    {
     "name": "stdout",
     "output_type": "stream",
     "text": [
      "720723.6942138672\n"
     ]
    },
    {
     "name": "stderr",
     "output_type": "stream",
     "text": [
      "100%|██████████████████████████████| 263/263 [00:06<00:00, 38.08it/s, D_loss=0.265, F_loss_=983, P_loss=578, epoch_=45]\n"
     ]
    },
    {
     "name": "stdout",
     "output_type": "stream",
     "text": [
      "493183.5601348877\n",
      "save successfully!\n"
     ]
    },
    {
     "name": "stderr",
     "output_type": "stream",
     "text": [
      "100%|█████████████████████████████| 272/272 [00:45<00:00,  6.04it/s, D_loss=0.0622, F_loss_=908, P_loss=832, epoch_=46]\n"
     ]
    },
    {
     "name": "stdout",
     "output_type": "stream",
     "text": [
      "722380.8155517578\n"
     ]
    },
    {
     "name": "stderr",
     "output_type": "stream",
     "text": [
      "100%|██████████████████████████| 263/263 [00:07<00:00, 37.46it/s, D_loss=0.177, F_loss_=1.65e+3, P_loss=362, epoch_=46]\n"
     ]
    },
    {
     "name": "stdout",
     "output_type": "stream",
     "text": [
      "433549.49935150146\n"
     ]
    },
    {
     "name": "stderr",
     "output_type": "stream",
     "text": [
      "100%|██████████████████████████| 272/272 [00:45<00:00,  6.03it/s, D_loss=0.171, F_loss_=163, P_loss=3.06e+3, epoch_=47]\n"
     ]
    },
    {
     "name": "stdout",
     "output_type": "stream",
     "text": [
      "734531.8461914062\n"
     ]
    },
    {
     "name": "stderr",
     "output_type": "stream",
     "text": [
      "100%|██████████████████████████| 263/263 [00:06<00:00, 38.20it/s, D_loss=0.954, F_loss_=991, P_loss=2.38e+3, epoch_=47]\n"
     ]
    },
    {
     "name": "stdout",
     "output_type": "stream",
     "text": [
      "975693.5426635742\n"
     ]
    },
    {
     "name": "stderr",
     "output_type": "stream",
     "text": [
      "100%|█████████████████████| 272/272 [00:45<00:00,  6.00it/s, D_loss=0.0052, F_loss_=1.38e+3, P_loss=1.21e+3, epoch_=48]\n"
     ]
    },
    {
     "name": "stdout",
     "output_type": "stream",
     "text": [
      "741430.9638671875\n"
     ]
    },
    {
     "name": "stderr",
     "output_type": "stream",
     "text": [
      "100%|██████████████████████████| 263/263 [00:06<00:00, 38.34it/s, D_loss=0.082, F_loss_=1.27e+3, P_loss=948, epoch_=48]\n"
     ]
    },
    {
     "name": "stdout",
     "output_type": "stream",
     "text": [
      "596088.5633850098\n"
     ]
    },
    {
     "name": "stderr",
     "output_type": "stream",
     "text": [
      "100%|██████████████████████████████| 272/272 [00:45<00:00,  6.01it/s, D_loss=0.147, F_loss_=679, P_loss=209, epoch_=49]\n"
     ]
    },
    {
     "name": "stdout",
     "output_type": "stream",
     "text": [
      "736801.9693603516\n"
     ]
    },
    {
     "name": "stderr",
     "output_type": "stream",
     "text": [
      "100%|██████████████████████████████| 263/263 [00:06<00:00, 38.52it/s, D_loss=0.108, F_loss_=794, P_loss=624, epoch_=49]\n"
     ]
    },
    {
     "name": "stdout",
     "output_type": "stream",
     "text": [
      "415119.7438964844\n"
     ]
    },
    {
     "name": "stderr",
     "output_type": "stream",
     "text": [
      "100%|█████████████████████████| 272/272 [00:45<00:00,  6.03it/s, D_loss=0.0519, F_loss_=2.21e+3, P_loss=153, epoch_=50]\n"
     ]
    },
    {
     "name": "stdout",
     "output_type": "stream",
     "text": [
      "752757.7712402344\n"
     ]
    },
    {
     "name": "stderr",
     "output_type": "stream",
     "text": [
      "100%|██████████████████████████| 263/263 [00:06<00:00, 39.07it/s, D_loss=0.0333, F_loss_=930, P_loss=1.4e+3, epoch_=50]\n"
     ]
    },
    {
     "name": "stdout",
     "output_type": "stream",
     "text": [
      "483721.6935348511\n",
      "save successfully!\n"
     ]
    },
    {
     "name": "stderr",
     "output_type": "stream",
     "text": [
      "100%|████████████████████████████| 272/272 [00:43<00:00,  6.24it/s, D_loss=0.0378, F_loss_=7.04, P_loss=135, epoch_=51]\n"
     ]
    },
    {
     "name": "stdout",
     "output_type": "stream",
     "text": [
      "735097.7456207275\n"
     ]
    },
    {
     "name": "stderr",
     "output_type": "stream",
     "text": [
      "100%|█████████████████████████████| 263/263 [00:06<00:00, 38.78it/s, D_loss=0.0498, F_loss_=615, P_loss=757, epoch_=51]\n"
     ]
    },
    {
     "name": "stdout",
     "output_type": "stream",
     "text": [
      "398755.4192428589\n"
     ]
    },
    {
     "name": "stderr",
     "output_type": "stream",
     "text": [
      "100%|█████████████████████████| 272/272 [00:44<00:00,  6.09it/s, D_loss=0.0817, F_loss_=3.42e+3, P_loss=546, epoch_=52]\n"
     ]
    },
    {
     "name": "stdout",
     "output_type": "stream",
     "text": [
      "720680.8786010742\n"
     ]
    },
    {
     "name": "stderr",
     "output_type": "stream",
     "text": [
      "100%|█████████████████████████████| 263/263 [00:06<00:00, 38.55it/s, D_loss=0.0966, F_loss_=753, P_loss=676, epoch_=52]\n"
     ]
    },
    {
     "name": "stdout",
     "output_type": "stream",
     "text": [
      "517013.61431884766\n"
     ]
    },
    {
     "name": "stderr",
     "output_type": "stream",
     "text": [
      "100%|█████████████████████| 272/272 [00:44<00:00,  6.09it/s, D_loss=0.0339, F_loss_=1.43e+3, P_loss=2.09e+3, epoch_=53]\n"
     ]
    },
    {
     "name": "stdout",
     "output_type": "stream",
     "text": [
      "705394.4932861328\n"
     ]
    },
    {
     "name": "stderr",
     "output_type": "stream",
     "text": [
      "100%|█████████████████████████████| 263/263 [00:06<00:00, 38.93it/s, D_loss=0.0416, F_loss_=936, P_loss=520, epoch_=53]\n"
     ]
    },
    {
     "name": "stdout",
     "output_type": "stream",
     "text": [
      "438014.11459350586\n"
     ]
    },
    {
     "name": "stderr",
     "output_type": "stream",
     "text": [
      "100%|█████████████████████████| 272/272 [00:45<00:00,  6.02it/s, D_loss=0.0139, F_loss_=4.79e+3, P_loss=189, epoch_=54]\n"
     ]
    },
    {
     "name": "stdout",
     "output_type": "stream",
     "text": [
      "732310.0373535156\n"
     ]
    },
    {
     "name": "stderr",
     "output_type": "stream",
     "text": [
      "100%|█████████████████████████████| 263/263 [00:06<00:00, 38.69it/s, D_loss=0.0252, F_loss_=853, P_loss=614, epoch_=54]\n"
     ]
    },
    {
     "name": "stdout",
     "output_type": "stream",
     "text": [
      "455865.3037109375\n"
     ]
    },
    {
     "name": "stderr",
     "output_type": "stream",
     "text": [
      "100%|█████████████████████████| 272/272 [00:44<00:00,  6.05it/s, D_loss=0.0099, F_loss_=1.79e+3, P_loss=736, epoch_=55]\n"
     ]
    },
    {
     "name": "stdout",
     "output_type": "stream",
     "text": [
      "698234.9358520508\n"
     ]
    },
    {
     "name": "stderr",
     "output_type": "stream",
     "text": [
      "100%|██████████████████████████| 263/263 [00:06<00:00, 37.58it/s, D_loss=0.047, F_loss_=691, P_loss=1.33e+3, epoch_=55]\n"
     ]
    },
    {
     "name": "stdout",
     "output_type": "stream",
     "text": [
      "448208.61669158936\n",
      "save successfully!\n"
     ]
    },
    {
     "name": "stderr",
     "output_type": "stream",
     "text": [
      "100%|█████████████████████| 272/272 [00:46<00:00,  5.91it/s, D_loss=0.0217, F_loss_=4.01e+3, P_loss=2.28e+3, epoch_=56]\n"
     ]
    },
    {
     "name": "stdout",
     "output_type": "stream",
     "text": [
      "710877.0561523438\n"
     ]
    },
    {
     "name": "stderr",
     "output_type": "stream",
     "text": [
      "100%|█████████████████████████| 263/263 [00:06<00:00, 41.60it/s, D_loss=0.0939, F_loss_=1.06e+3, P_loss=922, epoch_=56]\n"
     ]
    },
    {
     "name": "stdout",
     "output_type": "stream",
     "text": [
      "468285.1662597656\n"
     ]
    },
    {
     "name": "stderr",
     "output_type": "stream",
     "text": [
      "100%|█████████████████████████████| 272/272 [00:44<00:00,  6.11it/s, D_loss=0.0262, F_loss_=335, P_loss=236, epoch_=57]\n"
     ]
    },
    {
     "name": "stdout",
     "output_type": "stream",
     "text": [
      "708129.8295288086\n"
     ]
    },
    {
     "name": "stderr",
     "output_type": "stream",
     "text": [
      "100%|█████████████████████████| 263/263 [00:06<00:00, 38.87it/s, D_loss=0.0222, F_loss_=1.22e+3, P_loss=795, epoch_=57]\n"
     ]
    },
    {
     "name": "stdout",
     "output_type": "stream",
     "text": [
      "555403.3447418213\n"
     ]
    },
    {
     "name": "stderr",
     "output_type": "stream",
     "text": [
      "100%|██████████████████████████| 272/272 [00:44<00:00,  6.09it/s, D_loss=0.125, F_loss_=1.28e+3, P_loss=686, epoch_=58]\n"
     ]
    },
    {
     "name": "stdout",
     "output_type": "stream",
     "text": [
      "703724.7963867188\n"
     ]
    },
    {
     "name": "stderr",
     "output_type": "stream",
     "text": [
      "100%|██████████████████████████| 263/263 [00:06<00:00, 40.68it/s, D_loss=0.113, F_loss_=722, P_loss=1.59e+3, epoch_=58]\n"
     ]
    },
    {
     "name": "stdout",
     "output_type": "stream",
     "text": [
      "548660.0272369385\n"
     ]
    },
    {
     "name": "stderr",
     "output_type": "stream",
     "text": [
      "100%|██████████████████████████████| 272/272 [00:43<00:00,  6.20it/s, D_loss=0.053, F_loss_=558, P_loss=297, epoch_=59]\n"
     ]
    },
    {
     "name": "stdout",
     "output_type": "stream",
     "text": [
      "711538.6052246094\n"
     ]
    },
    {
     "name": "stderr",
     "output_type": "stream",
     "text": [
      "100%|█████████████████████████| 263/263 [00:06<00:00, 41.01it/s, D_loss=0.0518, F_loss_=798, P_loss=1.38e+3, epoch_=59]\n"
     ]
    },
    {
     "name": "stdout",
     "output_type": "stream",
     "text": [
      "466000.16259765625\n"
     ]
    },
    {
     "name": "stderr",
     "output_type": "stream",
     "text": [
      "100%|█████████████████████████| 272/272 [00:44<00:00,  6.06it/s, D_loss=0.0215, F_loss_=196, P_loss=1.51e+3, epoch_=60]\n"
     ]
    },
    {
     "name": "stdout",
     "output_type": "stream",
     "text": [
      "689270.0003662109\n"
     ]
    },
    {
     "name": "stderr",
     "output_type": "stream",
     "text": [
      "100%|██████████████████████████| 263/263 [00:07<00:00, 37.29it/s, D_loss=0.479, F_loss_=698, P_loss=1.15e+3, epoch_=60]\n"
     ]
    },
    {
     "name": "stdout",
     "output_type": "stream",
     "text": [
      "557563.6612701416\n",
      "save successfully!\n"
     ]
    },
    {
     "name": "stderr",
     "output_type": "stream",
     "text": [
      "100%|█████████████████████████████| 272/272 [00:47<00:00,  5.78it/s, D_loss=0.0108, F_loss_=259, P_loss=625, epoch_=61]\n"
     ]
    },
    {
     "name": "stdout",
     "output_type": "stream",
     "text": [
      "687871.8498535156\n"
     ]
    },
    {
     "name": "stderr",
     "output_type": "stream",
     "text": [
      "100%|█████████████████████████████| 263/263 [00:06<00:00, 38.18it/s, D_loss=0.0201, F_loss_=550, P_loss=661, epoch_=61]\n"
     ]
    },
    {
     "name": "stdout",
     "output_type": "stream",
     "text": [
      "395596.26218032837\n"
     ]
    },
    {
     "name": "stderr",
     "output_type": "stream",
     "text": [
      "100%|█████████████████████████| 272/272 [00:44<00:00,  6.07it/s, D_loss=0.0302, F_loss_=1.93e+3, P_loss=142, epoch_=62]\n"
     ]
    },
    {
     "name": "stdout",
     "output_type": "stream",
     "text": [
      "681628.3127441406\n"
     ]
    },
    {
     "name": "stderr",
     "output_type": "stream",
     "text": [
      "100%|█████████████████████████| 263/263 [00:06<00:00, 39.07it/s, D_loss=0.0627, F_loss_=560, P_loss=1.75e+3, epoch_=62]\n"
     ]
    },
    {
     "name": "stdout",
     "output_type": "stream",
     "text": [
      "513161.25103759766\n"
     ]
    },
    {
     "name": "stderr",
     "output_type": "stream",
     "text": [
      "100%|█████████████████████████████| 272/272 [00:47<00:00,  5.74it/s, D_loss=0.0301, F_loss_=184, P_loss=264, epoch_=63]\n"
     ]
    },
    {
     "name": "stdout",
     "output_type": "stream",
     "text": [
      "678147.6270751953\n"
     ]
    },
    {
     "name": "stderr",
     "output_type": "stream",
     "text": [
      "100%|█████████████████████████████| 263/263 [00:06<00:00, 38.02it/s, D_loss=0.0284, F_loss_=410, P_loss=452, epoch_=63]\n"
     ]
    },
    {
     "name": "stdout",
     "output_type": "stream",
     "text": [
      "381650.5092430115\n"
     ]
    },
    {
     "name": "stderr",
     "output_type": "stream",
     "text": [
      "100%|████████████████████████| 272/272 [00:45<00:00,  5.93it/s, D_loss=0.0298, F_loss_=68.2, P_loss=1.67e+3, epoch_=64]\n"
     ]
    },
    {
     "name": "stdout",
     "output_type": "stream",
     "text": [
      "688844.8443603516\n"
     ]
    },
    {
     "name": "stderr",
     "output_type": "stream",
     "text": [
      "100%|███████████████████████████████| 263/263 [00:06<00:00, 39.59it/s, D_loss=0.45, F_loss_=537, P_loss=219, epoch_=64]\n"
     ]
    },
    {
     "name": "stdout",
     "output_type": "stream",
     "text": [
      "461148.03450012207\n"
     ]
    },
    {
     "name": "stderr",
     "output_type": "stream",
     "text": [
      "100%|█████████████████████████████| 272/272 [00:43<00:00,  6.19it/s, D_loss=0.0263, F_loss_=484, P_loss=371, epoch_=65]\n"
     ]
    },
    {
     "name": "stdout",
     "output_type": "stream",
     "text": [
      "677041.6431274414\n"
     ]
    },
    {
     "name": "stderr",
     "output_type": "stream",
     "text": [
      "100%|███████████████████████████| 263/263 [00:06<00:00, 40.13it/s, D_loss=0.116, F_loss_=652, P_loss=1.1e+3, epoch_=65]\n"
     ]
    },
    {
     "name": "stdout",
     "output_type": "stream",
     "text": [
      "403970.0324707031\n",
      "save successfully!\n"
     ]
    },
    {
     "name": "stderr",
     "output_type": "stream",
     "text": [
      "100%|█████████████████████████████| 272/272 [00:44<00:00,  6.16it/s, D_loss=0.0241, F_loss_=955, P_loss=372, epoch_=66]\n"
     ]
    },
    {
     "name": "stdout",
     "output_type": "stream",
     "text": [
      "681376.9708251953\n"
     ]
    },
    {
     "name": "stderr",
     "output_type": "stream",
     "text": [
      "100%|█████████████████████████████| 263/263 [00:07<00:00, 35.73it/s, D_loss=0.0279, F_loss_=747, P_loss=316, epoch_=66]\n"
     ]
    },
    {
     "name": "stdout",
     "output_type": "stream",
     "text": [
      "458213.59381866455\n"
     ]
    },
    {
     "name": "stderr",
     "output_type": "stream",
     "text": [
      "100%|█████████████████████████| 272/272 [00:46<00:00,  5.86it/s, D_loss=0.0179, F_loss_=3.18e+3, P_loss=381, epoch_=67]\n"
     ]
    },
    {
     "name": "stdout",
     "output_type": "stream",
     "text": [
      "676582.1442871094\n"
     ]
    },
    {
     "name": "stderr",
     "output_type": "stream",
     "text": [
      "100%|████████████████████████████| 263/263 [00:06<00:00, 37.60it/s, D_loss=0.00516, F_loss_=578, P_loss=130, epoch_=67]\n"
     ]
    },
    {
     "name": "stdout",
     "output_type": "stream",
     "text": [
      "466968.802444458\n"
     ]
    },
    {
     "name": "stderr",
     "output_type": "stream",
     "text": [
      "100%|████████████████████████| 272/272 [00:48<00:00,  5.59it/s, D_loss=0.00937, F_loss_=104, P_loss=1.06e+3, epoch_=68]\n"
     ]
    },
    {
     "name": "stdout",
     "output_type": "stream",
     "text": [
      "679516.83203125\n"
     ]
    },
    {
     "name": "stderr",
     "output_type": "stream",
     "text": [
      "100%|█████████████████████████| 263/263 [00:06<00:00, 37.72it/s, D_loss=0.0143, F_loss_=446, P_loss=1.01e+3, epoch_=68]\n"
     ]
    },
    {
     "name": "stdout",
     "output_type": "stream",
     "text": [
      "332927.7088470459\n"
     ]
    },
    {
     "name": "stderr",
     "output_type": "stream",
     "text": [
      "100%|███████████████████████████| 272/272 [00:44<00:00,  6.05it/s, D_loss=0.0294, F_loss_=20.6, P_loss=70.5, epoch_=69]\n"
     ]
    },
    {
     "name": "stdout",
     "output_type": "stream",
     "text": [
      "673125.7699737549\n"
     ]
    },
    {
     "name": "stderr",
     "output_type": "stream",
     "text": [
      "100%|█████████████████████████████| 263/263 [00:06<00:00, 41.12it/s, D_loss=0.0951, F_loss_=742, P_loss=439, epoch_=69]\n"
     ]
    },
    {
     "name": "stdout",
     "output_type": "stream",
     "text": [
      "498276.9077758789\n"
     ]
    },
    {
     "name": "stderr",
     "output_type": "stream",
     "text": [
      "100%|████████████████████████████| 272/272 [00:43<00:00,  6.19it/s, D_loss=0.00979, F_loss_=608, P_loss=791, epoch_=70]\n"
     ]
    },
    {
     "name": "stdout",
     "output_type": "stream",
     "text": [
      "711694.3111572266\n"
     ]
    },
    {
     "name": "stderr",
     "output_type": "stream",
     "text": [
      "100%|████████████████████████| 263/263 [00:06<00:00, 40.94it/s, D_loss=0.00777, F_loss_=470, P_loss=1.39e+3, epoch_=70]\n"
     ]
    },
    {
     "name": "stdout",
     "output_type": "stream",
     "text": [
      "495955.87216186523\n",
      "save successfully!\n"
     ]
    },
    {
     "name": "stderr",
     "output_type": "stream",
     "text": [
      "100%|█████████████████████| 272/272 [00:45<00:00,  5.92it/s, D_loss=0.0171, F_loss_=3.83e+3, P_loss=3.04e+3, epoch_=71]\n"
     ]
    },
    {
     "name": "stdout",
     "output_type": "stream",
     "text": [
      "694193.7846679688\n"
     ]
    },
    {
     "name": "stderr",
     "output_type": "stream",
     "text": [
      "100%|█████████████████████████████| 263/263 [00:06<00:00, 38.37it/s, D_loss=0.0473, F_loss_=566, P_loss=297, epoch_=71]\n"
     ]
    },
    {
     "name": "stdout",
     "output_type": "stream",
     "text": [
      "389023.05891418457\n"
     ]
    },
    {
     "name": "stderr",
     "output_type": "stream",
     "text": [
      "100%|█████████████████████████| 272/272 [00:44<00:00,  6.08it/s, D_loss=0.0103, F_loss_=3.2e+3, P_loss=97.9, epoch_=72]\n"
     ]
    },
    {
     "name": "stdout",
     "output_type": "stream",
     "text": [
      "675872.6148681641\n"
     ]
    },
    {
     "name": "stderr",
     "output_type": "stream",
     "text": [
      "100%|█████████████████████████████| 263/263 [00:06<00:00, 40.61it/s, D_loss=0.0221, F_loss_=482, P_loss=744, epoch_=72]\n"
     ]
    },
    {
     "name": "stdout",
     "output_type": "stream",
     "text": [
      "418652.7039337158\n"
     ]
    },
    {
     "name": "stderr",
     "output_type": "stream",
     "text": [
      "100%|█████████████████████████| 272/272 [00:45<00:00,  5.95it/s, D_loss=0.0245, F_loss_=1.74e+3, P_loss=564, epoch_=73]\n"
     ]
    },
    {
     "name": "stdout",
     "output_type": "stream",
     "text": [
      "660228.0641479492\n"
     ]
    },
    {
     "name": "stderr",
     "output_type": "stream",
     "text": [
      "100%|█████████████████████████████| 263/263 [00:06<00:00, 39.36it/s, D_loss=0.0112, F_loss_=629, P_loss=660, epoch_=73]\n"
     ]
    },
    {
     "name": "stdout",
     "output_type": "stream",
     "text": [
      "323651.49884033203\n"
     ]
    },
    {
     "name": "stderr",
     "output_type": "stream",
     "text": [
      "100%|█████████████████████████████| 272/272 [00:45<00:00,  6.00it/s, D_loss=0.0425, F_loss_=722, P_loss=373, epoch_=74]\n"
     ]
    },
    {
     "name": "stdout",
     "output_type": "stream",
     "text": [
      "662494.2142333984\n"
     ]
    },
    {
     "name": "stderr",
     "output_type": "stream",
     "text": [
      "100%|█████████████████████████████| 263/263 [00:06<00:00, 39.32it/s, D_loss=0.0558, F_loss_=502, P_loss=383, epoch_=74]\n"
     ]
    },
    {
     "name": "stdout",
     "output_type": "stream",
     "text": [
      "421332.4278793335\n"
     ]
    },
    {
     "name": "stderr",
     "output_type": "stream",
     "text": [
      "100%|████████████████████████| 272/272 [00:45<00:00,  5.98it/s, D_loss=0.0216, F_loss_=2.43e+3, P_loss=71.6, epoch_=75]\n"
     ]
    },
    {
     "name": "stdout",
     "output_type": "stream",
     "text": [
      "655534.0892333984\n"
     ]
    },
    {
     "name": "stderr",
     "output_type": "stream",
     "text": [
      "100%|█████████████████████████████| 263/263 [00:06<00:00, 37.77it/s, D_loss=0.0449, F_loss_=249, P_loss=397, epoch_=75]\n"
     ]
    },
    {
     "name": "stdout",
     "output_type": "stream",
     "text": [
      "362137.28118896484\n",
      "save successfully!\n"
     ]
    },
    {
     "name": "stderr",
     "output_type": "stream",
     "text": [
      "100%|████████████████████████| 272/272 [00:44<00:00,  6.09it/s, D_loss=0.00938, F_loss_=956, P_loss=1.15e+3, epoch_=76]\n"
     ]
    },
    {
     "name": "stdout",
     "output_type": "stream",
     "text": [
      "655670.7561035156\n"
     ]
    },
    {
     "name": "stderr",
     "output_type": "stream",
     "text": [
      "100%|█████████████████████████████| 263/263 [00:06<00:00, 38.01it/s, D_loss=0.0168, F_loss_=834, P_loss=713, epoch_=76]\n"
     ]
    },
    {
     "name": "stdout",
     "output_type": "stream",
     "text": [
      "373633.1350708008\n"
     ]
    },
    {
     "name": "stderr",
     "output_type": "stream",
     "text": [
      "100%|█████████████████████| 272/272 [00:44<00:00,  6.11it/s, D_loss=0.0289, F_loss_=2.16e+3, P_loss=3.54e+3, epoch_=77]\n"
     ]
    },
    {
     "name": "stdout",
     "output_type": "stream",
     "text": [
      "645513.1690063477\n"
     ]
    },
    {
     "name": "stderr",
     "output_type": "stream",
     "text": [
      "100%|█████████████████████████████| 263/263 [00:06<00:00, 38.22it/s, D_loss=0.0373, F_loss_=183, P_loss=797, epoch_=77]\n"
     ]
    },
    {
     "name": "stdout",
     "output_type": "stream",
     "text": [
      "407050.8713684082\n"
     ]
    },
    {
     "name": "stderr",
     "output_type": "stream",
     "text": [
      "100%|████████████████████████████| 272/272 [00:44<00:00,  6.13it/s, D_loss=0.0207, F_loss_=95.6, P_loss=572, epoch_=78]\n"
     ]
    },
    {
     "name": "stdout",
     "output_type": "stream",
     "text": [
      "673987.8850708008\n"
     ]
    },
    {
     "name": "stderr",
     "output_type": "stream",
     "text": [
      "100%|█████████████████████████████| 263/263 [00:06<00:00, 38.44it/s, D_loss=0.0253, F_loss_=287, P_loss=646, epoch_=78]\n"
     ]
    },
    {
     "name": "stdout",
     "output_type": "stream",
     "text": [
      "351291.7787780762\n"
     ]
    },
    {
     "name": "stderr",
     "output_type": "stream",
     "text": [
      "100%|█████████████████████████| 272/272 [00:44<00:00,  6.10it/s, D_loss=0.0052, F_loss_=471, P_loss=1.04e+3, epoch_=79]\n"
     ]
    },
    {
     "name": "stdout",
     "output_type": "stream",
     "text": [
      "648814.1399536133\n"
     ]
    },
    {
     "name": "stderr",
     "output_type": "stream",
     "text": [
      "100%|████████████████████████| 263/263 [00:06<00:00, 38.85it/s, D_loss=0.00745, F_loss_=506, P_loss=1.28e+3, epoch_=79]\n"
     ]
    },
    {
     "name": "stdout",
     "output_type": "stream",
     "text": [
      "459198.3585510254\n"
     ]
    },
    {
     "name": "stderr",
     "output_type": "stream",
     "text": [
      "100%|████████████████████| 272/272 [00:44<00:00,  6.05it/s, D_loss=0.00333, F_loss_=1.04e+3, P_loss=1.53e+3, epoch_=80]\n"
     ]
    },
    {
     "name": "stdout",
     "output_type": "stream",
     "text": [
      "646765.0443725586\n"
     ]
    },
    {
     "name": "stderr",
     "output_type": "stream",
     "text": [
      "100%|█████████████████████████████| 263/263 [00:06<00:00, 38.25it/s, D_loss=0.0073, F_loss_=589, P_loss=599, epoch_=80]\n"
     ]
    },
    {
     "name": "stdout",
     "output_type": "stream",
     "text": [
      "415004.4298591614\n",
      "save successfully!\n"
     ]
    },
    {
     "name": "stderr",
     "output_type": "stream",
     "text": [
      "100%|█████████████████████████| 272/272 [00:45<00:00,  6.01it/s, D_loss=0.0165, F_loss_=450, P_loss=1.04e+3, epoch_=81]\n"
     ]
    },
    {
     "name": "stdout",
     "output_type": "stream",
     "text": [
      "637765.6519775391\n"
     ]
    },
    {
     "name": "stderr",
     "output_type": "stream",
     "text": [
      "100%|█████████████████████████████| 263/263 [00:06<00:00, 38.13it/s, D_loss=0.0123, F_loss_=163, P_loss=343, epoch_=81]\n"
     ]
    },
    {
     "name": "stdout",
     "output_type": "stream",
     "text": [
      "404768.22312927246\n"
     ]
    },
    {
     "name": "stderr",
     "output_type": "stream",
     "text": [
      "100%|████████████████████████████| 272/272 [00:44<00:00,  6.09it/s, D_loss=0.0149, F_loss_=2e+3, P_loss=593, epoch_=82]\n"
     ]
    },
    {
     "name": "stdout",
     "output_type": "stream",
     "text": [
      "629340.9167480469\n"
     ]
    },
    {
     "name": "stderr",
     "output_type": "stream",
     "text": [
      "100%|████████████████████████████| 263/263 [00:06<00:00, 38.71it/s, D_loss=0.00974, F_loss_=257, P_loss=825, epoch_=82]\n"
     ]
    },
    {
     "name": "stdout",
     "output_type": "stream",
     "text": [
      "399442.41331481934\n"
     ]
    },
    {
     "name": "stderr",
     "output_type": "stream",
     "text": [
      "100%|█████████████████████████████| 272/272 [00:44<00:00,  6.07it/s, D_loss=0.0224, F_loss_=147, P_loss=829, epoch_=83]\n"
     ]
    },
    {
     "name": "stdout",
     "output_type": "stream",
     "text": [
      "673016.0961914062\n"
     ]
    },
    {
     "name": "stderr",
     "output_type": "stream",
     "text": [
      "100%|█████████████████████████████| 263/263 [00:06<00:00, 39.03it/s, D_loss=0.0568, F_loss_=261, P_loss=321, epoch_=83]\n"
     ]
    },
    {
     "name": "stdout",
     "output_type": "stream",
     "text": [
      "394565.3791809082\n"
     ]
    },
    {
     "name": "stderr",
     "output_type": "stream",
     "text": [
      "100%|████████████████████████████| 272/272 [00:46<00:00,  5.89it/s, D_loss=0.00418, F_loss_=588, P_loss=425, epoch_=84]\n"
     ]
    },
    {
     "name": "stdout",
     "output_type": "stream",
     "text": [
      "622435.2379150391\n"
     ]
    },
    {
     "name": "stderr",
     "output_type": "stream",
     "text": [
      "100%|███████████████████████████| 263/263 [00:07<00:00, 37.17it/s, D_loss=0.000757, F_loss_=531, P_loss=537, epoch_=84]\n"
     ]
    },
    {
     "name": "stdout",
     "output_type": "stream",
     "text": [
      "366850.912147522\n"
     ]
    },
    {
     "name": "stderr",
     "output_type": "stream",
     "text": [
      "100%|█████████████████████████████| 272/272 [00:46<00:00,  5.91it/s, D_loss=0.0226, F_loss_=301, P_loss=185, epoch_=85]\n"
     ]
    },
    {
     "name": "stdout",
     "output_type": "stream",
     "text": [
      "599313.5378112793\n"
     ]
    },
    {
     "name": "stderr",
     "output_type": "stream",
     "text": [
      "100%|████████████████████████████| 263/263 [00:06<00:00, 37.91it/s, D_loss=0.00974, F_loss_=213, P_loss=881, epoch_=85]\n"
     ]
    },
    {
     "name": "stdout",
     "output_type": "stream",
     "text": [
      "349160.90103912354\n",
      "save successfully!\n"
     ]
    },
    {
     "name": "stderr",
     "output_type": "stream",
     "text": [
      "100%|█████████████████████████| 272/272 [00:46<00:00,  5.91it/s, D_loss=0.0164, F_loss_=1.68e+3, P_loss=224, epoch_=86]\n"
     ]
    },
    {
     "name": "stdout",
     "output_type": "stream",
     "text": [
      "587312.704284668\n"
     ]
    },
    {
     "name": "stderr",
     "output_type": "stream",
     "text": [
      "100%|█████████████████████████████| 263/263 [00:07<00:00, 37.25it/s, D_loss=0.0274, F_loss_=316, P_loss=569, epoch_=86]\n"
     ]
    },
    {
     "name": "stdout",
     "output_type": "stream",
     "text": [
      "339879.37797546387\n"
     ]
    },
    {
     "name": "stderr",
     "output_type": "stream",
     "text": [
      "100%|█████████████████████| 272/272 [00:46<00:00,  5.87it/s, D_loss=0.00213, F_loss_=1.04e+3, P_loss=3.1e+3, epoch_=87]\n"
     ]
    },
    {
     "name": "stdout",
     "output_type": "stream",
     "text": [
      "573201.481262207\n"
     ]
    },
    {
     "name": "stderr",
     "output_type": "stream",
     "text": [
      "100%|████████████████████████████| 263/263 [00:07<00:00, 37.18it/s, D_loss=0.00357, F_loss_=315, P_loss=713, epoch_=87]\n"
     ]
    },
    {
     "name": "stdout",
     "output_type": "stream",
     "text": [
      "293419.4188156128\n"
     ]
    },
    {
     "name": "stderr",
     "output_type": "stream",
     "text": [
      "100%|██████████████████████| 272/272 [00:46<00:00,  5.86it/s, D_loss=0.0127, F_loss_=1.1e+3, P_loss=1.98e+3, epoch_=88]\n"
     ]
    },
    {
     "name": "stdout",
     "output_type": "stream",
     "text": [
      "574512.0004272461\n"
     ]
    },
    {
     "name": "stderr",
     "output_type": "stream",
     "text": [
      "100%|███████████████████████████| 263/263 [00:07<00:00, 35.13it/s, D_loss=0.00676, F_loss_=55.5, P_loss=364, epoch_=88]\n"
     ]
    },
    {
     "name": "stdout",
     "output_type": "stream",
     "text": [
      "255310.7295074463\n"
     ]
    },
    {
     "name": "stderr",
     "output_type": "stream",
     "text": [
      "100%|█████████████████████████| 272/272 [00:46<00:00,  5.80it/s, D_loss=0.0247, F_loss_=261, P_loss=1.46e+3, epoch_=89]\n"
     ]
    },
    {
     "name": "stdout",
     "output_type": "stream",
     "text": [
      "576106.0064086914\n"
     ]
    },
    {
     "name": "stderr",
     "output_type": "stream",
     "text": [
      "100%|█████████████████████████████| 263/263 [00:07<00:00, 36.38it/s, D_loss=0.0629, F_loss_=214, P_loss=643, epoch_=89]\n"
     ]
    },
    {
     "name": "stdout",
     "output_type": "stream",
     "text": [
      "319468.43059539795\n"
     ]
    },
    {
     "name": "stderr",
     "output_type": "stream",
     "text": [
      "100%|████████████████████████████| 272/272 [00:47<00:00,  5.72it/s, D_loss=0.00515, F_loss_=394, P_loss=494, epoch_=90]\n"
     ]
    },
    {
     "name": "stdout",
     "output_type": "stream",
     "text": [
      "563912.0874023438\n"
     ]
    },
    {
     "name": "stderr",
     "output_type": "stream",
     "text": [
      "100%|███████████████████████████████| 263/263 [00:07<00:00, 36.97it/s, D_loss=0.01, F_loss_=185, P_loss=212, epoch_=90]\n"
     ]
    },
    {
     "name": "stdout",
     "output_type": "stream",
     "text": [
      "261888.4550933838\n",
      "save successfully!\n"
     ]
    },
    {
     "name": "stderr",
     "output_type": "stream",
     "text": [
      "100%|█████████████████████████| 272/272 [00:46<00:00,  5.80it/s, D_loss=0.0163, F_loss_=3.29e+3, P_loss=301, epoch_=91]\n"
     ]
    },
    {
     "name": "stdout",
     "output_type": "stream",
     "text": [
      "562038.9788208008\n"
     ]
    },
    {
     "name": "stderr",
     "output_type": "stream",
     "text": [
      "100%|████████████████████████████| 263/263 [00:07<00:00, 36.90it/s, D_loss=0.00731, F_loss_=119, P_loss=233, epoch_=91]\n"
     ]
    },
    {
     "name": "stdout",
     "output_type": "stream",
     "text": [
      "284912.1615142822\n"
     ]
    },
    {
     "name": "stderr",
     "output_type": "stream",
     "text": [
      "100%|█████████████████████████| 272/272 [00:46<00:00,  5.82it/s, D_loss=0.0188, F_loss_=1.35e+3, P_loss=145, epoch_=92]\n"
     ]
    },
    {
     "name": "stdout",
     "output_type": "stream",
     "text": [
      "548494.0720825195\n"
     ]
    },
    {
     "name": "stderr",
     "output_type": "stream",
     "text": [
      "100%|█████████████████████████████| 263/263 [00:07<00:00, 36.75it/s, D_loss=0.0201, F_loss_=256, P_loss=637, epoch_=92]\n"
     ]
    },
    {
     "name": "stdout",
     "output_type": "stream",
     "text": [
      "300691.4867248535\n"
     ]
    },
    {
     "name": "stderr",
     "output_type": "stream",
     "text": [
      "100%|█████████████████████████| 272/272 [00:45<00:00,  6.04it/s, D_loss=0.0254, F_loss_=1.11e+3, P_loss=380, epoch_=93]\n"
     ]
    },
    {
     "name": "stdout",
     "output_type": "stream",
     "text": [
      "545657.6295166016\n"
     ]
    },
    {
     "name": "stderr",
     "output_type": "stream",
     "text": [
      "100%|█████████████████████████| 263/263 [00:07<00:00, 37.48it/s, D_loss=0.0318, F_loss_=290, P_loss=1.13e+3, epoch_=93]\n"
     ]
    },
    {
     "name": "stdout",
     "output_type": "stream",
     "text": [
      "243037.63343811035\n"
     ]
    },
    {
     "name": "stderr",
     "output_type": "stream",
     "text": [
      "100%|█████████████████████████| 272/272 [00:52<00:00,  5.14it/s, D_loss=0.0131, F_loss_=101, P_loss=1.12e+3, epoch_=94]\n"
     ]
    },
    {
     "name": "stdout",
     "output_type": "stream",
     "text": [
      "540331.8553466797\n"
     ]
    },
    {
     "name": "stderr",
     "output_type": "stream",
     "text": [
      "100%|█████████████████████████| 263/263 [00:09<00:00, 28.60it/s, D_loss=0.0536, F_loss_=289, P_loss=1.12e+3, epoch_=94]\n"
     ]
    },
    {
     "name": "stdout",
     "output_type": "stream",
     "text": [
      "290965.314453125\n"
     ]
    },
    {
     "name": "stderr",
     "output_type": "stream",
     "text": [
      "100%|████████████████████████████| 272/272 [00:47<00:00,  5.75it/s, D_loss=0.0253, F_loss_=2e+3, P_loss=347, epoch_=95]\n"
     ]
    },
    {
     "name": "stdout",
     "output_type": "stream",
     "text": [
      "540504.7713317871\n"
     ]
    },
    {
     "name": "stderr",
     "output_type": "stream",
     "text": [
      "100%|██████████████████████████████| 263/263 [00:06<00:00, 38.56it/s, D_loss=0.038, F_loss_=233, P_loss=522, epoch_=95]\n"
     ]
    },
    {
     "name": "stdout",
     "output_type": "stream",
     "text": [
      "290435.0606689453\n",
      "save successfully!\n"
     ]
    },
    {
     "name": "stderr",
     "output_type": "stream",
     "text": [
      "100%|█████████████████████████| 272/272 [00:45<00:00,  6.03it/s, D_loss=0.0205, F_loss_=612, P_loss=1.52e+3, epoch_=96]\n"
     ]
    },
    {
     "name": "stdout",
     "output_type": "stream",
     "text": [
      "510939.1594848633\n"
     ]
    },
    {
     "name": "stderr",
     "output_type": "stream",
     "text": [
      "100%|█████████████████████████████| 263/263 [00:06<00:00, 40.12it/s, D_loss=0.0184, F_loss_=306, P_loss=584, epoch_=96]\n"
     ]
    },
    {
     "name": "stdout",
     "output_type": "stream",
     "text": [
      "267531.5623626709\n"
     ]
    },
    {
     "name": "stderr",
     "output_type": "stream",
     "text": [
      "100%|████████████████████████| 272/272 [00:47<00:00,  5.77it/s, D_loss=0.00423, F_loss_=2.95e+3, P_loss=860, epoch_=97]\n"
     ]
    },
    {
     "name": "stdout",
     "output_type": "stream",
     "text": [
      "506841.5442504883\n"
     ]
    },
    {
     "name": "stderr",
     "output_type": "stream",
     "text": [
      "100%|█████████████████████████████| 263/263 [00:06<00:00, 38.45it/s, D_loss=0.013, F_loss_=317, P_loss=91.9, epoch_=97]\n"
     ]
    },
    {
     "name": "stdout",
     "output_type": "stream",
     "text": [
      "262904.4016571045\n"
     ]
    },
    {
     "name": "stderr",
     "output_type": "stream",
     "text": [
      "100%|████████████████████████| 272/272 [00:45<00:00,  5.97it/s, D_loss=0.00143, F_loss_=443, P_loss=2.11e+3, epoch_=98]\n"
     ]
    },
    {
     "name": "stdout",
     "output_type": "stream",
     "text": [
      "533796.3802490234\n"
     ]
    },
    {
     "name": "stderr",
     "output_type": "stream",
     "text": [
      "100%|█████████████████████████████| 263/263 [00:07<00:00, 37.55it/s, D_loss=0.0165, F_loss_=371, P_loss=583, epoch_=98]\n"
     ]
    },
    {
     "name": "stdout",
     "output_type": "stream",
     "text": [
      "281757.3177719116\n"
     ]
    },
    {
     "name": "stderr",
     "output_type": "stream",
     "text": [
      "100%|█████████████████████████████| 272/272 [00:46<00:00,  5.86it/s, D_loss=0.0133, F_loss_=303, P_loss=563, epoch_=99]\n"
     ]
    },
    {
     "name": "stdout",
     "output_type": "stream",
     "text": [
      "494955.8021850586\n"
     ]
    },
    {
     "name": "stderr",
     "output_type": "stream",
     "text": [
      "100%|████████████████████████| 263/263 [00:07<00:00, 37.54it/s, D_loss=0.00327, F_loss_=429, P_loss=1.07e+3, epoch_=99]\n"
     ]
    },
    {
     "name": "stdout",
     "output_type": "stream",
     "text": [
      "331178.3217468262\n"
     ]
    },
    {
     "name": "stderr",
     "output_type": "stream",
     "text": [
      "100%|████████████████████████████| 272/272 [00:47<00:00,  5.76it/s, D_loss=0.0202, F_loss_=539, P_loss=475, epoch_=100]\n"
     ]
    },
    {
     "name": "stdout",
     "output_type": "stream",
     "text": [
      "508373.33599853516\n"
     ]
    },
    {
     "name": "stderr",
     "output_type": "stream",
     "text": [
      "100%|████████████████████████████| 263/263 [00:07<00:00, 36.33it/s, D_loss=0.0526, F_loss_=357, P_loss=672, epoch_=100]\n"
     ]
    },
    {
     "name": "stdout",
     "output_type": "stream",
     "text": [
      "225066.56080245972\n",
      "save successfully!\n"
     ]
    },
    {
     "name": "stderr",
     "output_type": "stream",
     "text": [
      "100%|███████████████████████| 272/272 [00:47<00:00,  5.76it/s, D_loss=0.0126, F_loss_=76.2, P_loss=2.11e+3, epoch_=101]\n"
     ]
    },
    {
     "name": "stdout",
     "output_type": "stream",
     "text": [
      "508478.8305053711\n"
     ]
    },
    {
     "name": "stderr",
     "output_type": "stream",
     "text": [
      "100%|████████████████████████████| 263/263 [00:07<00:00, 36.42it/s, D_loss=0.0112, F_loss_=139, P_loss=409, epoch_=101]\n"
     ]
    },
    {
     "name": "stdout",
     "output_type": "stream",
     "text": [
      "267909.45613479614\n"
     ]
    },
    {
     "name": "stderr",
     "output_type": "stream",
     "text": [
      "100%|███████████████████████| 272/272 [00:47<00:00,  5.74it/s, D_loss=0.00344, F_loss_=998, P_loss=2.15e+3, epoch_=102]\n"
     ]
    },
    {
     "name": "stdout",
     "output_type": "stream",
     "text": [
      "485676.6702270508\n"
     ]
    },
    {
     "name": "stderr",
     "output_type": "stream",
     "text": [
      "100%|███████████████████████████| 263/263 [00:06<00:00, 37.67it/s, D_loss=0.00619, F_loss_=256, P_loss=840, epoch_=102]\n"
     ]
    },
    {
     "name": "stdout",
     "output_type": "stream",
     "text": [
      "235599.3366394043\n"
     ]
    },
    {
     "name": "stderr",
     "output_type": "stream",
     "text": [
      "100%|███████████████████████| 272/272 [00:46<00:00,  5.85it/s, D_loss=0.00784, F_loss_=1.11e+3, P_loss=487, epoch_=103]\n"
     ]
    },
    {
     "name": "stdout",
     "output_type": "stream",
     "text": [
      "489612.4790649414\n"
     ]
    },
    {
     "name": "stderr",
     "output_type": "stream",
     "text": [
      "100%|███████████████████████████| 263/263 [00:07<00:00, 36.93it/s, D_loss=0.00455, F_loss_=194, P_loss=446, epoch_=103]\n"
     ]
    },
    {
     "name": "stdout",
     "output_type": "stream",
     "text": [
      "235490.16934204102\n"
     ]
    },
    {
     "name": "stderr",
     "output_type": "stream",
     "text": [
      "100%|████████████████████████████| 272/272 [00:46<00:00,  5.86it/s, D_loss=0.0203, F_loss_=693, P_loss=156, epoch_=104]\n"
     ]
    },
    {
     "name": "stdout",
     "output_type": "stream",
     "text": [
      "476472.9957885742\n"
     ]
    },
    {
     "name": "stderr",
     "output_type": "stream",
     "text": [
      "100%|████████████████████████████| 263/263 [00:06<00:00, 38.69it/s, D_loss=0.0695, F_loss_=276, P_loss=313, epoch_=104]\n"
     ]
    },
    {
     "name": "stdout",
     "output_type": "stream",
     "text": [
      "275285.13890075684\n"
     ]
    },
    {
     "name": "stderr",
     "output_type": "stream",
     "text": [
      "100%|████████████████████████████| 272/272 [00:46<00:00,  5.86it/s, D_loss=0.0324, F_loss_=251, P_loss=187, epoch_=105]\n"
     ]
    },
    {
     "name": "stdout",
     "output_type": "stream",
     "text": [
      "461121.0774536133\n"
     ]
    },
    {
     "name": "stderr",
     "output_type": "stream",
     "text": [
      "100%|████████████████████████████| 263/263 [00:06<00:00, 39.45it/s, D_loss=0.0794, F_loss_=226, P_loss=371, epoch_=105]\n"
     ]
    },
    {
     "name": "stdout",
     "output_type": "stream",
     "text": [
      "195812.59951782227\n",
      "save successfully!\n"
     ]
    },
    {
     "name": "stderr",
     "output_type": "stream",
     "text": [
      "100%|███████████████████████████| 272/272 [00:45<00:00,  5.98it/s, D_loss=0.00713, F_loss_=149, P_loss=208, epoch_=106]\n"
     ]
    },
    {
     "name": "stdout",
     "output_type": "stream",
     "text": [
      "458592.06341552734\n"
     ]
    },
    {
     "name": "stderr",
     "output_type": "stream",
     "text": [
      "100%|█████████████████████████████| 263/263 [00:06<00:00, 39.80it/s, D_loss=0.189, F_loss_=708, P_loss=292, epoch_=106]\n"
     ]
    },
    {
     "name": "stdout",
     "output_type": "stream",
     "text": [
      "209602.7921218872\n"
     ]
    },
    {
     "name": "stderr",
     "output_type": "stream",
     "text": [
      "100%|███████████████████████████| 272/272 [00:44<00:00,  6.06it/s, D_loss=0.0135, F_loss_=95.8, P_loss=456, epoch_=107]\n"
     ]
    },
    {
     "name": "stdout",
     "output_type": "stream",
     "text": [
      "446984.8112792969\n"
     ]
    },
    {
     "name": "stderr",
     "output_type": "stream",
     "text": [
      "100%|██████████████████████████| 263/263 [00:06<00:00, 39.49it/s, D_loss=0.00902, F_loss_=60.2, P_loss=151, epoch_=107]\n"
     ]
    },
    {
     "name": "stdout",
     "output_type": "stream",
     "text": [
      "224395.2239074707\n"
     ]
    },
    {
     "name": "stderr",
     "output_type": "stream",
     "text": [
      "100%|█████████████████████| 272/272 [00:44<00:00,  6.08it/s, D_loss=0.0312, F_loss_=1.2e+3, P_loss=1.15e+3, epoch_=108]\n"
     ]
    },
    {
     "name": "stdout",
     "output_type": "stream",
     "text": [
      "450634.99591064453\n"
     ]
    },
    {
     "name": "stderr",
     "output_type": "stream",
     "text": [
      "100%|███████████████████████████| 263/263 [00:06<00:00, 40.41it/s, D_loss=0.00141, F_loss_=290, P_loss=595, epoch_=108]\n"
     ]
    },
    {
     "name": "stdout",
     "output_type": "stream",
     "text": [
      "315870.35905456543\n"
     ]
    },
    {
     "name": "stderr",
     "output_type": "stream",
     "text": [
      "100%|████████████████████████████| 272/272 [00:45<00:00,  6.00it/s, D_loss=0.0388, F_loss_=209, P_loss=406, epoch_=109]\n"
     ]
    },
    {
     "name": "stdout",
     "output_type": "stream",
     "text": [
      "447493.9963378906\n"
     ]
    },
    {
     "name": "stderr",
     "output_type": "stream",
     "text": [
      "100%|████████████████████████████| 263/263 [00:06<00:00, 39.31it/s, D_loss=0.0534, F_loss_=136, P_loss=775, epoch_=109]\n"
     ]
    },
    {
     "name": "stdout",
     "output_type": "stream",
     "text": [
      "337848.44049072266\n"
     ]
    },
    {
     "name": "stderr",
     "output_type": "stream",
     "text": [
      "100%|████████████████████████████| 272/272 [00:45<00:00,  5.99it/s, D_loss=0.0211, F_loss_=252, P_loss=897, epoch_=110]\n"
     ]
    },
    {
     "name": "stdout",
     "output_type": "stream",
     "text": [
      "441466.22247314453\n"
     ]
    },
    {
     "name": "stderr",
     "output_type": "stream",
     "text": [
      "100%|███████████████████████████| 263/263 [00:06<00:00, 40.33it/s, D_loss=0.00101, F_loss_=209, P_loss=528, epoch_=110]\n"
     ]
    },
    {
     "name": "stdout",
     "output_type": "stream",
     "text": [
      "264120.4252624512\n",
      "save successfully!\n"
     ]
    },
    {
     "name": "stderr",
     "output_type": "stream",
     "text": [
      "100%|███████████████████████████| 272/272 [00:48<00:00,  5.65it/s, D_loss=0.00512, F_loss_=437, P_loss=979, epoch_=111]\n"
     ]
    },
    {
     "name": "stdout",
     "output_type": "stream",
     "text": [
      "423605.71099853516\n"
     ]
    },
    {
     "name": "stderr",
     "output_type": "stream",
     "text": [
      "100%|████████████████████████| 263/263 [00:06<00:00, 40.61it/s, D_loss=0.0267, F_loss_=332, P_loss=1.42e+3, epoch_=111]\n"
     ]
    },
    {
     "name": "stdout",
     "output_type": "stream",
     "text": [
      "390640.6459655762\n"
     ]
    },
    {
     "name": "stderr",
     "output_type": "stream",
     "text": [
      "100%|████████████████████████████| 272/272 [00:46<00:00,  5.88it/s, D_loss=0.0191, F_loss_=371, P_loss=103, epoch_=112]\n"
     ]
    },
    {
     "name": "stdout",
     "output_type": "stream",
     "text": [
      "405827.82287597656\n"
     ]
    },
    {
     "name": "stderr",
     "output_type": "stream",
     "text": [
      "100%|████████████████████████████| 263/263 [00:06<00:00, 38.06it/s, D_loss=0.0051, F_loss_=255, P_loss=389, epoch_=112]\n"
     ]
    },
    {
     "name": "stdout",
     "output_type": "stream",
     "text": [
      "246267.2257232666\n"
     ]
    },
    {
     "name": "stderr",
     "output_type": "stream",
     "text": [
      "100%|████████████████████████| 272/272 [00:45<00:00,  5.93it/s, D_loss=0.0442, F_loss_=2.92e+3, P_loss=922, epoch_=113]\n"
     ]
    },
    {
     "name": "stdout",
     "output_type": "stream",
     "text": [
      "386253.2423400879\n"
     ]
    },
    {
     "name": "stderr",
     "output_type": "stream",
     "text": [
      "100%|████████████████████████████| 263/263 [00:06<00:00, 37.76it/s, D_loss=0.0374, F_loss_=155, P_loss=714, epoch_=113]\n"
     ]
    },
    {
     "name": "stdout",
     "output_type": "stream",
     "text": [
      "302452.7060852051\n"
     ]
    },
    {
     "name": "stderr",
     "output_type": "stream",
     "text": [
      "100%|████████████████████████| 272/272 [00:45<00:00,  5.91it/s, D_loss=0.0143, F_loss_=1.57e+3, P_loss=109, epoch_=114]\n"
     ]
    },
    {
     "name": "stdout",
     "output_type": "stream",
     "text": [
      "410460.05920410156\n"
     ]
    },
    {
     "name": "stderr",
     "output_type": "stream",
     "text": [
      "100%|████████████████████████| 263/263 [00:06<00:00, 38.58it/s, D_loss=0.0267, F_loss_=297, P_loss=1.11e+3, epoch_=114]\n"
     ]
    },
    {
     "name": "stdout",
     "output_type": "stream",
     "text": [
      "236938.0546951294\n"
     ]
    },
    {
     "name": "stderr",
     "output_type": "stream",
     "text": [
      "100%|███████████████████████| 272/272 [00:46<00:00,  5.87it/s, D_loss=0.00811, F_loss_=853, P_loss=1.09e+3, epoch_=115]\n"
     ]
    },
    {
     "name": "stdout",
     "output_type": "stream",
     "text": [
      "373311.45721435547\n"
     ]
    },
    {
     "name": "stderr",
     "output_type": "stream",
     "text": [
      "100%|███████████████████████████| 263/263 [00:06<00:00, 39.25it/s, D_loss=0.00716, F_loss_=323, P_loss=505, epoch_=115]\n"
     ]
    },
    {
     "name": "stdout",
     "output_type": "stream",
     "text": [
      "300703.6584472656\n",
      "save successfully!\n"
     ]
    },
    {
     "name": "stderr",
     "output_type": "stream",
     "text": [
      "100%|█████████████████████████████| 272/272 [00:46<00:00,  5.85it/s, D_loss=0.034, F_loss_=178, P_loss=475, epoch_=116]\n"
     ]
    },
    {
     "name": "stdout",
     "output_type": "stream",
     "text": [
      "349856.5686645508\n"
     ]
    },
    {
     "name": "stderr",
     "output_type": "stream",
     "text": [
      "100%|████████████████████████████| 263/263 [00:06<00:00, 37.70it/s, D_loss=0.0501, F_loss_=198, P_loss=829, epoch_=116]\n"
     ]
    },
    {
     "name": "stdout",
     "output_type": "stream",
     "text": [
      "220739.87530517578\n"
     ]
    },
    {
     "name": "stderr",
     "output_type": "stream",
     "text": [
      "100%|████████████████████████| 272/272 [00:50<00:00,  5.40it/s, D_loss=0.0124, F_loss_=565, P_loss=1.83e+3, epoch_=117]\n"
     ]
    },
    {
     "name": "stdout",
     "output_type": "stream",
     "text": [
      "351566.78564453125\n"
     ]
    },
    {
     "name": "stderr",
     "output_type": "stream",
     "text": [
      "100%|████████████████████████████| 263/263 [00:07<00:00, 36.29it/s, D_loss=0.0231, F_loss_=220, P_loss=404, epoch_=117]\n"
     ]
    },
    {
     "name": "stdout",
     "output_type": "stream",
     "text": [
      "211186.2214126587\n"
     ]
    },
    {
     "name": "stderr",
     "output_type": "stream",
     "text": [
      "100%|████████████████████████| 272/272 [00:47<00:00,  5.70it/s, D_loss=0.0104, F_loss_=3.35e+3, P_loss=146, epoch_=118]\n"
     ]
    },
    {
     "name": "stdout",
     "output_type": "stream",
     "text": [
      "349469.8646850586\n"
     ]
    },
    {
     "name": "stderr",
     "output_type": "stream",
     "text": [
      "100%|███████████████████████████| 263/263 [00:06<00:00, 39.21it/s, D_loss=0.0332, F_loss_=71.8, P_loss=414, epoch_=118]\n"
     ]
    },
    {
     "name": "stdout",
     "output_type": "stream",
     "text": [
      "187615.0174369812\n"
     ]
    },
    {
     "name": "stderr",
     "output_type": "stream",
     "text": [
      "100%|████████████████████████████| 272/272 [00:46<00:00,  5.87it/s, D_loss=0.0089, F_loss_=120, P_loss=747, epoch_=119]\n"
     ]
    },
    {
     "name": "stdout",
     "output_type": "stream",
     "text": [
      "333796.80529785156\n"
     ]
    },
    {
     "name": "stderr",
     "output_type": "stream",
     "text": [
      "100%|██████████████████████████| 263/263 [00:07<00:00, 35.65it/s, D_loss=0.00289, F_loss_=46.6, P_loss=579, epoch_=119]\n"
     ]
    },
    {
     "name": "stdout",
     "output_type": "stream",
     "text": [
      "202895.61014556885\n"
     ]
    },
    {
     "name": "stderr",
     "output_type": "stream",
     "text": [
      "100%|████████████████████████████| 272/272 [00:46<00:00,  5.91it/s, D_loss=0.0103, F_loss_=332, P_loss=313, epoch_=120]\n"
     ]
    },
    {
     "name": "stdout",
     "output_type": "stream",
     "text": [
      "323398.9153442383\n"
     ]
    },
    {
     "name": "stderr",
     "output_type": "stream",
     "text": [
      "100%|███████████████████████████| 263/263 [00:07<00:00, 37.52it/s, D_loss=0.00798, F_loss_=191, P_loss=541, epoch_=120]\n"
     ]
    },
    {
     "name": "stdout",
     "output_type": "stream",
     "text": [
      "195896.17532348633\n",
      "save successfully!\n"
     ]
    },
    {
     "name": "stderr",
     "output_type": "stream",
     "text": [
      "100%|████████████████████████| 272/272 [00:45<00:00,  5.94it/s, D_loss=0.0128, F_loss_=115, P_loss=1.12e+3, epoch_=121]\n"
     ]
    },
    {
     "name": "stdout",
     "output_type": "stream",
     "text": [
      "349153.5591430664\n"
     ]
    },
    {
     "name": "stderr",
     "output_type": "stream",
     "text": [
      "100%|████████████████████████████| 263/263 [00:06<00:00, 37.89it/s, D_loss=0.0224, F_loss_=190, P_loss=248, epoch_=121]\n"
     ]
    },
    {
     "name": "stdout",
     "output_type": "stream",
     "text": [
      "314101.346282959\n"
     ]
    },
    {
     "name": "stderr",
     "output_type": "stream",
     "text": [
      "100%|██████████████████████████| 272/272 [00:45<00:00,  5.98it/s, D_loss=0.00206, F_loss_=212, P_loss=47.7, epoch_=122]\n"
     ]
    },
    {
     "name": "stdout",
     "output_type": "stream",
     "text": [
      "353211.09088134766\n"
     ]
    },
    {
     "name": "stderr",
     "output_type": "stream",
     "text": [
      "100%|███████████████████████| 263/263 [00:07<00:00, 37.50it/s, D_loss=0.00461, F_loss_=172, P_loss=1.24e+3, epoch_=122]\n"
     ]
    },
    {
     "name": "stdout",
     "output_type": "stream",
     "text": [
      "223023.53527069092\n"
     ]
    },
    {
     "name": "stderr",
     "output_type": "stream",
     "text": [
      "100%|████████████████████████| 272/272 [00:45<00:00,  5.97it/s, D_loss=0.0208, F_loss_=1.31e+3, P_loss=136, epoch_=123]\n"
     ]
    },
    {
     "name": "stdout",
     "output_type": "stream",
     "text": [
      "328372.5059814453\n"
     ]
    },
    {
     "name": "stderr",
     "output_type": "stream",
     "text": [
      "100%|███████████████████████████| 263/263 [00:06<00:00, 37.77it/s, D_loss=0.00489, F_loss_=340, P_loss=370, epoch_=123]\n"
     ]
    },
    {
     "name": "stdout",
     "output_type": "stream",
     "text": [
      "217683.3487625122\n"
     ]
    },
    {
     "name": "stderr",
     "output_type": "stream",
     "text": [
      "100%|██████████████████████| 272/272 [00:46<00:00,  5.90it/s, D_loss=0.00871, F_loss_=4.08e+3, P_loss=98.7, epoch_=124]\n"
     ]
    },
    {
     "name": "stdout",
     "output_type": "stream",
     "text": [
      "360824.78662109375\n"
     ]
    },
    {
     "name": "stderr",
     "output_type": "stream",
     "text": [
      "100%|██████████████████████████| 263/263 [00:07<00:00, 36.94it/s, D_loss=0.00889, F_loss_=43.9, P_loss=748, epoch_=124]\n"
     ]
    },
    {
     "name": "stdout",
     "output_type": "stream",
     "text": [
      "191896.41814422607\n"
     ]
    },
    {
     "name": "stderr",
     "output_type": "stream",
     "text": [
      "100%|██████████████████████████| 272/272 [00:45<00:00,  5.94it/s, D_loss=0.00331, F_loss_=40.8, P_loss=371, epoch_=125]\n"
     ]
    },
    {
     "name": "stdout",
     "output_type": "stream",
     "text": [
      "302187.99981689453\n"
     ]
    },
    {
     "name": "stderr",
     "output_type": "stream",
     "text": [
      "100%|████████████████████████████| 263/263 [00:07<00:00, 37.31it/s, D_loss=0.0267, F_loss_=265, P_loss=348, epoch_=125]\n"
     ]
    },
    {
     "name": "stdout",
     "output_type": "stream",
     "text": [
      "237430.22372436523\n",
      "save successfully!\n"
     ]
    },
    {
     "name": "stderr",
     "output_type": "stream",
     "text": [
      "100%|███████████████████████████| 272/272 [00:46<00:00,  5.88it/s, D_loss=0.00156, F_loss_=402, P_loss=487, epoch_=126]\n"
     ]
    },
    {
     "name": "stdout",
     "output_type": "stream",
     "text": [
      "312075.73767089844\n"
     ]
    },
    {
     "name": "stderr",
     "output_type": "stream",
     "text": [
      "100%|███████████████████████| 263/263 [00:07<00:00, 36.89it/s, D_loss=0.00135, F_loss_=197, P_loss=1.26e+3, epoch_=126]\n"
     ]
    },
    {
     "name": "stdout",
     "output_type": "stream",
     "text": [
      "284933.7484474182\n"
     ]
    },
    {
     "name": "stderr",
     "output_type": "stream",
     "text": [
      "100%|███████████████████████████| 272/272 [00:45<00:00,  5.94it/s, D_loss=0.00369, F_loss_=186, P_loss=221, epoch_=127]\n"
     ]
    },
    {
     "name": "stdout",
     "output_type": "stream",
     "text": [
      "299452.9136047363\n"
     ]
    },
    {
     "name": "stderr",
     "output_type": "stream",
     "text": [
      "100%|████████████████████████████| 263/263 [00:07<00:00, 37.54it/s, D_loss=0.0037, F_loss_=217, P_loss=309, epoch_=127]\n"
     ]
    },
    {
     "name": "stdout",
     "output_type": "stream",
     "text": [
      "182553.45934295654\n"
     ]
    },
    {
     "name": "stderr",
     "output_type": "stream",
     "text": [
      "100%|███████████████████████| 272/272 [00:45<00:00,  5.95it/s, D_loss=0.00196, F_loss_=129, P_loss=1.97e+3, epoch_=128]\n"
     ]
    },
    {
     "name": "stdout",
     "output_type": "stream",
     "text": [
      "289851.7080383301\n"
     ]
    },
    {
     "name": "stderr",
     "output_type": "stream",
     "text": [
      "100%|███████████████████████████| 263/263 [00:07<00:00, 36.84it/s, D_loss=0.00273, F_loss_=360, P_loss=746, epoch_=128]\n"
     ]
    },
    {
     "name": "stdout",
     "output_type": "stream",
     "text": [
      "186545.6463317871\n"
     ]
    },
    {
     "name": "stderr",
     "output_type": "stream",
     "text": [
      "100%|███████████████████████████| 272/272 [00:45<00:00,  5.92it/s, D_loss=0.00768, F_loss_=295, P_loss=101, epoch_=129]\n"
     ]
    },
    {
     "name": "stdout",
     "output_type": "stream",
     "text": [
      "289003.13931274414\n"
     ]
    },
    {
     "name": "stderr",
     "output_type": "stream",
     "text": [
      "100%|████████████████████████████| 263/263 [00:07<00:00, 37.51it/s, D_loss=0.0112, F_loss_=257, P_loss=851, epoch_=129]\n"
     ]
    },
    {
     "name": "stdout",
     "output_type": "stream",
     "text": [
      "194878.34252929688\n"
     ]
    },
    {
     "name": "stderr",
     "output_type": "stream",
     "text": [
      "100%|███████████████████████████| 272/272 [00:47<00:00,  5.69it/s, D_loss=0.00242, F_loss_=263, P_loss=136, epoch_=130]\n"
     ]
    },
    {
     "name": "stdout",
     "output_type": "stream",
     "text": [
      "272560.5178527832\n"
     ]
    },
    {
     "name": "stderr",
     "output_type": "stream",
     "text": [
      "100%|███████████████████████████| 263/263 [00:07<00:00, 35.54it/s, D_loss=0.00508, F_loss_=548, P_loss=505, epoch_=130]\n"
     ]
    },
    {
     "name": "stdout",
     "output_type": "stream",
     "text": [
      "248404.5509033203\n",
      "save successfully!\n"
     ]
    },
    {
     "name": "stderr",
     "output_type": "stream",
     "text": [
      "100%|████████████████████████████| 272/272 [00:47<00:00,  5.75it/s, D_loss=0.0104, F_loss_=770, P_loss=379, epoch_=131]\n"
     ]
    },
    {
     "name": "stdout",
     "output_type": "stream",
     "text": [
      "284513.0868835449\n"
     ]
    },
    {
     "name": "stderr",
     "output_type": "stream",
     "text": [
      "100%|███████████████████████████| 263/263 [00:07<00:00, 35.92it/s, D_loss=0.00245, F_loss_=325, P_loss=111, epoch_=131]\n"
     ]
    },
    {
     "name": "stdout",
     "output_type": "stream",
     "text": [
      "229152.47887420654\n"
     ]
    },
    {
     "name": "stderr",
     "output_type": "stream",
     "text": [
      "100%|██████████████████████████| 272/272 [00:46<00:00,  5.79it/s, D_loss=0.000949, F_loss_=188, P_loss=163, epoch_=132]\n"
     ]
    },
    {
     "name": "stdout",
     "output_type": "stream",
     "text": [
      "264727.4671020508\n"
     ]
    },
    {
     "name": "stderr",
     "output_type": "stream",
     "text": [
      "100%|███████████████████████████| 263/263 [00:07<00:00, 36.81it/s, D_loss=0.00499, F_loss_=359, P_loss=298, epoch_=132]\n"
     ]
    },
    {
     "name": "stdout",
     "output_type": "stream",
     "text": [
      "219014.22109985352\n"
     ]
    },
    {
     "name": "stderr",
     "output_type": "stream",
     "text": [
      "100%|███████████████████████| 272/272 [00:46<00:00,  5.83it/s, D_loss=0.00332, F_loss_=1.49e+3, P_loss=294, epoch_=133]\n"
     ]
    },
    {
     "name": "stdout",
     "output_type": "stream",
     "text": [
      "259724.78164672852\n"
     ]
    },
    {
     "name": "stderr",
     "output_type": "stream",
     "text": [
      "100%|████████████████████████████| 263/263 [00:07<00:00, 36.98it/s, D_loss=0.0167, F_loss_=417, P_loss=188, epoch_=133]\n"
     ]
    },
    {
     "name": "stdout",
     "output_type": "stream",
     "text": [
      "178135.87537384033\n"
     ]
    },
    {
     "name": "stderr",
     "output_type": "stream",
     "text": [
      "100%|███████████████████████████| 272/272 [00:45<00:00,  5.91it/s, D_loss=0.00184, F_loss_=936, P_loss=132, epoch_=134]\n"
     ]
    },
    {
     "name": "stdout",
     "output_type": "stream",
     "text": [
      "250284.18426513672\n"
     ]
    },
    {
     "name": "stderr",
     "output_type": "stream",
     "text": [
      "100%|███████████████████████████| 263/263 [00:06<00:00, 37.94it/s, D_loss=0.00935, F_loss_=240, P_loss=453, epoch_=134]\n"
     ]
    },
    {
     "name": "stdout",
     "output_type": "stream",
     "text": [
      "180138.7795715332\n"
     ]
    },
    {
     "name": "stderr",
     "output_type": "stream",
     "text": [
      "100%|███████████████████████| 272/272 [00:45<00:00,  5.99it/s, D_loss=0.00955, F_loss_=1.27e+3, P_loss=170, epoch_=135]\n"
     ]
    },
    {
     "name": "stdout",
     "output_type": "stream",
     "text": [
      "245755.533203125\n"
     ]
    },
    {
     "name": "stderr",
     "output_type": "stream",
     "text": [
      "100%|████████████████████████████| 263/263 [00:07<00:00, 36.96it/s, D_loss=0.0302, F_loss_=440, P_loss=517, epoch_=135]\n"
     ]
    },
    {
     "name": "stdout",
     "output_type": "stream",
     "text": [
      "191283.87901306152\n",
      "save successfully!\n"
     ]
    },
    {
     "name": "stderr",
     "output_type": "stream",
     "text": [
      "100%|██████████████████████████| 272/272 [00:45<00:00,  5.96it/s, D_loss=0.000972, F_loss_=732, P_loss=405, epoch_=136]\n"
     ]
    },
    {
     "name": "stdout",
     "output_type": "stream",
     "text": [
      "244810.20349121094\n"
     ]
    },
    {
     "name": "stderr",
     "output_type": "stream",
     "text": [
      "100%|███████████████████████████| 263/263 [00:06<00:00, 37.81it/s, D_loss=0.00237, F_loss_=620, P_loss=549, epoch_=136]\n"
     ]
    },
    {
     "name": "stdout",
     "output_type": "stream",
     "text": [
      "181343.9197921753\n"
     ]
    },
    {
     "name": "stderr",
     "output_type": "stream",
     "text": [
      "100%|████████████████████████████| 272/272 [00:45<00:00,  6.00it/s, D_loss=0.0135, F_loss_=941, P_loss=314, epoch_=137]\n"
     ]
    },
    {
     "name": "stdout",
     "output_type": "stream",
     "text": [
      "242401.43048095703\n"
     ]
    },
    {
     "name": "stderr",
     "output_type": "stream",
     "text": [
      "100%|████████████████████████████| 263/263 [00:06<00:00, 37.82it/s, D_loss=0.0244, F_loss_=457, P_loss=217, epoch_=137]\n"
     ]
    },
    {
     "name": "stdout",
     "output_type": "stream",
     "text": [
      "147307.5398864746\n"
     ]
    },
    {
     "name": "stderr",
     "output_type": "stream",
     "text": [
      "100%|████████████████████████████| 272/272 [00:46<00:00,  5.90it/s, D_loss=0.0104, F_loss_=162, P_loss=524, epoch_=138]\n"
     ]
    },
    {
     "name": "stdout",
     "output_type": "stream",
     "text": [
      "238292.48886108398\n"
     ]
    },
    {
     "name": "stderr",
     "output_type": "stream",
     "text": [
      "100%|███████████████████████████| 263/263 [00:07<00:00, 37.01it/s, D_loss=0.00089, F_loss_=433, P_loss=945, epoch_=138]\n"
     ]
    },
    {
     "name": "stdout",
     "output_type": "stream",
     "text": [
      "287792.5652770996\n"
     ]
    },
    {
     "name": "stderr",
     "output_type": "stream",
     "text": [
      "100%|████████████████████████████| 272/272 [00:47<00:00,  5.68it/s, D_loss=0.0116, F_loss_=447, P_loss=168, epoch_=139]\n"
     ]
    },
    {
     "name": "stdout",
     "output_type": "stream",
     "text": [
      "249906.83880615234\n"
     ]
    },
    {
     "name": "stderr",
     "output_type": "stream",
     "text": [
      "100%|█████████████████████████| 263/263 [00:07<00:00, 35.70it/s, D_loss=0.047, F_loss_=402, P_loss=1.18e+3, epoch_=139]\n"
     ]
    },
    {
     "name": "stdout",
     "output_type": "stream",
     "text": [
      "378430.9973335266\n"
     ]
    },
    {
     "name": "stderr",
     "output_type": "stream",
     "text": [
      "100%|██████████████████████████| 272/272 [00:48<00:00,  5.59it/s, D_loss=0.00563, F_loss_=61.2, P_loss=103, epoch_=140]\n"
     ]
    },
    {
     "name": "stdout",
     "output_type": "stream",
     "text": [
      "254802.48194885254\n"
     ]
    },
    {
     "name": "stderr",
     "output_type": "stream",
     "text": [
      "100%|███████████████████████████| 263/263 [00:07<00:00, 34.74it/s, D_loss=0.00632, F_loss_=343, P_loss=180, epoch_=140]\n"
     ]
    },
    {
     "name": "stdout",
     "output_type": "stream",
     "text": [
      "196361.91096878052\n",
      "save successfully!\n"
     ]
    },
    {
     "name": "stderr",
     "output_type": "stream",
     "text": [
      "100%|██████████████████████████| 272/272 [00:47<00:00,  5.73it/s, D_loss=0.00032, F_loss_=90.6, P_loss=136, epoch_=141]\n"
     ]
    },
    {
     "name": "stdout",
     "output_type": "stream",
     "text": [
      "213934.12129211426\n"
     ]
    },
    {
     "name": "stderr",
     "output_type": "stream",
     "text": [
      "100%|███████████████████████████| 263/263 [00:07<00:00, 36.22it/s, D_loss=0.00784, F_loss_=471, P_loss=348, epoch_=141]\n"
     ]
    },
    {
     "name": "stdout",
     "output_type": "stream",
     "text": [
      "180369.0092010498\n"
     ]
    },
    {
     "name": "stderr",
     "output_type": "stream",
     "text": [
      "100%|███████████████████████████| 272/272 [00:48<00:00,  5.66it/s, D_loss=0.00298, F_loss_=267, P_loss=129, epoch_=142]\n"
     ]
    },
    {
     "name": "stdout",
     "output_type": "stream",
     "text": [
      "206692.26556396484\n"
     ]
    },
    {
     "name": "stderr",
     "output_type": "stream",
     "text": [
      "100%|████████████████████████████| 263/263 [00:07<00:00, 35.40it/s, D_loss=0.0119, F_loss_=411, P_loss=230, epoch_=142]\n"
     ]
    },
    {
     "name": "stdout",
     "output_type": "stream",
     "text": [
      "245814.84037780762\n"
     ]
    },
    {
     "name": "stderr",
     "output_type": "stream",
     "text": [
      "100%|████████████████████████████| 272/272 [00:50<00:00,  5.41it/s, D_loss=0.0171, F_loss_=253, P_loss=690, epoch_=143]\n"
     ]
    },
    {
     "name": "stdout",
     "output_type": "stream",
     "text": [
      "225968.30499267578\n"
     ]
    },
    {
     "name": "stderr",
     "output_type": "stream",
     "text": [
      "100%|████████████████████████████| 263/263 [00:07<00:00, 36.22it/s, D_loss=0.0152, F_loss_=257, P_loss=380, epoch_=143]\n"
     ]
    },
    {
     "name": "stdout",
     "output_type": "stream",
     "text": [
      "219647.1424255371\n"
     ]
    },
    {
     "name": "stderr",
     "output_type": "stream",
     "text": [
      "100%|███████████████████████| 272/272 [00:45<00:00,  5.99it/s, D_loss=0.00288, F_loss_=1.47e+3, P_loss=444, epoch_=144]\n"
     ]
    },
    {
     "name": "stdout",
     "output_type": "stream",
     "text": [
      "205904.90466308594\n"
     ]
    },
    {
     "name": "stderr",
     "output_type": "stream",
     "text": [
      "100%|███████████████████████████| 263/263 [00:07<00:00, 37.56it/s, D_loss=0.00428, F_loss_=624, P_loss=413, epoch_=144]\n"
     ]
    },
    {
     "name": "stdout",
     "output_type": "stream",
     "text": [
      "219071.95236206055\n"
     ]
    },
    {
     "name": "stderr",
     "output_type": "stream",
     "text": [
      "100%|█████████████████████████| 272/272 [00:46<00:00,  5.79it/s, D_loss=0.00279, F_loss_=6.99, P_loss=48.9, epoch_=145]\n"
     ]
    },
    {
     "name": "stdout",
     "output_type": "stream",
     "text": [
      "200081.19179534912\n"
     ]
    },
    {
     "name": "stderr",
     "output_type": "stream",
     "text": [
      "100%|██████████████████████████████| 263/263 [00:07<00:00, 36.04it/s, D_loss=0.01, F_loss_=358, P_loss=104, epoch_=145]\n"
     ]
    },
    {
     "name": "stdout",
     "output_type": "stream",
     "text": [
      "183961.0849609375\n",
      "save successfully!\n"
     ]
    },
    {
     "name": "stderr",
     "output_type": "stream",
     "text": [
      "100%|███████████████████████████| 272/272 [00:45<00:00,  6.04it/s, D_loss=0.0121, F_loss_=325, P_loss=82.9, epoch_=146]\n"
     ]
    },
    {
     "name": "stdout",
     "output_type": "stream",
     "text": [
      "202981.0505065918\n"
     ]
    },
    {
     "name": "stderr",
     "output_type": "stream",
     "text": [
      "100%|███████████████████████████| 263/263 [00:06<00:00, 37.82it/s, D_loss=0.00368, F_loss_=370, P_loss=149, epoch_=146]\n"
     ]
    },
    {
     "name": "stdout",
     "output_type": "stream",
     "text": [
      "194176.7347946167\n"
     ]
    },
    {
     "name": "stderr",
     "output_type": "stream",
     "text": [
      "100%|██████████████████████████| 272/272 [00:45<00:00,  6.01it/s, D_loss=0.00728, F_loss_=22.8, P_loss=334, epoch_=147]\n"
     ]
    },
    {
     "name": "stdout",
     "output_type": "stream",
     "text": [
      "184541.9757080078\n"
     ]
    },
    {
     "name": "stderr",
     "output_type": "stream",
     "text": [
      "100%|████████████████████████████| 263/263 [00:06<00:00, 37.90it/s, D_loss=0.0105, F_loss_=538, P_loss=335, epoch_=147]\n"
     ]
    },
    {
     "name": "stdout",
     "output_type": "stream",
     "text": [
      "182029.07913970947\n"
     ]
    },
    {
     "name": "stderr",
     "output_type": "stream",
     "text": [
      "100%|██████████████████████████| 272/272 [00:45<00:00,  6.00it/s, D_loss=0.00788, F_loss_=30.2, P_loss=102, epoch_=148]\n"
     ]
    },
    {
     "name": "stdout",
     "output_type": "stream",
     "text": [
      "184748.9967956543\n"
     ]
    },
    {
     "name": "stderr",
     "output_type": "stream",
     "text": [
      "100%|████████████████████████████| 263/263 [00:06<00:00, 37.69it/s, D_loss=0.0124, F_loss_=291, P_loss=331, epoch_=148]\n"
     ]
    },
    {
     "name": "stdout",
     "output_type": "stream",
     "text": [
      "207102.6070022583\n"
     ]
    },
    {
     "name": "stderr",
     "output_type": "stream",
     "text": [
      "100%|█████████████████████████| 272/272 [00:45<00:00,  5.98it/s, D_loss=0.000672, F_loss_=64.6, P_loss=419, epoch_=149]\n"
     ]
    },
    {
     "name": "stdout",
     "output_type": "stream",
     "text": [
      "184321.22036743164\n"
     ]
    },
    {
     "name": "stderr",
     "output_type": "stream",
     "text": [
      "100%|███████████████████████████| 263/263 [00:06<00:00, 38.46it/s, D_loss=0.00322, F_loss_=465, P_loss=179, epoch_=149]\n"
     ]
    },
    {
     "name": "stdout",
     "output_type": "stream",
     "text": [
      "287970.0843658447\n"
     ]
    },
    {
     "name": "stderr",
     "output_type": "stream",
     "text": [
      "100%|████████████████████████████| 272/272 [00:45<00:00,  6.03it/s, D_loss=0.0155, F_loss_=316, P_loss=399, epoch_=150]\n"
     ]
    },
    {
     "name": "stdout",
     "output_type": "stream",
     "text": [
      "172010.08865356445\n"
     ]
    },
    {
     "name": "stderr",
     "output_type": "stream",
     "text": [
      "100%|██████████████████████████| 263/263 [00:07<00:00, 36.69it/s, D_loss=0.00193, F_loss_=374, P_loss=93.5, epoch_=150]\n"
     ]
    },
    {
     "name": "stdout",
     "output_type": "stream",
     "text": [
      "185735.06745147705\n",
      "save successfully!\n"
     ]
    },
    {
     "name": "stderr",
     "output_type": "stream",
     "text": [
      "100%|██████████████████████████| 272/272 [00:47<00:00,  5.78it/s, D_loss=0.000751, F_loss_=171, P_loss=449, epoch_=151]\n"
     ]
    },
    {
     "name": "stdout",
     "output_type": "stream",
     "text": [
      "275250.33407592773\n"
     ]
    },
    {
     "name": "stderr",
     "output_type": "stream",
     "text": [
      "100%|██████████████████████████| 263/263 [00:07<00:00, 36.89it/s, D_loss=0.000647, F_loss_=234, P_loss=470, epoch_=151]\n"
     ]
    },
    {
     "name": "stdout",
     "output_type": "stream",
     "text": [
      "143491.57970809937\n"
     ]
    },
    {
     "name": "stderr",
     "output_type": "stream",
     "text": [
      "100%|███████████████████████████| 272/272 [00:44<00:00,  6.05it/s, D_loss=0.00196, F_loss_=195, P_loss=279, epoch_=152]\n"
     ]
    },
    {
     "name": "stdout",
     "output_type": "stream",
     "text": [
      "183106.45098876953\n"
     ]
    },
    {
     "name": "stderr",
     "output_type": "stream",
     "text": [
      "100%|███████████████████████████| 263/263 [00:06<00:00, 38.57it/s, D_loss=0.00181, F_loss_=203, P_loss=236, epoch_=152]\n"
     ]
    },
    {
     "name": "stdout",
     "output_type": "stream",
     "text": [
      "175392.3817138672\n"
     ]
    },
    {
     "name": "stderr",
     "output_type": "stream",
     "text": [
      "100%|██████████████████████████| 272/272 [00:45<00:00,  6.04it/s, D_loss=0.0133, F_loss_=67.6, P_loss=62.5, epoch_=153]\n"
     ]
    },
    {
     "name": "stdout",
     "output_type": "stream",
     "text": [
      "159234.5370941162\n"
     ]
    },
    {
     "name": "stderr",
     "output_type": "stream",
     "text": [
      "100%|████████████████████████████| 263/263 [00:06<00:00, 38.25it/s, D_loss=0.0216, F_loss_=144, P_loss=364, epoch_=153]\n"
     ]
    },
    {
     "name": "stdout",
     "output_type": "stream",
     "text": [
      "211637.4055480957\n"
     ]
    },
    {
     "name": "stderr",
     "output_type": "stream",
     "text": [
      "100%|█████████████████████████| 272/272 [00:45<00:00,  6.03it/s, D_loss=0.000307, F_loss_=43.8, P_loss=121, epoch_=154]\n"
     ]
    },
    {
     "name": "stdout",
     "output_type": "stream",
     "text": [
      "157844.25247192383\n"
     ]
    },
    {
     "name": "stderr",
     "output_type": "stream",
     "text": [
      "100%|██████████████████████████| 263/263 [00:06<00:00, 38.71it/s, D_loss=0.00182, F_loss_=78.4, P_loss=209, epoch_=154]\n"
     ]
    },
    {
     "name": "stdout",
     "output_type": "stream",
     "text": [
      "142800.88582229614\n"
     ]
    },
    {
     "name": "stderr",
     "output_type": "stream",
     "text": [
      "100%|████████████████████████████| 272/272 [00:44<00:00,  6.05it/s, D_loss=0.0119, F_loss_=815, P_loss=164, epoch_=155]\n"
     ]
    },
    {
     "name": "stdout",
     "output_type": "stream",
     "text": [
      "146923.6957244873\n"
     ]
    },
    {
     "name": "stderr",
     "output_type": "stream",
     "text": [
      "100%|████████████████████████████| 263/263 [00:06<00:00, 37.67it/s, D_loss=0.0167, F_loss_=294, P_loss=207, epoch_=155]\n"
     ]
    },
    {
     "name": "stdout",
     "output_type": "stream",
     "text": [
      "120665.89177513123\n",
      "save successfully!\n"
     ]
    },
    {
     "name": "stderr",
     "output_type": "stream",
     "text": [
      "100%|█████████████████████████| 272/272 [00:44<00:00,  6.07it/s, D_loss=0.00297, F_loss_=0.668, P_loss=160, epoch_=156]\n"
     ]
    },
    {
     "name": "stdout",
     "output_type": "stream",
     "text": [
      "147848.7317199707\n"
     ]
    },
    {
     "name": "stderr",
     "output_type": "stream",
     "text": [
      "100%|█████████████████████████| 263/263 [00:06<00:00, 38.90it/s, D_loss=0.000329, F_loss_=97.7, P_loss=126, epoch_=156]\n"
     ]
    },
    {
     "name": "stdout",
     "output_type": "stream",
     "text": [
      "99840.37562179565\n"
     ]
    },
    {
     "name": "stderr",
     "output_type": "stream",
     "text": [
      "100%|███████████████████████████| 272/272 [00:45<00:00,  5.94it/s, D_loss=0.0031, F_loss_=168, P_loss=62.9, epoch_=157]\n"
     ]
    },
    {
     "name": "stdout",
     "output_type": "stream",
     "text": [
      "142995.80433654785\n"
     ]
    },
    {
     "name": "stderr",
     "output_type": "stream",
     "text": [
      "100%|███████████████████████████| 263/263 [00:07<00:00, 37.47it/s, D_loss=0.00468, F_loss_=153, P_loss=261, epoch_=157]\n"
     ]
    },
    {
     "name": "stdout",
     "output_type": "stream",
     "text": [
      "110002.53100395203\n"
     ]
    },
    {
     "name": "stderr",
     "output_type": "stream",
     "text": [
      "100%|███████████████████████████| 272/272 [00:44<00:00,  6.09it/s, D_loss=0.0024, F_loss_=322, P_loss=94.6, epoch_=158]\n"
     ]
    },
    {
     "name": "stdout",
     "output_type": "stream",
     "text": [
      "158667.82160949707\n"
     ]
    },
    {
     "name": "stderr",
     "output_type": "stream",
     "text": [
      "100%|███████████████████████████| 263/263 [00:06<00:00, 38.34it/s, D_loss=0.0083, F_loss_=40.2, P_loss=128, epoch_=158]\n"
     ]
    },
    {
     "name": "stdout",
     "output_type": "stream",
     "text": [
      "101886.78161811829\n"
     ]
    },
    {
     "name": "stderr",
     "output_type": "stream",
     "text": [
      "100%|██████████████████████████| 272/272 [00:44<00:00,  6.06it/s, D_loss=0.00807, F_loss_=15.1, P_loss=169, epoch_=159]\n"
     ]
    },
    {
     "name": "stdout",
     "output_type": "stream",
     "text": [
      "146141.26039123535\n"
     ]
    },
    {
     "name": "stderr",
     "output_type": "stream",
     "text": [
      "100%|██████████████████████████| 263/263 [00:06<00:00, 37.74it/s, D_loss=0.00187, F_loss_=58.4, P_loss=202, epoch_=159]\n"
     ]
    },
    {
     "name": "stdout",
     "output_type": "stream",
     "text": [
      "146559.37873077393\n"
     ]
    },
    {
     "name": "stderr",
     "output_type": "stream",
     "text": [
      "100%|███████████████████████████| 272/272 [00:45<00:00,  6.03it/s, D_loss=0.00176, F_loss_=179, P_loss=149, epoch_=160]\n"
     ]
    },
    {
     "name": "stdout",
     "output_type": "stream",
     "text": [
      "139864.2594909668\n"
     ]
    },
    {
     "name": "stderr",
     "output_type": "stream",
     "text": [
      "100%|██████████████████████████| 263/263 [00:06<00:00, 37.87it/s, D_loss=0.00227, F_loss_=83.8, P_loss=107, epoch_=160]\n"
     ]
    },
    {
     "name": "stdout",
     "output_type": "stream",
     "text": [
      "135527.5295600891\n",
      "save successfully!\n"
     ]
    },
    {
     "name": "stderr",
     "output_type": "stream",
     "text": [
      "100%|██████████████████████████| 272/272 [00:44<00:00,  6.05it/s, D_loss=0.00266, F_loss_=51.9, P_loss=123, epoch_=161]\n"
     ]
    },
    {
     "name": "stdout",
     "output_type": "stream",
     "text": [
      "150847.73345947266\n"
     ]
    },
    {
     "name": "stderr",
     "output_type": "stream",
     "text": [
      "100%|████████████████████████████| 263/263 [00:06<00:00, 37.84it/s, D_loss=0.0059, F_loss_=214, P_loss=287, epoch_=161]\n"
     ]
    },
    {
     "name": "stdout",
     "output_type": "stream",
     "text": [
      "124977.39619445801\n"
     ]
    },
    {
     "name": "stderr",
     "output_type": "stream",
     "text": [
      "100%|███████████████████████████| 272/272 [00:45<00:00,  5.97it/s, D_loss=0.0114, F_loss_=72.3, P_loss=304, epoch_=162]\n"
     ]
    },
    {
     "name": "stdout",
     "output_type": "stream",
     "text": [
      "147335.42114257812\n"
     ]
    },
    {
     "name": "stderr",
     "output_type": "stream",
     "text": [
      "100%|██████████████████████████| 263/263 [00:07<00:00, 37.30it/s, D_loss=0.00671, F_loss_=9.54, P_loss=280, epoch_=162]\n"
     ]
    },
    {
     "name": "stdout",
     "output_type": "stream",
     "text": [
      "287431.0990905762\n"
     ]
    },
    {
     "name": "stderr",
     "output_type": "stream",
     "text": [
      "100%|██████████████████████████| 272/272 [00:46<00:00,  5.84it/s, D_loss=0.00298, F_loss_=78.7, P_loss=516, epoch_=163]\n"
     ]
    },
    {
     "name": "stdout",
     "output_type": "stream",
     "text": [
      "151042.52613830566\n"
     ]
    },
    {
     "name": "stderr",
     "output_type": "stream",
     "text": [
      "100%|███████████████████████████| 263/263 [00:07<00:00, 36.48it/s, D_loss=0.00391, F_loss_=118, P_loss=110, epoch_=163]\n"
     ]
    },
    {
     "name": "stdout",
     "output_type": "stream",
     "text": [
      "102695.71031951904\n"
     ]
    },
    {
     "name": "stderr",
     "output_type": "stream",
     "text": [
      "100%|██████████████████████████| 272/272 [00:46<00:00,  5.88it/s, D_loss=0.00103, F_loss_=69.8, P_loss=104, epoch_=164]\n"
     ]
    },
    {
     "name": "stdout",
     "output_type": "stream",
     "text": [
      "132276.25787353516\n"
     ]
    },
    {
     "name": "stderr",
     "output_type": "stream",
     "text": [
      "100%|██████████████████████████| 263/263 [00:07<00:00, 36.98it/s, D_loss=0.00146, F_loss_=70.8, P_loss=312, epoch_=164]\n"
     ]
    },
    {
     "name": "stdout",
     "output_type": "stream",
     "text": [
      "104575.200050354\n"
     ]
    },
    {
     "name": "stderr",
     "output_type": "stream",
     "text": [
      "100%|█████████████████████████| 272/272 [00:46<00:00,  5.87it/s, D_loss=0.00718, F_loss_=27.4, P_loss=82.3, epoch_=165]\n"
     ]
    },
    {
     "name": "stdout",
     "output_type": "stream",
     "text": [
      "119504.4116897583\n"
     ]
    },
    {
     "name": "stderr",
     "output_type": "stream",
     "text": [
      "100%|███████████████████████████| 263/263 [00:07<00:00, 36.03it/s, D_loss=0.00407, F_loss_=112, P_loss=241, epoch_=165]\n"
     ]
    },
    {
     "name": "stdout",
     "output_type": "stream",
     "text": [
      "97506.02253341675\n",
      "save successfully!\n"
     ]
    },
    {
     "name": "stderr",
     "output_type": "stream",
     "text": [
      "100%|███████████████████████████| 272/272 [00:45<00:00,  5.97it/s, D_loss=0.00326, F_loss_=423, P_loss=200, epoch_=166]\n"
     ]
    },
    {
     "name": "stdout",
     "output_type": "stream",
     "text": [
      "122829.6674194336\n"
     ]
    },
    {
     "name": "stderr",
     "output_type": "stream",
     "text": [
      "100%|███████████████████████████| 263/263 [00:06<00:00, 38.03it/s, D_loss=0.00828, F_loss_=104, P_loss=908, epoch_=166]\n"
     ]
    },
    {
     "name": "stdout",
     "output_type": "stream",
     "text": [
      "139812.2738571167\n"
     ]
    },
    {
     "name": "stderr",
     "output_type": "stream",
     "text": [
      "100%|███████████████████████████| 272/272 [00:45<00:00,  6.01it/s, D_loss=0.00271, F_loss_=482, P_loss=704, epoch_=167]\n"
     ]
    },
    {
     "name": "stdout",
     "output_type": "stream",
     "text": [
      "141043.15060424805\n"
     ]
    },
    {
     "name": "stderr",
     "output_type": "stream",
     "text": [
      "100%|██████████████████████████| 263/263 [00:06<00:00, 38.53it/s, D_loss=0.00608, F_loss_=1.72, P_loss=282, epoch_=167]\n"
     ]
    },
    {
     "name": "stdout",
     "output_type": "stream",
     "text": [
      "153057.0002593994\n"
     ]
    },
    {
     "name": "stderr",
     "output_type": "stream",
     "text": [
      "100%|████████████████████████| 272/272 [00:45<00:00,  6.01it/s, D_loss=0.000965, F_loss_=96.6, P_loss=51.1, epoch_=168]\n"
     ]
    },
    {
     "name": "stdout",
     "output_type": "stream",
     "text": [
      "124829.73091125488\n"
     ]
    },
    {
     "name": "stderr",
     "output_type": "stream",
     "text": [
      "100%|██████████████████████████| 263/263 [00:06<00:00, 38.75it/s, D_loss=0.00404, F_loss_=20.7, P_loss=321, epoch_=168]\n"
     ]
    },
    {
     "name": "stdout",
     "output_type": "stream",
     "text": [
      "157894.59900474548\n"
     ]
    },
    {
     "name": "stderr",
     "output_type": "stream",
     "text": [
      "100%|███████████████████████████| 272/272 [00:45<00:00,  6.03it/s, D_loss=0.00303, F_loss_=629, P_loss=163, epoch_=169]\n"
     ]
    },
    {
     "name": "stdout",
     "output_type": "stream",
     "text": [
      "118277.25314331055\n"
     ]
    },
    {
     "name": "stderr",
     "output_type": "stream",
     "text": [
      "100%|██████████████████████████| 263/263 [00:06<00:00, 38.59it/s, D_loss=0.0235, F_loss_=18.1, P_loss=54.2, epoch_=169]\n"
     ]
    },
    {
     "name": "stdout",
     "output_type": "stream",
     "text": [
      "116068.92405319214\n"
     ]
    },
    {
     "name": "stderr",
     "output_type": "stream",
     "text": [
      "100%|████████████████████████| 272/272 [00:45<00:00,  6.01it/s, D_loss=0.0052, F_loss_=554, P_loss=5.77e+3, epoch_=170]\n"
     ]
    },
    {
     "name": "stdout",
     "output_type": "stream",
     "text": [
      "147184.73487854004\n"
     ]
    },
    {
     "name": "stderr",
     "output_type": "stream",
     "text": [
      "100%|███████████████████████| 263/263 [00:06<00:00, 38.82it/s, D_loss=0.0134, F_loss_=64.7, P_loss=4.79e+3, epoch_=170]\n"
     ]
    },
    {
     "name": "stdout",
     "output_type": "stream",
     "text": [
      "1082110.9302978516\n",
      "save successfully!\n"
     ]
    },
    {
     "name": "stderr",
     "output_type": "stream",
     "text": [
      "100%|███████████████████████████| 272/272 [00:44<00:00,  6.06it/s, D_loss=0.00258, F_loss_=172, P_loss=117, epoch_=171]\n"
     ]
    },
    {
     "name": "stdout",
     "output_type": "stream",
     "text": [
      "146850.80033874512\n"
     ]
    },
    {
     "name": "stderr",
     "output_type": "stream",
     "text": [
      "100%|██████████████████████████| 263/263 [00:06<00:00, 38.61it/s, D_loss=0.00496, F_loss_=47.6, P_loss=143, epoch_=171]\n"
     ]
    },
    {
     "name": "stdout",
     "output_type": "stream",
     "text": [
      "86652.19947195053\n"
     ]
    },
    {
     "name": "stderr",
     "output_type": "stream",
     "text": [
      "100%|███████████████████████████| 272/272 [00:44<00:00,  6.06it/s, D_loss=0.00447, F_loss_=330, P_loss=135, epoch_=172]\n"
     ]
    },
    {
     "name": "stdout",
     "output_type": "stream",
     "text": [
      "111882.28439331055\n"
     ]
    },
    {
     "name": "stderr",
     "output_type": "stream",
     "text": [
      "100%|███████████████████████████| 263/263 [00:06<00:00, 38.98it/s, D_loss=0.00135, F_loss_=102, P_loss=633, epoch_=172]\n"
     ]
    },
    {
     "name": "stdout",
     "output_type": "stream",
     "text": [
      "150806.1519088745\n"
     ]
    },
    {
     "name": "stderr",
     "output_type": "stream",
     "text": [
      "100%|███████████████████████████| 272/272 [00:45<00:00,  6.02it/s, D_loss=0.00374, F_loss_=714, P_loss=215, epoch_=173]\n"
     ]
    },
    {
     "name": "stdout",
     "output_type": "stream",
     "text": [
      "118506.33277893066\n"
     ]
    },
    {
     "name": "stderr",
     "output_type": "stream",
     "text": [
      "100%|███████████████████████| 263/263 [00:06<00:00, 38.62it/s, D_loss=0.000856, F_loss_=170, P_loss=1.1e+3, epoch_=173]\n"
     ]
    },
    {
     "name": "stdout",
     "output_type": "stream",
     "text": [
      "286018.12702941895\n"
     ]
    },
    {
     "name": "stderr",
     "output_type": "stream",
     "text": [
      "100%|███████████████████████████| 272/272 [00:45<00:00,  6.01it/s, D_loss=0.00164, F_loss_=234, P_loss=265, epoch_=174]\n"
     ]
    },
    {
     "name": "stdout",
     "output_type": "stream",
     "text": [
      "125196.8193359375\n"
     ]
    },
    {
     "name": "stderr",
     "output_type": "stream",
     "text": [
      "100%|███████████████████████████| 263/263 [00:06<00:00, 38.81it/s, D_loss=0.00129, F_loss_=165, P_loss=850, epoch_=174]\n"
     ]
    },
    {
     "name": "stdout",
     "output_type": "stream",
     "text": [
      "146903.45177459717\n"
     ]
    },
    {
     "name": "stderr",
     "output_type": "stream",
     "text": [
      "100%|███████████████████████████| 272/272 [00:45<00:00,  6.00it/s, D_loss=0.00128, F_loss_=252, P_loss=258, epoch_=175]\n"
     ]
    },
    {
     "name": "stdout",
     "output_type": "stream",
     "text": [
      "125276.08692932129\n"
     ]
    },
    {
     "name": "stderr",
     "output_type": "stream",
     "text": [
      "100%|██████████████████████████| 263/263 [00:06<00:00, 38.76it/s, D_loss=0.00179, F_loss_=40.5, P_loss=202, epoch_=175]\n"
     ]
    },
    {
     "name": "stdout",
     "output_type": "stream",
     "text": [
      "128420.67073822021\n",
      "save successfully!\n"
     ]
    },
    {
     "name": "stderr",
     "output_type": "stream",
     "text": [
      "100%|███████████████████████████| 272/272 [00:45<00:00,  6.01it/s, D_loss=0.00148, F_loss_=164, P_loss=228, epoch_=176]\n"
     ]
    },
    {
     "name": "stdout",
     "output_type": "stream",
     "text": [
      "120519.15980529785\n"
     ]
    },
    {
     "name": "stderr",
     "output_type": "stream",
     "text": [
      "100%|█████████████████████████| 263/263 [00:06<00:00, 39.04it/s, D_loss=0.00207, F_loss_=5.02, P_loss=64.5, epoch_=176]\n"
     ]
    },
    {
     "name": "stdout",
     "output_type": "stream",
     "text": [
      "117364.1533203125\n"
     ]
    },
    {
     "name": "stderr",
     "output_type": "stream",
     "text": [
      "100%|███████████████████████████| 272/272 [00:47<00:00,  5.75it/s, D_loss=0.00115, F_loss_=119, P_loss=245, epoch_=177]\n"
     ]
    },
    {
     "name": "stdout",
     "output_type": "stream",
     "text": [
      "116662.8801651001\n"
     ]
    },
    {
     "name": "stderr",
     "output_type": "stream",
     "text": [
      "100%|██████████████████████████| 263/263 [00:06<00:00, 40.62it/s, D_loss=0.00198, F_loss_=6.48, P_loss=427, epoch_=177]\n"
     ]
    },
    {
     "name": "stdout",
     "output_type": "stream",
     "text": [
      "212365.7741394043\n"
     ]
    },
    {
     "name": "stderr",
     "output_type": "stream",
     "text": [
      "100%|████████████████████████████| 272/272 [00:44<00:00,  6.13it/s, D_loss=0.0269, F_loss_=128, P_loss=157, epoch_=178]\n"
     ]
    },
    {
     "name": "stdout",
     "output_type": "stream",
     "text": [
      "117389.0375366211\n"
     ]
    },
    {
     "name": "stderr",
     "output_type": "stream",
     "text": [
      "100%|██████████████████████████| 263/263 [00:06<00:00, 38.50it/s, D_loss=0.00214, F_loss_=10.3, P_loss=398, epoch_=178]\n"
     ]
    },
    {
     "name": "stdout",
     "output_type": "stream",
     "text": [
      "159829.36891174316\n"
     ]
    },
    {
     "name": "stderr",
     "output_type": "stream",
     "text": [
      "100%|████████████████████████| 272/272 [00:45<00:00,  6.01it/s, D_loss=0.000682, F_loss_=93.1, P_loss=49.5, epoch_=179]\n"
     ]
    },
    {
     "name": "stdout",
     "output_type": "stream",
     "text": [
      "127542.19323730469\n"
     ]
    },
    {
     "name": "stderr",
     "output_type": "stream",
     "text": [
      "100%|██████████████████████████| 263/263 [00:06<00:00, 38.34it/s, D_loss=0.00149, F_loss_=96.5, P_loss=324, epoch_=179]\n"
     ]
    },
    {
     "name": "stdout",
     "output_type": "stream",
     "text": [
      "89506.33025741577\n"
     ]
    },
    {
     "name": "stderr",
     "output_type": "stream",
     "text": [
      "100%|██████████████████████████| 272/272 [00:44<00:00,  6.11it/s, D_loss=0.00217, F_loss_=53.2, P_loss=306, epoch_=180]\n"
     ]
    },
    {
     "name": "stdout",
     "output_type": "stream",
     "text": [
      "108248.97203063965\n"
     ]
    },
    {
     "name": "stderr",
     "output_type": "stream",
     "text": [
      "100%|███████████████████████████| 263/263 [00:06<00:00, 38.79it/s, D_loss=0.00306, F_loss_=32.9, P_loss=80, epoch_=180]\n"
     ]
    },
    {
     "name": "stdout",
     "output_type": "stream",
     "text": [
      "94254.8415851593\n",
      "save successfully!\n"
     ]
    },
    {
     "name": "stderr",
     "output_type": "stream",
     "text": [
      "100%|██████████████████████████| 272/272 [00:44<00:00,  6.11it/s, D_loss=0.00319, F_loss_=63.5, P_loss=432, epoch_=181]\n"
     ]
    },
    {
     "name": "stdout",
     "output_type": "stream",
     "text": [
      "108585.63174438477\n"
     ]
    },
    {
     "name": "stderr",
     "output_type": "stream",
     "text": [
      "100%|██████████████████████████| 263/263 [00:06<00:00, 38.74it/s, D_loss=0.00648, F_loss_=36.1, P_loss=390, epoch_=181]\n"
     ]
    },
    {
     "name": "stdout",
     "output_type": "stream",
     "text": [
      "89707.09380340576\n"
     ]
    },
    {
     "name": "stderr",
     "output_type": "stream",
     "text": [
      "100%|█████████████████████████████| 272/272 [00:44<00:00,  6.16it/s, D_loss=0.0026, F_loss_=287, P_loss=91, epoch_=182]\n"
     ]
    },
    {
     "name": "stdout",
     "output_type": "stream",
     "text": [
      "107856.44622802734\n"
     ]
    },
    {
     "name": "stderr",
     "output_type": "stream",
     "text": [
      "100%|█████████████████████████| 263/263 [00:06<00:00, 39.13it/s, D_loss=0.000957, F_loss_=72.7, P_loss=226, epoch_=182]\n"
     ]
    },
    {
     "name": "stdout",
     "output_type": "stream",
     "text": [
      "99449.95244598389\n"
     ]
    },
    {
     "name": "stderr",
     "output_type": "stream",
     "text": [
      "100%|██████████████████████████| 272/272 [00:45<00:00,  6.03it/s, D_loss=0.00423, F_loss_=53.8, P_loss=138, epoch_=183]\n"
     ]
    },
    {
     "name": "stdout",
     "output_type": "stream",
     "text": [
      "138927.49780273438\n"
     ]
    },
    {
     "name": "stderr",
     "output_type": "stream",
     "text": [
      "100%|███████████████████████████| 263/263 [00:06<00:00, 38.75it/s, D_loss=0.0159, F_loss_=72.4, P_loss=325, epoch_=183]\n"
     ]
    },
    {
     "name": "stdout",
     "output_type": "stream",
     "text": [
      "219638.89052391052\n"
     ]
    },
    {
     "name": "stderr",
     "output_type": "stream",
     "text": [
      "100%|█████████████████████████| 272/272 [00:45<00:00,  5.97it/s, D_loss=0.00156, F_loss_=43.8, P_loss=48.2, epoch_=184]\n"
     ]
    },
    {
     "name": "stdout",
     "output_type": "stream",
     "text": [
      "158311.35704040527\n"
     ]
    },
    {
     "name": "stderr",
     "output_type": "stream",
     "text": [
      "100%|██████████████████████████| 263/263 [00:07<00:00, 37.00it/s, D_loss=0.00371, F_loss_=49.9, P_loss=571, epoch_=184]\n"
     ]
    },
    {
     "name": "stdout",
     "output_type": "stream",
     "text": [
      "155260.71967315674\n"
     ]
    },
    {
     "name": "stderr",
     "output_type": "stream",
     "text": [
      "100%|██████████████████████████| 272/272 [00:46<00:00,  5.88it/s, D_loss=0.00429, F_loss_=165, P_loss=89.9, epoch_=185]\n"
     ]
    },
    {
     "name": "stdout",
     "output_type": "stream",
     "text": [
      "106010.42141723633\n"
     ]
    },
    {
     "name": "stderr",
     "output_type": "stream",
     "text": [
      "100%|███████████████████████████| 263/263 [00:07<00:00, 36.65it/s, D_loss=0.000866, F_loss_=26, P_loss=248, epoch_=185]\n"
     ]
    },
    {
     "name": "stdout",
     "output_type": "stream",
     "text": [
      "111396.88675022125\n",
      "save successfully!\n"
     ]
    },
    {
     "name": "stderr",
     "output_type": "stream",
     "text": [
      "100%|███████████████████████████| 272/272 [00:46<00:00,  5.86it/s, D_loss=0.00251, F_loss_=467, P_loss=149, epoch_=186]\n"
     ]
    },
    {
     "name": "stdout",
     "output_type": "stream",
     "text": [
      "111024.95365905762\n"
     ]
    },
    {
     "name": "stderr",
     "output_type": "stream",
     "text": [
      "100%|██████████████████████████| 263/263 [00:07<00:00, 37.12it/s, D_loss=0.00718, F_loss_=82.8, P_loss=233, epoch_=186]\n"
     ]
    },
    {
     "name": "stdout",
     "output_type": "stream",
     "text": [
      "117913.87456321716\n"
     ]
    },
    {
     "name": "stderr",
     "output_type": "stream",
     "text": [
      "100%|█████████████████████████| 272/272 [00:46<00:00,  5.88it/s, D_loss=0.000898, F_loss_=379, P_loss=85.7, epoch_=187]\n"
     ]
    },
    {
     "name": "stdout",
     "output_type": "stream",
     "text": [
      "103297.5406036377\n"
     ]
    },
    {
     "name": "stderr",
     "output_type": "stream",
     "text": [
      "100%|██████████████████████████| 263/263 [00:07<00:00, 37.25it/s, D_loss=0.00415, F_loss_=36.4, P_loss=262, epoch_=187]\n"
     ]
    },
    {
     "name": "stdout",
     "output_type": "stream",
     "text": [
      "88808.17204284668\n"
     ]
    },
    {
     "name": "stderr",
     "output_type": "stream",
     "text": [
      "100%|█████████████████████████| 272/272 [00:45<00:00,  5.92it/s, D_loss=0.00102, F_loss_=37.4, P_loss=7.48, epoch_=188]\n"
     ]
    },
    {
     "name": "stdout",
     "output_type": "stream",
     "text": [
      "98454.54657363892\n"
     ]
    },
    {
     "name": "stderr",
     "output_type": "stream",
     "text": [
      "100%|███████████████████████████| 263/263 [00:07<00:00, 36.87it/s, D_loss=0.00431, F_loss_=112, P_loss=176, epoch_=188]\n"
     ]
    },
    {
     "name": "stdout",
     "output_type": "stream",
     "text": [
      "78019.67281341553\n"
     ]
    },
    {
     "name": "stderr",
     "output_type": "stream",
     "text": [
      "100%|█████████████████████████| 272/272 [00:45<00:00,  6.01it/s, D_loss=0.00142, F_loss_=28.8, P_loss=31.6, epoch_=189]\n"
     ]
    },
    {
     "name": "stdout",
     "output_type": "stream",
     "text": [
      "100475.99660873413\n"
     ]
    },
    {
     "name": "stderr",
     "output_type": "stream",
     "text": [
      "100%|██████████████████████████| 263/263 [00:06<00:00, 38.45it/s, D_loss=0.00174, F_loss_=83.9, P_loss=134, epoch_=189]\n"
     ]
    },
    {
     "name": "stdout",
     "output_type": "stream",
     "text": [
      "77762.04475975037\n"
     ]
    },
    {
     "name": "stderr",
     "output_type": "stream",
     "text": [
      "100%|██████████████████████████| 272/272 [00:45<00:00,  6.03it/s, D_loss=0.00374, F_loss_=65.3, P_loss=116, epoch_=190]\n"
     ]
    },
    {
     "name": "stdout",
     "output_type": "stream",
     "text": [
      "160587.31887817383\n"
     ]
    },
    {
     "name": "stderr",
     "output_type": "stream",
     "text": [
      "100%|███████████████████████████| 263/263 [00:06<00:00, 38.60it/s, D_loss=0.00298, F_loss_=108, P_loss=178, epoch_=190]\n"
     ]
    },
    {
     "name": "stdout",
     "output_type": "stream",
     "text": [
      "88059.6728773117\n",
      "save successfully!\n"
     ]
    },
    {
     "name": "stderr",
     "output_type": "stream",
     "text": [
      "100%|████████████████████████| 272/272 [00:46<00:00,  5.83it/s, D_loss=0.000295, F_loss_=56.8, P_loss=16.6, epoch_=191]\n"
     ]
    },
    {
     "name": "stdout",
     "output_type": "stream",
     "text": [
      "98598.42481994629\n"
     ]
    },
    {
     "name": "stderr",
     "output_type": "stream",
     "text": [
      "100%|█████████████████████████| 263/263 [00:09<00:00, 28.71it/s, D_loss=0.000199, F_loss_=79.6, P_loss=258, epoch_=191]\n"
     ]
    },
    {
     "name": "stdout",
     "output_type": "stream",
     "text": [
      "76299.42256355286\n"
     ]
    },
    {
     "name": "stderr",
     "output_type": "stream",
     "text": [
      "100%|██████████████████████████| 272/272 [00:51<00:00,  5.25it/s, D_loss=0.00493, F_loss_=190, P_loss=53.1, epoch_=192]\n"
     ]
    },
    {
     "name": "stdout",
     "output_type": "stream",
     "text": [
      "105217.9394607544\n"
     ]
    },
    {
     "name": "stderr",
     "output_type": "stream",
     "text": [
      "100%|██████████████████████████| 263/263 [00:07<00:00, 36.85it/s, D_loss=0.00341, F_loss_=60.1, P_loss=122, epoch_=192]\n"
     ]
    },
    {
     "name": "stdout",
     "output_type": "stream",
     "text": [
      "77206.7139749527\n"
     ]
    },
    {
     "name": "stderr",
     "output_type": "stream",
     "text": [
      "100%|██████████████████████████| 272/272 [00:50<00:00,  5.41it/s, D_loss=0.00114, F_loss_=81.3, P_loss=171, epoch_=193]\n"
     ]
    },
    {
     "name": "stdout",
     "output_type": "stream",
     "text": [
      "91317.7716217041\n"
     ]
    },
    {
     "name": "stderr",
     "output_type": "stream",
     "text": [
      "100%|██████████████████████████| 263/263 [00:07<00:00, 33.61it/s, D_loss=0.00132, F_loss_=36.2, P_loss=174, epoch_=193]\n"
     ]
    },
    {
     "name": "stdout",
     "output_type": "stream",
     "text": [
      "65051.5662651062\n"
     ]
    },
    {
     "name": "stderr",
     "output_type": "stream",
     "text": [
      "100%|███████████████████████████| 272/272 [00:49<00:00,  5.44it/s, D_loss=0.00158, F_loss_=294, P_loss=186, epoch_=194]\n"
     ]
    },
    {
     "name": "stdout",
     "output_type": "stream",
     "text": [
      "104213.94396972656\n"
     ]
    },
    {
     "name": "stderr",
     "output_type": "stream",
     "text": [
      "100%|████████████████████████████| 263/263 [00:07<00:00, 33.12it/s, D_loss=0.00124, F_loss_=51, P_loss=968, epoch_=194]\n"
     ]
    },
    {
     "name": "stdout",
     "output_type": "stream",
     "text": [
      "125570.94087600708\n"
     ]
    },
    {
     "name": "stderr",
     "output_type": "stream",
     "text": [
      "100%|██████████████████████████| 272/272 [00:52<00:00,  5.18it/s, D_loss=0.000885, F_loss_=406, P_loss=146, epoch_=195]\n"
     ]
    },
    {
     "name": "stdout",
     "output_type": "stream",
     "text": [
      "144614.11183166504\n"
     ]
    },
    {
     "name": "stderr",
     "output_type": "stream",
     "text": [
      "100%|███████████████████████████| 263/263 [00:08<00:00, 32.55it/s, D_loss=0.0019, F_loss_=52.6, P_loss=532, epoch_=195]\n"
     ]
    },
    {
     "name": "stdout",
     "output_type": "stream",
     "text": [
      "103390.11990737915\n",
      "save successfully!\n"
     ]
    },
    {
     "name": "stderr",
     "output_type": "stream",
     "text": [
      "100%|███████████████████████████| 272/272 [00:51<00:00,  5.29it/s, D_loss=0.00125, F_loss_=108, P_loss=146, epoch_=196]\n"
     ]
    },
    {
     "name": "stdout",
     "output_type": "stream",
     "text": [
      "102610.63276672363\n"
     ]
    },
    {
     "name": "stderr",
     "output_type": "stream",
     "text": [
      "100%|██████████████████████████| 263/263 [00:08<00:00, 31.54it/s, D_loss=0.00129, F_loss_=7.73, P_loss=217, epoch_=196]\n"
     ]
    },
    {
     "name": "stdout",
     "output_type": "stream",
     "text": [
      "135858.46984481812\n"
     ]
    },
    {
     "name": "stderr",
     "output_type": "stream",
     "text": [
      "100%|████████████████████████| 272/272 [00:52<00:00,  5.18it/s, D_loss=0.000245, F_loss_=95.9, P_loss=43.9, epoch_=197]\n"
     ]
    },
    {
     "name": "stdout",
     "output_type": "stream",
     "text": [
      "101380.24703216553\n"
     ]
    },
    {
     "name": "stderr",
     "output_type": "stream",
     "text": [
      "100%|█████████████████████████| 263/263 [00:07<00:00, 33.41it/s, D_loss=0.00107, F_loss_=32.9, P_loss=77.6, epoch_=197]\n"
     ]
    },
    {
     "name": "stdout",
     "output_type": "stream",
     "text": [
      "98270.09913253784\n"
     ]
    },
    {
     "name": "stderr",
     "output_type": "stream",
     "text": [
      "100%|██████████████████████████| 272/272 [00:51<00:00,  5.24it/s, D_loss=0.000288, F_loss_=135, P_loss=605, epoch_=198]\n"
     ]
    },
    {
     "name": "stdout",
     "output_type": "stream",
     "text": [
      "87262.55836486816\n"
     ]
    },
    {
     "name": "stderr",
     "output_type": "stream",
     "text": [
      "100%|█████████████████████| 263/263 [00:08<00:00, 32.66it/s, D_loss=0.000449, F_loss_=6.92, P_loss=1.06e+3, epoch_=198]\n"
     ]
    },
    {
     "name": "stdout",
     "output_type": "stream",
     "text": [
      "175533.54958343506\n"
     ]
    },
    {
     "name": "stderr",
     "output_type": "stream",
     "text": [
      "100%|███████████████████████████| 272/272 [00:51<00:00,  5.28it/s, D_loss=0.00111, F_loss_=650, P_loss=123, epoch_=199]\n"
     ]
    },
    {
     "name": "stdout",
     "output_type": "stream",
     "text": [
      "96375.73287963867\n"
     ]
    },
    {
     "name": "stderr",
     "output_type": "stream",
     "text": [
      "100%|██████████████████████████| 263/263 [00:07<00:00, 34.79it/s, D_loss=0.00472, F_loss_=54.2, P_loss=259, epoch_=199]\n"
     ]
    },
    {
     "name": "stdout",
     "output_type": "stream",
     "text": [
      "123097.5574874878\n"
     ]
    },
    {
     "name": "stderr",
     "output_type": "stream",
     "text": [
      "100%|█████████████████████████| 272/272 [00:50<00:00,  5.36it/s, D_loss=0.00151, F_loss_=94.6, P_loss=35.1, epoch_=200]\n"
     ]
    },
    {
     "name": "stdout",
     "output_type": "stream",
     "text": [
      "86982.3736038208\n"
     ]
    },
    {
     "name": "stderr",
     "output_type": "stream",
     "text": [
      "100%|█████████████████████████| 263/263 [00:08<00:00, 32.47it/s, D_loss=0.000718, F_loss_=56.3, P_loss=170, epoch_=200]\n"
     ]
    },
    {
     "name": "stdout",
     "output_type": "stream",
     "text": [
      "62282.98825836182\n",
      "save successfully!\n"
     ]
    },
    {
     "name": "stderr",
     "output_type": "stream",
     "text": [
      "100%|██████████████████████████| 272/272 [00:50<00:00,  5.38it/s, D_loss=0.00174, F_loss_=184, P_loss=68.3, epoch_=201]\n"
     ]
    },
    {
     "name": "stdout",
     "output_type": "stream",
     "text": [
      "95404.5718383789\n"
     ]
    },
    {
     "name": "stderr",
     "output_type": "stream",
     "text": [
      "100%|██████████████████████████| 263/263 [00:07<00:00, 33.45it/s, D_loss=0.00199, F_loss_=40.5, P_loss=107, epoch_=201]\n"
     ]
    },
    {
     "name": "stdout",
     "output_type": "stream",
     "text": [
      "64366.81575679779\n"
     ]
    },
    {
     "name": "stderr",
     "output_type": "stream",
     "text": [
      "100%|████████████████████████| 272/272 [00:50<00:00,  5.34it/s, D_loss=0.000929, F_loss_=87.9, P_loss=52.8, epoch_=202]\n"
     ]
    },
    {
     "name": "stdout",
     "output_type": "stream",
     "text": [
      "90889.4373626709\n"
     ]
    },
    {
     "name": "stderr",
     "output_type": "stream",
     "text": [
      "100%|██████████████████████████| 263/263 [00:07<00:00, 32.95it/s, D_loss=0.00164, F_loss_=48.6, P_loss=187, epoch_=202]\n"
     ]
    },
    {
     "name": "stdout",
     "output_type": "stream",
     "text": [
      "79396.87483596802\n"
     ]
    },
    {
     "name": "stderr",
     "output_type": "stream",
     "text": [
      "100%|██████████████████████████| 272/272 [00:50<00:00,  5.35it/s, D_loss=0.00539, F_loss_=30.8, P_loss=123, epoch_=203]\n"
     ]
    },
    {
     "name": "stdout",
     "output_type": "stream",
     "text": [
      "101214.18544006348\n"
     ]
    },
    {
     "name": "stderr",
     "output_type": "stream",
     "text": [
      "100%|█████████████████████████| 263/263 [00:08<00:00, 32.69it/s, D_loss=0.000865, F_loss_=57.8, P_loss=222, epoch_=203]\n"
     ]
    },
    {
     "name": "stdout",
     "output_type": "stream",
     "text": [
      "120629.88533973694\n"
     ]
    },
    {
     "name": "stderr",
     "output_type": "stream",
     "text": [
      "100%|███████████████████████████| 272/272 [00:50<00:00,  5.35it/s, D_loss=0.00307, F_loss_=734, P_loss=123, epoch_=204]\n"
     ]
    },
    {
     "name": "stdout",
     "output_type": "stream",
     "text": [
      "95052.07202911377\n"
     ]
    },
    {
     "name": "stderr",
     "output_type": "stream",
     "text": [
      "100%|████████████████████████████| 263/263 [00:07<00:00, 33.76it/s, D_loss=0.00248, F_loss_=89, P_loss=197, epoch_=204]\n"
     ]
    },
    {
     "name": "stdout",
     "output_type": "stream",
     "text": [
      "107174.86895751953\n"
     ]
    },
    {
     "name": "stderr",
     "output_type": "stream",
     "text": [
      "100%|█████████████████████████| 272/272 [00:49<00:00,  5.54it/s, D_loss=0.000236, F_loss_=204, P_loss=39.1, epoch_=205]\n"
     ]
    },
    {
     "name": "stdout",
     "output_type": "stream",
     "text": [
      "97502.64157104492\n"
     ]
    },
    {
     "name": "stderr",
     "output_type": "stream",
     "text": [
      "100%|███████████████████████████| 263/263 [00:07<00:00, 34.33it/s, D_loss=0.00454, F_loss_=106, P_loss=465, epoch_=205]\n"
     ]
    },
    {
     "name": "stdout",
     "output_type": "stream",
     "text": [
      "140698.43311309814\n",
      "save successfully!\n"
     ]
    },
    {
     "name": "stderr",
     "output_type": "stream",
     "text": [
      "100%|███████████████████████████| 272/272 [00:49<00:00,  5.50it/s, D_loss=0.00122, F_loss_=739, P_loss=352, epoch_=206]\n"
     ]
    },
    {
     "name": "stdout",
     "output_type": "stream",
     "text": [
      "88153.55639648438\n"
     ]
    },
    {
     "name": "stderr",
     "output_type": "stream",
     "text": [
      "100%|██████████████████████████| 263/263 [00:07<00:00, 33.62it/s, D_loss=0.00224, F_loss_=74.5, P_loss=227, epoch_=206]\n"
     ]
    },
    {
     "name": "stdout",
     "output_type": "stream",
     "text": [
      "101484.54183197021\n"
     ]
    },
    {
     "name": "stderr",
     "output_type": "stream",
     "text": [
      "100%|███████████████████████████| 272/272 [00:49<00:00,  5.52it/s, D_loss=0.000221, F_loss_=195, P_loss=46, epoch_=207]\n"
     ]
    },
    {
     "name": "stdout",
     "output_type": "stream",
     "text": [
      "107014.8095703125\n"
     ]
    },
    {
     "name": "stderr",
     "output_type": "stream",
     "text": [
      "100%|█████████████████████████| 263/263 [00:07<00:00, 34.51it/s, D_loss=0.000381, F_loss_=42.2, P_loss=136, epoch_=207]\n"
     ]
    },
    {
     "name": "stdout",
     "output_type": "stream",
     "text": [
      "99458.1273021698\n"
     ]
    },
    {
     "name": "stderr",
     "output_type": "stream",
     "text": [
      "100%|██████████████████████████| 272/272 [00:49<00:00,  5.52it/s, D_loss=0.000376, F_loss_=141, P_loss=994, epoch_=208]\n"
     ]
    },
    {
     "name": "stdout",
     "output_type": "stream",
     "text": [
      "84075.3751373291\n"
     ]
    },
    {
     "name": "stderr",
     "output_type": "stream",
     "text": [
      "100%|██████████████████████| 263/263 [00:07<00:00, 34.47it/s, D_loss=0.00262, F_loss_=61.3, P_loss=1.53e+3, epoch_=208]\n"
     ]
    },
    {
     "name": "stdout",
     "output_type": "stream",
     "text": [
      "440133.79193115234\n"
     ]
    },
    {
     "name": "stderr",
     "output_type": "stream",
     "text": [
      "100%|█████████████████████████████| 272/272 [00:49<00:00,  5.53it/s, D_loss=0.0014, F_loss_=178, P_loss=34, epoch_=209]\n"
     ]
    },
    {
     "name": "stdout",
     "output_type": "stream",
     "text": [
      "103357.99507904053\n"
     ]
    },
    {
     "name": "stderr",
     "output_type": "stream",
     "text": [
      "100%|█████████████████████████| 263/263 [00:07<00:00, 33.54it/s, D_loss=0.000363, F_loss_=41.6, P_loss=165, epoch_=209]\n"
     ]
    },
    {
     "name": "stdout",
     "output_type": "stream",
     "text": [
      "68093.86498069763\n"
     ]
    },
    {
     "name": "stderr",
     "output_type": "stream",
     "text": [
      "100%|██████████████████████████| 272/272 [00:51<00:00,  5.32it/s, D_loss=0.00118, F_loss_=221, P_loss=10.2, epoch_=210]\n"
     ]
    },
    {
     "name": "stdout",
     "output_type": "stream",
     "text": [
      "92810.60036468506\n"
     ]
    },
    {
     "name": "stderr",
     "output_type": "stream",
     "text": [
      "100%|█████████████████████████| 263/263 [00:07<00:00, 33.11it/s, D_loss=0.000764, F_loss_=67.1, P_loss=107, epoch_=210]\n"
     ]
    },
    {
     "name": "stdout",
     "output_type": "stream",
     "text": [
      "64227.939312934875\n",
      "save successfully!\n"
     ]
    },
    {
     "name": "stderr",
     "output_type": "stream",
     "text": [
      "100%|██████████████████████████| 272/272 [00:51<00:00,  5.32it/s, D_loss=0.000757, F_loss_=426, P_loss=122, epoch_=211]\n"
     ]
    },
    {
     "name": "stdout",
     "output_type": "stream",
     "text": [
      "91800.83726501465\n"
     ]
    },
    {
     "name": "stderr",
     "output_type": "stream",
     "text": [
      "100%|███████████████████████████| 263/263 [00:07<00:00, 34.19it/s, D_loss=0.00105, F_loss_=126, P_loss=376, epoch_=211]\n"
     ]
    },
    {
     "name": "stdout",
     "output_type": "stream",
     "text": [
      "85014.18216323853\n"
     ]
    },
    {
     "name": "stderr",
     "output_type": "stream",
     "text": [
      "100%|██████████████████████████| 272/272 [00:50<00:00,  5.33it/s, D_loss=0.00138, F_loss_=62.1, P_loss=224, epoch_=212]\n"
     ]
    },
    {
     "name": "stdout",
     "output_type": "stream",
     "text": [
      "88463.23101043701\n"
     ]
    },
    {
     "name": "stderr",
     "output_type": "stream",
     "text": [
      "100%|██████████████████████████| 263/263 [00:07<00:00, 35.47it/s, D_loss=0.00229, F_loss_=107, P_loss=75.8, epoch_=212]\n"
     ]
    },
    {
     "name": "stdout",
     "output_type": "stream",
     "text": [
      "84269.25053024292\n"
     ]
    },
    {
     "name": "stderr",
     "output_type": "stream",
     "text": [
      "100%|██████████████████████████| 272/272 [00:53<00:00,  5.11it/s, D_loss=0.00103, F_loss_=245, P_loss=29.5, epoch_=213]\n"
     ]
    },
    {
     "name": "stdout",
     "output_type": "stream",
     "text": [
      "93932.35024261475\n"
     ]
    },
    {
     "name": "stderr",
     "output_type": "stream",
     "text": [
      "100%|█████████████████████████| 263/263 [00:07<00:00, 35.01it/s, D_loss=0.00163, F_loss_=30.5, P_loss=42.8, epoch_=213]\n"
     ]
    },
    {
     "name": "stdout",
     "output_type": "stream",
     "text": [
      "74988.73437738419\n"
     ]
    },
    {
     "name": "stderr",
     "output_type": "stream",
     "text": [
      "100%|██████████████████████████| 272/272 [00:53<00:00,  5.11it/s, D_loss=0.000179, F_loss_=96.1, P_loss=77, epoch_=214]\n"
     ]
    },
    {
     "name": "stdout",
     "output_type": "stream",
     "text": [
      "88270.0768737793\n"
     ]
    },
    {
     "name": "stderr",
     "output_type": "stream",
     "text": [
      "100%|████████████████████████| 263/263 [00:08<00:00, 30.31it/s, D_loss=0.000402, F_loss_=69.7, P_loss=55.8, epoch_=214]\n"
     ]
    },
    {
     "name": "stdout",
     "output_type": "stream",
     "text": [
      "65809.29301738739\n"
     ]
    },
    {
     "name": "stderr",
     "output_type": "stream",
     "text": [
      "100%|████████████████████████| 272/272 [00:52<00:00,  5.19it/s, D_loss=0.000464, F_loss_=11.4, P_loss=18.1, epoch_=215]\n"
     ]
    },
    {
     "name": "stdout",
     "output_type": "stream",
     "text": [
      "91632.31809043884\n"
     ]
    },
    {
     "name": "stderr",
     "output_type": "stream",
     "text": [
      "100%|██████████████████████████| 263/263 [00:07<00:00, 34.29it/s, D_loss=0.000308, F_loss_=122, P_loss=341, epoch_=215]\n"
     ]
    },
    {
     "name": "stdout",
     "output_type": "stream",
     "text": [
      "84634.07078552246\n",
      "save successfully!\n"
     ]
    },
    {
     "name": "stderr",
     "output_type": "stream",
     "text": [
      "100%|██████████████████████████| 272/272 [00:49<00:00,  5.49it/s, D_loss=0.000651, F_loss_=114, P_loss=328, epoch_=216]\n"
     ]
    },
    {
     "name": "stdout",
     "output_type": "stream",
     "text": [
      "88100.22695922852\n"
     ]
    },
    {
     "name": "stderr",
     "output_type": "stream",
     "text": [
      "100%|███████████████████████| 263/263 [00:07<00:00, 37.17it/s, D_loss=0.00103, F_loss_=103, P_loss=1.06e+3, epoch_=216]\n"
     ]
    },
    {
     "name": "stdout",
     "output_type": "stream",
     "text": [
      "185596.45583343506\n"
     ]
    },
    {
     "name": "stderr",
     "output_type": "stream",
     "text": [
      "100%|█████████████████████████| 272/272 [00:47<00:00,  5.71it/s, D_loss=0.000647, F_loss_=74.8, P_loss=321, epoch_=217]\n"
     ]
    },
    {
     "name": "stdout",
     "output_type": "stream",
     "text": [
      "95223.97330474854\n"
     ]
    },
    {
     "name": "stderr",
     "output_type": "stream",
     "text": [
      "100%|██████████████████████████| 263/263 [00:07<00:00, 35.68it/s, D_loss=0.00019, F_loss_=14.6, P_loss=172, epoch_=217]\n"
     ]
    },
    {
     "name": "stdout",
     "output_type": "stream",
     "text": [
      "112740.3437423706\n"
     ]
    },
    {
     "name": "stderr",
     "output_type": "stream",
     "text": [
      "100%|██████████████████████████| 272/272 [00:47<00:00,  5.75it/s, D_loss=0.000478, F_loss_=197, P_loss=327, epoch_=218]\n"
     ]
    },
    {
     "name": "stdout",
     "output_type": "stream",
     "text": [
      "84838.20612335205\n"
     ]
    },
    {
     "name": "stderr",
     "output_type": "stream",
     "text": [
      "100%|████████████████████████| 263/263 [00:07<00:00, 36.03it/s, D_loss=0.000404, F_loss_=54.3, P_loss=28.9, epoch_=218]\n"
     ]
    },
    {
     "name": "stdout",
     "output_type": "stream",
     "text": [
      "82591.87462997437\n"
     ]
    },
    {
     "name": "stderr",
     "output_type": "stream",
     "text": [
      "100%|███████████████████████████| 272/272 [00:46<00:00,  5.86it/s, D_loss=0.00123, F_loss_=4.41, P_loss=63, epoch_=219]\n"
     ]
    },
    {
     "name": "stdout",
     "output_type": "stream",
     "text": [
      "84152.0876083374\n"
     ]
    },
    {
     "name": "stderr",
     "output_type": "stream",
     "text": [
      "100%|█████████████████████████| 263/263 [00:06<00:00, 38.42it/s, D_loss=0.000131, F_loss_=38.9, P_loss=707, epoch_=219]\n"
     ]
    },
    {
     "name": "stdout",
     "output_type": "stream",
     "text": [
      "246512.49813842773\n"
     ]
    },
    {
     "name": "stderr",
     "output_type": "stream",
     "text": [
      "100%|█████████████████████████| 272/272 [00:47<00:00,  5.76it/s, D_loss=0.00134, F_loss_=85.9, P_loss=69.3, epoch_=220]\n"
     ]
    },
    {
     "name": "stdout",
     "output_type": "stream",
     "text": [
      "86972.19180297852\n"
     ]
    },
    {
     "name": "stderr",
     "output_type": "stream",
     "text": [
      "100%|████████████████████████| 263/263 [00:07<00:00, 37.48it/s, D_loss=0.000674, F_loss_=62.9, P_loss=83.5, epoch_=220]\n"
     ]
    },
    {
     "name": "stdout",
     "output_type": "stream",
     "text": [
      "81578.97065162659\n",
      "save successfully!\n"
     ]
    },
    {
     "name": "stderr",
     "output_type": "stream",
     "text": [
      "100%|█████████████████████████| 272/272 [00:49<00:00,  5.54it/s, D_loss=0.000261, F_loss_=410, P_loss=52.5, epoch_=221]\n"
     ]
    },
    {
     "name": "stdout",
     "output_type": "stream",
     "text": [
      "79912.57063293457\n"
     ]
    },
    {
     "name": "stderr",
     "output_type": "stream",
     "text": [
      "100%|█████████████████████████| 263/263 [00:07<00:00, 35.84it/s, D_loss=0.000778, F_loss_=63.2, P_loss=154, epoch_=221]\n"
     ]
    },
    {
     "name": "stdout",
     "output_type": "stream",
     "text": [
      "168002.60772132874\n"
     ]
    },
    {
     "name": "stderr",
     "output_type": "stream",
     "text": [
      "100%|████████████████████████████| 272/272 [00:48<00:00,  5.59it/s, D_loss=0.0017, F_loss_=102, P_loss=144, epoch_=222]\n"
     ]
    },
    {
     "name": "stdout",
     "output_type": "stream",
     "text": [
      "83450.58042144775\n"
     ]
    },
    {
     "name": "stderr",
     "output_type": "stream",
     "text": [
      "100%|█████████████████████████| 263/263 [00:07<00:00, 37.30it/s, D_loss=0.00119, F_loss_=67.7, P_loss=88.3, epoch_=222]\n"
     ]
    },
    {
     "name": "stdout",
     "output_type": "stream",
     "text": [
      "78357.39080429077\n"
     ]
    },
    {
     "name": "stderr",
     "output_type": "stream",
     "text": [
      "100%|█████████████████████████| 272/272 [00:47<00:00,  5.68it/s, D_loss=0.000385, F_loss_=74.5, P_loss=125, epoch_=223]\n"
     ]
    },
    {
     "name": "stdout",
     "output_type": "stream",
     "text": [
      "83274.13429260254\n"
     ]
    },
    {
     "name": "stderr",
     "output_type": "stream",
     "text": [
      "100%|█████████████████████████| 263/263 [00:06<00:00, 38.06it/s, D_loss=0.000317, F_loss_=45.4, P_loss=532, epoch_=223]\n"
     ]
    },
    {
     "name": "stdout",
     "output_type": "stream",
     "text": [
      "171288.35624694824\n"
     ]
    },
    {
     "name": "stderr",
     "output_type": "stream",
     "text": [
      "100%|█████████████████████████| 272/272 [00:48<00:00,  5.55it/s, D_loss=0.00158, F_loss_=55.1, P_loss=49.1, epoch_=224]\n"
     ]
    },
    {
     "name": "stdout",
     "output_type": "stream",
     "text": [
      "88309.66540527344\n"
     ]
    },
    {
     "name": "stderr",
     "output_type": "stream",
     "text": [
      "100%|███████████████████████████| 263/263 [00:07<00:00, 35.43it/s, D_loss=0.00542, F_loss_=165, P_loss=142, epoch_=224]\n"
     ]
    },
    {
     "name": "stdout",
     "output_type": "stream",
     "text": [
      "76902.26022338867\n"
     ]
    },
    {
     "name": "stderr",
     "output_type": "stream",
     "text": [
      "100%|█████████████████████████| 272/272 [00:49<00:00,  5.52it/s, D_loss=0.000664, F_loss_=192, P_loss=47.5, epoch_=225]\n"
     ]
    },
    {
     "name": "stdout",
     "output_type": "stream",
     "text": [
      "74836.79885864258\n"
     ]
    },
    {
     "name": "stderr",
     "output_type": "stream",
     "text": [
      "100%|██████████████████████████| 263/263 [00:07<00:00, 36.72it/s, D_loss=0.00073, F_loss_=1.47, P_loss=422, epoch_=225]\n"
     ]
    },
    {
     "name": "stdout",
     "output_type": "stream",
     "text": [
      "123483.27431106567\n",
      "save successfully!\n"
     ]
    },
    {
     "name": "stderr",
     "output_type": "stream",
     "text": [
      "100%|█████████████████████████| 272/272 [00:47<00:00,  5.72it/s, D_loss=0.000181, F_loss_=145, P_loss=55.3, epoch_=226]\n"
     ]
    },
    {
     "name": "stdout",
     "output_type": "stream",
     "text": [
      "119276.66033172607\n"
     ]
    },
    {
     "name": "stderr",
     "output_type": "stream",
     "text": [
      "100%|█████████████████████████| 263/263 [00:07<00:00, 37.23it/s, D_loss=0.00124, F_loss_=67.5, P_loss=44.7, epoch_=226]\n"
     ]
    },
    {
     "name": "stdout",
     "output_type": "stream",
     "text": [
      "57823.511070251465\n"
     ]
    },
    {
     "name": "stderr",
     "output_type": "stream",
     "text": [
      "100%|█████████████████████████| 272/272 [00:48<00:00,  5.64it/s, D_loss=0.000721, F_loss_=505, P_loss=22.4, epoch_=227]\n"
     ]
    },
    {
     "name": "stdout",
     "output_type": "stream",
     "text": [
      "83040.1213684082\n"
     ]
    },
    {
     "name": "stderr",
     "output_type": "stream",
     "text": [
      "100%|█████████████████████████| 263/263 [00:07<00:00, 35.68it/s, D_loss=0.000801, F_loss_=74.2, P_loss=174, epoch_=227]\n"
     ]
    },
    {
     "name": "stdout",
     "output_type": "stream",
     "text": [
      "68827.39671707153\n"
     ]
    },
    {
     "name": "stderr",
     "output_type": "stream",
     "text": [
      "100%|███████████████████████████| 272/272 [00:49<00:00,  5.54it/s, D_loss=0.00183, F_loss_=139, P_loss=121, epoch_=228]\n"
     ]
    },
    {
     "name": "stdout",
     "output_type": "stream",
     "text": [
      "79293.87517547607\n"
     ]
    },
    {
     "name": "stderr",
     "output_type": "stream",
     "text": [
      "100%|██████████████████████████| 263/263 [00:07<00:00, 33.97it/s, D_loss=0.00118, F_loss_=61.4, P_loss=295, epoch_=228]\n"
     ]
    },
    {
     "name": "stdout",
     "output_type": "stream",
     "text": [
      "78821.30928993225\n"
     ]
    },
    {
     "name": "stderr",
     "output_type": "stream",
     "text": [
      "100%|█████████████████████████| 272/272 [00:48<00:00,  5.60it/s, D_loss=0.000468, F_loss_=109, P_loss=21.2, epoch_=229]\n"
     ]
    },
    {
     "name": "stdout",
     "output_type": "stream",
     "text": [
      "89176.93865966797\n"
     ]
    },
    {
     "name": "stderr",
     "output_type": "stream",
     "text": [
      "100%|█████████████████████████| 263/263 [00:07<00:00, 35.51it/s, D_loss=0.000228, F_loss_=92.5, P_loss=179, epoch_=229]\n"
     ]
    },
    {
     "name": "stdout",
     "output_type": "stream",
     "text": [
      "92860.1079788208\n"
     ]
    },
    {
     "name": "stderr",
     "output_type": "stream",
     "text": [
      "100%|████████████████████████| 272/272 [00:48<00:00,  5.66it/s, D_loss=0.000217, F_loss_=28.1, P_loss=17.8, epoch_=230]\n"
     ]
    },
    {
     "name": "stdout",
     "output_type": "stream",
     "text": [
      "77420.95557785034\n"
     ]
    },
    {
     "name": "stderr",
     "output_type": "stream",
     "text": [
      "100%|█████████████████████████| 263/263 [00:07<00:00, 35.84it/s, D_loss=0.00244, F_loss_=42.7, P_loss=52.2, epoch_=230]\n"
     ]
    },
    {
     "name": "stdout",
     "output_type": "stream",
     "text": [
      "59805.521887779236\n",
      "save successfully!\n"
     ]
    },
    {
     "name": "stderr",
     "output_type": "stream",
     "text": [
      "100%|█████████████████████████| 272/272 [00:48<00:00,  5.62it/s, D_loss=0.000212, F_loss_=22.9, P_loss=140, epoch_=231]\n"
     ]
    },
    {
     "name": "stdout",
     "output_type": "stream",
     "text": [
      "114311.25193786621\n"
     ]
    },
    {
     "name": "stderr",
     "output_type": "stream",
     "text": [
      "100%|█████████████████████████| 263/263 [00:06<00:00, 37.74it/s, D_loss=0.000103, F_loss_=73.1, P_loss=382, epoch_=231]\n"
     ]
    },
    {
     "name": "stdout",
     "output_type": "stream",
     "text": [
      "79394.21688842773\n"
     ]
    },
    {
     "name": "stderr",
     "output_type": "stream",
     "text": [
      "100%|██████████████████████████| 272/272 [00:46<00:00,  5.80it/s, D_loss=0.000265, F_loss_=223, P_loss=119, epoch_=232]\n"
     ]
    },
    {
     "name": "stdout",
     "output_type": "stream",
     "text": [
      "99773.54791259766\n"
     ]
    },
    {
     "name": "stderr",
     "output_type": "stream",
     "text": [
      "100%|████████████████████████| 263/263 [00:07<00:00, 37.56it/s, D_loss=0.000225, F_loss_=67.1, P_loss=62.4, epoch_=232]\n"
     ]
    },
    {
     "name": "stdout",
     "output_type": "stream",
     "text": [
      "76124.35367774963\n"
     ]
    },
    {
     "name": "stderr",
     "output_type": "stream",
     "text": [
      "100%|██████████████████████████| 272/272 [00:46<00:00,  5.79it/s, D_loss=0.000811, F_loss_=319, P_loss=147, epoch_=233]\n"
     ]
    },
    {
     "name": "stdout",
     "output_type": "stream",
     "text": [
      "70375.61708831787\n"
     ]
    },
    {
     "name": "stderr",
     "output_type": "stream",
     "text": [
      "100%|████████████████████████| 263/263 [00:06<00:00, 37.67it/s, D_loss=0.000815, F_loss_=37.5, P_loss=97.5, epoch_=233]\n"
     ]
    },
    {
     "name": "stdout",
     "output_type": "stream",
     "text": [
      "65363.28022861481\n"
     ]
    },
    {
     "name": "stderr",
     "output_type": "stream",
     "text": [
      "100%|█████████████████████████| 272/272 [00:46<00:00,  5.80it/s, D_loss=0.000674, F_loss_=36.7, P_loss=205, epoch_=234]\n"
     ]
    },
    {
     "name": "stdout",
     "output_type": "stream",
     "text": [
      "72297.22714996338\n"
     ]
    },
    {
     "name": "stderr",
     "output_type": "stream",
     "text": [
      "100%|█████████████████████████| 263/263 [00:06<00:00, 38.22it/s, D_loss=0.000422, F_loss_=38.5, P_loss=204, epoch_=234]\n"
     ]
    },
    {
     "name": "stdout",
     "output_type": "stream",
     "text": [
      "75763.64390182495\n"
     ]
    },
    {
     "name": "stderr",
     "output_type": "stream",
     "text": [
      "100%|███████████████████████████| 272/272 [00:47<00:00,  5.76it/s, D_loss=0.00174, F_loss_=293, P_loss=149, epoch_=235]\n"
     ]
    },
    {
     "name": "stdout",
     "output_type": "stream",
     "text": [
      "80304.95483398438\n"
     ]
    },
    {
     "name": "stderr",
     "output_type": "stream",
     "text": [
      "100%|██████████████████████████| 263/263 [00:06<00:00, 37.80it/s, D_loss=0.000274, F_loss_=151, P_loss=219, epoch_=235]\n"
     ]
    },
    {
     "name": "stdout",
     "output_type": "stream",
     "text": [
      "91069.64942932129\n",
      "save successfully!\n"
     ]
    },
    {
     "name": "stderr",
     "output_type": "stream",
     "text": [
      "100%|██████████████████████████| 272/272 [00:47<00:00,  5.75it/s, D_loss=0.00048, F_loss_=83.2, P_loss=241, epoch_=236]\n"
     ]
    },
    {
     "name": "stdout",
     "output_type": "stream",
     "text": [
      "89436.96203613281\n"
     ]
    },
    {
     "name": "stderr",
     "output_type": "stream",
     "text": [
      "100%|██████████████████████████| 263/263 [00:07<00:00, 37.43it/s, D_loss=0.000363, F_loss_=129, P_loss=266, epoch_=236]\n"
     ]
    },
    {
     "name": "stdout",
     "output_type": "stream",
     "text": [
      "85097.268409729\n"
     ]
    },
    {
     "name": "stderr",
     "output_type": "stream",
     "text": [
      "100%|██████████████████████████| 272/272 [00:46<00:00,  5.87it/s, D_loss=0.000549, F_loss_=105, P_loss=417, epoch_=237]\n"
     ]
    },
    {
     "name": "stdout",
     "output_type": "stream",
     "text": [
      "86552.44850158691\n"
     ]
    },
    {
     "name": "stderr",
     "output_type": "stream",
     "text": [
      "100%|█████████████████████████| 263/263 [00:07<00:00, 37.33it/s, D_loss=0.000199, F_loss_=90.9, P_loss=104, epoch_=237]\n"
     ]
    },
    {
     "name": "stdout",
     "output_type": "stream",
     "text": [
      "76610.69762802124\n"
     ]
    },
    {
     "name": "stderr",
     "output_type": "stream",
     "text": [
      "100%|████████████████████████| 272/272 [00:48<00:00,  5.56it/s, D_loss=0.000751, F_loss_=73.9, P_loss=30.5, epoch_=238]\n"
     ]
    },
    {
     "name": "stdout",
     "output_type": "stream",
     "text": [
      "79150.93782043457\n"
     ]
    },
    {
     "name": "stderr",
     "output_type": "stream",
     "text": [
      "100%|█████████████████████████| 263/263 [00:07<00:00, 35.74it/s, D_loss=0.000729, F_loss_=17.8, P_loss=273, epoch_=238]\n"
     ]
    },
    {
     "name": "stdout",
     "output_type": "stream",
     "text": [
      "120848.35565948486\n"
     ]
    },
    {
     "name": "stderr",
     "output_type": "stream",
     "text": [
      "100%|██████████████████████████| 272/272 [00:48<00:00,  5.65it/s, D_loss=0.000123, F_loss_=543, P_loss=184, epoch_=239]\n"
     ]
    },
    {
     "name": "stdout",
     "output_type": "stream",
     "text": [
      "80773.84023284912\n"
     ]
    },
    {
     "name": "stderr",
     "output_type": "stream",
     "text": [
      "100%|█████████████████████████| 263/263 [00:07<00:00, 35.21it/s, D_loss=0.000698, F_loss_=14.7, P_loss=446, epoch_=239]\n"
     ]
    },
    {
     "name": "stdout",
     "output_type": "stream",
     "text": [
      "94682.72526550293\n"
     ]
    },
    {
     "name": "stderr",
     "output_type": "stream",
     "text": [
      "100%|█████████████████████████| 272/272 [00:47<00:00,  5.68it/s, D_loss=0.000603, F_loss_=134, P_loss=84.1, epoch_=240]\n"
     ]
    },
    {
     "name": "stdout",
     "output_type": "stream",
     "text": [
      "79659.31999206543\n"
     ]
    },
    {
     "name": "stderr",
     "output_type": "stream",
     "text": [
      "100%|████████████████████████| 263/263 [00:07<00:00, 35.41it/s, D_loss=0.000108, F_loss_=11.6, P_loss=81.8, epoch_=240]\n"
     ]
    },
    {
     "name": "stdout",
     "output_type": "stream",
     "text": [
      "68890.9843006134\n",
      "save successfully!\n"
     ]
    },
    {
     "name": "stderr",
     "output_type": "stream",
     "text": [
      "100%|█████████████████████████| 272/272 [00:47<00:00,  5.72it/s, D_loss=0.000301, F_loss_=147, P_loss=23.2, epoch_=241]\n"
     ]
    },
    {
     "name": "stdout",
     "output_type": "stream",
     "text": [
      "70322.77830505371\n"
     ]
    },
    {
     "name": "stderr",
     "output_type": "stream",
     "text": [
      "100%|██████████████████████████| 263/263 [00:07<00:00, 36.65it/s, D_loss=0.000137, F_loss_=96, P_loss=58.9, epoch_=241]\n"
     ]
    },
    {
     "name": "stdout",
     "output_type": "stream",
     "text": [
      "71736.03809833527\n"
     ]
    },
    {
     "name": "stderr",
     "output_type": "stream",
     "text": [
      "100%|█████████████████████████| 272/272 [00:48<00:00,  5.63it/s, D_loss=0.000157, F_loss_=34.7, P_loss=102, epoch_=242]\n"
     ]
    },
    {
     "name": "stdout",
     "output_type": "stream",
     "text": [
      "72540.14112854004\n"
     ]
    },
    {
     "name": "stderr",
     "output_type": "stream",
     "text": [
      "100%|█████████████████████████| 263/263 [00:07<00:00, 35.47it/s, D_loss=0.000432, F_loss_=71.7, P_loss=141, epoch_=242]\n"
     ]
    },
    {
     "name": "stdout",
     "output_type": "stream",
     "text": [
      "57955.00489115715\n"
     ]
    },
    {
     "name": "stderr",
     "output_type": "stream",
     "text": [
      "100%|████████████████████████| 272/272 [00:47<00:00,  5.69it/s, D_loss=0.000347, F_loss_=90.9, P_loss=27.2, epoch_=243]\n"
     ]
    },
    {
     "name": "stdout",
     "output_type": "stream",
     "text": [
      "70475.20251464844\n"
     ]
    },
    {
     "name": "stderr",
     "output_type": "stream",
     "text": [
      "100%|█████████████████████████| 263/263 [00:07<00:00, 35.38it/s, D_loss=0.00101, F_loss_=94.7, P_loss=12.5, epoch_=243]\n"
     ]
    },
    {
     "name": "stdout",
     "output_type": "stream",
     "text": [
      "66166.30505752563\n"
     ]
    },
    {
     "name": "stderr",
     "output_type": "stream",
     "text": [
      "100%|█████████████████████████| 272/272 [00:48<00:00,  5.63it/s, D_loss=0.000185, F_loss_=3.2, P_loss=59.6, epoch_=244]\n"
     ]
    },
    {
     "name": "stdout",
     "output_type": "stream",
     "text": [
      "81831.68370819092\n"
     ]
    },
    {
     "name": "stderr",
     "output_type": "stream",
     "text": [
      "100%|█████████████████████████| 263/263 [00:07<00:00, 34.62it/s, D_loss=0.000287, F_loss_=27.7, P_loss=152, epoch_=244]\n"
     ]
    },
    {
     "name": "stdout",
     "output_type": "stream",
     "text": [
      "73549.66036605835\n"
     ]
    },
    {
     "name": "stderr",
     "output_type": "stream",
     "text": [
      "100%|███████████████████████████| 272/272 [00:47<00:00,  5.68it/s, D_loss=0.00155, F_loss_=118, P_loss=123, epoch_=245]\n"
     ]
    },
    {
     "name": "stdout",
     "output_type": "stream",
     "text": [
      "77215.157497406\n"
     ]
    },
    {
     "name": "stderr",
     "output_type": "stream",
     "text": [
      "100%|█████████████████████████| 263/263 [00:07<00:00, 35.97it/s, D_loss=0.000644, F_loss_=44.2, P_loss=156, epoch_=245]\n"
     ]
    },
    {
     "name": "stdout",
     "output_type": "stream",
     "text": [
      "72833.87775611877\n",
      "save successfully!\n"
     ]
    },
    {
     "name": "stderr",
     "output_type": "stream",
     "text": [
      "100%|█████████████████████████| 272/272 [00:47<00:00,  5.78it/s, D_loss=0.000485, F_loss_=134, P_loss=62.8, epoch_=246]\n"
     ]
    },
    {
     "name": "stdout",
     "output_type": "stream",
     "text": [
      "82828.63182067871\n"
     ]
    },
    {
     "name": "stderr",
     "output_type": "stream",
     "text": [
      "100%|████████████████████████████| 263/263 [00:06<00:00, 38.07it/s, D_loss=0.00172, F_loss_=115, P_loss=43, epoch_=246]\n"
     ]
    },
    {
     "name": "stdout",
     "output_type": "stream",
     "text": [
      "62272.479365348816\n"
     ]
    },
    {
     "name": "stderr",
     "output_type": "stream",
     "text": [
      "100%|███████████████████████████| 272/272 [00:47<00:00,  5.77it/s, D_loss=0.0017, F_loss_=328, P_loss=12.3, epoch_=247]\n"
     ]
    },
    {
     "name": "stdout",
     "output_type": "stream",
     "text": [
      "88001.02217102051\n"
     ]
    },
    {
     "name": "stderr",
     "output_type": "stream",
     "text": [
      "100%|██████████████████████████| 263/263 [00:06<00:00, 38.15it/s, D_loss=0.00153, F_loss_=58.8, P_loss=155, epoch_=247]\n"
     ]
    },
    {
     "name": "stdout",
     "output_type": "stream",
     "text": [
      "57177.6967124939\n"
     ]
    },
    {
     "name": "stderr",
     "output_type": "stream",
     "text": [
      "100%|█████████████████████████| 272/272 [00:47<00:00,  5.71it/s, D_loss=0.000877, F_loss_=225, P_loss=71.2, epoch_=248]\n"
     ]
    },
    {
     "name": "stdout",
     "output_type": "stream",
     "text": [
      "84123.28995513916\n"
     ]
    },
    {
     "name": "stderr",
     "output_type": "stream",
     "text": [
      "100%|██████████████████████████| 263/263 [00:07<00:00, 34.88it/s, D_loss=0.00119, F_loss_=4.83, P_loss=111, epoch_=248]\n"
     ]
    },
    {
     "name": "stdout",
     "output_type": "stream",
     "text": [
      "62125.599992752075\n"
     ]
    },
    {
     "name": "stderr",
     "output_type": "stream",
     "text": [
      "100%|█████████████████████████| 272/272 [00:48<00:00,  5.66it/s, D_loss=0.000351, F_loss_=129, P_loss=96.2, epoch_=249]\n"
     ]
    },
    {
     "name": "stdout",
     "output_type": "stream",
     "text": [
      "76204.37659454346\n"
     ]
    },
    {
     "name": "stderr",
     "output_type": "stream",
     "text": [
      "100%|██████████████████████████| 263/263 [00:07<00:00, 35.30it/s, D_loss=7.14e-5, F_loss_=70.1, P_loss=843, epoch_=249]\n"
     ]
    },
    {
     "name": "stdout",
     "output_type": "stream",
     "text": [
      "218880.6361694336\n"
     ]
    },
    {
     "name": "stderr",
     "output_type": "stream",
     "text": [
      "100%|██████████████████████████| 272/272 [00:47<00:00,  5.67it/s, D_loss=0.000227, F_loss_=150, P_loss=590, epoch_=250]\n"
     ]
    },
    {
     "name": "stdout",
     "output_type": "stream",
     "text": [
      "138801.67028808594\n"
     ]
    },
    {
     "name": "stderr",
     "output_type": "stream",
     "text": [
      "100%|█████████████████████████| 263/263 [00:07<00:00, 35.78it/s, D_loss=0.000321, F_loss_=12.6, P_loss=549, epoch_=250]\n"
     ]
    },
    {
     "name": "stdout",
     "output_type": "stream",
     "text": [
      "266000.5102958679\n",
      "save successfully!\n"
     ]
    },
    {
     "name": "stderr",
     "output_type": "stream",
     "text": [
      "100%|█████████████████████████| 272/272 [00:47<00:00,  5.71it/s, D_loss=0.000813, F_loss_=226, P_loss=8.44, epoch_=251]\n"
     ]
    },
    {
     "name": "stdout",
     "output_type": "stream",
     "text": [
      "86395.54457092285\n"
     ]
    },
    {
     "name": "stderr",
     "output_type": "stream",
     "text": [
      "100%|████████████████████████████| 263/263 [00:07<00:00, 35.38it/s, D_loss=1.97e-5, F_loss_=184, P_loss=53, epoch_=251]\n"
     ]
    },
    {
     "name": "stdout",
     "output_type": "stream",
     "text": [
      "73448.60619926453\n"
     ]
    },
    {
     "name": "stderr",
     "output_type": "stream",
     "text": [
      "100%|████████████████████████| 272/272 [00:47<00:00,  5.69it/s, D_loss=0.000185, F_loss_=32.8, P_loss=50.3, epoch_=252]\n"
     ]
    },
    {
     "name": "stdout",
     "output_type": "stream",
     "text": [
      "66797.6177368164\n"
     ]
    },
    {
     "name": "stderr",
     "output_type": "stream",
     "text": [
      "100%|█████████████████████████| 263/263 [00:07<00:00, 35.61it/s, D_loss=0.00011, F_loss_=64.2, P_loss=59.5, epoch_=252]\n"
     ]
    },
    {
     "name": "stdout",
     "output_type": "stream",
     "text": [
      "60759.359703063965\n"
     ]
    },
    {
     "name": "stderr",
     "output_type": "stream",
     "text": [
      "100%|██████████████████████████| 272/272 [00:48<00:00,  5.65it/s, D_loss=0.00078, F_loss_=434, P_loss=53.8, epoch_=253]\n"
     ]
    },
    {
     "name": "stdout",
     "output_type": "stream",
     "text": [
      "69663.67324066162\n"
     ]
    },
    {
     "name": "stderr",
     "output_type": "stream",
     "text": [
      "100%|█████████████████████████| 263/263 [00:07<00:00, 35.38it/s, D_loss=0.000503, F_loss_=75.3, P_loss=230, epoch_=253]\n"
     ]
    },
    {
     "name": "stdout",
     "output_type": "stream",
     "text": [
      "62735.09512138367\n"
     ]
    },
    {
     "name": "stderr",
     "output_type": "stream",
     "text": [
      "100%|██████████████████████████| 272/272 [00:47<00:00,  5.71it/s, D_loss=0.000179, F_loss_=265, P_loss=746, epoch_=254]\n"
     ]
    },
    {
     "name": "stdout",
     "output_type": "stream",
     "text": [
      "74730.01226043701\n"
     ]
    },
    {
     "name": "stderr",
     "output_type": "stream",
     "text": [
      "100%|█████████████████████████| 263/263 [00:07<00:00, 36.06it/s, D_loss=0.000641, F_loss_=24.3, P_loss=167, epoch_=254]\n"
     ]
    },
    {
     "name": "stdout",
     "output_type": "stream",
     "text": [
      "72534.57986831665\n"
     ]
    },
    {
     "name": "stderr",
     "output_type": "stream",
     "text": [
      "100%|█████████████████████████| 272/272 [00:48<00:00,  5.66it/s, D_loss=0.000568, F_loss_=136, P_loss=74.4, epoch_=255]\n"
     ]
    },
    {
     "name": "stdout",
     "output_type": "stream",
     "text": [
      "74164.16694641113\n"
     ]
    },
    {
     "name": "stderr",
     "output_type": "stream",
     "text": [
      "100%|████████████████████████| 263/263 [00:07<00:00, 36.41it/s, D_loss=0.000293, F_loss_=37.3, P_loss=56.9, epoch_=255]\n"
     ]
    },
    {
     "name": "stdout",
     "output_type": "stream",
     "text": [
      "70558.6917181015\n",
      "save successfully!\n"
     ]
    },
    {
     "name": "stderr",
     "output_type": "stream",
     "text": [
      "100%|███████████████████████████| 272/272 [00:48<00:00,  5.67it/s, D_loss=6.48e-5, F_loss_=68, P_loss=17.9, epoch_=256]\n"
     ]
    },
    {
     "name": "stdout",
     "output_type": "stream",
     "text": [
      "79096.60082244873\n"
     ]
    },
    {
     "name": "stderr",
     "output_type": "stream",
     "text": [
      "100%|█████████████████████████| 263/263 [00:07<00:00, 35.47it/s, D_loss=0.000506, F_loss_=126, P_loss=34.4, epoch_=256]\n"
     ]
    },
    {
     "name": "stdout",
     "output_type": "stream",
     "text": [
      "113069.63543701172\n"
     ]
    },
    {
     "name": "stderr",
     "output_type": "stream",
     "text": [
      "100%|████████████████████████| 272/272 [00:47<00:00,  5.70it/s, D_loss=0.000504, F_loss_=157, P_loss=0.596, epoch_=257]\n"
     ]
    },
    {
     "name": "stdout",
     "output_type": "stream",
     "text": [
      "111389.05042266846\n"
     ]
    },
    {
     "name": "stderr",
     "output_type": "stream",
     "text": [
      "100%|██████████████████████████| 263/263 [00:07<00:00, 36.05it/s, D_loss=3.13e-5, F_loss_=60.7, P_loss=198, epoch_=257]\n"
     ]
    },
    {
     "name": "stdout",
     "output_type": "stream",
     "text": [
      "72816.38813686371\n"
     ]
    },
    {
     "name": "stderr",
     "output_type": "stream",
     "text": [
      "100%|████████████████████████| 272/272 [00:48<00:00,  5.66it/s, D_loss=0.000505, F_loss_=8.89, P_loss=16.3, epoch_=258]\n"
     ]
    },
    {
     "name": "stdout",
     "output_type": "stream",
     "text": [
      "71508.77982711792\n"
     ]
    },
    {
     "name": "stderr",
     "output_type": "stream",
     "text": [
      "100%|█████████████████████████| 263/263 [00:07<00:00, 35.59it/s, D_loss=0.000414, F_loss_=26.2, P_loss=108, epoch_=258]\n"
     ]
    },
    {
     "name": "stdout",
     "output_type": "stream",
     "text": [
      "63999.7378115654\n"
     ]
    },
    {
     "name": "stderr",
     "output_type": "stream",
     "text": [
      "100%|█████████████████████████| 272/272 [00:47<00:00,  5.68it/s, D_loss=0.000374, F_loss_=100, P_loss=86.4, epoch_=259]\n"
     ]
    },
    {
     "name": "stdout",
     "output_type": "stream",
     "text": [
      "65496.22074890137\n"
     ]
    },
    {
     "name": "stderr",
     "output_type": "stream",
     "text": [
      "100%|███████████████████████████| 263/263 [00:07<00:00, 35.72it/s, D_loss=0.000274, F_loss_=20, P_loss=142, epoch_=259]\n"
     ]
    },
    {
     "name": "stdout",
     "output_type": "stream",
     "text": [
      "60774.29598236084\n"
     ]
    },
    {
     "name": "stderr",
     "output_type": "stream",
     "text": [
      "100%|████████████████████████| 272/272 [00:47<00:00,  5.72it/s, D_loss=0.000341, F_loss_=76.7, P_loss=60.8, epoch_=260]\n"
     ]
    },
    {
     "name": "stdout",
     "output_type": "stream",
     "text": [
      "69658.3420791626\n"
     ]
    },
    {
     "name": "stderr",
     "output_type": "stream",
     "text": [
      "100%|█████████████████████████| 263/263 [00:07<00:00, 35.55it/s, D_loss=0.000665, F_loss_=19.8, P_loss=192, epoch_=260]\n"
     ]
    },
    {
     "name": "stdout",
     "output_type": "stream",
     "text": [
      "85013.836769104\n",
      "save successfully!\n"
     ]
    },
    {
     "name": "stderr",
     "output_type": "stream",
     "text": [
      "100%|██████████████████████████| 272/272 [00:47<00:00,  5.69it/s, D_loss=0.00122, F_loss_=464, P_loss=77.3, epoch_=261]\n"
     ]
    },
    {
     "name": "stdout",
     "output_type": "stream",
     "text": [
      "74024.35354614258\n"
     ]
    },
    {
     "name": "stderr",
     "output_type": "stream",
     "text": [
      "100%|██████████████████████████| 263/263 [00:07<00:00, 36.37it/s, D_loss=0.00133, F_loss_=46.6, P_loss=130, epoch_=261]\n"
     ]
    },
    {
     "name": "stdout",
     "output_type": "stream",
     "text": [
      "59708.33761692047\n"
     ]
    },
    {
     "name": "stderr",
     "output_type": "stream",
     "text": [
      "100%|███████████████████████████| 272/272 [00:48<00:00,  5.62it/s, D_loss=0.000147, F_loss_=748, P_loss=83, epoch_=262]\n"
     ]
    },
    {
     "name": "stdout",
     "output_type": "stream",
     "text": [
      "71175.69147491455\n"
     ]
    },
    {
     "name": "stderr",
     "output_type": "stream",
     "text": [
      "100%|████████████████████████| 263/263 [00:07<00:00, 35.19it/s, D_loss=0.000834, F_loss_=56.9, P_loss=78.5, epoch_=262]\n"
     ]
    },
    {
     "name": "stdout",
     "output_type": "stream",
     "text": [
      "80541.43443393707\n"
     ]
    },
    {
     "name": "stderr",
     "output_type": "stream",
     "text": [
      "100%|█████████████████████████| 272/272 [00:48<00:00,  5.65it/s, D_loss=0.000934, F_loss_=398, P_loss=65.1, epoch_=263]\n"
     ]
    },
    {
     "name": "stdout",
     "output_type": "stream",
     "text": [
      "78197.14433288574\n"
     ]
    },
    {
     "name": "stderr",
     "output_type": "stream",
     "text": [
      "100%|██████████████████████████| 263/263 [00:07<00:00, 34.88it/s, D_loss=0.00137, F_loss_=100, P_loss=69.9, epoch_=263]\n"
     ]
    },
    {
     "name": "stdout",
     "output_type": "stream",
     "text": [
      "98802.40156173706\n"
     ]
    },
    {
     "name": "stderr",
     "output_type": "stream",
     "text": [
      "100%|████████████████████████| 272/272 [00:48<00:00,  5.66it/s, D_loss=0.000135, F_loss_=22.7, P_loss=9.56, epoch_=264]\n"
     ]
    },
    {
     "name": "stdout",
     "output_type": "stream",
     "text": [
      "67113.55897140503\n"
     ]
    },
    {
     "name": "stderr",
     "output_type": "stream",
     "text": [
      "100%|██████████████████████████| 263/263 [00:07<00:00, 35.73it/s, D_loss=1.35e-5, F_loss_=35.3, P_loss=107, epoch_=264]\n"
     ]
    },
    {
     "name": "stdout",
     "output_type": "stream",
     "text": [
      "74395.96912765503\n"
     ]
    },
    {
     "name": "stderr",
     "output_type": "stream",
     "text": [
      "100%|█████████████████████████| 272/272 [00:49<00:00,  5.54it/s, D_loss=0.000161, F_loss_=462, P_loss=39.5, epoch_=265]\n"
     ]
    },
    {
     "name": "stdout",
     "output_type": "stream",
     "text": [
      "67378.45160675049\n"
     ]
    },
    {
     "name": "stderr",
     "output_type": "stream",
     "text": [
      "100%|█████████████████████████| 263/263 [00:07<00:00, 35.29it/s, D_loss=0.000423, F_loss_=64.4, P_loss=189, epoch_=265]\n"
     ]
    },
    {
     "name": "stdout",
     "output_type": "stream",
     "text": [
      "65933.87531661987\n",
      "save successfully!\n"
     ]
    },
    {
     "name": "stderr",
     "output_type": "stream",
     "text": [
      "100%|█████████████████████████| 272/272 [00:49<00:00,  5.51it/s, D_loss=0.000427, F_loss_=284, P_loss=65.1, epoch_=266]\n"
     ]
    },
    {
     "name": "stdout",
     "output_type": "stream",
     "text": [
      "71732.09022521973\n"
     ]
    },
    {
     "name": "stderr",
     "output_type": "stream",
     "text": [
      "100%|███████████████████████████| 263/263 [00:07<00:00, 36.92it/s, D_loss=0.000115, F_loss_=59, P_loss=276, epoch_=266]\n"
     ]
    },
    {
     "name": "stdout",
     "output_type": "stream",
     "text": [
      "109718.0133895874\n"
     ]
    },
    {
     "name": "stderr",
     "output_type": "stream",
     "text": [
      "100%|█████████████████████████| 272/272 [00:46<00:00,  5.81it/s, D_loss=8.64e-5, F_loss_=73.3, P_loss=43.1, epoch_=267]\n"
     ]
    },
    {
     "name": "stdout",
     "output_type": "stream",
     "text": [
      "73969.87808227539\n"
     ]
    },
    {
     "name": "stderr",
     "output_type": "stream",
     "text": [
      "100%|████████████████████████████| 263/263 [00:06<00:00, 38.55it/s, D_loss=0.00174, F_loss_=35, P_loss=343, epoch_=267]\n"
     ]
    },
    {
     "name": "stdout",
     "output_type": "stream",
     "text": [
      "136989.25312805176\n"
     ]
    },
    {
     "name": "stderr",
     "output_type": "stream",
     "text": [
      "100%|████████████████████████| 272/272 [00:46<00:00,  5.84it/s, D_loss=0.000627, F_loss_=14.7, P_loss=39.2, epoch_=268]\n"
     ]
    },
    {
     "name": "stdout",
     "output_type": "stream",
     "text": [
      "77669.75156784058\n"
     ]
    },
    {
     "name": "stderr",
     "output_type": "stream",
     "text": [
      "100%|█████████████████████████████| 263/263 [00:06<00:00, 39.95it/s, D_loss=3.28e-5, F_loss_=4, P_loss=177, epoch_=268]\n"
     ]
    },
    {
     "name": "stdout",
     "output_type": "stream",
     "text": [
      "108331.50076675415\n"
     ]
    },
    {
     "name": "stderr",
     "output_type": "stream",
     "text": [
      "100%|██████████████████████████| 272/272 [00:46<00:00,  5.81it/s, D_loss=0.000247, F_loss_=269, P_loss=354, epoch_=269]\n"
     ]
    },
    {
     "name": "stdout",
     "output_type": "stream",
     "text": [
      "73247.81373977661\n"
     ]
    },
    {
     "name": "stderr",
     "output_type": "stream",
     "text": [
      "100%|█████████████████████████| 263/263 [00:06<00:00, 38.36it/s, D_loss=0.000492, F_loss_=96.2, P_loss=555, epoch_=269]\n"
     ]
    },
    {
     "name": "stdout",
     "output_type": "stream",
     "text": [
      "123203.28063964844\n"
     ]
    },
    {
     "name": "stderr",
     "output_type": "stream",
     "text": [
      "100%|██████████████████████████| 272/272 [00:45<00:00,  6.02it/s, D_loss=0.000147, F_loss_=146, P_loss=109, epoch_=270]\n"
     ]
    },
    {
     "name": "stdout",
     "output_type": "stream",
     "text": [
      "68605.62837982178\n"
     ]
    },
    {
     "name": "stderr",
     "output_type": "stream",
     "text": [
      "100%|█████████████████████████| 263/263 [00:06<00:00, 40.65it/s, D_loss=0.000313, F_loss_=21.6, P_loss=116, epoch_=270]\n"
     ]
    },
    {
     "name": "stdout",
     "output_type": "stream",
     "text": [
      "56467.192251205444\n",
      "save successfully!\n"
     ]
    },
    {
     "name": "stderr",
     "output_type": "stream",
     "text": [
      "100%|████████████████████████| 272/272 [00:46<00:00,  5.87it/s, D_loss=0.000731, F_loss_=54.5, P_loss=38.7, epoch_=271]\n"
     ]
    },
    {
     "name": "stdout",
     "output_type": "stream",
     "text": [
      "64096.61642456055\n"
     ]
    },
    {
     "name": "stderr",
     "output_type": "stream",
     "text": [
      "100%|█████████████████████████| 263/263 [00:06<00:00, 38.63it/s, D_loss=0.000376, F_loss_=2.77, P_loss=120, epoch_=271]\n"
     ]
    },
    {
     "name": "stdout",
     "output_type": "stream",
     "text": [
      "77707.47384262085\n"
     ]
    },
    {
     "name": "stderr",
     "output_type": "stream",
     "text": [
      "100%|█████████████████████████| 272/272 [00:46<00:00,  5.81it/s, D_loss=0.000686, F_loss_=154, P_loss=22.7, epoch_=272]\n"
     ]
    },
    {
     "name": "stdout",
     "output_type": "stream",
     "text": [
      "62710.87858200073\n"
     ]
    },
    {
     "name": "stderr",
     "output_type": "stream",
     "text": [
      "100%|██████████████████████████| 263/263 [00:07<00:00, 36.84it/s, D_loss=0.00113, F_loss_=176, P_loss=48.4, epoch_=272]\n"
     ]
    },
    {
     "name": "stdout",
     "output_type": "stream",
     "text": [
      "70211.00793075562\n"
     ]
    },
    {
     "name": "stderr",
     "output_type": "stream",
     "text": [
      "100%|███████████████████████████| 272/272 [00:46<00:00,  5.80it/s, D_loss=0.00206, F_loss_=47.8, P_loss=35, epoch_=273]\n"
     ]
    },
    {
     "name": "stdout",
     "output_type": "stream",
     "text": [
      "66173.67708587646\n"
     ]
    },
    {
     "name": "stderr",
     "output_type": "stream",
     "text": [
      "100%|█████████████████████████| 263/263 [00:06<00:00, 39.19it/s, D_loss=0.00102, F_loss_=11.7, P_loss=79.3, epoch_=273]\n"
     ]
    },
    {
     "name": "stdout",
     "output_type": "stream",
     "text": [
      "83369.8861694336\n"
     ]
    },
    {
     "name": "stderr",
     "output_type": "stream",
     "text": [
      "100%|█████████████████████████| 272/272 [00:45<00:00,  6.02it/s, D_loss=0.000221, F_loss_=13.9, P_loss=179, epoch_=274]\n"
     ]
    },
    {
     "name": "stdout",
     "output_type": "stream",
     "text": [
      "65719.49160003662\n"
     ]
    },
    {
     "name": "stderr",
     "output_type": "stream",
     "text": [
      "100%|████████████████████████| 263/263 [00:06<00:00, 37.80it/s, D_loss=0.000485, F_loss_=35.3, P_loss=27.6, epoch_=274]\n"
     ]
    },
    {
     "name": "stdout",
     "output_type": "stream",
     "text": [
      "69229.45279884338\n"
     ]
    },
    {
     "name": "stderr",
     "output_type": "stream",
     "text": [
      "100%|██████████████████████████| 272/272 [00:50<00:00,  5.35it/s, D_loss=3.74e-5, F_loss_=3.07, P_loss=145, epoch_=275]\n"
     ]
    },
    {
     "name": "stdout",
     "output_type": "stream",
     "text": [
      "65502.1417388916\n"
     ]
    },
    {
     "name": "stderr",
     "output_type": "stream",
     "text": [
      "100%|██████████████████████████| 263/263 [00:07<00:00, 36.28it/s, D_loss=7.29e-5, F_loss_=69.4, P_loss=219, epoch_=275]\n"
     ]
    },
    {
     "name": "stdout",
     "output_type": "stream",
     "text": [
      "78295.08345413208\n",
      "save successfully!\n"
     ]
    },
    {
     "name": "stderr",
     "output_type": "stream",
     "text": [
      "100%|███████████████████████████| 272/272 [00:49<00:00,  5.54it/s, D_loss=7.01e-5, F_loss_=404, P_loss=206, epoch_=276]\n"
     ]
    },
    {
     "name": "stdout",
     "output_type": "stream",
     "text": [
      "79450.18852233887\n"
     ]
    },
    {
     "name": "stderr",
     "output_type": "stream",
     "text": [
      "100%|███████████████████████████| 263/263 [00:07<00:00, 35.28it/s, D_loss=0.000228, F_loss_=63, P_loss=369, epoch_=276]\n"
     ]
    },
    {
     "name": "stdout",
     "output_type": "stream",
     "text": [
      "147581.62337493896\n"
     ]
    },
    {
     "name": "stderr",
     "output_type": "stream",
     "text": [
      "100%|████████████████████████| 272/272 [00:54<00:00,  5.03it/s, D_loss=0.000585, F_loss_=71.3, P_loss=48.4, epoch_=277]\n"
     ]
    },
    {
     "name": "stdout",
     "output_type": "stream",
     "text": [
      "60619.705253601074\n"
     ]
    },
    {
     "name": "stderr",
     "output_type": "stream",
     "text": [
      "100%|█████████████████████████| 263/263 [00:08<00:00, 32.82it/s, D_loss=0.000492, F_loss_=6.15, P_loss=400, epoch_=277]\n"
     ]
    },
    {
     "name": "stdout",
     "output_type": "stream",
     "text": [
      "166766.17335510254\n"
     ]
    },
    {
     "name": "stderr",
     "output_type": "stream",
     "text": [
      "100%|████████████████████████| 272/272 [00:54<00:00,  5.00it/s, D_loss=0.0031, F_loss_=563, P_loss=4.01e+3, epoch_=278]\n"
     ]
    },
    {
     "name": "stdout",
     "output_type": "stream",
     "text": [
      "111064.58422851562\n"
     ]
    },
    {
     "name": "stderr",
     "output_type": "stream",
     "text": [
      "100%|████████████████████████| 263/263 [00:07<00:00, 33.53it/s, D_loss=0.00062, F_loss_=106, P_loss=1.1e+3, epoch_=278]\n"
     ]
    },
    {
     "name": "stdout",
     "output_type": "stream",
     "text": [
      "240620.66381835938\n"
     ]
    },
    {
     "name": "stderr",
     "output_type": "stream",
     "text": [
      "100%|█████████████████████████| 272/272 [00:53<00:00,  5.07it/s, D_loss=8.46e-5, F_loss_=91.7, P_loss=59.5, epoch_=279]\n"
     ]
    },
    {
     "name": "stdout",
     "output_type": "stream",
     "text": [
      "148817.25398254395\n"
     ]
    },
    {
     "name": "stderr",
     "output_type": "stream",
     "text": [
      "100%|██████████████████████████| 263/263 [00:08<00:00, 32.41it/s, D_loss=0.000217, F_loss_=122, P_loss=848, epoch_=279]\n"
     ]
    },
    {
     "name": "stdout",
     "output_type": "stream",
     "text": [
      "143123.10958862305\n"
     ]
    },
    {
     "name": "stderr",
     "output_type": "stream",
     "text": [
      "100%|██████████████████████████| 272/272 [00:56<00:00,  4.79it/s, D_loss=0.000779, F_loss_=482, P_loss=161, epoch_=280]\n"
     ]
    },
    {
     "name": "stdout",
     "output_type": "stream",
     "text": [
      "116828.82695007324\n"
     ]
    },
    {
     "name": "stderr",
     "output_type": "stream",
     "text": [
      "100%|██████████████████████████| 263/263 [00:08<00:00, 29.70it/s, D_loss=0.00097, F_loss_=37.3, P_loss=121, epoch_=280]\n"
     ]
    },
    {
     "name": "stdout",
     "output_type": "stream",
     "text": [
      "58432.78053474426\n",
      "save successfully!\n"
     ]
    },
    {
     "name": "stderr",
     "output_type": "stream",
     "text": [
      "100%|██████████████████████████| 272/272 [00:54<00:00,  4.98it/s, D_loss=0.00225, F_loss_=41.2, P_loss=106, epoch_=281]\n"
     ]
    },
    {
     "name": "stdout",
     "output_type": "stream",
     "text": [
      "87632.32333374023\n"
     ]
    },
    {
     "name": "stderr",
     "output_type": "stream",
     "text": [
      "100%|████████████████████████| 263/263 [00:08<00:00, 31.23it/s, D_loss=0.000882, F_loss_=60.3, P_loss=75.9, epoch_=281]\n"
     ]
    },
    {
     "name": "stdout",
     "output_type": "stream",
     "text": [
      "55394.81587409973\n"
     ]
    },
    {
     "name": "stderr",
     "output_type": "stream",
     "text": [
      "100%|███████████████████████████| 272/272 [00:54<00:00,  5.03it/s, D_loss=0.00307, F_loss_=804, P_loss=190, epoch_=282]\n"
     ]
    },
    {
     "name": "stdout",
     "output_type": "stream",
     "text": [
      "76757.26683044434\n"
     ]
    },
    {
     "name": "stderr",
     "output_type": "stream",
     "text": [
      "100%|████████████████████████| 263/263 [00:08<00:00, 31.67it/s, D_loss=0.000345, F_loss_=59.8, P_loss=59.6, epoch_=282]\n"
     ]
    },
    {
     "name": "stdout",
     "output_type": "stream",
     "text": [
      "62409.89055252075\n"
     ]
    },
    {
     "name": "stderr",
     "output_type": "stream",
     "text": [
      "100%|██████████████████████████| 272/272 [00:53<00:00,  5.06it/s, D_loss=5.06e-5, F_loss_=328, P_loss=20.5, epoch_=283]\n"
     ]
    },
    {
     "name": "stdout",
     "output_type": "stream",
     "text": [
      "75496.1923904419\n"
     ]
    },
    {
     "name": "stderr",
     "output_type": "stream",
     "text": [
      "100%|██████████████████████████| 263/263 [00:08<00:00, 31.15it/s, D_loss=0.000171, F_loss_=158, P_loss=115, epoch_=283]\n"
     ]
    },
    {
     "name": "stdout",
     "output_type": "stream",
     "text": [
      "75634.02602005005\n"
     ]
    },
    {
     "name": "stderr",
     "output_type": "stream",
     "text": [
      "100%|███████████████████████████| 272/272 [00:54<00:00,  5.01it/s, D_loss=0.00039, F_loss_=131, P_loss=312, epoch_=284]\n"
     ]
    },
    {
     "name": "stdout",
     "output_type": "stream",
     "text": [
      "64318.99674987793\n"
     ]
    },
    {
     "name": "stderr",
     "output_type": "stream",
     "text": [
      "100%|████████████████████████| 263/263 [00:08<00:00, 31.04it/s, D_loss=0.000161, F_loss_=49.7, P_loss=98.4, epoch_=284]\n"
     ]
    },
    {
     "name": "stdout",
     "output_type": "stream",
     "text": [
      "101629.97931671143\n"
     ]
    },
    {
     "name": "stderr",
     "output_type": "stream",
     "text": [
      "100%|██████████████████████████| 272/272 [00:53<00:00,  5.12it/s, D_loss=0.00239, F_loss_=243, P_loss=49.2, epoch_=285]\n"
     ]
    },
    {
     "name": "stdout",
     "output_type": "stream",
     "text": [
      "72322.84136199951\n"
     ]
    },
    {
     "name": "stderr",
     "output_type": "stream",
     "text": [
      "100%|██████████████████████████| 263/263 [00:08<00:00, 31.23it/s, D_loss=0.00192, F_loss_=47.8, P_loss=190, epoch_=285]\n"
     ]
    },
    {
     "name": "stdout",
     "output_type": "stream",
     "text": [
      "62874.89033699036\n",
      "save successfully!\n"
     ]
    },
    {
     "name": "stderr",
     "output_type": "stream",
     "text": [
      "100%|██████████████████████████| 272/272 [00:53<00:00,  5.11it/s, D_loss=0.000225, F_loss_=240, P_loss=160, epoch_=286]\n"
     ]
    },
    {
     "name": "stdout",
     "output_type": "stream",
     "text": [
      "58897.9401473999\n"
     ]
    },
    {
     "name": "stderr",
     "output_type": "stream",
     "text": [
      "100%|██████████████████████████| 263/263 [00:08<00:00, 31.66it/s, D_loss=7.98e-5, F_loss_=41.5, P_loss=166, epoch_=286]\n"
     ]
    },
    {
     "name": "stdout",
     "output_type": "stream",
     "text": [
      "66288.19145774841\n"
     ]
    },
    {
     "name": "stderr",
     "output_type": "stream",
     "text": [
      "100%|██████████████████████████| 272/272 [00:53<00:00,  5.07it/s, D_loss=0.000596, F_loss_=161, P_loss=161, epoch_=287]\n"
     ]
    },
    {
     "name": "stdout",
     "output_type": "stream",
     "text": [
      "70458.72686767578\n"
     ]
    },
    {
     "name": "stderr",
     "output_type": "stream",
     "text": [
      "100%|████████████████████████| 263/263 [00:08<00:00, 31.42it/s, D_loss=0.000187, F_loss_=30.6, P_loss=69.4, epoch_=287]\n"
     ]
    },
    {
     "name": "stdout",
     "output_type": "stream",
     "text": [
      "62196.49015235901\n"
     ]
    },
    {
     "name": "stderr",
     "output_type": "stream",
     "text": [
      "100%|█████████████████████████| 272/272 [00:52<00:00,  5.16it/s, D_loss=0.000718, F_loss_=580, P_loss=14.2, epoch_=288]\n"
     ]
    },
    {
     "name": "stdout",
     "output_type": "stream",
     "text": [
      "65963.07613372803\n"
     ]
    },
    {
     "name": "stderr",
     "output_type": "stream",
     "text": [
      "100%|████████████████████████████| 263/263 [00:08<00:00, 32.32it/s, D_loss=0.0014, F_loss_=13.2, P_loss=56, epoch_=288]\n"
     ]
    },
    {
     "name": "stdout",
     "output_type": "stream",
     "text": [
      "57706.941970825195\n"
     ]
    },
    {
     "name": "stderr",
     "output_type": "stream",
     "text": [
      "100%|█████████████████████████| 272/272 [00:53<00:00,  5.12it/s, D_loss=0.00402, F_loss_=7.57, P_loss=83.6, epoch_=289]\n"
     ]
    },
    {
     "name": "stdout",
     "output_type": "stream",
     "text": [
      "59528.58359527588\n"
     ]
    },
    {
     "name": "stderr",
     "output_type": "stream",
     "text": [
      "100%|██████████████████████████| 263/263 [00:07<00:00, 32.95it/s, D_loss=0.00651, F_loss_=33.9, P_loss=169, epoch_=289]\n"
     ]
    },
    {
     "name": "stdout",
     "output_type": "stream",
     "text": [
      "77258.65065765381\n"
     ]
    },
    {
     "name": "stderr",
     "output_type": "stream",
     "text": [
      "100%|████████████████████████| 272/272 [00:51<00:00,  5.32it/s, D_loss=0.000226, F_loss_=26.6, P_loss=40.9, epoch_=290]\n"
     ]
    },
    {
     "name": "stdout",
     "output_type": "stream",
     "text": [
      "70795.22485733032\n"
     ]
    },
    {
     "name": "stderr",
     "output_type": "stream",
     "text": [
      "100%|████████████████████████| 263/263 [00:07<00:00, 34.05it/s, D_loss=0.000239, F_loss_=37.4, P_loss=57.4, epoch_=290]\n"
     ]
    },
    {
     "name": "stdout",
     "output_type": "stream",
     "text": [
      "42771.74731636047\n",
      "save successfully!\n"
     ]
    },
    {
     "name": "stderr",
     "output_type": "stream",
     "text": [
      "100%|█████████████████████████| 272/272 [00:51<00:00,  5.29it/s, D_loss=0.000607, F_loss_=234, P_loss=13.9, epoch_=291]\n"
     ]
    },
    {
     "name": "stdout",
     "output_type": "stream",
     "text": [
      "61354.17840576172\n"
     ]
    },
    {
     "name": "stderr",
     "output_type": "stream",
     "text": [
      "100%|█████████████████████████| 263/263 [00:08<00:00, 32.79it/s, D_loss=0.000215, F_loss_=56.5, P_loss=109, epoch_=291]\n"
     ]
    },
    {
     "name": "stdout",
     "output_type": "stream",
     "text": [
      "65992.57572746277\n"
     ]
    },
    {
     "name": "stderr",
     "output_type": "stream",
     "text": [
      "100%|█████████████████████████| 272/272 [00:51<00:00,  5.29it/s, D_loss=0.000888, F_loss_=73.7, P_loss=135, epoch_=292]\n"
     ]
    },
    {
     "name": "stdout",
     "output_type": "stream",
     "text": [
      "59451.50576019287\n"
     ]
    },
    {
     "name": "stderr",
     "output_type": "stream",
     "text": [
      "100%|█████████████████████████| 263/263 [00:07<00:00, 33.87it/s, D_loss=0.000355, F_loss_=113, P_loss=39.8, epoch_=292]\n"
     ]
    },
    {
     "name": "stdout",
     "output_type": "stream",
     "text": [
      "50979.60933113098\n"
     ]
    },
    {
     "name": "stderr",
     "output_type": "stream",
     "text": [
      "100%|████████████████████████| 272/272 [00:52<00:00,  5.22it/s, D_loss=0.000186, F_loss_=37.7, P_loss=23.1, epoch_=293]\n"
     ]
    },
    {
     "name": "stdout",
     "output_type": "stream",
     "text": [
      "63954.43906021118\n"
     ]
    },
    {
     "name": "stderr",
     "output_type": "stream",
     "text": [
      "100%|██████████████████████| 263/263 [00:07<00:00, 35.93it/s, D_loss=0.000305, F_loss_=31.9, P_loss=0.0233, epoch_=293]\n"
     ]
    },
    {
     "name": "stdout",
     "output_type": "stream",
     "text": [
      "51068.70547103882\n"
     ]
    },
    {
     "name": "stderr",
     "output_type": "stream",
     "text": [
      "100%|█████████████████████████| 272/272 [00:52<00:00,  5.16it/s, D_loss=0.000197, F_loss_=5.35, P_loss=191, epoch_=294]\n"
     ]
    },
    {
     "name": "stdout",
     "output_type": "stream",
     "text": [
      "85744.10523223877\n"
     ]
    },
    {
     "name": "stderr",
     "output_type": "stream",
     "text": [
      "100%|██████████████████████████| 263/263 [00:08<00:00, 32.25it/s, D_loss=4.85e-5, F_loss_=46.9, P_loss=148, epoch_=294]\n"
     ]
    },
    {
     "name": "stdout",
     "output_type": "stream",
     "text": [
      "46734.271782159805\n"
     ]
    },
    {
     "name": "stderr",
     "output_type": "stream",
     "text": [
      "100%|█████████████████████████| 272/272 [00:54<00:00,  5.00it/s, D_loss=2.84e-5, F_loss_=15.6, P_loss=77.4, epoch_=295]\n"
     ]
    },
    {
     "name": "stdout",
     "output_type": "stream",
     "text": [
      "58245.91580963135\n"
     ]
    },
    {
     "name": "stderr",
     "output_type": "stream",
     "text": [
      "100%|█████████████████████████| 263/263 [00:08<00:00, 31.07it/s, D_loss=0.000183, F_loss_=9.94, P_loss=173, epoch_=295]\n"
     ]
    },
    {
     "name": "stdout",
     "output_type": "stream",
     "text": [
      "56142.80762863159\n",
      "save successfully!\n"
     ]
    },
    {
     "name": "stderr",
     "output_type": "stream",
     "text": [
      "100%|█████████████████████████| 272/272 [00:53<00:00,  5.10it/s, D_loss=0.000725, F_loss_=139, P_loss=81.2, epoch_=296]\n"
     ]
    },
    {
     "name": "stdout",
     "output_type": "stream",
     "text": [
      "58572.70090866089\n"
     ]
    },
    {
     "name": "stderr",
     "output_type": "stream",
     "text": [
      "100%|█████████████████████████| 263/263 [00:08<00:00, 31.25it/s, D_loss=0.000421, F_loss_=76.8, P_loss=210, epoch_=296]\n"
     ]
    },
    {
     "name": "stdout",
     "output_type": "stream",
     "text": [
      "74645.04555892944\n"
     ]
    },
    {
     "name": "stderr",
     "output_type": "stream",
     "text": [
      "100%|████████████████████████| 272/272 [00:54<00:00,  5.03it/s, D_loss=0.000463, F_loss_=290, P_loss=0.789, epoch_=297]\n"
     ]
    },
    {
     "name": "stdout",
     "output_type": "stream",
     "text": [
      "64473.56278991699\n"
     ]
    },
    {
     "name": "stderr",
     "output_type": "stream",
     "text": [
      "100%|█████████████████████████| 263/263 [00:08<00:00, 31.27it/s, D_loss=0.00012, F_loss_=20.6, P_loss=20.2, epoch_=297]\n"
     ]
    },
    {
     "name": "stdout",
     "output_type": "stream",
     "text": [
      "61224.048709869385\n"
     ]
    },
    {
     "name": "stderr",
     "output_type": "stream",
     "text": [
      "100%|█████████████████████████| 272/272 [00:52<00:00,  5.21it/s, D_loss=0.000221, F_loss_=113, P_loss=69.5, epoch_=298]\n"
     ]
    },
    {
     "name": "stdout",
     "output_type": "stream",
     "text": [
      "75262.58781433105\n"
     ]
    },
    {
     "name": "stderr",
     "output_type": "stream",
     "text": [
      "100%|█████████████████████████| 263/263 [00:07<00:00, 34.34it/s, D_loss=7.14e-5, F_loss_=43.9, P_loss=93.2, epoch_=298]\n"
     ]
    },
    {
     "name": "stdout",
     "output_type": "stream",
     "text": [
      "53211.67136192322\n"
     ]
    },
    {
     "name": "stderr",
     "output_type": "stream",
     "text": [
      "100%|██████████████████████████| 272/272 [00:50<00:00,  5.37it/s, D_loss=0.000522, F_loss_=239, P_loss=132, epoch_=299]\n"
     ]
    },
    {
     "name": "stdout",
     "output_type": "stream",
     "text": [
      "87432.07836914062\n"
     ]
    },
    {
     "name": "stderr",
     "output_type": "stream",
     "text": [
      "100%|█████████████████████████| 263/263 [00:07<00:00, 34.08it/s, D_loss=0.000108, F_loss_=44.8, P_loss=233, epoch_=299]\n"
     ]
    },
    {
     "name": "stdout",
     "output_type": "stream",
     "text": [
      "59025.978088378906\n"
     ]
    },
    {
     "name": "stderr",
     "output_type": "stream",
     "text": [
      "100%|█████████████████████████| 272/272 [00:50<00:00,  5.40it/s, D_loss=0.000304, F_loss_=344, P_loss=18.6, epoch_=300]\n"
     ]
    },
    {
     "name": "stdout",
     "output_type": "stream",
     "text": [
      "61208.99173736572\n"
     ]
    },
    {
     "name": "stderr",
     "output_type": "stream",
     "text": [
      "100%|█████████████████████████| 263/263 [00:07<00:00, 33.53it/s, D_loss=0.00014, F_loss_=9.49, P_loss=72.7, epoch_=300]\n"
     ]
    },
    {
     "name": "stdout",
     "output_type": "stream",
     "text": [
      "46111.302904605865\n",
      "save successfully!\n"
     ]
    },
    {
     "name": "stderr",
     "output_type": "stream",
     "text": [
      "100%|██████████████████████████| 272/272 [00:50<00:00,  5.40it/s, D_loss=5.71e-5, F_loss_=261, P_loss=62.3, epoch_=301]\n"
     ]
    },
    {
     "name": "stdout",
     "output_type": "stream",
     "text": [
      "61116.28008270264\n"
     ]
    },
    {
     "name": "stderr",
     "output_type": "stream",
     "text": [
      "100%|██████████████████████████| 263/263 [00:07<00:00, 33.34it/s, D_loss=0.00043, F_loss_=34.6, P_loss=118, epoch_=301]\n"
     ]
    },
    {
     "name": "stdout",
     "output_type": "stream",
     "text": [
      "89471.73341369629\n"
     ]
    },
    {
     "name": "stderr",
     "output_type": "stream",
     "text": [
      "100%|████████████████████████| 272/272 [00:51<00:00,  5.33it/s, D_loss=0.000348, F_loss_=15.7, P_loss=39.4, epoch_=302]\n"
     ]
    },
    {
     "name": "stdout",
     "output_type": "stream",
     "text": [
      "61550.160259246826\n"
     ]
    },
    {
     "name": "stderr",
     "output_type": "stream",
     "text": [
      "100%|█████████████████████████| 263/263 [00:07<00:00, 36.93it/s, D_loss=5.67e-5, F_loss_=52.6, P_loss=80.3, epoch_=302]\n"
     ]
    },
    {
     "name": "stdout",
     "output_type": "stream",
     "text": [
      "58117.888617515564\n"
     ]
    },
    {
     "name": "stderr",
     "output_type": "stream",
     "text": [
      "100%|█████████████████████████| 272/272 [00:48<00:00,  5.66it/s, D_loss=8.77e-5, F_loss_=54.3, P_loss=25.6, epoch_=303]\n"
     ]
    },
    {
     "name": "stdout",
     "output_type": "stream",
     "text": [
      "58048.55377960205\n"
     ]
    },
    {
     "name": "stderr",
     "output_type": "stream",
     "text": [
      "100%|█████████████████████████| 263/263 [00:06<00:00, 37.70it/s, D_loss=0.000153, F_loss_=36.8, P_loss=148, epoch_=303]\n"
     ]
    },
    {
     "name": "stdout",
     "output_type": "stream",
     "text": [
      "66489.72853469849\n"
     ]
    },
    {
     "name": "stderr",
     "output_type": "stream",
     "text": [
      "100%|███████████████████████████| 272/272 [00:47<00:00,  5.70it/s, D_loss=0.00024, F_loss_=26, P_loss=4.15, epoch_=304]\n"
     ]
    },
    {
     "name": "stdout",
     "output_type": "stream",
     "text": [
      "68189.52086639404\n"
     ]
    },
    {
     "name": "stderr",
     "output_type": "stream",
     "text": [
      "100%|█████████████████████████████| 263/263 [00:07<00:00, 37.00it/s, D_loss=6.24e-5, F_loss_=27, P_loss=51, epoch_=304]\n"
     ]
    },
    {
     "name": "stdout",
     "output_type": "stream",
     "text": [
      "46672.19600391388\n"
     ]
    },
    {
     "name": "stderr",
     "output_type": "stream",
     "text": [
      "100%|██████████████████████████| 272/272 [00:50<00:00,  5.44it/s, D_loss=0.000229, F_loss_=60, P_loss=30.8, epoch_=305]\n"
     ]
    },
    {
     "name": "stdout",
     "output_type": "stream",
     "text": [
      "60243.85752868652\n"
     ]
    },
    {
     "name": "stderr",
     "output_type": "stream",
     "text": [
      "100%|██████████████████████████| 263/263 [00:07<00:00, 36.98it/s, D_loss=0.00031, F_loss_=10.8, P_loss=259, epoch_=305]\n"
     ]
    },
    {
     "name": "stdout",
     "output_type": "stream",
     "text": [
      "70106.97294330597\n",
      "save successfully!\n"
     ]
    },
    {
     "name": "stderr",
     "output_type": "stream",
     "text": [
      "100%|██████████████████████████| 272/272 [00:52<00:00,  5.16it/s, D_loss=0.000992, F_loss_=130, P_loss=228, epoch_=306]\n"
     ]
    },
    {
     "name": "stdout",
     "output_type": "stream",
     "text": [
      "71992.5871887207\n"
     ]
    },
    {
     "name": "stderr",
     "output_type": "stream",
     "text": [
      "100%|███████████████████████████| 263/263 [00:07<00:00, 33.83it/s, D_loss=0.000183, F_loss_=95, P_loss=170, epoch_=306]\n"
     ]
    },
    {
     "name": "stdout",
     "output_type": "stream",
     "text": [
      "123345.9324684143\n"
     ]
    },
    {
     "name": "stderr",
     "output_type": "stream",
     "text": [
      "100%|█████████████████████████| 272/272 [00:53<00:00,  5.08it/s, D_loss=0.00033, F_loss_=37.1, P_loss=18.9, epoch_=307]\n"
     ]
    },
    {
     "name": "stdout",
     "output_type": "stream",
     "text": [
      "61307.866901397705\n"
     ]
    },
    {
     "name": "stderr",
     "output_type": "stream",
     "text": [
      "100%|█████████████████████████| 263/263 [00:08<00:00, 31.68it/s, D_loss=8.69e-5, F_loss_=98.6, P_loss=37.5, epoch_=307]\n"
     ]
    },
    {
     "name": "stdout",
     "output_type": "stream",
     "text": [
      "70867.67353582382\n"
     ]
    },
    {
     "name": "stderr",
     "output_type": "stream",
     "text": [
      "100%|█████████████████████████| 272/272 [00:53<00:00,  5.08it/s, D_loss=0.00119, F_loss_=72.1, P_loss=29.3, epoch_=308]\n"
     ]
    },
    {
     "name": "stdout",
     "output_type": "stream",
     "text": [
      "70409.77436447144\n"
     ]
    },
    {
     "name": "stderr",
     "output_type": "stream",
     "text": [
      "100%|███████████████████████| 263/263 [00:07<00:00, 36.22it/s, D_loss=0.000147, F_loss_=0.617, P_loss=89.5, epoch_=308]\n"
     ]
    },
    {
     "name": "stdout",
     "output_type": "stream",
     "text": [
      "68737.69951248169\n"
     ]
    },
    {
     "name": "stderr",
     "output_type": "stream",
     "text": [
      "100%|██████████████████████████| 272/272 [00:51<00:00,  5.25it/s, D_loss=0.000405, F_loss_=133, P_loss=163, epoch_=309]\n"
     ]
    },
    {
     "name": "stdout",
     "output_type": "stream",
     "text": [
      "70717.86121368408\n"
     ]
    },
    {
     "name": "stderr",
     "output_type": "stream",
     "text": [
      "100%|████████████████████████| 263/263 [00:08<00:00, 32.46it/s, D_loss=0.000208, F_loss_=17.2, P_loss=25.8, epoch_=309]\n"
     ]
    },
    {
     "name": "stdout",
     "output_type": "stream",
     "text": [
      "70913.17585277557\n"
     ]
    },
    {
     "name": "stderr",
     "output_type": "stream",
     "text": [
      "100%|███████████████████████████| 272/272 [00:51<00:00,  5.25it/s, D_loss=0.0016, F_loss_=283, P_loss=64.1, epoch_=310]\n"
     ]
    },
    {
     "name": "stdout",
     "output_type": "stream",
     "text": [
      "68464.40991210938\n"
     ]
    },
    {
     "name": "stderr",
     "output_type": "stream",
     "text": [
      "100%|████████████████████████████| 263/263 [00:07<00:00, 34.93it/s, D_loss=5.8e-5, F_loss_=56, P_loss=55.2, epoch_=310]\n"
     ]
    },
    {
     "name": "stdout",
     "output_type": "stream",
     "text": [
      "49626.33399963379\n",
      "save successfully!\n"
     ]
    },
    {
     "name": "stderr",
     "output_type": "stream",
     "text": [
      "100%|███████████████████████████| 272/272 [00:50<00:00,  5.41it/s, D_loss=0.0012, F_loss_=190, P_loss=86.9, epoch_=311]\n"
     ]
    },
    {
     "name": "stdout",
     "output_type": "stream",
     "text": [
      "66704.97328186035\n"
     ]
    },
    {
     "name": "stderr",
     "output_type": "stream",
     "text": [
      "100%|██████████████████████████| 263/263 [00:07<00:00, 36.03it/s, D_loss=0.000333, F_loss_=107, P_loss=192, epoch_=311]\n"
     ]
    },
    {
     "name": "stdout",
     "output_type": "stream",
     "text": [
      "57264.68966341019\n"
     ]
    },
    {
     "name": "stderr",
     "output_type": "stream",
     "text": [
      "100%|██████████████████████████| 272/272 [00:47<00:00,  5.75it/s, D_loss=0.00103, F_loss_=118, P_loss=85.5, epoch_=312]\n"
     ]
    },
    {
     "name": "stdout",
     "output_type": "stream",
     "text": [
      "75389.72269439697\n"
     ]
    },
    {
     "name": "stderr",
     "output_type": "stream",
     "text": [
      "100%|████████████████████████| 263/263 [00:06<00:00, 38.38it/s, D_loss=0.000245, F_loss_=24.6, P_loss=40.3, epoch_=312]\n"
     ]
    },
    {
     "name": "stdout",
     "output_type": "stream",
     "text": [
      "65023.3314704895\n"
     ]
    },
    {
     "name": "stderr",
     "output_type": "stream",
     "text": [
      "100%|██████████████████████████| 272/272 [00:46<00:00,  5.81it/s, D_loss=0.000184, F_loss_=108, P_loss=108, epoch_=313]\n"
     ]
    },
    {
     "name": "stdout",
     "output_type": "stream",
     "text": [
      "61149.52946472168\n"
     ]
    },
    {
     "name": "stderr",
     "output_type": "stream",
     "text": [
      "100%|██████████████████████████| 263/263 [00:06<00:00, 38.46it/s, D_loss=5.52e-5, F_loss_=2.7, P_loss=52.3, epoch_=313]\n"
     ]
    },
    {
     "name": "stdout",
     "output_type": "stream",
     "text": [
      "64324.86128997803\n"
     ]
    },
    {
     "name": "stderr",
     "output_type": "stream",
     "text": [
      "100%|████████████████████████| 272/272 [00:47<00:00,  5.72it/s, D_loss=0.000854, F_loss_=23.7, P_loss=13.9, epoch_=314]\n"
     ]
    },
    {
     "name": "stdout",
     "output_type": "stream",
     "text": [
      "62409.10345077515\n"
     ]
    },
    {
     "name": "stderr",
     "output_type": "stream",
     "text": [
      "100%|████████████████████████| 263/263 [00:06<00:00, 38.05it/s, D_loss=0.000637, F_loss_=29.4, P_loss=10.8, epoch_=314]\n"
     ]
    },
    {
     "name": "stdout",
     "output_type": "stream",
     "text": [
      "47988.96756410599\n"
     ]
    },
    {
     "name": "stderr",
     "output_type": "stream",
     "text": [
      "100%|█████████████████████████| 272/272 [00:47<00:00,  5.74it/s, D_loss=0.000171, F_loss_=132, P_loss=34.9, epoch_=315]\n"
     ]
    },
    {
     "name": "stdout",
     "output_type": "stream",
     "text": [
      "83285.01345825195\n"
     ]
    },
    {
     "name": "stderr",
     "output_type": "stream",
     "text": [
      "100%|██████████████████████████| 263/263 [00:06<00:00, 37.65it/s, D_loss=0.000443, F_loss_=115, P_loss=156, epoch_=315]\n"
     ]
    },
    {
     "name": "stdout",
     "output_type": "stream",
     "text": [
      "92769.16944503784\n",
      "save successfully!\n"
     ]
    },
    {
     "name": "stderr",
     "output_type": "stream",
     "text": [
      "100%|█████████████████████████| 272/272 [00:47<00:00,  5.74it/s, D_loss=7.64e-5, F_loss_=8.99, P_loss=8.53, epoch_=316]\n"
     ]
    },
    {
     "name": "stdout",
     "output_type": "stream",
     "text": [
      "59861.696086883545\n"
     ]
    },
    {
     "name": "stderr",
     "output_type": "stream",
     "text": [
      "100%|████████████████████████| 263/263 [00:06<00:00, 38.34it/s, D_loss=0.000642, F_loss_=28.5, P_loss=38.3, epoch_=316]\n"
     ]
    },
    {
     "name": "stdout",
     "output_type": "stream",
     "text": [
      "51475.97427368164\n"
     ]
    },
    {
     "name": "stderr",
     "output_type": "stream",
     "text": [
      "100%|█████████████████████████| 272/272 [00:48<00:00,  5.55it/s, D_loss=8.7e-5, F_loss_=0.501, P_loss=7.61, epoch_=317]\n"
     ]
    },
    {
     "name": "stdout",
     "output_type": "stream",
     "text": [
      "62091.535824775696\n"
     ]
    },
    {
     "name": "stderr",
     "output_type": "stream",
     "text": [
      "100%|█████████████████████████| 263/263 [00:07<00:00, 36.37it/s, D_loss=0.000174, F_loss_=24.4, P_loss=172, epoch_=317]\n"
     ]
    },
    {
     "name": "stdout",
     "output_type": "stream",
     "text": [
      "84834.20906639099\n"
     ]
    },
    {
     "name": "stderr",
     "output_type": "stream",
     "text": [
      "100%|█████████████████████████| 272/272 [00:49<00:00,  5.47it/s, D_loss=0.000143, F_loss_=660, P_loss=17.2, epoch_=318]\n"
     ]
    },
    {
     "name": "stdout",
     "output_type": "stream",
     "text": [
      "55828.18637084961\n"
     ]
    },
    {
     "name": "stderr",
     "output_type": "stream",
     "text": [
      "100%|█████████████████████████| 263/263 [00:07<00:00, 35.86it/s, D_loss=1.44e-5, F_loss_=26.5, P_loss=9.32, epoch_=318]\n"
     ]
    },
    {
     "name": "stdout",
     "output_type": "stream",
     "text": [
      "62989.383657455444\n"
     ]
    },
    {
     "name": "stderr",
     "output_type": "stream",
     "text": [
      "100%|████████████████████████| 272/272 [00:47<00:00,  5.73it/s, D_loss=0.000118, F_loss_=15.5, P_loss=51.7, epoch_=319]\n"
     ]
    },
    {
     "name": "stdout",
     "output_type": "stream",
     "text": [
      "65274.592224121094\n"
     ]
    },
    {
     "name": "stderr",
     "output_type": "stream",
     "text": [
      "100%|████████████████████████| 263/263 [00:07<00:00, 37.07it/s, D_loss=0.000132, F_loss_=3.25, P_loss=79.5, epoch_=319]\n"
     ]
    },
    {
     "name": "stdout",
     "output_type": "stream",
     "text": [
      "51171.199422836304\n"
     ]
    },
    {
     "name": "stderr",
     "output_type": "stream",
     "text": [
      "100%|███████████████████████████| 272/272 [00:50<00:00,  5.42it/s, D_loss=0.00178, F_loss_=103, P_loss=247, epoch_=320]\n"
     ]
    },
    {
     "name": "stdout",
     "output_type": "stream",
     "text": [
      "63992.5023727417\n"
     ]
    },
    {
     "name": "stderr",
     "output_type": "stream",
     "text": [
      "100%|█████████████████████████| 263/263 [00:07<00:00, 36.23it/s, D_loss=0.000695, F_loss_=92.4, P_loss=335, epoch_=320]\n"
     ]
    },
    {
     "name": "stdout",
     "output_type": "stream",
     "text": [
      "95629.15832138062\n",
      "save successfully!\n"
     ]
    },
    {
     "name": "stderr",
     "output_type": "stream",
     "text": [
      "100%|██████████████████████████| 272/272 [00:50<00:00,  5.43it/s, D_loss=0.000119, F_loss_=547, P_loss=197, epoch_=321]\n"
     ]
    },
    {
     "name": "stdout",
     "output_type": "stream",
     "text": [
      "66409.5590057373\n"
     ]
    },
    {
     "name": "stderr",
     "output_type": "stream",
     "text": [
      "100%|████████████████████████| 263/263 [00:07<00:00, 36.14it/s, D_loss=0.000202, F_loss_=16.4, P_loss=14.3, epoch_=321]\n"
     ]
    },
    {
     "name": "stdout",
     "output_type": "stream",
     "text": [
      "71966.52129364014\n"
     ]
    },
    {
     "name": "stderr",
     "output_type": "stream",
     "text": [
      "100%|████████████████████████| 272/272 [00:48<00:00,  5.64it/s, D_loss=0.000264, F_loss_=38.8, P_loss=28.5, epoch_=322]\n"
     ]
    },
    {
     "name": "stdout",
     "output_type": "stream",
     "text": [
      "67216.04474639893\n"
     ]
    },
    {
     "name": "stderr",
     "output_type": "stream",
     "text": [
      "100%|█████████████████████████| 263/263 [00:06<00:00, 37.82it/s, D_loss=2.38e-5, F_loss_=10.9, P_loss=27.6, epoch_=322]\n"
     ]
    },
    {
     "name": "stdout",
     "output_type": "stream",
     "text": [
      "51182.78097438812\n"
     ]
    },
    {
     "name": "stderr",
     "output_type": "stream",
     "text": [
      "100%|█████████████████████████| 272/272 [00:47<00:00,  5.73it/s, D_loss=1.23e-5, F_loss_=30.9, P_loss=49.1, epoch_=323]\n"
     ]
    },
    {
     "name": "stdout",
     "output_type": "stream",
     "text": [
      "61750.084075927734\n"
     ]
    },
    {
     "name": "stderr",
     "output_type": "stream",
     "text": [
      "100%|██████████████████████████| 263/263 [00:06<00:00, 37.85it/s, D_loss=7.81e-5, F_loss_=39.7, P_loss=120, epoch_=323]\n"
     ]
    },
    {
     "name": "stdout",
     "output_type": "stream",
     "text": [
      "72888.95685958862\n"
     ]
    },
    {
     "name": "stderr",
     "output_type": "stream",
     "text": [
      "100%|███████████████████████████| 272/272 [00:49<00:00,  5.49it/s, D_loss=4.15e-5, F_loss_=25, P_loss=21.4, epoch_=324]\n"
     ]
    },
    {
     "name": "stdout",
     "output_type": "stream",
     "text": [
      "55376.30961608887\n"
     ]
    },
    {
     "name": "stderr",
     "output_type": "stream",
     "text": [
      "100%|█████████████████████████| 263/263 [00:06<00:00, 38.32it/s, D_loss=0.000526, F_loss_=18.5, P_loss=153, epoch_=324]\n"
     ]
    },
    {
     "name": "stdout",
     "output_type": "stream",
     "text": [
      "76692.05890274048\n"
     ]
    },
    {
     "name": "stderr",
     "output_type": "stream",
     "text": [
      "100%|██████████████████████████| 272/272 [00:48<00:00,  5.56it/s, D_loss=0.000658, F_loss_=51, P_loss=66.4, epoch_=325]\n"
     ]
    },
    {
     "name": "stdout",
     "output_type": "stream",
     "text": [
      "55180.57053375244\n"
     ]
    },
    {
     "name": "stderr",
     "output_type": "stream",
     "text": [
      "100%|██████████████████████████| 263/263 [00:06<00:00, 38.58it/s, D_loss=0.00043, F_loss_=41.6, P_loss=130, epoch_=325]\n"
     ]
    },
    {
     "name": "stdout",
     "output_type": "stream",
     "text": [
      "75133.61562728882\n",
      "save successfully!\n"
     ]
    },
    {
     "name": "stderr",
     "output_type": "stream",
     "text": [
      "100%|██████████████████████████| 272/272 [00:49<00:00,  5.52it/s, D_loss=3.34e-5, F_loss_=136, P_loss=18.3, epoch_=326]\n"
     ]
    },
    {
     "name": "stdout",
     "output_type": "stream",
     "text": [
      "61185.524909973145\n"
     ]
    },
    {
     "name": "stderr",
     "output_type": "stream",
     "text": [
      "100%|█████████████████████████| 263/263 [00:06<00:00, 38.15it/s, D_loss=0.000128, F_loss_=61.8, P_loss=128, epoch_=326]\n"
     ]
    },
    {
     "name": "stdout",
     "output_type": "stream",
     "text": [
      "67374.09614944458\n"
     ]
    },
    {
     "name": "stderr",
     "output_type": "stream",
     "text": [
      "100%|█████████████████████████| 272/272 [00:47<00:00,  5.67it/s, D_loss=0.000139, F_loss_=67.5, P_loss=277, epoch_=327]\n"
     ]
    },
    {
     "name": "stdout",
     "output_type": "stream",
     "text": [
      "71402.28165435791\n"
     ]
    },
    {
     "name": "stderr",
     "output_type": "stream",
     "text": [
      "100%|██████████████████████████| 263/263 [00:07<00:00, 36.69it/s, D_loss=0.000136, F_loss_=114, P_loss=208, epoch_=327]\n"
     ]
    },
    {
     "name": "stdout",
     "output_type": "stream",
     "text": [
      "87253.42918777466\n"
     ]
    },
    {
     "name": "stderr",
     "output_type": "stream",
     "text": [
      "100%|███████████████████████████| 272/272 [00:47<00:00,  5.77it/s, D_loss=0.000597, F_loss_=22, P_loss=155, epoch_=328]\n"
     ]
    },
    {
     "name": "stdout",
     "output_type": "stream",
     "text": [
      "60028.10908508301\n"
     ]
    },
    {
     "name": "stderr",
     "output_type": "stream",
     "text": [
      "100%|████████████████████████| 263/263 [00:06<00:00, 38.49it/s, D_loss=0.000524, F_loss_=57.4, P_loss=69.3, epoch_=328]\n"
     ]
    },
    {
     "name": "stdout",
     "output_type": "stream",
     "text": [
      "48415.92854595184\n"
     ]
    },
    {
     "name": "stderr",
     "output_type": "stream",
     "text": [
      "100%|█████████████████████████| 272/272 [00:46<00:00,  5.87it/s, D_loss=0.000127, F_loss_=168, P_loss=35.5, epoch_=329]\n"
     ]
    },
    {
     "name": "stdout",
     "output_type": "stream",
     "text": [
      "53380.093364715576\n"
     ]
    },
    {
     "name": "stderr",
     "output_type": "stream",
     "text": [
      "100%|██████████████████████████| 263/263 [00:06<00:00, 38.44it/s, D_loss=0.00127, F_loss_=11.4, P_loss=165, epoch_=329]\n"
     ]
    },
    {
     "name": "stdout",
     "output_type": "stream",
     "text": [
      "67309.27228546143\n"
     ]
    },
    {
     "name": "stderr",
     "output_type": "stream",
     "text": [
      "100%|████████████████████████| 272/272 [00:46<00:00,  5.80it/s, D_loss=0.000238, F_loss_=18.5, P_loss=39.6, epoch_=330]\n"
     ]
    },
    {
     "name": "stdout",
     "output_type": "stream",
     "text": [
      "61155.31132507324\n"
     ]
    },
    {
     "name": "stderr",
     "output_type": "stream",
     "text": [
      "100%|████████████████████████| 263/263 [00:07<00:00, 35.21it/s, D_loss=0.000217, F_loss_=50.8, P_loss=19.2, epoch_=330]\n"
     ]
    },
    {
     "name": "stdout",
     "output_type": "stream",
     "text": [
      "63826.267577171326\n",
      "save successfully!\n"
     ]
    },
    {
     "name": "stderr",
     "output_type": "stream",
     "text": [
      "100%|█████████████████████████| 272/272 [00:49<00:00,  5.55it/s, D_loss=0.000139, F_loss_=126, P_loss=89.8, epoch_=331]\n"
     ]
    },
    {
     "name": "stdout",
     "output_type": "stream",
     "text": [
      "67070.27922058105\n"
     ]
    },
    {
     "name": "stderr",
     "output_type": "stream",
     "text": [
      "100%|█████████████████████████| 263/263 [00:07<00:00, 37.37it/s, D_loss=8.11e-5, F_loss_=3.72, P_loss=31.6, epoch_=331]\n"
     ]
    },
    {
     "name": "stdout",
     "output_type": "stream",
     "text": [
      "44347.325333595276\n"
     ]
    },
    {
     "name": "stderr",
     "output_type": "stream",
     "text": [
      "100%|████████████████████████| 272/272 [00:48<00:00,  5.58it/s, D_loss=0.000209, F_loss_=5.98, P_loss=25.8, epoch_=332]\n"
     ]
    },
    {
     "name": "stdout",
     "output_type": "stream",
     "text": [
      "68034.70638465881\n"
     ]
    },
    {
     "name": "stderr",
     "output_type": "stream",
     "text": [
      "100%|███████████████████████████| 263/263 [00:07<00:00, 36.27it/s, D_loss=7.14e-5, F_loss_=86, P_loss=60.6, epoch_=332]\n"
     ]
    },
    {
     "name": "stdout",
     "output_type": "stream",
     "text": [
      "50280.9571352005\n"
     ]
    },
    {
     "name": "stderr",
     "output_type": "stream",
     "text": [
      "100%|███████████████████████████| 272/272 [00:47<00:00,  5.67it/s, D_loss=0.000361, F_loss_=24, P_loss=5.9, epoch_=333]\n"
     ]
    },
    {
     "name": "stdout",
     "output_type": "stream",
     "text": [
      "54807.62022781372\n"
     ]
    },
    {
     "name": "stderr",
     "output_type": "stream",
     "text": [
      "100%|████████████████████████| 263/263 [00:07<00:00, 34.41it/s, D_loss=0.000591, F_loss_=56.3, P_loss=29.2, epoch_=333]\n"
     ]
    },
    {
     "name": "stdout",
     "output_type": "stream",
     "text": [
      "64950.58874416351\n"
     ]
    },
    {
     "name": "stderr",
     "output_type": "stream",
     "text": [
      " 15%|███▉                      | 41/272 [00:07<00:43,  5.35it/s, D_loss=0.000232, F_loss_=149, P_loss=83.9, epoch_=334]\n"
     ]
    },
    {
     "ename": "KeyboardInterrupt",
     "evalue": "",
     "output_type": "error",
     "traceback": [
      "\u001b[1;31m---------------------------------------------------------------------------\u001b[0m",
      "\u001b[1;31mKeyboardInterrupt\u001b[0m                         Traceback (most recent call last)",
      "Input \u001b[1;32mIn [15]\u001b[0m, in \u001b[0;36m<cell line: 2>\u001b[1;34m()\u001b[0m\n\u001b[0;32m      5\u001b[0m train_loop\u001b[38;5;241m=\u001b[39mtqdm\u001b[38;5;241m.\u001b[39mtqdm(datasets_train)\n\u001b[0;32m      6\u001b[0m epoch_loss\u001b[38;5;241m=\u001b[39m\u001b[38;5;241m0\u001b[39m\n\u001b[1;32m----> 7\u001b[0m \u001b[38;5;28;01mfor\u001b[39;00m i, (image,us_image,F,P,D,label_F,label_P,label_D) \u001b[38;5;129;01min\u001b[39;00m \u001b[38;5;28menumerate\u001b[39m(train_loop):\n\u001b[0;32m      8\u001b[0m     image\u001b[38;5;241m=\u001b[39mimage\u001b[38;5;241m.\u001b[39mto(device)\n\u001b[0;32m      9\u001b[0m     us_image\u001b[38;5;241m=\u001b[39mus_image\u001b[38;5;241m.\u001b[39mto(device)\n",
      "File \u001b[1;32mC:\\anaconda\\lib\\site-packages\\tqdm\\std.py:1195\u001b[0m, in \u001b[0;36mtqdm.__iter__\u001b[1;34m(self)\u001b[0m\n\u001b[0;32m   1192\u001b[0m time \u001b[38;5;241m=\u001b[39m \u001b[38;5;28mself\u001b[39m\u001b[38;5;241m.\u001b[39m_time\n\u001b[0;32m   1194\u001b[0m \u001b[38;5;28;01mtry\u001b[39;00m:\n\u001b[1;32m-> 1195\u001b[0m     \u001b[38;5;28;01mfor\u001b[39;00m obj \u001b[38;5;129;01min\u001b[39;00m iterable:\n\u001b[0;32m   1196\u001b[0m         \u001b[38;5;28;01myield\u001b[39;00m obj\n\u001b[0;32m   1197\u001b[0m         \u001b[38;5;66;03m# Update and possibly print the progressbar.\u001b[39;00m\n\u001b[0;32m   1198\u001b[0m         \u001b[38;5;66;03m# Note: does not call self.update(1) for speed optimisation.\u001b[39;00m\n",
      "File \u001b[1;32mC:\\anaconda\\lib\\site-packages\\torch\\utils\\data\\dataloader.py:435\u001b[0m, in \u001b[0;36m_BaseDataLoaderIter.__next__\u001b[1;34m(self)\u001b[0m\n\u001b[0;32m    433\u001b[0m \u001b[38;5;28;01mif\u001b[39;00m \u001b[38;5;28mself\u001b[39m\u001b[38;5;241m.\u001b[39m_sampler_iter \u001b[38;5;129;01mis\u001b[39;00m \u001b[38;5;28;01mNone\u001b[39;00m:\n\u001b[0;32m    434\u001b[0m     \u001b[38;5;28mself\u001b[39m\u001b[38;5;241m.\u001b[39m_reset()\n\u001b[1;32m--> 435\u001b[0m data \u001b[38;5;241m=\u001b[39m \u001b[38;5;28;43mself\u001b[39;49m\u001b[38;5;241;43m.\u001b[39;49m\u001b[43m_next_data\u001b[49m\u001b[43m(\u001b[49m\u001b[43m)\u001b[49m\n\u001b[0;32m    436\u001b[0m \u001b[38;5;28mself\u001b[39m\u001b[38;5;241m.\u001b[39m_num_yielded \u001b[38;5;241m+\u001b[39m\u001b[38;5;241m=\u001b[39m \u001b[38;5;241m1\u001b[39m\n\u001b[0;32m    437\u001b[0m \u001b[38;5;28;01mif\u001b[39;00m \u001b[38;5;28mself\u001b[39m\u001b[38;5;241m.\u001b[39m_dataset_kind \u001b[38;5;241m==\u001b[39m _DatasetKind\u001b[38;5;241m.\u001b[39mIterable \u001b[38;5;129;01mand\u001b[39;00m \\\n\u001b[0;32m    438\u001b[0m         \u001b[38;5;28mself\u001b[39m\u001b[38;5;241m.\u001b[39m_IterableDataset_len_called \u001b[38;5;129;01mis\u001b[39;00m \u001b[38;5;129;01mnot\u001b[39;00m \u001b[38;5;28;01mNone\u001b[39;00m \u001b[38;5;129;01mand\u001b[39;00m \\\n\u001b[0;32m    439\u001b[0m         \u001b[38;5;28mself\u001b[39m\u001b[38;5;241m.\u001b[39m_num_yielded \u001b[38;5;241m>\u001b[39m \u001b[38;5;28mself\u001b[39m\u001b[38;5;241m.\u001b[39m_IterableDataset_len_called:\n",
      "File \u001b[1;32mC:\\anaconda\\lib\\site-packages\\torch\\utils\\data\\dataloader.py:475\u001b[0m, in \u001b[0;36m_SingleProcessDataLoaderIter._next_data\u001b[1;34m(self)\u001b[0m\n\u001b[0;32m    473\u001b[0m \u001b[38;5;28;01mdef\u001b[39;00m \u001b[38;5;21m_next_data\u001b[39m(\u001b[38;5;28mself\u001b[39m):\n\u001b[0;32m    474\u001b[0m     index \u001b[38;5;241m=\u001b[39m \u001b[38;5;28mself\u001b[39m\u001b[38;5;241m.\u001b[39m_next_index()  \u001b[38;5;66;03m# may raise StopIteration\u001b[39;00m\n\u001b[1;32m--> 475\u001b[0m     data \u001b[38;5;241m=\u001b[39m \u001b[38;5;28;43mself\u001b[39;49m\u001b[38;5;241;43m.\u001b[39;49m\u001b[43m_dataset_fetcher\u001b[49m\u001b[38;5;241;43m.\u001b[39;49m\u001b[43mfetch\u001b[49m\u001b[43m(\u001b[49m\u001b[43mindex\u001b[49m\u001b[43m)\u001b[49m  \u001b[38;5;66;03m# may raise StopIteration\u001b[39;00m\n\u001b[0;32m    476\u001b[0m     \u001b[38;5;28;01mif\u001b[39;00m \u001b[38;5;28mself\u001b[39m\u001b[38;5;241m.\u001b[39m_pin_memory:\n\u001b[0;32m    477\u001b[0m         data \u001b[38;5;241m=\u001b[39m _utils\u001b[38;5;241m.\u001b[39mpin_memory\u001b[38;5;241m.\u001b[39mpin_memory(data)\n",
      "File \u001b[1;32mC:\\anaconda\\lib\\site-packages\\torch\\utils\\data\\_utils\\fetch.py:44\u001b[0m, in \u001b[0;36m_MapDatasetFetcher.fetch\u001b[1;34m(self, possibly_batched_index)\u001b[0m\n\u001b[0;32m     42\u001b[0m \u001b[38;5;28;01mdef\u001b[39;00m \u001b[38;5;21mfetch\u001b[39m(\u001b[38;5;28mself\u001b[39m, possibly_batched_index):\n\u001b[0;32m     43\u001b[0m     \u001b[38;5;28;01mif\u001b[39;00m \u001b[38;5;28mself\u001b[39m\u001b[38;5;241m.\u001b[39mauto_collation:\n\u001b[1;32m---> 44\u001b[0m         data \u001b[38;5;241m=\u001b[39m [\u001b[38;5;28mself\u001b[39m\u001b[38;5;241m.\u001b[39mdataset[idx] \u001b[38;5;28;01mfor\u001b[39;00m idx \u001b[38;5;129;01min\u001b[39;00m possibly_batched_index]\n\u001b[0;32m     45\u001b[0m     \u001b[38;5;28;01melse\u001b[39;00m:\n\u001b[0;32m     46\u001b[0m         data \u001b[38;5;241m=\u001b[39m \u001b[38;5;28mself\u001b[39m\u001b[38;5;241m.\u001b[39mdataset[possibly_batched_index]\n",
      "File \u001b[1;32mC:\\anaconda\\lib\\site-packages\\torch\\utils\\data\\_utils\\fetch.py:44\u001b[0m, in \u001b[0;36m<listcomp>\u001b[1;34m(.0)\u001b[0m\n\u001b[0;32m     42\u001b[0m \u001b[38;5;28;01mdef\u001b[39;00m \u001b[38;5;21mfetch\u001b[39m(\u001b[38;5;28mself\u001b[39m, possibly_batched_index):\n\u001b[0;32m     43\u001b[0m     \u001b[38;5;28;01mif\u001b[39;00m \u001b[38;5;28mself\u001b[39m\u001b[38;5;241m.\u001b[39mauto_collation:\n\u001b[1;32m---> 44\u001b[0m         data \u001b[38;5;241m=\u001b[39m [\u001b[38;5;28;43mself\u001b[39;49m\u001b[38;5;241;43m.\u001b[39;49m\u001b[43mdataset\u001b[49m\u001b[43m[\u001b[49m\u001b[43midx\u001b[49m\u001b[43m]\u001b[49m \u001b[38;5;28;01mfor\u001b[39;00m idx \u001b[38;5;129;01min\u001b[39;00m possibly_batched_index]\n\u001b[0;32m     45\u001b[0m     \u001b[38;5;28;01melse\u001b[39;00m:\n\u001b[0;32m     46\u001b[0m         data \u001b[38;5;241m=\u001b[39m \u001b[38;5;28mself\u001b[39m\u001b[38;5;241m.\u001b[39mdataset[possibly_batched_index]\n",
      "File \u001b[1;32m~\\Desktop\\git\\multimodel\\dataloader.py:58\u001b[0m, in \u001b[0;36mMyDataset.__getitem__\u001b[1;34m(self, index)\u001b[0m\n\u001b[0;32m     55\u001b[0m label_F \u001b[38;5;241m=\u001b[39m np\u001b[38;5;241m.\u001b[39mload(label_F_path)\n\u001b[0;32m     57\u001b[0m img \u001b[38;5;241m=\u001b[39m keep_image_size_open_rgb(RGB_img_path)\n\u001b[1;32m---> 58\u001b[0m us_img \u001b[38;5;241m=\u001b[39m \u001b[43mkeep_image_size_open_rgb\u001b[49m\u001b[43m(\u001b[49m\u001b[43mUS_img_path\u001b[49m\u001b[43m)\u001b[49m\n\u001b[0;32m     60\u001b[0m F \u001b[38;5;241m=\u001b[39m F \u001b[38;5;241m*\u001b[39m \u001b[38;5;241m100\u001b[39m\n\u001b[0;32m     61\u001b[0m label_F \u001b[38;5;241m=\u001b[39m label_F \u001b[38;5;241m*\u001b[39m \u001b[38;5;241m100\u001b[39m\n",
      "File \u001b[1;32m~\\Desktop\\git\\multimodel\\dataloader.py:24\u001b[0m, in \u001b[0;36mkeep_image_size_open_rgb\u001b[1;34m(path, size)\u001b[0m\n\u001b[0;32m     22\u001b[0m mask \u001b[38;5;241m=\u001b[39m Image\u001b[38;5;241m.\u001b[39mnew(\u001b[38;5;124m'\u001b[39m\u001b[38;5;124mRGB\u001b[39m\u001b[38;5;124m'\u001b[39m, (temp, temp))\n\u001b[0;32m     23\u001b[0m mask\u001b[38;5;241m.\u001b[39mpaste(img, (\u001b[38;5;241m0\u001b[39m, \u001b[38;5;241m0\u001b[39m))\n\u001b[1;32m---> 24\u001b[0m mask \u001b[38;5;241m=\u001b[39m \u001b[43mmask\u001b[49m\u001b[38;5;241;43m.\u001b[39;49m\u001b[43mresize\u001b[49m\u001b[43m(\u001b[49m\u001b[43msize\u001b[49m\u001b[43m)\u001b[49m\n\u001b[0;32m     25\u001b[0m \u001b[38;5;28;01mreturn\u001b[39;00m mask\n",
      "File \u001b[1;32mC:\\anaconda\\lib\\site-packages\\PIL\\Image.py:1980\u001b[0m, in \u001b[0;36mImage.resize\u001b[1;34m(self, size, resample, box, reducing_gap)\u001b[0m\n\u001b[0;32m   1972\u001b[0m             \u001b[38;5;28mself\u001b[39m \u001b[38;5;241m=\u001b[39m Image\u001b[38;5;241m.\u001b[39mreduce(\u001b[38;5;28mself\u001b[39m, factor, box\u001b[38;5;241m=\u001b[39mreduce_box)\n\u001b[0;32m   1973\u001b[0m         box \u001b[38;5;241m=\u001b[39m (\n\u001b[0;32m   1974\u001b[0m             (box[\u001b[38;5;241m0\u001b[39m] \u001b[38;5;241m-\u001b[39m reduce_box[\u001b[38;5;241m0\u001b[39m]) \u001b[38;5;241m/\u001b[39m factor_x,\n\u001b[0;32m   1975\u001b[0m             (box[\u001b[38;5;241m1\u001b[39m] \u001b[38;5;241m-\u001b[39m reduce_box[\u001b[38;5;241m1\u001b[39m]) \u001b[38;5;241m/\u001b[39m factor_y,\n\u001b[0;32m   1976\u001b[0m             (box[\u001b[38;5;241m2\u001b[39m] \u001b[38;5;241m-\u001b[39m reduce_box[\u001b[38;5;241m0\u001b[39m]) \u001b[38;5;241m/\u001b[39m factor_x,\n\u001b[0;32m   1977\u001b[0m             (box[\u001b[38;5;241m3\u001b[39m] \u001b[38;5;241m-\u001b[39m reduce_box[\u001b[38;5;241m1\u001b[39m]) \u001b[38;5;241m/\u001b[39m factor_y,\n\u001b[0;32m   1978\u001b[0m         )\n\u001b[1;32m-> 1980\u001b[0m \u001b[38;5;28;01mreturn\u001b[39;00m \u001b[38;5;28mself\u001b[39m\u001b[38;5;241m.\u001b[39m_new(\u001b[38;5;28;43mself\u001b[39;49m\u001b[38;5;241;43m.\u001b[39;49m\u001b[43mim\u001b[49m\u001b[38;5;241;43m.\u001b[39;49m\u001b[43mresize\u001b[49m\u001b[43m(\u001b[49m\u001b[43msize\u001b[49m\u001b[43m,\u001b[49m\u001b[43m \u001b[49m\u001b[43mresample\u001b[49m\u001b[43m,\u001b[49m\u001b[43m \u001b[49m\u001b[43mbox\u001b[49m\u001b[43m)\u001b[49m)\n",
      "\u001b[1;31mKeyboardInterrupt\u001b[0m: "
     ]
    }
   ],
   "source": [
    "epoch = 0\n",
    "while epoch < 501:\n",
    "    model.train()\n",
    "    # 训练集\n",
    "    train_loop=tqdm.tqdm(datasets_train)\n",
    "    epoch_loss=0\n",
    "    for i, (image,us_image,F,P,D,label_F,label_P,label_D) in enumerate(train_loop):\n",
    "        image=image.to(device)\n",
    "        us_image=us_image.to(device)\n",
    "        \n",
    "        F=F.to(device)\n",
    "        P=P.to(device)\n",
    "        D=D.to(device)\n",
    "        \n",
    "        label_F=label_F.to(device)\n",
    "        label_P=label_P.to(device)\n",
    "        label_D=label_D.to(device)\n",
    "        \n",
    "        F_out,P_out,D_out = model(image,us_image, F, P, D)\n",
    "        \n",
    "        F_loss=loss_F(F_out,label_F)\n",
    "        P_loss=loss_P(P_out,label_P)\n",
    "        D_loss=loss_D(D_out,label_D)\n",
    "        \n",
    "        total_loss=(F_loss+P_loss+D_loss)\n",
    "        train_loop.set_postfix(F_loss_=F_loss.item(), D_loss=D_loss.item(), P_loss=P_loss.item(), epoch_=epoch)\n",
    "        epoch_loss+=total_loss.item()\n",
    "        opt.zero_grad()\n",
    "        total_loss.backward()\n",
    "        opt.step()\n",
    "    print(epoch_loss)\n",
    "    #验证集\n",
    "    if val_ratio != 0:\n",
    "        epoch_loss=0\n",
    "        model.eval()\n",
    "        val_loop=tqdm.tqdm(datasets_val)\n",
    "        for i, (image,us_image,F,P,D,label_F,label_P,label_D) in enumerate(val_loop):\n",
    "            image=image.to(device)\n",
    "            us_image=us_image.to(device)\n",
    "            \n",
    "            F=F.to(device)\n",
    "            P=P.to(device)\n",
    "            D=D.to(device)\n",
    "        \n",
    "            label_F=label_F.to(device)\n",
    "            label_P=label_P.to(device)\n",
    "            label_D=label_D.to(device)\n",
    "        \n",
    "            F_out,P_out,D_out = model(image,us_image, F, P, D)\n",
    "        \n",
    "            F_loss=loss_F(F_out,label_F)\n",
    "            P_loss=loss_P(P_out,label_P)\n",
    "            D_loss=loss_D(D_out,label_D)\n",
    "        \n",
    "            total_loss=(F_loss+P_loss+D_loss)\n",
    "            val_loop.set_postfix(F_loss_=F_loss.item(), D_loss=D_loss.item(), P_loss=P_loss.item(), epoch_=epoch)\n",
    "            epoch_loss+=total_loss.item()\n",
    "            if i == 0:\n",
    "                tb.add_scalar(\"val/loss/F_loss\", F_loss.item(), global_cnt_val)\n",
    "                tb.add_scalar(\"val/loss/P_loss\", P_loss.item(), global_cnt_val)\n",
    "                tb.add_scalar(\"val/loss/D_loss\", D_loss.item(), global_cnt_val)\n",
    "                global_cnt_val += 1\n",
    "        print(epoch_loss)\n",
    "        \n",
    "    \n",
    "    \n",
    "    \n",
    "    if epoch % 5 == 0:\n",
    "        weight_path = os.path.join(log_folder, \"models\", \"weights_itr_{}.pth\".format(epoch))\n",
    "        torch.save(model.state_dict(), weight_path)\n",
    "        print('save successfully!')\n",
    "    epoch += 1\n"
   ]
  },
  {
   "cell_type": "code",
   "execution_count": null,
   "id": "1e8bd914",
   "metadata": {},
   "outputs": [],
   "source": []
  }
 ],
 "metadata": {
  "kernelspec": {
   "display_name": "Python 3 (ipykernel)",
   "language": "python",
   "name": "python3"
  },
  "language_info": {
   "codemirror_mode": {
    "name": "ipython",
    "version": 3
   },
   "file_extension": ".py",
   "mimetype": "text/x-python",
   "name": "python",
   "nbconvert_exporter": "python",
   "pygments_lexer": "ipython3",
   "version": "3.9.7"
  }
 },
 "nbformat": 4,
 "nbformat_minor": 5
}
