{
 "cells": [
  {
   "cell_type": "code",
   "execution_count": 16,
   "id": "f347e359",
   "metadata": {},
   "outputs": [],
   "source": [
    "import os\n",
    "\n",
    "import tqdm\n",
    "from torch import nn, optim\n",
    "import torch\n",
    "from torch.utils.data import DataLoader\n",
    "from dataloader import *\n",
    "from model import *\n",
    "from torchvision.utils import save_image"
   ]
  },
  {
   "cell_type": "code",
   "execution_count": 17,
   "id": "c203b332",
   "metadata": {},
   "outputs": [],
   "source": [
    "from tensorboardX import SummaryWriter\n",
    "import datetime\n",
    "import time\n",
    "import os\n",
    "\n",
    "import logging\n",
    "import sys\n",
    "import yaml"
   ]
  },
  {
   "cell_type": "code",
   "execution_count": 18,
   "id": "5d35be8b",
   "metadata": {},
   "outputs": [],
   "source": [
    "def create_folder_structure(log_folder):\n",
    "    \"\"\"\n",
    "    Creates the folder structure for logging. Subfolders can be added here\n",
    "    \"\"\"\n",
    "    base_dir = log_folder\n",
    "    sub_folders = [\"runs\", \"models\"]\n",
    "\n",
    "    if not os.path.exists(base_dir):\n",
    "        os.mkdir(base_dir)\n",
    "\n",
    "    for sf in sub_folders:\n",
    "        if not os.path.exists(os.path.join(base_dir, sf)):\n",
    "            os.mkdir(os.path.join(base_dir, sf))"
   ]
  },
  {
   "cell_type": "code",
   "execution_count": 19,
   "id": "85b42877",
   "metadata": {},
   "outputs": [],
   "source": [
    "log_name=\"2C\"\n",
    "log_folder = os.path.join(\"./log\", log_name)\n",
    "tb_prefix = log_name\n",
    "\n",
    "\n",
    "create_folder_structure(log_folder)\n",
    "\n",
    "log_path = os.path.join(log_folder, \"log.log\")\n",
    "print_logger = logging.getLogger()\n",
    "print_logger.setLevel(getattr(logging, 'INFO', None))\n",
    "handlers = [logging.StreamHandler(sys.stdout), logging.FileHandler(log_path)]\n",
    "formatter = logging.Formatter(\"%(levelname)s - %(filename)s - %(asctime)s - %(message)s\")\n",
    "for h in handlers:\n",
    "    h.setFormatter(formatter)\n",
    "    print_logger.addHandler(h)\n",
    "tb = SummaryWriter(os.path.join(log_folder, \"runs\", tb_prefix))"
   ]
  },
  {
   "cell_type": "code",
   "execution_count": 20,
   "id": "7d864ca7",
   "metadata": {},
   "outputs": [],
   "source": [
    "def logprint(self, *args):\n",
    "    \"\"\"\n",
    "    Wrapper for print statement\n",
    "    \"\"\"\n",
    "    print_logger.info(args)\n"
   ]
  },
  {
   "cell_type": "code",
   "execution_count": 21,
   "id": "f7f19a4c",
   "metadata": {},
   "outputs": [],
   "source": [
    "device = torch.device('cuda' if torch.cuda.is_available() else 'cpu')\n",
    "data_path = r'data'\n",
    "val_path = r'val_data'\n",
    "val_ratio=1"
   ]
  },
  {
   "cell_type": "code",
   "execution_count": 22,
   "id": "df43a843",
   "metadata": {},
   "outputs": [],
   "source": [
    "filename_list = []\n",
    "for file in os.listdir(os.path.join(data_path,\"D_real\")):\n",
    "    filename_list.append(file)"
   ]
  },
  {
   "cell_type": "code",
   "execution_count": 23,
   "id": "20a95671",
   "metadata": {},
   "outputs": [],
   "source": [
    "val_filename_list = []\n",
    "for file in os.listdir(os.path.join(val_path,\"D_real\")):\n",
    "    val_filename_list.append(file)"
   ]
  },
  {
   "cell_type": "code",
   "execution_count": 24,
   "id": "bcb6769b",
   "metadata": {},
   "outputs": [],
   "source": [
    "global_cnt_val=0"
   ]
  },
  {
   "cell_type": "code",
   "execution_count": 25,
   "id": "9b66b159",
   "metadata": {},
   "outputs": [],
   "source": [
    "datasets_train=DataLoader(MyDataset(data_path,filename_list), batch_size=8, shuffle=True)\n",
    "datasets_val =DataLoader(MyDataset(data_path,val_filename_list), batch_size=1, shuffle=False)"
   ]
  },
  {
   "cell_type": "code",
   "execution_count": 26,
   "id": "4a1be7dd",
   "metadata": {},
   "outputs": [],
   "source": [
    "train_len_data = len(datasets_train)\n",
    "val_len_data=len(datasets_val)"
   ]
  },
  {
   "cell_type": "code",
   "execution_count": 27,
   "id": "11f00be6",
   "metadata": {},
   "outputs": [],
   "source": [
    "model = SensorFusion(device=device).to(device)"
   ]
  },
  {
   "cell_type": "code",
   "execution_count": 28,
   "id": "2603c6eb",
   "metadata": {},
   "outputs": [],
   "source": [
    "opt= optim.Adam(\n",
    "    model.parameters(),\n",
    "    lr=0.0001,\n",
    "    betas=(0.9, 0.999),\n",
    "    weight_decay=0.0,\n",
    ")"
   ]
  },
  {
   "cell_type": "code",
   "execution_count": 29,
   "id": "2635e0f7",
   "metadata": {},
   "outputs": [],
   "source": [
    "loss_P = nn.MSELoss()\n",
    "loss_F = nn.MSELoss()\n",
    "loss_D = nn.MSELoss()"
   ]
  },
  {
   "cell_type": "code",
   "execution_count": 30,
   "id": "1cf4736c",
   "metadata": {},
   "outputs": [
    {
     "name": "stderr",
     "output_type": "stream",
     "text": [
      "100%|█████████████████████████| 279/279 [00:46<00:00,  6.02it/s, D_loss=0.00287, F_loss_=1.11e+3, P_loss=109, epoch_=0]\n"
     ]
    },
    {
     "name": "stdout",
     "output_type": "stream",
     "text": [
      "4974638.614471436\n"
     ]
    },
    {
     "name": "stderr",
     "output_type": "stream",
     "text": [
      "100%|█████████████████████████| 224/224 [00:05<00:00, 38.06it/s, D_loss=0.00114, F_loss_=1.54e+3, P_loss=104, epoch_=0]\n"
     ]
    },
    {
     "name": "stdout",
     "output_type": "stream",
     "text": [
      "357720.19023132324\n",
      "save successfully!\n"
     ]
    },
    {
     "name": "stderr",
     "output_type": "stream",
     "text": [
      "100%|██████████████████████████████| 279/279 [00:45<00:00,  6.08it/s, D_loss=0.0156, F_loss_=990, P_loss=242, epoch_=1]\n"
     ]
    },
    {
     "name": "stdout",
     "output_type": "stream",
     "text": [
      "358118.62506103516\n"
     ]
    },
    {
     "name": "stderr",
     "output_type": "stream",
     "text": [
      "100%|███████████████████████████████| 224/224 [00:05<00:00, 38.62it/s, D_loss=0.011, F_loss_=745, P_loss=131, epoch_=1]\n"
     ]
    },
    {
     "name": "stdout",
     "output_type": "stream",
     "text": [
      "225677.06089782715\n"
     ]
    },
    {
     "name": "stderr",
     "output_type": "stream",
     "text": [
      "100%|███████████████████████████| 279/279 [00:46<00:00,  6.00it/s, D_loss=0.00404, F_loss_=55.3, P_loss=97.1, epoch_=2]\n"
     ]
    },
    {
     "name": "stdout",
     "output_type": "stream",
     "text": [
      "78076.12378692627\n"
     ]
    },
    {
     "name": "stderr",
     "output_type": "stream",
     "text": [
      "100%|██████████████████████████████| 224/224 [00:05<00:00, 37.60it/s, D_loss=0.0104, F_loss_=42, P_loss=90.1, epoch_=2]\n"
     ]
    },
    {
     "name": "stdout",
     "output_type": "stream",
     "text": [
      "43073.210121154785\n"
     ]
    },
    {
     "name": "stderr",
     "output_type": "stream",
     "text": [
      "100%|██████████████████████████████| 279/279 [00:46<00:00,  6.06it/s, D_loss=0.0212, F_loss_=175, P_loss=142, epoch_=3]\n"
     ]
    },
    {
     "name": "stdout",
     "output_type": "stream",
     "text": [
      "63142.01224517822\n"
     ]
    },
    {
     "name": "stderr",
     "output_type": "stream",
     "text": [
      "100%|████████████████████████████| 224/224 [00:05<00:00, 38.45it/s, D_loss=0.00761, F_loss_=32.7, P_loss=101, epoch_=3]\n"
     ]
    },
    {
     "name": "stdout",
     "output_type": "stream",
     "text": [
      "45274.732902526855\n"
     ]
    },
    {
     "name": "stderr",
     "output_type": "stream",
     "text": [
      "100%|█████████████████████████████| 279/279 [00:47<00:00,  5.81it/s, D_loss=0.0106, F_loss_=158, P_loss=47.2, epoch_=4]\n"
     ]
    },
    {
     "name": "stdout",
     "output_type": "stream",
     "text": [
      "59023.84167480469\n"
     ]
    },
    {
     "name": "stderr",
     "output_type": "stream",
     "text": [
      "100%|███████████████████████████| 224/224 [00:06<00:00, 32.25it/s, D_loss=0.00857, F_loss_=18.4, P_loss=85.7, epoch_=4]\n"
     ]
    },
    {
     "name": "stdout",
     "output_type": "stream",
     "text": [
      "45874.4408493042\n"
     ]
    },
    {
     "name": "stderr",
     "output_type": "stream",
     "text": [
      "100%|█████████████████████████████| 279/279 [00:47<00:00,  5.84it/s, D_loss=0.013, F_loss_=86.2, P_loss=90.7, epoch_=5]\n"
     ]
    },
    {
     "name": "stdout",
     "output_type": "stream",
     "text": [
      "58333.76766204834\n"
     ]
    },
    {
     "name": "stderr",
     "output_type": "stream",
     "text": [
      "100%|████████████████████████████| 224/224 [00:05<00:00, 40.92it/s, D_loss=0.00524, F_loss_=18.2, P_loss=142, epoch_=5]\n"
     ]
    },
    {
     "name": "stdout",
     "output_type": "stream",
     "text": [
      "34933.39986228943\n",
      "save successfully!\n"
     ]
    },
    {
     "name": "stderr",
     "output_type": "stream",
     "text": [
      "100%|███████████████████████████| 279/279 [00:46<00:00,  6.01it/s, D_loss=0.00836, F_loss_=73.1, P_loss=51.2, epoch_=6]\n"
     ]
    },
    {
     "name": "stdout",
     "output_type": "stream",
     "text": [
      "54982.391777038574\n"
     ]
    },
    {
     "name": "stderr",
     "output_type": "stream",
     "text": [
      "100%|████████████████████████████| 224/224 [00:05<00:00, 39.48it/s, D_loss=0.00441, F_loss_=41.2, P_loss=179, epoch_=6]\n"
     ]
    },
    {
     "name": "stdout",
     "output_type": "stream",
     "text": [
      "32267.55270576477\n"
     ]
    },
    {
     "name": "stderr",
     "output_type": "stream",
     "text": [
      "100%|████████████████████████████| 279/279 [00:46<00:00,  6.00it/s, D_loss=0.00428, F_loss_=125, P_loss=81.6, epoch_=7]\n"
     ]
    },
    {
     "name": "stdout",
     "output_type": "stream",
     "text": [
      "52862.75525665283\n"
     ]
    },
    {
     "name": "stderr",
     "output_type": "stream",
     "text": [
      "100%|████████████████████████████| 224/224 [00:05<00:00, 39.73it/s, D_loss=0.00201, F_loss_=6.97, P_loss=109, epoch_=7]\n"
     ]
    },
    {
     "name": "stdout",
     "output_type": "stream",
     "text": [
      "26794.215448379517\n"
     ]
    },
    {
     "name": "stderr",
     "output_type": "stream",
     "text": [
      "100%|███████████████████████████████| 279/279 [00:45<00:00,  6.14it/s, D_loss=0.0188, F_loss_=134, P_loss=40, epoch_=8]\n"
     ]
    },
    {
     "name": "stdout",
     "output_type": "stream",
     "text": [
      "51957.913482666016\n"
     ]
    },
    {
     "name": "stderr",
     "output_type": "stream",
     "text": [
      "100%|████████████████████████████| 224/224 [00:05<00:00, 39.56it/s, D_loss=0.0123, F_loss_=7.69, P_loss=73.4, epoch_=8]\n"
     ]
    },
    {
     "name": "stdout",
     "output_type": "stream",
     "text": [
      "25640.2141828537\n"
     ]
    },
    {
     "name": "stderr",
     "output_type": "stream",
     "text": [
      "100%|█████████████████████████████| 279/279 [00:46<00:00,  5.99it/s, D_loss=0.00755, F_loss_=102, P_loss=129, epoch_=9]\n"
     ]
    },
    {
     "name": "stdout",
     "output_type": "stream",
     "text": [
      "51137.02629470825\n"
     ]
    },
    {
     "name": "stderr",
     "output_type": "stream",
     "text": [
      "100%|████████████████████████████| 224/224 [00:05<00:00, 38.12it/s, D_loss=0.0137, F_loss_=19.6, P_loss=63.6, epoch_=9]\n"
     ]
    },
    {
     "name": "stdout",
     "output_type": "stream",
     "text": [
      "31690.171933174133\n"
     ]
    },
    {
     "name": "stderr",
     "output_type": "stream",
     "text": [
      "100%|████████████████████████████| 279/279 [00:46<00:00,  6.04it/s, D_loss=0.0102, F_loss_=99.2, P_loss=177, epoch_=10]\n"
     ]
    },
    {
     "name": "stdout",
     "output_type": "stream",
     "text": [
      "50650.41468048096\n"
     ]
    },
    {
     "name": "stderr",
     "output_type": "stream",
     "text": [
      "100%|██████████████████████████| 224/224 [00:05<00:00, 38.84it/s, D_loss=0.00605, F_loss_=9.38, P_loss=56.8, epoch_=10]\n"
     ]
    },
    {
     "name": "stdout",
     "output_type": "stream",
     "text": [
      "34982.24285030365\n",
      "save successfully!\n"
     ]
    },
    {
     "name": "stderr",
     "output_type": "stream",
     "text": [
      "100%|██████████████████████████| 279/279 [00:51<00:00,  5.39it/s, D_loss=0.00793, F_loss_=84.6, P_loss=40.3, epoch_=11]\n"
     ]
    },
    {
     "name": "stdout",
     "output_type": "stream",
     "text": [
      "49931.24002075195\n"
     ]
    },
    {
     "name": "stderr",
     "output_type": "stream",
     "text": [
      "100%|███████████████████████████| 224/224 [00:05<00:00, 39.06it/s, D_loss=0.0207, F_loss_=5.59, P_loss=23.1, epoch_=11]\n"
     ]
    },
    {
     "name": "stdout",
     "output_type": "stream",
     "text": [
      "27852.358773708344\n"
     ]
    },
    {
     "name": "stderr",
     "output_type": "stream",
     "text": [
      "100%|█████████████████████████████| 279/279 [00:45<00:00,  6.12it/s, D_loss=0.0105, F_loss_=29.2, P_loss=46, epoch_=12]\n"
     ]
    },
    {
     "name": "stdout",
     "output_type": "stream",
     "text": [
      "49736.17514038086\n"
     ]
    },
    {
     "name": "stderr",
     "output_type": "stream",
     "text": [
      "100%|████████████████████████████| 224/224 [00:05<00:00, 39.09it/s, D_loss=0.0113, F_loss_=19.7, P_loss=114, epoch_=12]\n"
     ]
    },
    {
     "name": "stdout",
     "output_type": "stream",
     "text": [
      "28623.32853603363\n"
     ]
    },
    {
     "name": "stderr",
     "output_type": "stream",
     "text": [
      "100%|████████████████████████████| 279/279 [00:45<00:00,  6.09it/s, D_loss=0.0112, F_loss_=132, P_loss=86.2, epoch_=13]\n"
     ]
    },
    {
     "name": "stdout",
     "output_type": "stream",
     "text": [
      "48485.87059020996\n"
     ]
    },
    {
     "name": "stderr",
     "output_type": "stream",
     "text": [
      "100%|███████████████████████████| 224/224 [00:05<00:00, 38.79it/s, D_loss=0.0102, F_loss_=13.3, P_loss=25.5, epoch_=13]\n"
     ]
    },
    {
     "name": "stdout",
     "output_type": "stream",
     "text": [
      "23472.434116363525\n"
     ]
    },
    {
     "name": "stderr",
     "output_type": "stream",
     "text": [
      "100%|███████████████████████████| 279/279 [00:45<00:00,  6.07it/s, D_loss=0.0111, F_loss_=70.2, P_loss=90.5, epoch_=14]\n"
     ]
    },
    {
     "name": "stdout",
     "output_type": "stream",
     "text": [
      "46232.897720336914\n"
     ]
    },
    {
     "name": "stderr",
     "output_type": "stream",
     "text": [
      "100%|████████████████████████████| 224/224 [00:05<00:00, 39.43it/s, D_loss=0.0391, F_loss_=3.7, P_loss=48.2, epoch_=14]\n"
     ]
    },
    {
     "name": "stdout",
     "output_type": "stream",
     "text": [
      "22986.19158887863\n"
     ]
    },
    {
     "name": "stderr",
     "output_type": "stream",
     "text": [
      "100%|███████████████████████████| 279/279 [00:45<00:00,  6.10it/s, D_loss=0.0418, F_loss_=67.5, P_loss=35.7, epoch_=15]\n"
     ]
    },
    {
     "name": "stdout",
     "output_type": "stream",
     "text": [
      "35880.081230163574\n"
     ]
    },
    {
     "name": "stderr",
     "output_type": "stream",
     "text": [
      "100%|███████████████████████████| 224/224 [00:05<00:00, 38.65it/s, D_loss=0.0496, F_loss_=19.1, P_loss=18.6, epoch_=15]\n"
     ]
    },
    {
     "name": "stdout",
     "output_type": "stream",
     "text": [
      "16142.369375228882\n",
      "save successfully!\n"
     ]
    },
    {
     "name": "stderr",
     "output_type": "stream",
     "text": [
      "100%|██████████████████████████| 279/279 [00:47<00:00,  5.93it/s, D_loss=0.00763, F_loss_=43.6, P_loss=6.21, epoch_=16]\n"
     ]
    },
    {
     "name": "stdout",
     "output_type": "stream",
     "text": [
      "29793.65965652466\n"
     ]
    },
    {
     "name": "stderr",
     "output_type": "stream",
     "text": [
      "100%|██████████████████████████| 224/224 [00:06<00:00, 35.01it/s, D_loss=0.00604, F_loss_=7.22, P_loss=13.7, epoch_=16]\n"
     ]
    },
    {
     "name": "stdout",
     "output_type": "stream",
     "text": [
      "25013.30061149597\n"
     ]
    },
    {
     "name": "stderr",
     "output_type": "stream",
     "text": [
      "100%|██████████████████████████| 279/279 [00:50<00:00,  5.54it/s, D_loss=0.00561, F_loss_=59.7, P_loss=8.32, epoch_=17]\n"
     ]
    },
    {
     "name": "stdout",
     "output_type": "stream",
     "text": [
      "29236.188787460327\n"
     ]
    },
    {
     "name": "stderr",
     "output_type": "stream",
     "text": [
      "100%|██████████████████████████| 224/224 [00:05<00:00, 39.49it/s, D_loss=0.00374, F_loss_=31.4, P_loss=14.4, epoch_=17]\n"
     ]
    },
    {
     "name": "stdout",
     "output_type": "stream",
     "text": [
      "19764.371872901917\n"
     ]
    },
    {
     "name": "stderr",
     "output_type": "stream",
     "text": [
      "100%|██████████████████████████| 279/279 [00:47<00:00,  5.87it/s, D_loss=0.00569, F_loss_=66.4, P_loss=18.3, epoch_=18]\n"
     ]
    },
    {
     "name": "stdout",
     "output_type": "stream",
     "text": [
      "27672.18751335144\n"
     ]
    },
    {
     "name": "stderr",
     "output_type": "stream",
     "text": [
      "100%|██████████████████████████| 224/224 [00:05<00:00, 40.26it/s, D_loss=0.00896, F_loss_=6.37, P_loss=3.24, epoch_=18]\n"
     ]
    },
    {
     "name": "stdout",
     "output_type": "stream",
     "text": [
      "19157.4775724411\n"
     ]
    },
    {
     "name": "stderr",
     "output_type": "stream",
     "text": [
      "100%|██████████████████████████| 279/279 [00:48<00:00,  5.80it/s, D_loss=0.00647, F_loss_=90.6, P_loss=14.9, epoch_=19]\n"
     ]
    },
    {
     "name": "stdout",
     "output_type": "stream",
     "text": [
      "27790.520162582397\n"
     ]
    },
    {
     "name": "stderr",
     "output_type": "stream",
     "text": [
      "100%|███████████████████████████| 224/224 [00:06<00:00, 37.10it/s, D_loss=0.0203, F_loss_=4.86, P_loss=2.42, epoch_=19]\n"
     ]
    },
    {
     "name": "stdout",
     "output_type": "stream",
     "text": [
      "15279.283326029778\n"
     ]
    },
    {
     "name": "stderr",
     "output_type": "stream",
     "text": [
      "100%|████████████████████████████| 279/279 [00:46<00:00,  6.01it/s, D_loss=0.0084, F_loss_=168, P_loss=5.38, epoch_=20]\n"
     ]
    },
    {
     "name": "stdout",
     "output_type": "stream",
     "text": [
      "28012.93323326111\n"
     ]
    },
    {
     "name": "stderr",
     "output_type": "stream",
     "text": [
      "100%|███████████████████████████| 224/224 [00:05<00:00, 37.97it/s, D_loss=0.0122, F_loss_=8.84, P_loss=34.7, epoch_=20]\n"
     ]
    },
    {
     "name": "stdout",
     "output_type": "stream",
     "text": [
      "22721.2833442688\n",
      "save successfully!\n"
     ]
    },
    {
     "name": "stderr",
     "output_type": "stream",
     "text": [
      "100%|███████████████████████████| 279/279 [00:45<00:00,  6.13it/s, D_loss=0.00476, F_loss_=107, P_loss=15.3, epoch_=21]\n"
     ]
    },
    {
     "name": "stdout",
     "output_type": "stream",
     "text": [
      "27157.85515022278\n"
     ]
    },
    {
     "name": "stderr",
     "output_type": "stream",
     "text": [
      "100%|█████████████████████████| 224/224 [00:05<00:00, 39.14it/s, D_loss=0.000529, F_loss_=2.37, P_loss=1.68, epoch_=21]\n"
     ]
    },
    {
     "name": "stdout",
     "output_type": "stream",
     "text": [
      "19585.32289457321\n"
     ]
    },
    {
     "name": "stderr",
     "output_type": "stream",
     "text": [
      "100%|██████████████████████████| 279/279 [00:45<00:00,  6.14it/s, D_loss=0.00551, F_loss_=64.1, P_loss=8.02, epoch_=22]\n"
     ]
    },
    {
     "name": "stdout",
     "output_type": "stream",
     "text": [
      "26321.68048286438\n"
     ]
    },
    {
     "name": "stderr",
     "output_type": "stream",
     "text": [
      "100%|█████████████████████████| 224/224 [00:05<00:00, 39.02it/s, D_loss=0.000578, F_loss_=12.6, P_loss=5.27, epoch_=22]\n"
     ]
    },
    {
     "name": "stdout",
     "output_type": "stream",
     "text": [
      "16327.445727109909\n"
     ]
    },
    {
     "name": "stderr",
     "output_type": "stream",
     "text": [
      "100%|████████████████████████████| 279/279 [00:45<00:00,  6.14it/s, D_loss=0.0154, F_loss_=128, P_loss=14.4, epoch_=23]\n"
     ]
    },
    {
     "name": "stdout",
     "output_type": "stream",
     "text": [
      "26157.781295776367\n"
     ]
    },
    {
     "name": "stderr",
     "output_type": "stream",
     "text": [
      "100%|████████████████████████████| 224/224 [00:05<00:00, 38.70it/s, D_loss=0.005, F_loss_=2.97, P_loss=9.24, epoch_=23]\n"
     ]
    },
    {
     "name": "stdout",
     "output_type": "stream",
     "text": [
      "19960.686875343323\n"
     ]
    },
    {
     "name": "stderr",
     "output_type": "stream",
     "text": [
      "100%|███████████████████████████| 279/279 [00:45<00:00,  6.13it/s, D_loss=0.0287, F_loss_=72.7, P_loss=5.69, epoch_=24]\n"
     ]
    },
    {
     "name": "stdout",
     "output_type": "stream",
     "text": [
      "25154.5868434906\n"
     ]
    },
    {
     "name": "stderr",
     "output_type": "stream",
     "text": [
      "100%|███████████████████████████| 224/224 [00:05<00:00, 38.95it/s, D_loss=0.0386, F_loss_=1.83, P_loss=3.41, epoch_=24]\n"
     ]
    },
    {
     "name": "stdout",
     "output_type": "stream",
     "text": [
      "19914.54658782482\n"
     ]
    },
    {
     "name": "stderr",
     "output_type": "stream",
     "text": [
      "100%|███████████████████████████| 279/279 [00:45<00:00,  6.16it/s, D_loss=0.0448, F_loss_=46.6, P_loss=17.6, epoch_=25]\n"
     ]
    },
    {
     "name": "stdout",
     "output_type": "stream",
     "text": [
      "23546.88339805603\n"
     ]
    },
    {
     "name": "stderr",
     "output_type": "stream",
     "text": [
      "100%|███████████████████████████| 224/224 [00:06<00:00, 37.25it/s, D_loss=0.0103, F_loss_=6.42, P_loss=10.1, epoch_=25]\n"
     ]
    },
    {
     "name": "stdout",
     "output_type": "stream",
     "text": [
      "18776.20457458496\n",
      "save successfully!\n"
     ]
    },
    {
     "name": "stderr",
     "output_type": "stream",
     "text": [
      "100%|███████████████████████████| 279/279 [00:45<00:00,  6.08it/s, D_loss=0.0271, F_loss_=59.3, P_loss=7.56, epoch_=26]\n"
     ]
    },
    {
     "name": "stdout",
     "output_type": "stream",
     "text": [
      "20019.526124954224\n"
     ]
    },
    {
     "name": "stderr",
     "output_type": "stream",
     "text": [
      "100%|███████████████████████████| 224/224 [00:05<00:00, 38.70it/s, D_loss=0.0161, F_loss_=8.65, P_loss=2.81, epoch_=26]\n"
     ]
    },
    {
     "name": "stdout",
     "output_type": "stream",
     "text": [
      "13102.498108148575\n"
     ]
    },
    {
     "name": "stderr",
     "output_type": "stream",
     "text": [
      "100%|███████████████████████████| 279/279 [00:46<00:00,  6.05it/s, D_loss=0.0147, F_loss_=14.1, P_loss=12.3, epoch_=27]\n"
     ]
    },
    {
     "name": "stdout",
     "output_type": "stream",
     "text": [
      "13968.9977684021\n"
     ]
    },
    {
     "name": "stderr",
     "output_type": "stream",
     "text": [
      "100%|███████████████████████████| 224/224 [00:05<00:00, 38.90it/s, D_loss=0.00175, F_loss_=2.63, P_loss=5.1, epoch_=27]\n"
     ]
    },
    {
     "name": "stdout",
     "output_type": "stream",
     "text": [
      "8745.781449317932\n"
     ]
    },
    {
     "name": "stderr",
     "output_type": "stream",
     "text": [
      "100%|███████████████████████████| 279/279 [00:45<00:00,  6.13it/s, D_loss=0.0071, F_loss_=25.8, P_loss=4.44, epoch_=28]\n"
     ]
    },
    {
     "name": "stdout",
     "output_type": "stream",
     "text": [
      "11188.17136001587\n"
     ]
    },
    {
     "name": "stderr",
     "output_type": "stream",
     "text": [
      "100%|███████████████████████████| 224/224 [00:05<00:00, 39.35it/s, D_loss=0.0108, F_loss_=8.87, P_loss=32.3, epoch_=28]\n"
     ]
    },
    {
     "name": "stdout",
     "output_type": "stream",
     "text": [
      "12316.069353103638\n"
     ]
    },
    {
     "name": "stderr",
     "output_type": "stream",
     "text": [
      "100%|██████████████████████████| 279/279 [00:45<00:00,  6.11it/s, D_loss=0.00653, F_loss_=45.2, P_loss=8.81, epoch_=29]\n"
     ]
    },
    {
     "name": "stdout",
     "output_type": "stream",
     "text": [
      "10093.584540367126\n"
     ]
    },
    {
     "name": "stderr",
     "output_type": "stream",
     "text": [
      "100%|█████████████████████████████| 224/224 [00:05<00:00, 38.76it/s, D_loss=0.0036, F_loss_=3.7, P_loss=2.9, epoch_=29]\n"
     ]
    },
    {
     "name": "stdout",
     "output_type": "stream",
     "text": [
      "6618.830018401146\n"
     ]
    },
    {
     "name": "stderr",
     "output_type": "stream",
     "text": [
      "100%|██████████████████████████| 279/279 [00:45<00:00,  6.16it/s, D_loss=0.00763, F_loss_=37.2, P_loss=16.4, epoch_=30]\n"
     ]
    },
    {
     "name": "stdout",
     "output_type": "stream",
     "text": [
      "9235.925121307373\n"
     ]
    },
    {
     "name": "stderr",
     "output_type": "stream",
     "text": [
      "100%|██████████████████████████| 224/224 [00:05<00:00, 39.30it/s, D_loss=0.00239, F_loss_=2.25, P_loss=1.28, epoch_=30]\n"
     ]
    },
    {
     "name": "stdout",
     "output_type": "stream",
     "text": [
      "5059.239702343941\n",
      "save successfully!\n"
     ]
    },
    {
     "name": "stderr",
     "output_type": "stream",
     "text": [
      "100%|██████████████████████████| 279/279 [00:45<00:00,  6.17it/s, D_loss=0.00455, F_loss_=24.2, P_loss=8.24, epoch_=31]\n"
     ]
    },
    {
     "name": "stdout",
     "output_type": "stream",
     "text": [
      "7922.850645065308\n"
     ]
    },
    {
     "name": "stderr",
     "output_type": "stream",
     "text": [
      "100%|██████████████████████████| 224/224 [00:05<00:00, 39.39it/s, D_loss=0.00509, F_loss_=2.38, P_loss=1.77, epoch_=31]\n"
     ]
    },
    {
     "name": "stdout",
     "output_type": "stream",
     "text": [
      "5507.500899076462\n"
     ]
    },
    {
     "name": "stderr",
     "output_type": "stream",
     "text": [
      "100%|███████████████████████████| 279/279 [00:45<00:00,  6.20it/s, D_loss=0.0115, F_loss_=25.6, P_loss=8.85, epoch_=32]\n"
     ]
    },
    {
     "name": "stdout",
     "output_type": "stream",
     "text": [
      "7693.982879638672\n"
     ]
    },
    {
     "name": "stderr",
     "output_type": "stream",
     "text": [
      "100%|██████████████████████████| 224/224 [00:05<00:00, 38.89it/s, D_loss=0.00593, F_loss_=10.4, P_loss=4.65, epoch_=32]\n"
     ]
    },
    {
     "name": "stdout",
     "output_type": "stream",
     "text": [
      "5123.164997816086\n"
     ]
    },
    {
     "name": "stderr",
     "output_type": "stream",
     "text": [
      "100%|██████████████████████████| 279/279 [00:47<00:00,  5.92it/s, D_loss=0.00796, F_loss_=11.8, P_loss=10.2, epoch_=33]\n"
     ]
    },
    {
     "name": "stdout",
     "output_type": "stream",
     "text": [
      "7175.997891426086\n"
     ]
    },
    {
     "name": "stderr",
     "output_type": "stream",
     "text": [
      "100%|██████████████████████████| 224/224 [00:05<00:00, 39.16it/s, D_loss=0.00314, F_loss_=5.06, P_loss=16.4, epoch_=33]\n"
     ]
    },
    {
     "name": "stdout",
     "output_type": "stream",
     "text": [
      "8298.357084274292\n"
     ]
    },
    {
     "name": "stderr",
     "output_type": "stream",
     "text": [
      "100%|██████████████████████████| 279/279 [00:45<00:00,  6.15it/s, D_loss=0.00465, F_loss_=9.68, P_loss=3.96, epoch_=34]\n"
     ]
    },
    {
     "name": "stdout",
     "output_type": "stream",
     "text": [
      "6995.5520486831665\n"
     ]
    },
    {
     "name": "stderr",
     "output_type": "stream",
     "text": [
      "100%|████████████████████████████| 224/224 [00:05<00:00, 38.25it/s, D_loss=0.0027, F_loss_=2.6, P_loss=1.11, epoch_=34]\n"
     ]
    },
    {
     "name": "stdout",
     "output_type": "stream",
     "text": [
      "4588.6502685546875\n"
     ]
    },
    {
     "name": "stderr",
     "output_type": "stream",
     "text": [
      "100%|██████████████████████████| 279/279 [00:45<00:00,  6.16it/s, D_loss=0.00387, F_loss_=19.1, P_loss=1.91, epoch_=35]\n"
     ]
    },
    {
     "name": "stdout",
     "output_type": "stream",
     "text": [
      "6706.856740951538\n"
     ]
    },
    {
     "name": "stderr",
     "output_type": "stream",
     "text": [
      "100%|██████████████████████████| 224/224 [00:05<00:00, 39.52it/s, D_loss=0.00131, F_loss_=9.01, P_loss=1.07, epoch_=35]\n"
     ]
    },
    {
     "name": "stdout",
     "output_type": "stream",
     "text": [
      "4546.654094666243\n",
      "save successfully!\n"
     ]
    },
    {
     "name": "stderr",
     "output_type": "stream",
     "text": [
      "100%|████████████████████████████| 279/279 [00:45<00:00,  6.15it/s, D_loss=0.00244, F_loss_=23.7, P_loss=24, epoch_=36]\n"
     ]
    },
    {
     "name": "stdout",
     "output_type": "stream",
     "text": [
      "7017.37539100647\n"
     ]
    },
    {
     "name": "stderr",
     "output_type": "stream",
     "text": [
      "100%|█████████████████████████| 224/224 [00:05<00:00, 38.85it/s, D_loss=0.000298, F_loss_=5.23, P_loss=0.69, epoch_=36]\n"
     ]
    },
    {
     "name": "stdout",
     "output_type": "stream",
     "text": [
      "4682.512642920017\n"
     ]
    },
    {
     "name": "stderr",
     "output_type": "stream",
     "text": [
      "100%|██████████████████████████| 279/279 [00:45<00:00,  6.14it/s, D_loss=0.00539, F_loss_=9.92, P_loss=31.5, epoch_=37]\n"
     ]
    },
    {
     "name": "stdout",
     "output_type": "stream",
     "text": [
      "6170.3874044418335\n"
     ]
    },
    {
     "name": "stderr",
     "output_type": "stream",
     "text": [
      "100%|██████████████████████████| 224/224 [00:05<00:00, 39.60it/s, D_loss=0.0046, F_loss_=0.482, P_loss=8.98, epoch_=37]\n"
     ]
    },
    {
     "name": "stdout",
     "output_type": "stream",
     "text": [
      "6236.6257309913635\n"
     ]
    },
    {
     "name": "stderr",
     "output_type": "stream",
     "text": [
      "100%|██████████████████████████| 279/279 [00:46<00:00,  5.94it/s, D_loss=0.00325, F_loss_=16.6, P_loss=5.17, epoch_=38]\n"
     ]
    },
    {
     "name": "stdout",
     "output_type": "stream",
     "text": [
      "6403.676464080811\n"
     ]
    },
    {
     "name": "stderr",
     "output_type": "stream",
     "text": [
      "100%|███████████████████████████| 224/224 [00:06<00:00, 36.62it/s, D_loss=0.0022, F_loss_=1.46, P_loss=12.3, epoch_=38]\n"
     ]
    },
    {
     "name": "stdout",
     "output_type": "stream",
     "text": [
      "6495.738267421722\n"
     ]
    },
    {
     "name": "stderr",
     "output_type": "stream",
     "text": [
      "100%|██████████████████████████| 279/279 [00:48<00:00,  5.74it/s, D_loss=0.00182, F_loss_=24.1, P_loss=22.9, epoch_=39]\n"
     ]
    },
    {
     "name": "stdout",
     "output_type": "stream",
     "text": [
      "6706.167349815369\n"
     ]
    },
    {
     "name": "stderr",
     "output_type": "stream",
     "text": [
      "100%|█████████████████████████| 224/224 [00:05<00:00, 40.00it/s, D_loss=0.00563, F_loss_=1.05, P_loss=0.587, epoch_=39]\n"
     ]
    },
    {
     "name": "stdout",
     "output_type": "stream",
     "text": [
      "3834.025377392769\n"
     ]
    },
    {
     "name": "stderr",
     "output_type": "stream",
     "text": [
      "100%|██████████████████████████| 279/279 [00:47<00:00,  5.87it/s, D_loss=0.00323, F_loss_=12.7, P_loss=5.23, epoch_=40]\n"
     ]
    },
    {
     "name": "stdout",
     "output_type": "stream",
     "text": [
      "5892.240231990814\n"
     ]
    },
    {
     "name": "stderr",
     "output_type": "stream",
     "text": [
      "100%|█████████████████████████| 224/224 [00:05<00:00, 37.81it/s, D_loss=0.000792, F_loss_=1.03, P_loss=2.14, epoch_=40]\n"
     ]
    },
    {
     "name": "stdout",
     "output_type": "stream",
     "text": [
      "5424.411301076412\n",
      "save successfully!\n"
     ]
    },
    {
     "name": "stderr",
     "output_type": "stream",
     "text": [
      "100%|███████████████████████████| 279/279 [00:50<00:00,  5.51it/s, D_loss=0.0061, F_loss_=12.4, P_loss=2.27, epoch_=41]\n"
     ]
    },
    {
     "name": "stdout",
     "output_type": "stream",
     "text": [
      "6123.141031742096\n"
     ]
    },
    {
     "name": "stderr",
     "output_type": "stream",
     "text": [
      "100%|██████████████████████████| 224/224 [00:06<00:00, 36.56it/s, D_loss=0.00137, F_loss_=2.63, P_loss=1.93, epoch_=41]\n"
     ]
    },
    {
     "name": "stdout",
     "output_type": "stream",
     "text": [
      "5151.037345409393\n"
     ]
    },
    {
     "name": "stderr",
     "output_type": "stream",
     "text": [
      "100%|██████████████████████████| 279/279 [00:48<00:00,  5.78it/s, D_loss=0.00492, F_loss_=16.1, P_loss=2.56, epoch_=42]\n"
     ]
    },
    {
     "name": "stdout",
     "output_type": "stream",
     "text": [
      "6122.087713241577\n"
     ]
    },
    {
     "name": "stderr",
     "output_type": "stream",
     "text": [
      "100%|████████████████████████| 224/224 [00:05<00:00, 40.21it/s, D_loss=0.00333, F_loss_=0.736, P_loss=0.604, epoch_=42]\n"
     ]
    },
    {
     "name": "stdout",
     "output_type": "stream",
     "text": [
      "3752.824328958988\n"
     ]
    },
    {
     "name": "stderr",
     "output_type": "stream",
     "text": [
      "100%|███████████████████████████| 279/279 [00:47<00:00,  5.92it/s, D_loss=0.00428, F_loss_=8.18, P_loss=2.3, epoch_=43]\n"
     ]
    },
    {
     "name": "stdout",
     "output_type": "stream",
     "text": [
      "5524.775211811066\n"
     ]
    },
    {
     "name": "stderr",
     "output_type": "stream",
     "text": [
      "100%|██████████████████████████| 224/224 [00:05<00:00, 40.98it/s, D_loss=0.00184, F_loss_=2.84, P_loss=1.66, epoch_=43]\n"
     ]
    },
    {
     "name": "stdout",
     "output_type": "stream",
     "text": [
      "3470.492826461792\n"
     ]
    },
    {
     "name": "stderr",
     "output_type": "stream",
     "text": [
      "100%|███████████████████████████| 279/279 [00:46<00:00,  6.06it/s, D_loss=0.00216, F_loss_=13.5, P_loss=2.6, epoch_=44]\n"
     ]
    },
    {
     "name": "stdout",
     "output_type": "stream",
     "text": [
      "5859.821392536163\n"
     ]
    },
    {
     "name": "stderr",
     "output_type": "stream",
     "text": [
      "100%|██████████████████████████| 224/224 [00:05<00:00, 40.48it/s, D_loss=0.00465, F_loss_=2.37, P_loss=1.28, epoch_=44]\n"
     ]
    },
    {
     "name": "stdout",
     "output_type": "stream",
     "text": [
      "3491.706241607666\n"
     ]
    },
    {
     "name": "stderr",
     "output_type": "stream",
     "text": [
      "100%|███████████████████████████| 279/279 [00:45<00:00,  6.13it/s, D_loss=0.0101, F_loss_=19.4, P_loss=9.35, epoch_=45]\n"
     ]
    },
    {
     "name": "stdout",
     "output_type": "stream",
     "text": [
      "5753.47709274292\n"
     ]
    },
    {
     "name": "stderr",
     "output_type": "stream",
     "text": [
      "100%|█████████████████████████| 224/224 [00:05<00:00, 40.78it/s, D_loss=0.00943, F_loss_=0.509, P_loss=2.63, epoch_=45]\n"
     ]
    },
    {
     "name": "stdout",
     "output_type": "stream",
     "text": [
      "3740.5957456827164\n",
      "save successfully!\n"
     ]
    },
    {
     "name": "stderr",
     "output_type": "stream",
     "text": [
      "100%|█████████████████████████| 279/279 [00:46<00:00,  6.05it/s, D_loss=0.00243, F_loss_=10.4, P_loss=0.966, epoch_=46]\n"
     ]
    },
    {
     "name": "stdout",
     "output_type": "stream",
     "text": [
      "5207.037739753723\n"
     ]
    },
    {
     "name": "stderr",
     "output_type": "stream",
     "text": [
      "100%|██████████████████████████| 224/224 [00:05<00:00, 40.81it/s, D_loss=0.0019, F_loss_=0.689, P_loss=6.73, epoch_=46]\n"
     ]
    },
    {
     "name": "stdout",
     "output_type": "stream",
     "text": [
      "4132.944958686829\n"
     ]
    },
    {
     "name": "stderr",
     "output_type": "stream",
     "text": [
      "100%|██████████████████████████| 279/279 [00:46<00:00,  6.05it/s, D_loss=0.00125, F_loss_=7.25, P_loss=5.03, epoch_=47]\n"
     ]
    },
    {
     "name": "stdout",
     "output_type": "stream",
     "text": [
      "5026.86349439621\n"
     ]
    },
    {
     "name": "stderr",
     "output_type": "stream",
     "text": [
      "100%|██████████████████████████| 224/224 [00:05<00:00, 40.70it/s, D_loss=0.00328, F_loss_=3.77, P_loss=3.67, epoch_=47]\n"
     ]
    },
    {
     "name": "stdout",
     "output_type": "stream",
     "text": [
      "3075.6406037807465\n"
     ]
    },
    {
     "name": "stderr",
     "output_type": "stream",
     "text": [
      "100%|████████████████████████████| 279/279 [00:45<00:00,  6.08it/s, D_loss=0.00267, F_loss_=12, P_loss=2.83, epoch_=48]\n"
     ]
    },
    {
     "name": "stdout",
     "output_type": "stream",
     "text": [
      "5283.123424530029\n"
     ]
    },
    {
     "name": "stderr",
     "output_type": "stream",
     "text": [
      "100%|███████████████████████████| 224/224 [00:05<00:00, 40.14it/s, D_loss=0.00766, F_loss_=3.7, P_loss=2.75, epoch_=48]\n"
     ]
    },
    {
     "name": "stdout",
     "output_type": "stream",
     "text": [
      "2669.180677175522\n"
     ]
    },
    {
     "name": "stderr",
     "output_type": "stream",
     "text": [
      "100%|██████████████████████████| 279/279 [00:45<00:00,  6.07it/s, D_loss=0.00427, F_loss_=15.6, P_loss=6.23, epoch_=49]\n"
     ]
    },
    {
     "name": "stdout",
     "output_type": "stream",
     "text": [
      "5330.695307731628\n"
     ]
    },
    {
     "name": "stderr",
     "output_type": "stream",
     "text": [
      "100%|█████████████████████████| 224/224 [00:05<00:00, 40.25it/s, D_loss=0.000606, F_loss_=3.18, P_loss=1.12, epoch_=49]\n"
     ]
    },
    {
     "name": "stdout",
     "output_type": "stream",
     "text": [
      "2706.384345471859\n"
     ]
    },
    {
     "name": "stderr",
     "output_type": "stream",
     "text": [
      "100%|██████████████████████████| 279/279 [00:47<00:00,  5.91it/s, D_loss=0.00271, F_loss_=18.2, P_loss=2.27, epoch_=50]\n"
     ]
    },
    {
     "name": "stdout",
     "output_type": "stream",
     "text": [
      "4800.443835735321\n"
     ]
    },
    {
     "name": "stderr",
     "output_type": "stream",
     "text": [
      "100%|██████████████████████████| 224/224 [00:05<00:00, 38.10it/s, D_loss=0.00129, F_loss_=1.58, P_loss=17.1, epoch_=50]\n"
     ]
    },
    {
     "name": "stdout",
     "output_type": "stream",
     "text": [
      "5647.174902915955\n",
      "save successfully!\n"
     ]
    },
    {
     "name": "stderr",
     "output_type": "stream",
     "text": [
      "100%|██████████████████████████| 279/279 [00:49<00:00,  5.63it/s, D_loss=0.00305, F_loss_=7.79, P_loss=1.66, epoch_=51]\n"
     ]
    },
    {
     "name": "stdout",
     "output_type": "stream",
     "text": [
      "4800.381544589996\n"
     ]
    },
    {
     "name": "stderr",
     "output_type": "stream",
     "text": [
      "100%|██████████████████████████| 224/224 [00:05<00:00, 39.91it/s, D_loss=0.00972, F_loss_=3.21, P_loss=1.45, epoch_=51]\n"
     ]
    },
    {
     "name": "stdout",
     "output_type": "stream",
     "text": [
      "2755.393024802208\n"
     ]
    },
    {
     "name": "stderr",
     "output_type": "stream",
     "text": [
      "100%|██████████████████████████| 279/279 [00:46<00:00,  6.06it/s, D_loss=0.00302, F_loss_=13.1, P_loss=7.03, epoch_=52]\n"
     ]
    },
    {
     "name": "stdout",
     "output_type": "stream",
     "text": [
      "4538.876170635223\n"
     ]
    },
    {
     "name": "stderr",
     "output_type": "stream",
     "text": [
      "100%|█████████████████████████| 224/224 [00:05<00:00, 40.22it/s, D_loss=0.000328, F_loss_=4.57, P_loss=1.18, epoch_=52]\n"
     ]
    },
    {
     "name": "stdout",
     "output_type": "stream",
     "text": [
      "2705.841054022312\n"
     ]
    },
    {
     "name": "stderr",
     "output_type": "stream",
     "text": [
      "100%|███████████████████████████| 279/279 [00:46<00:00,  6.05it/s, D_loss=0.0087, F_loss_=8.34, P_loss=3.77, epoch_=53]\n"
     ]
    },
    {
     "name": "stdout",
     "output_type": "stream",
     "text": [
      "5335.067411899567\n"
     ]
    },
    {
     "name": "stderr",
     "output_type": "stream",
     "text": [
      "100%|█████████████████████████| 224/224 [00:05<00:00, 40.24it/s, D_loss=0.00758, F_loss_=7.11, P_loss=0.235, epoch_=53]\n"
     ]
    },
    {
     "name": "stdout",
     "output_type": "stream",
     "text": [
      "3462.313963651657\n"
     ]
    },
    {
     "name": "stderr",
     "output_type": "stream",
     "text": [
      "100%|██████████████████████████| 279/279 [00:46<00:00,  6.05it/s, D_loss=0.00189, F_loss_=11.9, P_loss=5.79, epoch_=54]\n"
     ]
    },
    {
     "name": "stdout",
     "output_type": "stream",
     "text": [
      "4550.170358181\n"
     ]
    },
    {
     "name": "stderr",
     "output_type": "stream",
     "text": [
      "100%|█████████████████████████| 224/224 [00:05<00:00, 40.51it/s, D_loss=0.00794, F_loss_=3.25, P_loss=0.365, epoch_=54]\n"
     ]
    },
    {
     "name": "stdout",
     "output_type": "stream",
     "text": [
      "2716.1594935655594\n"
     ]
    },
    {
     "name": "stderr",
     "output_type": "stream",
     "text": [
      "100%|██████████████████████████| 279/279 [00:45<00:00,  6.07it/s, D_loss=0.00414, F_loss_=18.2, P_loss=3.02, epoch_=55]\n"
     ]
    },
    {
     "name": "stdout",
     "output_type": "stream",
     "text": [
      "4834.014797210693\n"
     ]
    },
    {
     "name": "stderr",
     "output_type": "stream",
     "text": [
      "100%|█████████████████████████| 224/224 [00:05<00:00, 40.54it/s, D_loss=0.00103, F_loss_=1.74, P_loss=0.316, epoch_=55]\n"
     ]
    },
    {
     "name": "stdout",
     "output_type": "stream",
     "text": [
      "2953.339343905449\n",
      "save successfully!\n"
     ]
    },
    {
     "name": "stderr",
     "output_type": "stream",
     "text": [
      "100%|███████████████████████████| 279/279 [00:45<00:00,  6.07it/s, D_loss=0.00282, F_loss_=11.7, P_loss=2.7, epoch_=56]\n"
     ]
    },
    {
     "name": "stdout",
     "output_type": "stream",
     "text": [
      "4592.239488601685\n"
     ]
    },
    {
     "name": "stderr",
     "output_type": "stream",
     "text": [
      "100%|███████████████████████████| 224/224 [00:05<00:00, 40.81it/s, D_loss=0.00192, F_loss_=4.9, P_loss=3.74, epoch_=56]\n"
     ]
    },
    {
     "name": "stdout",
     "output_type": "stream",
     "text": [
      "2705.173854470253\n"
     ]
    },
    {
     "name": "stderr",
     "output_type": "stream",
     "text": [
      "100%|███████████████████████████| 279/279 [00:46<00:00,  6.06it/s, D_loss=0.0048, F_loss_=12.4, P_loss=2.33, epoch_=57]\n"
     ]
    },
    {
     "name": "stdout",
     "output_type": "stream",
     "text": [
      "4421.504548072815\n"
     ]
    },
    {
     "name": "stderr",
     "output_type": "stream",
     "text": [
      "100%|██████████████████████████| 224/224 [00:05<00:00, 40.30it/s, D_loss=0.00133, F_loss_=3.13, P_loss=3.31, epoch_=57]\n"
     ]
    },
    {
     "name": "stdout",
     "output_type": "stream",
     "text": [
      "3091.5814592838287\n"
     ]
    },
    {
     "name": "stderr",
     "output_type": "stream",
     "text": [
      "100%|██████████████████████████| 279/279 [00:46<00:00,  5.99it/s, D_loss=0.00222, F_loss_=12.7, P_loss=4.26, epoch_=58]\n"
     ]
    },
    {
     "name": "stdout",
     "output_type": "stream",
     "text": [
      "4548.794943809509\n"
     ]
    },
    {
     "name": "stderr",
     "output_type": "stream",
     "text": [
      "100%|██████████████████████████| 224/224 [00:05<00:00, 38.56it/s, D_loss=0.00189, F_loss_=5.31, P_loss=4.35, epoch_=58]\n"
     ]
    },
    {
     "name": "stdout",
     "output_type": "stream",
     "text": [
      "3052.109829068184\n"
     ]
    },
    {
     "name": "stderr",
     "output_type": "stream",
     "text": [
      "100%|██████████████████████████| 279/279 [00:49<00:00,  5.64it/s, D_loss=0.00292, F_loss_=27.1, P_loss=2.01, epoch_=59]\n"
     ]
    },
    {
     "name": "stdout",
     "output_type": "stream",
     "text": [
      "4200.13014125824\n"
     ]
    },
    {
     "name": "stderr",
     "output_type": "stream",
     "text": [
      "100%|███████████████████████████| 224/224 [00:05<00:00, 37.54it/s, D_loss=0.00303, F_loss_=1.11, P_loss=4.8, epoch_=59]\n"
     ]
    },
    {
     "name": "stdout",
     "output_type": "stream",
     "text": [
      "4035.2045333385468\n"
     ]
    },
    {
     "name": "stderr",
     "output_type": "stream",
     "text": [
      "100%|██████████████████████████| 279/279 [00:46<00:00,  5.99it/s, D_loss=0.00161, F_loss_=12.1, P_loss=2.06, epoch_=60]\n"
     ]
    },
    {
     "name": "stdout",
     "output_type": "stream",
     "text": [
      "4364.938947200775\n"
     ]
    },
    {
     "name": "stderr",
     "output_type": "stream",
     "text": [
      "100%|██████████████████████████| 224/224 [00:05<00:00, 40.62it/s, D_loss=0.00126, F_loss_=2.57, P_loss=1.81, epoch_=60]\n"
     ]
    },
    {
     "name": "stdout",
     "output_type": "stream",
     "text": [
      "2756.812178134918\n",
      "save successfully!\n"
     ]
    },
    {
     "name": "stderr",
     "output_type": "stream",
     "text": [
      "100%|██████████████████████████| 279/279 [00:46<00:00,  6.02it/s, D_loss=0.00163, F_loss_=9.21, P_loss=18.6, epoch_=61]\n"
     ]
    },
    {
     "name": "stdout",
     "output_type": "stream",
     "text": [
      "4481.766274929047\n"
     ]
    },
    {
     "name": "stderr",
     "output_type": "stream",
     "text": [
      "100%|██████████████████████████| 224/224 [00:05<00:00, 41.06it/s, D_loss=0.00084, F_loss_=3.84, P_loss=5.67, epoch_=61]\n"
     ]
    },
    {
     "name": "stdout",
     "output_type": "stream",
     "text": [
      "3329.451200067997\n"
     ]
    },
    {
     "name": "stderr",
     "output_type": "stream",
     "text": [
      "100%|██████████████████████████| 279/279 [00:46<00:00,  6.05it/s, D_loss=0.00211, F_loss_=6.31, P_loss=5.17, epoch_=62]\n"
     ]
    },
    {
     "name": "stdout",
     "output_type": "stream",
     "text": [
      "4413.486777305603\n"
     ]
    },
    {
     "name": "stderr",
     "output_type": "stream",
     "text": [
      "100%|█████████████████████████| 224/224 [00:05<00:00, 40.57it/s, D_loss=0.00295, F_loss_=4.84, P_loss=0.197, epoch_=62]\n"
     ]
    },
    {
     "name": "stdout",
     "output_type": "stream",
     "text": [
      "3080.447816848755\n"
     ]
    },
    {
     "name": "stderr",
     "output_type": "stream",
     "text": [
      "100%|███████████████████████████| 279/279 [00:45<00:00,  6.07it/s, D_loss=0.00121, F_loss_=6.6, P_loss=2.36, epoch_=63]\n"
     ]
    },
    {
     "name": "stdout",
     "output_type": "stream",
     "text": [
      "3901.5121006965637\n"
     ]
    },
    {
     "name": "stderr",
     "output_type": "stream",
     "text": [
      "100%|████████████████████████| 224/224 [00:05<00:00, 40.70it/s, D_loss=0.000446, F_loss_=1.51, P_loss=0.194, epoch_=63]\n"
     ]
    },
    {
     "name": "stdout",
     "output_type": "stream",
     "text": [
      "2168.5362713187933\n"
     ]
    },
    {
     "name": "stderr",
     "output_type": "stream",
     "text": [
      "100%|██████████████████████████| 279/279 [00:46<00:00,  6.03it/s, D_loss=0.00205, F_loss_=7.26, P_loss=7.88, epoch_=64]\n"
     ]
    },
    {
     "name": "stdout",
     "output_type": "stream",
     "text": [
      "4069.7433927059174\n"
     ]
    },
    {
     "name": "stderr",
     "output_type": "stream",
     "text": [
      "100%|██████████████████████████| 224/224 [00:05<00:00, 41.09it/s, D_loss=0.00429, F_loss_=3.52, P_loss=2.65, epoch_=64]\n"
     ]
    },
    {
     "name": "stdout",
     "output_type": "stream",
     "text": [
      "2808.4960045814514\n"
     ]
    },
    {
     "name": "stderr",
     "output_type": "stream",
     "text": [
      "100%|██████████████████████████| 279/279 [00:46<00:00,  6.04it/s, D_loss=0.00522, F_loss_=6.82, P_loss=1.94, epoch_=65]\n"
     ]
    },
    {
     "name": "stdout",
     "output_type": "stream",
     "text": [
      "4016.535973548889\n"
     ]
    },
    {
     "name": "stderr",
     "output_type": "stream",
     "text": [
      "100%|██████████████████████████| 224/224 [00:05<00:00, 40.53it/s, D_loss=0.00131, F_loss_=2.66, P_loss=5.93, epoch_=65]\n"
     ]
    },
    {
     "name": "stdout",
     "output_type": "stream",
     "text": [
      "2578.332981944084\n",
      "save successfully!\n"
     ]
    },
    {
     "name": "stderr",
     "output_type": "stream",
     "text": [
      "100%|███████████████████████████| 279/279 [00:47<00:00,  5.87it/s, D_loss=0.0059, F_loss_=5.94, P_loss=2.02, epoch_=66]\n"
     ]
    },
    {
     "name": "stdout",
     "output_type": "stream",
     "text": [
      "4030.7559781074524\n"
     ]
    },
    {
     "name": "stderr",
     "output_type": "stream",
     "text": [
      "100%|██████████████████████████| 224/224 [00:05<00:00, 37.74it/s, D_loss=0.00125, F_loss_=1.63, P_loss=8.97, epoch_=66]\n"
     ]
    },
    {
     "name": "stdout",
     "output_type": "stream",
     "text": [
      "3750.7871528863907\n"
     ]
    },
    {
     "name": "stderr",
     "output_type": "stream",
     "text": [
      "100%|██████████████████████████| 279/279 [00:49<00:00,  5.59it/s, D_loss=0.00312, F_loss_=8.48, P_loss=2.57, epoch_=67]\n"
     ]
    },
    {
     "name": "stdout",
     "output_type": "stream",
     "text": [
      "3720.888205051422\n"
     ]
    },
    {
     "name": "stderr",
     "output_type": "stream",
     "text": [
      "100%|█████████████████████████| 224/224 [00:05<00:00, 39.73it/s, D_loss=0.000286, F_loss_=1.88, P_loss=3.85, epoch_=67]\n"
     ]
    },
    {
     "name": "stdout",
     "output_type": "stream",
     "text": [
      "2444.987560272217\n"
     ]
    },
    {
     "name": "stderr",
     "output_type": "stream",
     "text": [
      "100%|██████████████████████████| 279/279 [00:46<00:00,  6.06it/s, D_loss=0.00286, F_loss_=13.9, P_loss=2.14, epoch_=68]\n"
     ]
    },
    {
     "name": "stdout",
     "output_type": "stream",
     "text": [
      "3581.0088868141174\n"
     ]
    },
    {
     "name": "stderr",
     "output_type": "stream",
     "text": [
      "100%|██████████████████████████| 224/224 [00:05<00:00, 40.08it/s, D_loss=0.00343, F_loss_=4.52, P_loss=3.89, epoch_=68]\n"
     ]
    },
    {
     "name": "stdout",
     "output_type": "stream",
     "text": [
      "3929.3319858312607\n"
     ]
    },
    {
     "name": "stderr",
     "output_type": "stream",
     "text": [
      "100%|██████████████████████████| 279/279 [00:45<00:00,  6.07it/s, D_loss=0.00285, F_loss_=7.97, P_loss=3.53, epoch_=69]\n"
     ]
    },
    {
     "name": "stdout",
     "output_type": "stream",
     "text": [
      "3702.4814472198486\n"
     ]
    },
    {
     "name": "stderr",
     "output_type": "stream",
     "text": [
      "100%|█████████████████████████| 224/224 [00:05<00:00, 41.18it/s, D_loss=0.000604, F_loss_=3.98, P_loss=5.04, epoch_=69]\n"
     ]
    },
    {
     "name": "stdout",
     "output_type": "stream",
     "text": [
      "3132.1222047805786\n"
     ]
    },
    {
     "name": "stderr",
     "output_type": "stream",
     "text": [
      "100%|███████████████████████████| 279/279 [00:46<00:00,  6.05it/s, D_loss=0.0042, F_loss_=6.43, P_loss=2.65, epoch_=70]\n"
     ]
    },
    {
     "name": "stdout",
     "output_type": "stream",
     "text": [
      "3719.7542848587036\n"
     ]
    },
    {
     "name": "stderr",
     "output_type": "stream",
     "text": [
      "100%|█████████████████████████| 224/224 [00:05<00:00, 41.54it/s, D_loss=0.00183, F_loss_=7.11, P_loss=0.811, epoch_=70]\n"
     ]
    },
    {
     "name": "stdout",
     "output_type": "stream",
     "text": [
      "2263.774165034294\n",
      "save successfully!\n"
     ]
    },
    {
     "name": "stderr",
     "output_type": "stream",
     "text": [
      "100%|██████████████████████████| 279/279 [00:46<00:00,  5.99it/s, D_loss=0.00123, F_loss_=8.96, P_loss=1.36, epoch_=71]\n"
     ]
    },
    {
     "name": "stdout",
     "output_type": "stream",
     "text": [
      "3624.3232111930847\n"
     ]
    },
    {
     "name": "stderr",
     "output_type": "stream",
     "text": [
      "100%|██████████████████████████| 224/224 [00:06<00:00, 37.16it/s, D_loss=0.00125, F_loss_=3.09, P_loss=9.42, epoch_=71]\n"
     ]
    },
    {
     "name": "stdout",
     "output_type": "stream",
     "text": [
      "4244.483404159546\n"
     ]
    },
    {
     "name": "stderr",
     "output_type": "stream",
     "text": [
      "100%|██████████████████████████| 279/279 [00:45<00:00,  6.18it/s, D_loss=0.00349, F_loss_=5.24, P_loss=1.57, epoch_=72]\n"
     ]
    },
    {
     "name": "stdout",
     "output_type": "stream",
     "text": [
      "3346.50111246109\n"
     ]
    },
    {
     "name": "stderr",
     "output_type": "stream",
     "text": [
      "100%|███████████████████████████| 224/224 [00:05<00:00, 39.35it/s, D_loss=0.00423, F_loss_=4.5, P_loss=5.66, epoch_=72]\n"
     ]
    },
    {
     "name": "stdout",
     "output_type": "stream",
     "text": [
      "2887.777488231659\n"
     ]
    },
    {
     "name": "stderr",
     "output_type": "stream",
     "text": [
      "100%|██████████████████████████| 279/279 [00:45<00:00,  6.13it/s, D_loss=0.00776, F_loss_=8.93, P_loss=12.2, epoch_=73]\n"
     ]
    },
    {
     "name": "stdout",
     "output_type": "stream",
     "text": [
      "3762.508852481842\n"
     ]
    },
    {
     "name": "stderr",
     "output_type": "stream",
     "text": [
      "100%|██████████████████████████| 224/224 [00:05<00:00, 38.75it/s, D_loss=0.00147, F_loss_=2.76, P_loss=4.78, epoch_=73]\n"
     ]
    },
    {
     "name": "stdout",
     "output_type": "stream",
     "text": [
      "3255.381949722767\n"
     ]
    },
    {
     "name": "stderr",
     "output_type": "stream",
     "text": [
      "100%|█████████████████████████| 279/279 [00:45<00:00,  6.14it/s, D_loss=0.00163, F_loss_=16.7, P_loss=0.872, epoch_=74]\n"
     ]
    },
    {
     "name": "stdout",
     "output_type": "stream",
     "text": [
      "3384.9664511680603\n"
     ]
    },
    {
     "name": "stderr",
     "output_type": "stream",
     "text": [
      "100%|█████████████████████████| 224/224 [00:05<00:00, 38.51it/s, D_loss=0.00106, F_loss_=5.24, P_loss=0.136, epoch_=74]\n"
     ]
    },
    {
     "name": "stdout",
     "output_type": "stream",
     "text": [
      "1662.1157272458076\n"
     ]
    },
    {
     "name": "stderr",
     "output_type": "stream",
     "text": [
      "100%|██████████████████████████| 279/279 [00:45<00:00,  6.19it/s, D_loss=0.00472, F_loss_=12.3, P_loss=1.19, epoch_=75]\n"
     ]
    },
    {
     "name": "stdout",
     "output_type": "stream",
     "text": [
      "3092.5507488250732\n"
     ]
    },
    {
     "name": "stderr",
     "output_type": "stream",
     "text": [
      "100%|██████████████████████████| 224/224 [00:05<00:00, 39.04it/s, D_loss=0.00189, F_loss_=5.15, P_loss=4.41, epoch_=75]\n"
     ]
    },
    {
     "name": "stdout",
     "output_type": "stream",
     "text": [
      "2845.2883841991425\n",
      "save successfully!\n"
     ]
    },
    {
     "name": "stderr",
     "output_type": "stream",
     "text": [
      "100%|██████████████████████████| 279/279 [00:45<00:00,  6.09it/s, D_loss=0.00231, F_loss_=6.84, P_loss=1.71, epoch_=76]\n"
     ]
    },
    {
     "name": "stdout",
     "output_type": "stream",
     "text": [
      "3024.152360200882\n"
     ]
    },
    {
     "name": "stderr",
     "output_type": "stream",
     "text": [
      "100%|██████████████████████████| 224/224 [00:06<00:00, 37.06it/s, D_loss=0.00306, F_loss_=5.11, P_loss=7.46, epoch_=76]\n"
     ]
    },
    {
     "name": "stdout",
     "output_type": "stream",
     "text": [
      "2999.782091498375\n"
     ]
    },
    {
     "name": "stderr",
     "output_type": "stream",
     "text": [
      "100%|███████████████████████████| 279/279 [00:45<00:00,  6.14it/s, D_loss=0.0013, F_loss_=4.26, P_loss=1.48, epoch_=77]\n"
     ]
    },
    {
     "name": "stdout",
     "output_type": "stream",
     "text": [
      "2811.3260719776154\n"
     ]
    },
    {
     "name": "stderr",
     "output_type": "stream",
     "text": [
      "100%|██████████████████████████| 224/224 [00:05<00:00, 38.67it/s, D_loss=0.00424, F_loss_=7.52, P_loss=2.43, epoch_=77]\n"
     ]
    },
    {
     "name": "stdout",
     "output_type": "stream",
     "text": [
      "2171.582458138466\n"
     ]
    },
    {
     "name": "stderr",
     "output_type": "stream",
     "text": [
      "100%|██████████████████████████| 279/279 [00:46<00:00,  6.02it/s, D_loss=0.00365, F_loss_=3.51, P_loss=1.39, epoch_=78]\n"
     ]
    },
    {
     "name": "stdout",
     "output_type": "stream",
     "text": [
      "2672.6326224803925\n"
     ]
    },
    {
     "name": "stderr",
     "output_type": "stream",
     "text": [
      "100%|██████████████████████████| 224/224 [00:06<00:00, 37.24it/s, D_loss=0.00136, F_loss_=2.3, P_loss=0.862, epoch_=78]\n"
     ]
    },
    {
     "name": "stdout",
     "output_type": "stream",
     "text": [
      "1344.986554801464\n"
     ]
    },
    {
     "name": "stderr",
     "output_type": "stream",
     "text": [
      "100%|██████████████████████████| 279/279 [00:45<00:00,  6.10it/s, D_loss=0.00579, F_loss_=4.12, P_loss=4.56, epoch_=79]\n"
     ]
    },
    {
     "name": "stdout",
     "output_type": "stream",
     "text": [
      "2718.6239635944366\n"
     ]
    },
    {
     "name": "stderr",
     "output_type": "stream",
     "text": [
      "100%|██████████████████████████| 224/224 [00:05<00:00, 38.62it/s, D_loss=0.00291, F_loss_=13.4, P_loss=2.06, epoch_=79]\n"
     ]
    },
    {
     "name": "stdout",
     "output_type": "stream",
     "text": [
      "2084.6837364435196\n"
     ]
    },
    {
     "name": "stderr",
     "output_type": "stream",
     "text": [
      "100%|██████████████████████████| 279/279 [00:45<00:00,  6.13it/s, D_loss=0.00166, F_loss_=2.92, P_loss=1.93, epoch_=80]\n"
     ]
    },
    {
     "name": "stdout",
     "output_type": "stream",
     "text": [
      "2518.0178439617157\n"
     ]
    },
    {
     "name": "stderr",
     "output_type": "stream",
     "text": [
      "100%|██████████████████████████| 224/224 [00:05<00:00, 38.86it/s, D_loss=0.00751, F_loss_=2.43, P_loss=1.92, epoch_=80]\n"
     ]
    },
    {
     "name": "stdout",
     "output_type": "stream",
     "text": [
      "1488.325751900673\n",
      "save successfully!\n"
     ]
    },
    {
     "name": "stderr",
     "output_type": "stream",
     "text": [
      "100%|█████████████████████████| 279/279 [00:45<00:00,  6.08it/s, D_loss=0.00593, F_loss_=1.58, P_loss=0.459, epoch_=81]\n"
     ]
    },
    {
     "name": "stdout",
     "output_type": "stream",
     "text": [
      "2719.157757997513\n"
     ]
    },
    {
     "name": "stderr",
     "output_type": "stream",
     "text": [
      "100%|██████████████████████████| 224/224 [00:05<00:00, 38.39it/s, D_loss=0.00179, F_loss_=4.13, P_loss=2.93, epoch_=81]\n"
     ]
    },
    {
     "name": "stdout",
     "output_type": "stream",
     "text": [
      "1752.2841034531593\n"
     ]
    },
    {
     "name": "stderr",
     "output_type": "stream",
     "text": [
      "100%|██████████████████████████| 279/279 [00:46<00:00,  6.02it/s, D_loss=0.00239, F_loss_=4.72, P_loss=3.23, epoch_=82]\n"
     ]
    },
    {
     "name": "stdout",
     "output_type": "stream",
     "text": [
      "2470.879781484604\n"
     ]
    },
    {
     "name": "stderr",
     "output_type": "stream",
     "text": [
      "100%|███████████████████████████| 224/224 [00:05<00:00, 38.62it/s, D_loss=0.00147, F_loss_=5.36, P_loss=1.7, epoch_=82]\n"
     ]
    },
    {
     "name": "stdout",
     "output_type": "stream",
     "text": [
      "1541.4922472536564\n"
     ]
    },
    {
     "name": "stderr",
     "output_type": "stream",
     "text": [
      "100%|██████████████████████████| 279/279 [00:45<00:00,  6.17it/s, D_loss=0.00173, F_loss_=4.43, P_loss=1.26, epoch_=83]\n"
     ]
    },
    {
     "name": "stdout",
     "output_type": "stream",
     "text": [
      "2334.402829885483\n"
     ]
    },
    {
     "name": "stderr",
     "output_type": "stream",
     "text": [
      "100%|████████████████████████| 224/224 [00:05<00:00, 38.74it/s, D_loss=0.000903, F_loss_=3.57, P_loss=0.264, epoch_=83]\n"
     ]
    },
    {
     "name": "stdout",
     "output_type": "stream",
     "text": [
      "922.8606325984001\n"
     ]
    },
    {
     "name": "stderr",
     "output_type": "stream",
     "text": [
      "100%|█████████████████████████| 279/279 [00:45<00:00,  6.14it/s, D_loss=0.00739, F_loss_=3.51, P_loss=0.946, epoch_=84]\n"
     ]
    },
    {
     "name": "stdout",
     "output_type": "stream",
     "text": [
      "2599.320048093796\n"
     ]
    },
    {
     "name": "stderr",
     "output_type": "stream",
     "text": [
      "100%|█████████████████████████| 224/224 [00:05<00:00, 38.20it/s, D_loss=0.00254, F_loss_=1.07, P_loss=0.561, epoch_=84]\n"
     ]
    },
    {
     "name": "stdout",
     "output_type": "stream",
     "text": [
      "1132.0752794742584\n"
     ]
    },
    {
     "name": "stderr",
     "output_type": "stream",
     "text": [
      "100%|██████████████████████████| 279/279 [00:45<00:00,  6.14it/s, D_loss=0.00246, F_loss_=6.58, P_loss=2.42, epoch_=85]\n"
     ]
    },
    {
     "name": "stdout",
     "output_type": "stream",
     "text": [
      "2613.6419162750244\n"
     ]
    },
    {
     "name": "stderr",
     "output_type": "stream",
     "text": [
      "100%|█████████████████████████| 224/224 [00:05<00:00, 39.58it/s, D_loss=0.00251, F_loss_=2.05, P_loss=0.892, epoch_=85]\n"
     ]
    },
    {
     "name": "stdout",
     "output_type": "stream",
     "text": [
      "1381.5553961992264\n",
      "save successfully!\n"
     ]
    },
    {
     "name": "stderr",
     "output_type": "stream",
     "text": [
      "100%|██████████████████████████| 279/279 [00:46<00:00,  6.04it/s, D_loss=0.00141, F_loss_=6.97, P_loss=2.15, epoch_=86]\n"
     ]
    },
    {
     "name": "stdout",
     "output_type": "stream",
     "text": [
      "2366.9419963359833\n"
     ]
    },
    {
     "name": "stderr",
     "output_type": "stream",
     "text": [
      "100%|██████████████████████████| 224/224 [00:05<00:00, 38.26it/s, D_loss=0.00588, F_loss_=1.79, P_loss=1.32, epoch_=86]\n"
     ]
    },
    {
     "name": "stdout",
     "output_type": "stream",
     "text": [
      "1469.278317809105\n"
     ]
    },
    {
     "name": "stderr",
     "output_type": "stream",
     "text": [
      "100%|██████████████████████████| 279/279 [00:45<00:00,  6.14it/s, D_loss=0.00345, F_loss_=6.69, P_loss=2.76, epoch_=87]\n"
     ]
    },
    {
     "name": "stdout",
     "output_type": "stream",
     "text": [
      "2480.6224761009216\n"
     ]
    },
    {
     "name": "stderr",
     "output_type": "stream",
     "text": [
      "100%|██████████████████████████| 224/224 [00:05<00:00, 38.27it/s, D_loss=0.00137, F_loss_=6.37, P_loss=2.71, epoch_=87]\n"
     ]
    },
    {
     "name": "stdout",
     "output_type": "stream",
     "text": [
      "1430.2379106879234\n"
     ]
    },
    {
     "name": "stderr",
     "output_type": "stream",
     "text": [
      "100%|█████████████████████████| 279/279 [00:45<00:00,  6.12it/s, D_loss=0.00109, F_loss_=4.36, P_loss=0.777, epoch_=88]\n"
     ]
    },
    {
     "name": "stdout",
     "output_type": "stream",
     "text": [
      "2162.9319932460785\n"
     ]
    },
    {
     "name": "stderr",
     "output_type": "stream",
     "text": [
      "100%|█████████████████████████| 224/224 [00:05<00:00, 38.38it/s, D_loss=0.00254, F_loss_=6.2, P_loss=0.0165, epoch_=88]\n"
     ]
    },
    {
     "name": "stdout",
     "output_type": "stream",
     "text": [
      "1046.9213989824057\n"
     ]
    },
    {
     "name": "stderr",
     "output_type": "stream",
     "text": [
      "100%|██████████████████████████| 279/279 [00:46<00:00,  6.03it/s, D_loss=0.00278, F_loss_=42.7, P_loss=3.54, epoch_=89]\n"
     ]
    },
    {
     "name": "stdout",
     "output_type": "stream",
     "text": [
      "2224.890507221222\n"
     ]
    },
    {
     "name": "stderr",
     "output_type": "stream",
     "text": [
      "100%|██████████████████████████| 224/224 [00:05<00:00, 38.10it/s, D_loss=0.00572, F_loss_=11.1, P_loss=3.09, epoch_=89]\n"
     ]
    },
    {
     "name": "stdout",
     "output_type": "stream",
     "text": [
      "1948.7877801656723\n"
     ]
    },
    {
     "name": "stderr",
     "output_type": "stream",
     "text": [
      "100%|█████████████████████████| 279/279 [00:46<00:00,  6.00it/s, D_loss=0.00486, F_loss_=28.1, P_loss=0.725, epoch_=90]\n"
     ]
    },
    {
     "name": "stdout",
     "output_type": "stream",
     "text": [
      "2333.297690153122\n"
     ]
    },
    {
     "name": "stderr",
     "output_type": "stream",
     "text": [
      "100%|█████████████████████████| 224/224 [00:06<00:00, 34.61it/s, D_loss=0.00291, F_loss_=5.19, P_loss=0.219, epoch_=90]\n"
     ]
    },
    {
     "name": "stdout",
     "output_type": "stream",
     "text": [
      "1121.6466895341873\n",
      "save successfully!\n"
     ]
    },
    {
     "name": "stderr",
     "output_type": "stream",
     "text": [
      "100%|██████████████████████████| 279/279 [00:51<00:00,  5.41it/s, D_loss=0.00239, F_loss_=6.62, P_loss=3.58, epoch_=91]\n"
     ]
    },
    {
     "name": "stdout",
     "output_type": "stream",
     "text": [
      "2252.148354291916\n"
     ]
    },
    {
     "name": "stderr",
     "output_type": "stream",
     "text": [
      "100%|█████████████████████████| 224/224 [00:05<00:00, 39.99it/s, D_loss=0.00189, F_loss_=3.86, P_loss=0.571, epoch_=91]\n"
     ]
    },
    {
     "name": "stdout",
     "output_type": "stream",
     "text": [
      "1583.3774443268776\n"
     ]
    },
    {
     "name": "stderr",
     "output_type": "stream",
     "text": [
      "100%|██████████████████████████| 279/279 [00:47<00:00,  5.90it/s, D_loss=0.00108, F_loss_=4.48, P_loss=1.17, epoch_=92]\n"
     ]
    },
    {
     "name": "stdout",
     "output_type": "stream",
     "text": [
      "2065.7523876428604\n"
     ]
    },
    {
     "name": "stderr",
     "output_type": "stream",
     "text": [
      "100%|█████████████████████████| 224/224 [00:05<00:00, 40.27it/s, D_loss=0.00178, F_loss_=2.32, P_loss=0.622, epoch_=92]\n"
     ]
    },
    {
     "name": "stdout",
     "output_type": "stream",
     "text": [
      "844.4700548052788\n"
     ]
    },
    {
     "name": "stderr",
     "output_type": "stream",
     "text": [
      "100%|█████████████████████████| 279/279 [00:47<00:00,  5.91it/s, D_loss=0.00123, F_loss_=3.73, P_loss=0.878, epoch_=93]\n"
     ]
    },
    {
     "name": "stdout",
     "output_type": "stream",
     "text": [
      "2111.309667110443\n"
     ]
    },
    {
     "name": "stderr",
     "output_type": "stream",
     "text": [
      "100%|█████████████████████████| 224/224 [00:05<00:00, 40.77it/s, D_loss=0.000817, F_loss_=6.07, P_loss=2.26, epoch_=93]\n"
     ]
    },
    {
     "name": "stdout",
     "output_type": "stream",
     "text": [
      "1561.7619963884354\n"
     ]
    },
    {
     "name": "stderr",
     "output_type": "stream",
     "text": [
      "100%|██████████████████████████| 279/279 [00:47<00:00,  5.87it/s, D_loss=0.000499, F_loss_=1.36, P_loss=1.4, epoch_=94]\n"
     ]
    },
    {
     "name": "stdout",
     "output_type": "stream",
     "text": [
      "2580.9687869548798\n"
     ]
    },
    {
     "name": "stderr",
     "output_type": "stream",
     "text": [
      "100%|██████████████████████████| 224/224 [00:05<00:00, 40.41it/s, D_loss=0.00395, F_loss_=2.66, P_loss=3.58, epoch_=94]\n"
     ]
    },
    {
     "name": "stdout",
     "output_type": "stream",
     "text": [
      "2545.5255513191223\n"
     ]
    },
    {
     "name": "stderr",
     "output_type": "stream",
     "text": [
      "100%|█████████████████████████| 279/279 [00:47<00:00,  5.89it/s, D_loss=0.00115, F_loss_=6.12, P_loss=0.888, epoch_=95]\n"
     ]
    },
    {
     "name": "stdout",
     "output_type": "stream",
     "text": [
      "2441.5338156223297\n"
     ]
    },
    {
     "name": "stderr",
     "output_type": "stream",
     "text": [
      "100%|█████████████████████████| 224/224 [00:05<00:00, 39.78it/s, D_loss=0.00124, F_loss_=7.82, P_loss=0.561, epoch_=95]\n"
     ]
    },
    {
     "name": "stdout",
     "output_type": "stream",
     "text": [
      "1563.9132402539253\n",
      "save successfully!\n"
     ]
    },
    {
     "name": "stderr",
     "output_type": "stream",
     "text": [
      "100%|██████████████████████████| 279/279 [00:45<00:00,  6.12it/s, D_loss=0.00173, F_loss_=3.82, P_loss=2.94, epoch_=96]\n"
     ]
    },
    {
     "name": "stdout",
     "output_type": "stream",
     "text": [
      "1963.4065917730331\n"
     ]
    },
    {
     "name": "stderr",
     "output_type": "stream",
     "text": [
      "100%|█████████████████████████| 224/224 [00:05<00:00, 37.98it/s, D_loss=0.00129, F_loss_=8.06, P_loss=0.973, epoch_=96]\n"
     ]
    },
    {
     "name": "stdout",
     "output_type": "stream",
     "text": [
      "1209.6077512651682\n"
     ]
    },
    {
     "name": "stderr",
     "output_type": "stream",
     "text": [
      "100%|████████████████████████| 279/279 [00:45<00:00,  6.14it/s, D_loss=0.000925, F_loss_=3.34, P_loss=0.761, epoch_=97]\n"
     ]
    },
    {
     "name": "stdout",
     "output_type": "stream",
     "text": [
      "2119.977269887924\n"
     ]
    },
    {
     "name": "stderr",
     "output_type": "stream",
     "text": [
      "100%|██████████████████████████| 224/224 [00:05<00:00, 37.95it/s, D_loss=0.00405, F_loss_=2.38, P_loss=3.19, epoch_=97]\n"
     ]
    },
    {
     "name": "stdout",
     "output_type": "stream",
     "text": [
      "2061.700021147728\n"
     ]
    },
    {
     "name": "stderr",
     "output_type": "stream",
     "text": [
      "100%|█████████████████████████| 279/279 [00:45<00:00,  6.15it/s, D_loss=0.00304, F_loss_=1.41, P_loss=0.861, epoch_=98]\n"
     ]
    },
    {
     "name": "stdout",
     "output_type": "stream",
     "text": [
      "2103.297871351242\n"
     ]
    },
    {
     "name": "stderr",
     "output_type": "stream",
     "text": [
      "100%|██████████████████████████| 224/224 [00:05<00:00, 38.38it/s, D_loss=0.00265, F_loss_=1.86, P_loss=4.74, epoch_=98]\n"
     ]
    },
    {
     "name": "stdout",
     "output_type": "stream",
     "text": [
      "2302.440686941147\n"
     ]
    },
    {
     "name": "stderr",
     "output_type": "stream",
     "text": [
      "100%|██████████████████████████| 279/279 [00:45<00:00,  6.10it/s, D_loss=0.00129, F_loss_=3.44, P_loss=1.75, epoch_=99]\n"
     ]
    },
    {
     "name": "stdout",
     "output_type": "stream",
     "text": [
      "2115.8958735466003\n"
     ]
    },
    {
     "name": "stderr",
     "output_type": "stream",
     "text": [
      "100%|█████████████████████████| 224/224 [00:05<00:00, 38.24it/s, D_loss=0.00415, F_loss_=3.38, P_loss=0.822, epoch_=99]\n"
     ]
    },
    {
     "name": "stdout",
     "output_type": "stream",
     "text": [
      "1222.1712611019611\n"
     ]
    },
    {
     "name": "stderr",
     "output_type": "stream",
     "text": [
      "100%|█████████████████████████| 279/279 [00:45<00:00,  6.12it/s, D_loss=0.00143, F_loss_=1.89, P_loss=1.03, epoch_=100]\n"
     ]
    },
    {
     "name": "stdout",
     "output_type": "stream",
     "text": [
      "2006.8919384479523\n"
     ]
    },
    {
     "name": "stderr",
     "output_type": "stream",
     "text": [
      "100%|█████████████████████████| 224/224 [00:05<00:00, 38.64it/s, D_loss=0.00513, F_loss_=4.83, P_loss=2.32, epoch_=100]"
     ]
    },
    {
     "name": "stdout",
     "output_type": "stream",
     "text": [
      "1152.77171844244\n",
      "save successfully!\n"
     ]
    },
    {
     "name": "stderr",
     "output_type": "stream",
     "text": [
      "\n"
     ]
    }
   ],
   "source": [
    "epoch = 0\n",
    "while epoch < 101:\n",
    "    model.train()\n",
    "    # 训练集\n",
    "    train_loop=tqdm.tqdm(datasets_train)\n",
    "    epoch_loss=0\n",
    "    for i, (image,us_image,F,P,D,label_F,label_P,label_D) in enumerate(train_loop):\n",
    "        image=image.to(device)\n",
    "        us_image=us_image.to(device)\n",
    "        \n",
    "        F=F.to(device)\n",
    "        P=P.to(device)\n",
    "        D=D.to(device)\n",
    "        \n",
    "        label_F=label_F.to(device)\n",
    "        label_P=label_P.to(device)\n",
    "        label_D=label_D.to(device)\n",
    "        \n",
    "        F_out,P_out,D_out = model(image,us_image, F, P, D)\n",
    "        \n",
    "        F_loss=loss_F(F_out,label_F)\n",
    "        P_loss=loss_P(P_out,label_P)\n",
    "        D_loss=loss_D(D_out,label_D)\n",
    "        \n",
    "        total_loss=(F_loss+P_loss+D_loss)\n",
    "        train_loop.set_postfix(F_loss_=F_loss.item(), D_loss=D_loss.item(), P_loss=P_loss.item(), epoch_=epoch)\n",
    "        epoch_loss+=total_loss.item()\n",
    "        opt.zero_grad()\n",
    "        total_loss.backward()\n",
    "        opt.step()\n",
    "    print(epoch_loss)\n",
    "    #验证集\n",
    "    if val_ratio != 0:\n",
    "        epoch_loss=0\n",
    "        model.eval()\n",
    "        val_loop=tqdm.tqdm(datasets_val)\n",
    "        for i, (image,us_image,F,P,D,label_F,label_P,label_D) in enumerate(val_loop):\n",
    "            image=image.to(device)\n",
    "            us_image=us_image.to(device)\n",
    "            \n",
    "            F=F.to(device)\n",
    "            P=P.to(device)\n",
    "            D=D.to(device)\n",
    "        \n",
    "            label_F=label_F.to(device)\n",
    "            label_P=label_P.to(device)\n",
    "            label_D=label_D.to(device)\n",
    "        \n",
    "            F_out,P_out,D_out = model(image,us_image, F, P, D)\n",
    "        \n",
    "            F_loss=loss_F(F_out,label_F)\n",
    "            P_loss=loss_P(P_out,label_P)\n",
    "            D_loss=loss_D(D_out,label_D)\n",
    "        \n",
    "            total_loss=(F_loss+P_loss+D_loss)\n",
    "            val_loop.set_postfix(F_loss_=F_loss.item(), D_loss=D_loss.item(), P_loss=P_loss.item(), epoch_=epoch)\n",
    "            epoch_loss+=total_loss.item()\n",
    "            if i == 0:\n",
    "                tb.add_scalar(\"val/loss/F_loss\", F_loss.item(), global_cnt_val)\n",
    "                tb.add_scalar(\"val/loss/P_loss\", P_loss.item(), global_cnt_val)\n",
    "                tb.add_scalar(\"val/loss/D_loss\", D_loss.item(), global_cnt_val)\n",
    "                global_cnt_val += 1\n",
    "        print(epoch_loss)\n",
    "        \n",
    "    \n",
    "    \n",
    "    \n",
    "    if epoch % 5 == 0:\n",
    "        weight_path = os.path.join(log_folder, \"models\", \"weights_itr_{}.pth\".format(epoch))\n",
    "        torch.save(model.state_dict(), weight_path)\n",
    "        print('save successfully!')\n",
    "    epoch += 1\n"
   ]
  },
  {
   "cell_type": "code",
   "execution_count": null,
   "id": "1e8bd914",
   "metadata": {},
   "outputs": [],
   "source": []
  }
 ],
 "metadata": {
  "kernelspec": {
   "display_name": "Python 3 (ipykernel)",
   "language": "python",
   "name": "python3"
  },
  "language_info": {
   "codemirror_mode": {
    "name": "ipython",
    "version": 3
   },
   "file_extension": ".py",
   "mimetype": "text/x-python",
   "name": "python",
   "nbconvert_exporter": "python",
   "pygments_lexer": "ipython3",
   "version": "3.9.7"
  }
 },
 "nbformat": 4,
 "nbformat_minor": 5
}
