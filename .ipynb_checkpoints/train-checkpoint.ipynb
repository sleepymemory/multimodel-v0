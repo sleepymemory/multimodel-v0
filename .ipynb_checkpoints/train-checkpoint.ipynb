{
 "cells": [
  {
   "cell_type": "code",
   "execution_count": 1,
   "id": "f347e359",
   "metadata": {},
   "outputs": [],
   "source": [
    "import os\n",
    "\n",
    "import tqdm\n",
    "from torch import nn, optim\n",
    "import torch\n",
    "from torch.utils.data import DataLoader\n",
    "from dataloader import *\n",
    "from model import *\n",
    "from torchvision.utils import save_image"
   ]
  },
  {
   "cell_type": "code",
   "execution_count": 2,
   "id": "c203b332",
   "metadata": {},
   "outputs": [],
   "source": [
    "from tensorboardX import SummaryWriter\n",
    "import datetime\n",
    "import time\n",
    "import os\n",
    "\n",
    "import logging\n",
    "import sys\n",
    "import yaml"
   ]
  },
  {
   "cell_type": "code",
   "execution_count": 3,
   "id": "5d35be8b",
   "metadata": {},
   "outputs": [],
   "source": [
    "def create_folder_structure(log_folder):\n",
    "    \"\"\"\n",
    "    Creates the folder structure for logging. Subfolders can be added here\n",
    "    \"\"\"\n",
    "    base_dir = log_folder\n",
    "    sub_folders = [\"runs\", \"models\"]\n",
    "\n",
    "    if not os.path.exists(base_dir):\n",
    "        os.mkdir(base_dir)\n",
    "\n",
    "    for sf in sub_folders:\n",
    "        if not os.path.exists(os.path.join(base_dir, sf)):\n",
    "            os.mkdir(os.path.join(base_dir, sf))"
   ]
  },
  {
   "cell_type": "code",
   "execution_count": 4,
   "id": "85b42877",
   "metadata": {},
   "outputs": [],
   "source": [
    "log_name=\"1C\"\n",
    "log_folder = os.path.join(\"./log\", log_name)\n",
    "tb_prefix = log_name\n",
    "\n",
    "\n",
    "create_folder_structure(log_folder)\n",
    "\n",
    "log_path = os.path.join(log_folder, \"log.log\")\n",
    "print_logger = logging.getLogger()\n",
    "print_logger.setLevel(getattr(logging, 'INFO', None))\n",
    "handlers = [logging.StreamHandler(sys.stdout), logging.FileHandler(log_path)]\n",
    "formatter = logging.Formatter(\"%(levelname)s - %(filename)s - %(asctime)s - %(message)s\")\n",
    "for h in handlers:\n",
    "    h.setFormatter(formatter)\n",
    "    print_logger.addHandler(h)\n",
    "tb = SummaryWriter(os.path.join(log_folder, \"runs\", tb_prefix))"
   ]
  },
  {
   "cell_type": "code",
   "execution_count": 5,
   "id": "7d864ca7",
   "metadata": {},
   "outputs": [],
   "source": [
    "def logprint(self, *args):\n",
    "    \"\"\"\n",
    "    Wrapper for print statement\n",
    "    \"\"\"\n",
    "    print_logger.info(args)\n"
   ]
  },
  {
   "cell_type": "code",
   "execution_count": 6,
   "id": "f7f19a4c",
   "metadata": {},
   "outputs": [],
   "source": [
    "device = torch.device('cuda' if torch.cuda.is_available() else 'cpu')\n",
    "data_path = r'data'\n",
    "val_path = r'val_data'\n",
    "val_ratio=1"
   ]
  },
  {
   "cell_type": "code",
   "execution_count": 7,
   "id": "df43a843",
   "metadata": {},
   "outputs": [],
   "source": [
    "filename_list = []\n",
    "for file in os.listdir(os.path.join(data_path,\"D_real\")):\n",
    "    filename_list.append(file)"
   ]
  },
  {
   "cell_type": "code",
   "execution_count": 8,
   "id": "a8803bb8",
   "metadata": {},
   "outputs": [],
   "source": [
    "val_filename_list = []\n",
    "for file in os.listdir(os.path.join(val_path,\"D_real\")):\n",
    "    val_filename_list.append(file)"
   ]
  },
  {
   "cell_type": "code",
   "execution_count": 9,
   "id": "bcb6769b",
   "metadata": {},
   "outputs": [],
   "source": [
    "global_cnt_val=0"
   ]
  },
  {
   "cell_type": "code",
   "execution_count": 10,
   "id": "9b66b159",
   "metadata": {},
   "outputs": [],
   "source": [
    "datasets_train=DataLoader(MyDataset(data_path,filename_list), batch_size=4, shuffle=True)\n",
    "datasets_val =DataLoader(MyDataset(data_path,val_filename_list), batch_size=1, shuffle=False)"
   ]
  },
  {
   "cell_type": "code",
   "execution_count": 11,
   "id": "4a1be7dd",
   "metadata": {},
   "outputs": [],
   "source": [
    "train_len_data = len(datasets_train)\n",
    "val_len_data=len(datasets_val)"
   ]
  },
  {
   "cell_type": "code",
   "execution_count": 12,
   "id": "11f00be6",
   "metadata": {},
   "outputs": [],
   "source": [
    "model = SensorFusion(device=device).to(device)"
   ]
  },
  {
   "cell_type": "code",
   "execution_count": 13,
   "id": "2603c6eb",
   "metadata": {},
   "outputs": [],
   "source": [
    "opt= optim.Adam(\n",
    "    model.parameters(),\n",
    "    lr=0.0001,\n",
    "    betas=(0.9, 0.999),\n",
    "    weight_decay=0.0,\n",
    ")"
   ]
  },
  {
   "cell_type": "code",
   "execution_count": 14,
   "id": "2635e0f7",
   "metadata": {},
   "outputs": [],
   "source": [
    "loss_P = nn.MSELoss()\n",
    "loss_F = nn.MSELoss()\n",
    "loss_D = nn.MSELoss()"
   ]
  },
  {
   "cell_type": "code",
   "execution_count": 15,
   "id": "1cf4736c",
   "metadata": {},
   "outputs": [
    {
     "name": "stderr",
     "output_type": "stream",
     "text": [
      "100%|██████████████████████████████| 558/558 [02:02<00:00,  4.56it/s, D_loss=0.0204, F_loss_=968, P_loss=319, epoch_=0]\n"
     ]
    },
    {
     "name": "stdout",
     "output_type": "stream",
     "text": [
      "5315883.557144165\n"
     ]
    },
    {
     "name": "stderr",
     "output_type": "stream",
     "text": [
      "100%|████████████████████████████████████████████████████████████████████████████████| 224/224 [00:05<00:00, 39.15it/s]\n"
     ]
    },
    {
     "name": "stdout",
     "output_type": "stream",
     "text": [
      "391551.56437683105\n",
      "save successfully!\n"
     ]
    },
    {
     "name": "stderr",
     "output_type": "stream",
     "text": [
      "100%|██████████████████████████████| 558/558 [01:00<00:00,  9.21it/s, D_loss=0.00243, F_loss_=220, P_loss=62, epoch_=1]\n"
     ]
    },
    {
     "name": "stdout",
     "output_type": "stream",
     "text": [
      "164286.4183769226\n"
     ]
    },
    {
     "name": "stderr",
     "output_type": "stream",
     "text": [
      "100%|████████████████████████████████████████████████████████████████████████████████| 224/224 [00:05<00:00, 40.81it/s]\n"
     ]
    },
    {
     "name": "stdout",
     "output_type": "stream",
     "text": [
      "49872.39084625244\n"
     ]
    },
    {
     "name": "stderr",
     "output_type": "stream",
     "text": [
      " 11%|███▏                         | 62/558 [00:06<00:55,  8.93it/s, D_loss=0.00665, F_loss_=44.7, P_loss=143, epoch_=2]\n"
     ]
    },
    {
     "ename": "KeyboardInterrupt",
     "evalue": "",
     "output_type": "error",
     "traceback": [
      "\u001b[1;31m---------------------------------------------------------------------------\u001b[0m",
      "\u001b[1;31mKeyboardInterrupt\u001b[0m                         Traceback (most recent call last)",
      "Input \u001b[1;32mIn [15]\u001b[0m, in \u001b[0;36m<cell line: 2>\u001b[1;34m()\u001b[0m\n\u001b[0;32m      5\u001b[0m train_loop\u001b[38;5;241m=\u001b[39mtqdm\u001b[38;5;241m.\u001b[39mtqdm(datasets_train)\n\u001b[0;32m      6\u001b[0m epoch_loss\u001b[38;5;241m=\u001b[39m\u001b[38;5;241m0\u001b[39m\n\u001b[1;32m----> 7\u001b[0m \u001b[38;5;28;01mfor\u001b[39;00m i, (image,us_image,F,P,D,label_F,label_P,label_D) \u001b[38;5;129;01min\u001b[39;00m \u001b[38;5;28menumerate\u001b[39m(train_loop):\n\u001b[0;32m      8\u001b[0m     image\u001b[38;5;241m=\u001b[39mimage\u001b[38;5;241m.\u001b[39mto(device)\n\u001b[0;32m      9\u001b[0m     us_image\u001b[38;5;241m=\u001b[39mus_image\u001b[38;5;241m.\u001b[39mto(device)\n",
      "File \u001b[1;32mC:\\anaconda\\lib\\site-packages\\tqdm\\std.py:1195\u001b[0m, in \u001b[0;36mtqdm.__iter__\u001b[1;34m(self)\u001b[0m\n\u001b[0;32m   1192\u001b[0m time \u001b[38;5;241m=\u001b[39m \u001b[38;5;28mself\u001b[39m\u001b[38;5;241m.\u001b[39m_time\n\u001b[0;32m   1194\u001b[0m \u001b[38;5;28;01mtry\u001b[39;00m:\n\u001b[1;32m-> 1195\u001b[0m     \u001b[38;5;28;01mfor\u001b[39;00m obj \u001b[38;5;129;01min\u001b[39;00m iterable:\n\u001b[0;32m   1196\u001b[0m         \u001b[38;5;28;01myield\u001b[39;00m obj\n\u001b[0;32m   1197\u001b[0m         \u001b[38;5;66;03m# Update and possibly print the progressbar.\u001b[39;00m\n\u001b[0;32m   1198\u001b[0m         \u001b[38;5;66;03m# Note: does not call self.update(1) for speed optimisation.\u001b[39;00m\n",
      "File \u001b[1;32mC:\\anaconda\\lib\\site-packages\\torch\\utils\\data\\dataloader.py:435\u001b[0m, in \u001b[0;36m_BaseDataLoaderIter.__next__\u001b[1;34m(self)\u001b[0m\n\u001b[0;32m    433\u001b[0m \u001b[38;5;28;01mif\u001b[39;00m \u001b[38;5;28mself\u001b[39m\u001b[38;5;241m.\u001b[39m_sampler_iter \u001b[38;5;129;01mis\u001b[39;00m \u001b[38;5;28;01mNone\u001b[39;00m:\n\u001b[0;32m    434\u001b[0m     \u001b[38;5;28mself\u001b[39m\u001b[38;5;241m.\u001b[39m_reset()\n\u001b[1;32m--> 435\u001b[0m data \u001b[38;5;241m=\u001b[39m \u001b[38;5;28;43mself\u001b[39;49m\u001b[38;5;241;43m.\u001b[39;49m\u001b[43m_next_data\u001b[49m\u001b[43m(\u001b[49m\u001b[43m)\u001b[49m\n\u001b[0;32m    436\u001b[0m \u001b[38;5;28mself\u001b[39m\u001b[38;5;241m.\u001b[39m_num_yielded \u001b[38;5;241m+\u001b[39m\u001b[38;5;241m=\u001b[39m \u001b[38;5;241m1\u001b[39m\n\u001b[0;32m    437\u001b[0m \u001b[38;5;28;01mif\u001b[39;00m \u001b[38;5;28mself\u001b[39m\u001b[38;5;241m.\u001b[39m_dataset_kind \u001b[38;5;241m==\u001b[39m _DatasetKind\u001b[38;5;241m.\u001b[39mIterable \u001b[38;5;129;01mand\u001b[39;00m \\\n\u001b[0;32m    438\u001b[0m         \u001b[38;5;28mself\u001b[39m\u001b[38;5;241m.\u001b[39m_IterableDataset_len_called \u001b[38;5;129;01mis\u001b[39;00m \u001b[38;5;129;01mnot\u001b[39;00m \u001b[38;5;28;01mNone\u001b[39;00m \u001b[38;5;129;01mand\u001b[39;00m \\\n\u001b[0;32m    439\u001b[0m         \u001b[38;5;28mself\u001b[39m\u001b[38;5;241m.\u001b[39m_num_yielded \u001b[38;5;241m>\u001b[39m \u001b[38;5;28mself\u001b[39m\u001b[38;5;241m.\u001b[39m_IterableDataset_len_called:\n",
      "File \u001b[1;32mC:\\anaconda\\lib\\site-packages\\torch\\utils\\data\\dataloader.py:475\u001b[0m, in \u001b[0;36m_SingleProcessDataLoaderIter._next_data\u001b[1;34m(self)\u001b[0m\n\u001b[0;32m    473\u001b[0m \u001b[38;5;28;01mdef\u001b[39;00m \u001b[38;5;21m_next_data\u001b[39m(\u001b[38;5;28mself\u001b[39m):\n\u001b[0;32m    474\u001b[0m     index \u001b[38;5;241m=\u001b[39m \u001b[38;5;28mself\u001b[39m\u001b[38;5;241m.\u001b[39m_next_index()  \u001b[38;5;66;03m# may raise StopIteration\u001b[39;00m\n\u001b[1;32m--> 475\u001b[0m     data \u001b[38;5;241m=\u001b[39m \u001b[38;5;28;43mself\u001b[39;49m\u001b[38;5;241;43m.\u001b[39;49m\u001b[43m_dataset_fetcher\u001b[49m\u001b[38;5;241;43m.\u001b[39;49m\u001b[43mfetch\u001b[49m\u001b[43m(\u001b[49m\u001b[43mindex\u001b[49m\u001b[43m)\u001b[49m  \u001b[38;5;66;03m# may raise StopIteration\u001b[39;00m\n\u001b[0;32m    476\u001b[0m     \u001b[38;5;28;01mif\u001b[39;00m \u001b[38;5;28mself\u001b[39m\u001b[38;5;241m.\u001b[39m_pin_memory:\n\u001b[0;32m    477\u001b[0m         data \u001b[38;5;241m=\u001b[39m _utils\u001b[38;5;241m.\u001b[39mpin_memory\u001b[38;5;241m.\u001b[39mpin_memory(data)\n",
      "File \u001b[1;32mC:\\anaconda\\lib\\site-packages\\torch\\utils\\data\\_utils\\fetch.py:44\u001b[0m, in \u001b[0;36m_MapDatasetFetcher.fetch\u001b[1;34m(self, possibly_batched_index)\u001b[0m\n\u001b[0;32m     42\u001b[0m \u001b[38;5;28;01mdef\u001b[39;00m \u001b[38;5;21mfetch\u001b[39m(\u001b[38;5;28mself\u001b[39m, possibly_batched_index):\n\u001b[0;32m     43\u001b[0m     \u001b[38;5;28;01mif\u001b[39;00m \u001b[38;5;28mself\u001b[39m\u001b[38;5;241m.\u001b[39mauto_collation:\n\u001b[1;32m---> 44\u001b[0m         data \u001b[38;5;241m=\u001b[39m [\u001b[38;5;28mself\u001b[39m\u001b[38;5;241m.\u001b[39mdataset[idx] \u001b[38;5;28;01mfor\u001b[39;00m idx \u001b[38;5;129;01min\u001b[39;00m possibly_batched_index]\n\u001b[0;32m     45\u001b[0m     \u001b[38;5;28;01melse\u001b[39;00m:\n\u001b[0;32m     46\u001b[0m         data \u001b[38;5;241m=\u001b[39m \u001b[38;5;28mself\u001b[39m\u001b[38;5;241m.\u001b[39mdataset[possibly_batched_index]\n",
      "File \u001b[1;32mC:\\anaconda\\lib\\site-packages\\torch\\utils\\data\\_utils\\fetch.py:44\u001b[0m, in \u001b[0;36m<listcomp>\u001b[1;34m(.0)\u001b[0m\n\u001b[0;32m     42\u001b[0m \u001b[38;5;28;01mdef\u001b[39;00m \u001b[38;5;21mfetch\u001b[39m(\u001b[38;5;28mself\u001b[39m, possibly_batched_index):\n\u001b[0;32m     43\u001b[0m     \u001b[38;5;28;01mif\u001b[39;00m \u001b[38;5;28mself\u001b[39m\u001b[38;5;241m.\u001b[39mauto_collation:\n\u001b[1;32m---> 44\u001b[0m         data \u001b[38;5;241m=\u001b[39m [\u001b[38;5;28;43mself\u001b[39;49m\u001b[38;5;241;43m.\u001b[39;49m\u001b[43mdataset\u001b[49m\u001b[43m[\u001b[49m\u001b[43midx\u001b[49m\u001b[43m]\u001b[49m \u001b[38;5;28;01mfor\u001b[39;00m idx \u001b[38;5;129;01min\u001b[39;00m possibly_batched_index]\n\u001b[0;32m     45\u001b[0m     \u001b[38;5;28;01melse\u001b[39;00m:\n\u001b[0;32m     46\u001b[0m         data \u001b[38;5;241m=\u001b[39m \u001b[38;5;28mself\u001b[39m\u001b[38;5;241m.\u001b[39mdataset[possibly_batched_index]\n",
      "File \u001b[1;32m~\\Desktop\\git\\multimodel\\dataloader.py:57\u001b[0m, in \u001b[0;36mMyDataset.__getitem__\u001b[1;34m(self, index)\u001b[0m\n\u001b[0;32m     54\u001b[0m label_P \u001b[38;5;241m=\u001b[39m np\u001b[38;5;241m.\u001b[39mload(label_P_path)\n\u001b[0;32m     55\u001b[0m label_F \u001b[38;5;241m=\u001b[39m np\u001b[38;5;241m.\u001b[39mload(label_F_path)\n\u001b[1;32m---> 57\u001b[0m img \u001b[38;5;241m=\u001b[39m \u001b[43mkeep_image_size_open_rgb\u001b[49m\u001b[43m(\u001b[49m\u001b[43mRGB_img_path\u001b[49m\u001b[43m)\u001b[49m\n\u001b[0;32m     58\u001b[0m us_img \u001b[38;5;241m=\u001b[39m keep_image_size_open_rgb(US_img_path)\n\u001b[0;32m     60\u001b[0m F \u001b[38;5;241m=\u001b[39m F \u001b[38;5;241m*\u001b[39m \u001b[38;5;241m10\u001b[39m\n",
      "File \u001b[1;32m~\\Desktop\\git\\multimodel\\dataloader.py:22\u001b[0m, in \u001b[0;36mkeep_image_size_open_rgb\u001b[1;34m(path, size)\u001b[0m\n\u001b[0;32m     20\u001b[0m img \u001b[38;5;241m=\u001b[39m Image\u001b[38;5;241m.\u001b[39mopen(path)\n\u001b[0;32m     21\u001b[0m temp \u001b[38;5;241m=\u001b[39m \u001b[38;5;28mmax\u001b[39m(img\u001b[38;5;241m.\u001b[39msize)\n\u001b[1;32m---> 22\u001b[0m mask \u001b[38;5;241m=\u001b[39m \u001b[43mImage\u001b[49m\u001b[38;5;241;43m.\u001b[39;49m\u001b[43mnew\u001b[49m\u001b[43m(\u001b[49m\u001b[38;5;124;43m'\u001b[39;49m\u001b[38;5;124;43mRGB\u001b[39;49m\u001b[38;5;124;43m'\u001b[39;49m\u001b[43m,\u001b[49m\u001b[43m \u001b[49m\u001b[43m(\u001b[49m\u001b[43mtemp\u001b[49m\u001b[43m,\u001b[49m\u001b[43m \u001b[49m\u001b[43mtemp\u001b[49m\u001b[43m)\u001b[49m\u001b[43m)\u001b[49m\n\u001b[0;32m     23\u001b[0m mask\u001b[38;5;241m.\u001b[39mpaste(img, (\u001b[38;5;241m0\u001b[39m, \u001b[38;5;241m0\u001b[39m))\n\u001b[0;32m     24\u001b[0m mask \u001b[38;5;241m=\u001b[39m mask\u001b[38;5;241m.\u001b[39mresize(size)\n",
      "File \u001b[1;32mC:\\anaconda\\lib\\site-packages\\PIL\\Image.py:2670\u001b[0m, in \u001b[0;36mnew\u001b[1;34m(mode, size, color)\u001b[0m\n\u001b[0;32m   2668\u001b[0m     im\u001b[38;5;241m.\u001b[39mpalette \u001b[38;5;241m=\u001b[39m ImagePalette\u001b[38;5;241m.\u001b[39mImagePalette()\n\u001b[0;32m   2669\u001b[0m     color \u001b[38;5;241m=\u001b[39m im\u001b[38;5;241m.\u001b[39mpalette\u001b[38;5;241m.\u001b[39mgetcolor(color)\n\u001b[1;32m-> 2670\u001b[0m \u001b[38;5;28;01mreturn\u001b[39;00m im\u001b[38;5;241m.\u001b[39m_new(\u001b[43mcore\u001b[49m\u001b[38;5;241;43m.\u001b[39;49m\u001b[43mfill\u001b[49m\u001b[43m(\u001b[49m\u001b[43mmode\u001b[49m\u001b[43m,\u001b[49m\u001b[43m \u001b[49m\u001b[43msize\u001b[49m\u001b[43m,\u001b[49m\u001b[43m \u001b[49m\u001b[43mcolor\u001b[49m\u001b[43m)\u001b[49m)\n",
      "\u001b[1;31mKeyboardInterrupt\u001b[0m: "
     ]
    }
   ],
   "source": [
    "epoch = 0\n",
    "while epoch < 101:\n",
    "    model.train()\n",
    "    # 训练集\n",
    "    train_loop=tqdm.tqdm(datasets_train)\n",
    "    epoch_loss=0\n",
    "    for i, (image,us_image,F,P,D,label_F,label_P,label_D) in enumerate(train_loop):\n",
    "        image=image.to(device)\n",
    "        us_image=us_image.to(device)\n",
    "        \n",
    "        F=F.to(device)\n",
    "        P=P.to(device)\n",
    "        D=D.to(device)\n",
    "        \n",
    "        label_F=label_F.to(device)\n",
    "        label_P=label_P.to(device)\n",
    "        label_D=label_D.to(device)\n",
    "        \n",
    "        F_out,P_out,D_out = model(image,us_image, F, P, D)\n",
    "        \n",
    "        F_loss=loss_F(F_out,label_F)\n",
    "        P_loss=loss_P(P_out,label_P)\n",
    "        D_loss=loss_D(D_out,label_D)\n",
    "        \n",
    "        total_loss=(F_loss+P_loss+D_loss)\n",
    "        train_loop.set_postfix(F_loss_=F_loss.item(), D_loss=D_loss.item(), P_loss=P_loss.item(), epoch_=epoch)\n",
    "        epoch_loss+=total_loss.item()\n",
    "        opt.zero_grad()\n",
    "        total_loss.backward()\n",
    "        opt.step()\n",
    "    print(epoch_loss)\n",
    "    #验证集\n",
    "    if val_ratio != 0:\n",
    "        epoch_loss=0\n",
    "        model.eval()\n",
    "        val_loop=tqdm.tqdm(datasets_val)\n",
    "        for i, (image,us_image,F,P,D,label_F,label_P,label_D) in enumerate(val_loop):\n",
    "            image=image.to(device)\n",
    "            us_image=us_image.to(device)\n",
    "            \n",
    "            F=F.to(device)\n",
    "            P=P.to(device)\n",
    "            D=D.to(device)\n",
    "        \n",
    "            label_F=label_F.to(device)\n",
    "            label_P=label_P.to(device)\n",
    "            label_D=label_D.to(device)\n",
    "        \n",
    "            F_out,P_out,D_out = model(image,us_image, F, P, D)\n",
    "        \n",
    "            F_loss=loss_F(F_out,label_F)\n",
    "            P_loss=loss_P(P_out,label_P)\n",
    "            D_loss=loss_D(D_out,label_D)\n",
    "        \n",
    "            total_loss=(F_loss+P_loss+D_loss)\n",
    "            epoch_loss+=total_loss.item()\n",
    "            if i == 0:\n",
    "                tb.add_scalar(\"val/loss/F_loss\", F_loss.item(), global_cnt_val)\n",
    "                tb.add_scalar(\"val/loss/P_loss\", P_loss.item(), global_cnt_val)\n",
    "                tb.add_scalar(\"val/loss/D_loss\", D_loss.item(), global_cnt_val)\n",
    "                global_cnt_val += 1\n",
    "        print(epoch_loss)\n",
    "        \n",
    "    \n",
    "    \n",
    "    \n",
    "    if epoch % 5 == 0:\n",
    "        weight_path = os.path.join(log_folder, \"models\", \"weights_itr_{}.pth\".format(epoch))\n",
    "        torch.save(model.state_dict(), weight_path)\n",
    "        print('save successfully!')\n",
    "    epoch += 1\n"
   ]
  },
  {
   "cell_type": "code",
   "execution_count": null,
   "id": "1e8bd914",
   "metadata": {},
   "outputs": [],
   "source": []
  }
 ],
 "metadata": {
  "kernelspec": {
   "display_name": "Python 3 (ipykernel)",
   "language": "python",
   "name": "python3"
  },
  "language_info": {
   "codemirror_mode": {
    "name": "ipython",
    "version": 3
   },
   "file_extension": ".py",
   "mimetype": "text/x-python",
   "name": "python",
   "nbconvert_exporter": "python",
   "pygments_lexer": "ipython3",
   "version": "3.9.7"
  }
 },
 "nbformat": 4,
 "nbformat_minor": 5
}
