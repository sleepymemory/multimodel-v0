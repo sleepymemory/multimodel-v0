{
 "cells": [
  {
   "cell_type": "code",
   "execution_count": 19,
   "id": "fa962bbe",
   "metadata": {},
   "outputs": [
    {
     "name": "stdout",
     "output_type": "stream",
     "text": [
      "successfully\n"
     ]
    }
   ],
   "source": [
    "import os\n",
    "from tqdm import tqdm\n",
    "from torch import nn, optim\n",
    "import torch\n",
    "from torch.utils.data import DataLoader\n",
    "from dataloader_future import *\n",
    "from model_future import *\n",
    "from torchvision.utils import save_image\n",
    "\n",
    "device = torch.device('cuda' if torch.cuda.is_available() else 'cpu')\n",
    "\n",
    "model = SensorFusion(device=device).to(device)\n",
    "\n",
    "weights = r'C:\\Users\\Paradox\\Desktop\\git\\multimodel\\log_future\\1C\\models\\weights_itr_65.pth'\n",
    "\n",
    "if os.path.exists(weights):\n",
    "    model.load_state_dict(torch.load(weights))\n",
    "    print('successfully')\n",
    "else:\n",
    "    print('no loading')"
   ]
  },
  {
   "cell_type": "code",
   "execution_count": 20,
   "id": "c9ac03e3",
   "metadata": {},
   "outputs": [
    {
     "name": "stderr",
     "output_type": "stream",
     "text": [
      "100%|████████████████████████████████████████████████████████████████████████████████| 242/242 [00:08<00:00, 28.83it/s]"
     ]
    },
    {
     "name": "stdout",
     "output_type": "stream",
     "text": [
      "0\n"
     ]
    },
    {
     "name": "stderr",
     "output_type": "stream",
     "text": [
      "\n"
     ]
    }
   ],
   "source": [
    "ls=[]\n",
    "real=[]\n",
    "real_exp=[]\n",
    "exp_20=[]\n",
    "\n",
    "val_path = r'val_future'\n",
    "\n",
    "filename_list = []\n",
    "for i in range(len(os.listdir(os.path.join(val_path, \"D_real\")))):\n",
    "    filename_list.append(\"{}.npy\".format(i))\n",
    "\n",
    "datasets_val = DataLoader(MyDataset(val_path, filename_list), batch_size=1, shuffle=False)\n",
    "\n",
    "epoch_loss = 0\n",
    "model.eval()\n",
    "val_loop = tqdm(datasets_val)\n",
    "for i, (image, us_image, F, P, D, label_F, label_P, label_D, label_F_20, label_P_20, label_D_20) in enumerate(val_loop):\n",
    "    image = image.to(device)\n",
    "    us_image = us_image.to(device)\n",
    "\n",
    "    F = F.to(device)\n",
    "    P = P.to(device)\n",
    "    D = D.to(device)\n",
    "\n",
    "    label_F = label_F.to(device)\n",
    "    label_P = label_P.to(device)\n",
    "    label_D = label_D.to(device)\n",
    "    real.append(P)\n",
    "    real_exp.append(label_P)\n",
    "\n",
    "    F_out, P_out, D_out, F_20_out, P_20_out, D_20_out = model(image, us_image, F, P, D)\n",
    "    \n",
    "    \n",
    "    #P_out=P_out.squeeze(dim=0)\n",
    "    #P_out=P_out.cpu().detach().numpy()/10000\n",
    "\n",
    "    \n",
    "    \n",
    "    ls.append(P_out)\n",
    "    exp_20.append(P_20_out)\n",
    "    \n",
    "print(epoch_loss)"
   ]
  },
  {
   "cell_type": "code",
   "execution_count": 21,
   "id": "c20efddf",
   "metadata": {},
   "outputs": [],
   "source": [
    "real=[i[0].cpu().detach().numpy()/10000 for i in real]\n",
    "ls=[i[0].cpu().detach().numpy()/10000 for i in ls]\n",
    "real_exp=[i[0].cpu().detach().numpy()/10000 for i in real_exp]\n",
    "exp_20=[i[0].cpu().detach().numpy()/10000 for i in exp_20]"
   ]
  },
  {
   "cell_type": "code",
   "execution_count": 22,
   "id": "c7e0d105",
   "metadata": {},
   "outputs": [
    {
     "data": {
      "text/plain": [
       "[array([ 0.46372432, -0.03790335,  0.13316217], dtype=float32),\n",
       " array([ 0.47205493, -0.03958539,  0.12850045], dtype=float32),\n",
       " array([ 0.4765618 , -0.04058648,  0.12489458], dtype=float32),\n",
       " array([ 0.47810742, -0.04081644,  0.1235381 ], dtype=float32),\n",
       " array([ 0.4794538 , -0.04114619,  0.12237226], dtype=float32),\n",
       " array([ 0.48122472, -0.04143515,  0.121338  ], dtype=float32),\n",
       " array([ 0.48248106, -0.04169266,  0.12032568], dtype=float32),\n",
       " array([ 0.48393607, -0.04198086,  0.11936741], dtype=float32),\n",
       " array([ 0.48402685, -0.04197276,  0.11954967], dtype=float32),\n",
       " array([ 0.4838558 , -0.04193975,  0.1194675 ], dtype=float32),\n",
       " array([ 0.48387492, -0.04193734,  0.11960033], dtype=float32),\n",
       " array([ 0.48374575, -0.04194963,  0.119539  ], dtype=float32),\n",
       " array([ 0.48379678, -0.04197073,  0.11953097], dtype=float32),\n",
       " array([ 0.4837415 , -0.04195579,  0.11959187], dtype=float32),\n",
       " array([ 0.48388788, -0.04191265,  0.11959392], dtype=float32),\n",
       " array([ 0.48277637, -0.04175218,  0.12021396], dtype=float32),\n",
       " array([ 0.48277372, -0.04174901,  0.12021211], dtype=float32),\n",
       " array([ 0.48283556, -0.04178234,  0.12019868], dtype=float32),\n",
       " array([ 0.48276025, -0.0417611 ,  0.12018052], dtype=float32),\n",
       " array([ 0.48279765, -0.04175454,  0.12012494], dtype=float32),\n",
       " array([ 0.48278296, -0.04174541,  0.12013879], dtype=float32),\n",
       " array([ 0.48267505, -0.04180354,  0.12007531], dtype=float32),\n",
       " array([ 0.48246893, -0.04177843,  0.11971688], dtype=float32),\n",
       " array([ 0.48254472, -0.04175973,  0.11959321], dtype=float32),\n",
       " array([ 0.48357168, -0.04195569,  0.11855213], dtype=float32),\n",
       " array([ 0.48364243, -0.04204043,  0.11828908], dtype=float32),\n",
       " array([ 0.48345572, -0.04200871,  0.11781974], dtype=float32),\n",
       " array([ 0.48325548, -0.04202806,  0.11745495], dtype=float32),\n",
       " array([ 0.48312598, -0.04204848,  0.11717863], dtype=float32),\n",
       " array([ 0.482934  , -0.04203674,  0.11653432], dtype=float32),\n",
       " array([ 0.48280394, -0.04207597,  0.11597957], dtype=float32),\n",
       " array([ 0.48260292, -0.04208595,  0.11511982], dtype=float32),\n",
       " array([ 0.48264596, -0.04214272,  0.11363063], dtype=float32),\n",
       " array([ 0.48268193, -0.04221002,  0.11256646], dtype=float32),\n",
       " array([ 0.48262164, -0.04225264,  0.11151595], dtype=float32),\n",
       " array([ 0.48269808, -0.04225337,  0.11143895], dtype=float32),\n",
       " array([ 0.4826966 , -0.04236479,  0.11046029], dtype=float32),\n",
       " array([ 0.48266494, -0.04238942,  0.10986964], dtype=float32),\n",
       " array([ 0.48272592, -0.04241319,  0.1089834 ], dtype=float32),\n",
       " array([ 0.48289195, -0.04244552,  0.10819537], dtype=float32),\n",
       " array([ 0.48297885, -0.04253626,  0.10703348], dtype=float32),\n",
       " array([ 0.4834455 , -0.04264029,  0.10555145], dtype=float32),\n",
       " array([ 0.48413852, -0.04273593,  0.10399406], dtype=float32),\n",
       " array([ 0.48450983, -0.04282589,  0.10269559], dtype=float32),\n",
       " array([ 0.4845169 , -0.0427909 ,  0.10189772], dtype=float32),\n",
       " array([ 0.4846655 , -0.04285861,  0.10085868], dtype=float32),\n",
       " array([ 0.484816  , -0.04290176,  0.09996115], dtype=float32),\n",
       " array([ 0.48539215, -0.04303277,  0.09837112], dtype=float32),\n",
       " array([ 0.48542568, -0.0429937 ,  0.09777837], dtype=float32),\n",
       " array([ 0.48539624, -0.04299113,  0.09734789], dtype=float32),\n",
       " array([ 0.4854023 , -0.04306123,  0.09638733], dtype=float32),\n",
       " array([ 0.48558462, -0.04311128,  0.09503372], dtype=float32),\n",
       " array([ 0.48559064, -0.04317003,  0.09308416], dtype=float32),\n",
       " array([ 0.48622462, -0.04329365,  0.09135443], dtype=float32),\n",
       " array([ 0.48675057, -0.04338319,  0.08874629], dtype=float32),\n",
       " array([ 0.48683146, -0.04339119,  0.08778977], dtype=float32),\n",
       " array([ 0.4869918 , -0.04340667,  0.086548  ], dtype=float32),\n",
       " array([ 0.4871091 , -0.04350905,  0.08550469], dtype=float32),\n",
       " array([ 0.48700118, -0.04344398,  0.08469051], dtype=float32),\n",
       " array([ 0.4869921 , -0.04345887,  0.08403026], dtype=float32),\n",
       " array([ 0.48686045, -0.043488  ,  0.08341932], dtype=float32),\n",
       " array([ 0.48701367, -0.04353328,  0.08277685], dtype=float32),\n",
       " array([ 0.4869843 , -0.04349927,  0.08214447], dtype=float32),\n",
       " array([ 0.48700815, -0.04358153,  0.08056086], dtype=float32),\n",
       " array([ 0.4872525 , -0.04355193,  0.07954199], dtype=float32),\n",
       " array([ 0.4877664 , -0.04370419,  0.07829344], dtype=float32),\n",
       " array([ 0.48778632, -0.04369585,  0.07767175], dtype=float32),\n",
       " array([ 0.48783448, -0.04371807,  0.07739858], dtype=float32),\n",
       " array([ 0.48793048, -0.04374391,  0.0773707 ], dtype=float32),\n",
       " array([ 0.48789862, -0.04373847,  0.07729059], dtype=float32),\n",
       " array([ 0.48780802, -0.04378031,  0.07718644], dtype=float32),\n",
       " array([ 0.48778686, -0.04373608,  0.07710817], dtype=float32),\n",
       " array([ 0.48778096, -0.04373596,  0.07711022], dtype=float32),\n",
       " array([ 0.4877012 , -0.04370554,  0.07693958], dtype=float32),\n",
       " array([ 0.48733783, -0.04366987,  0.07666381], dtype=float32),\n",
       " array([ 0.48714063, -0.04370523,  0.07611506], dtype=float32),\n",
       " array([ 0.48687607, -0.04367654,  0.07585311], dtype=float32),\n",
       " array([ 0.48645616, -0.04365154,  0.07512001], dtype=float32),\n",
       " array([ 0.48614195, -0.04364975,  0.0746995 ], dtype=float32),\n",
       " array([ 0.4858338 , -0.04364095,  0.0740632 ], dtype=float32),\n",
       " array([ 0.4852051 , -0.04360442,  0.0731308 ], dtype=float32),\n",
       " array([ 0.4850293 , -0.0436055 ,  0.07264413], dtype=float32),\n",
       " array([ 0.48493555, -0.04362835,  0.07111797], dtype=float32),\n",
       " array([ 0.48521253, -0.04366872,  0.07014714], dtype=float32),\n",
       " array([ 0.48547208, -0.04373235,  0.06896122], dtype=float32),\n",
       " array([ 0.48544317, -0.04376421,  0.06818692], dtype=float32),\n",
       " array([ 0.48551354, -0.0438407 ,  0.06713931], dtype=float32),\n",
       " array([ 0.48547614, -0.04387471,  0.0657797 ], dtype=float32),\n",
       " array([ 0.48539078, -0.04389137,  0.06474216], dtype=float32),\n",
       " array([ 0.4855153 , -0.04401287,  0.06285299], dtype=float32),\n",
       " array([ 0.48546073, -0.04397554,  0.06215189], dtype=float32),\n",
       " array([ 0.48571387, -0.04411834,  0.06087508], dtype=float32),\n",
       " array([ 0.48572925, -0.04408171,  0.06036498], dtype=float32),\n",
       " array([ 0.48568588, -0.04409144,  0.05956616], dtype=float32),\n",
       " array([ 0.48561475, -0.04410497,  0.05936513], dtype=float32),\n",
       " array([ 0.4855421 , -0.04417699,  0.05866918], dtype=float32),\n",
       " array([ 0.48574185, -0.04419119,  0.05819964], dtype=float32),\n",
       " array([ 0.48575702, -0.0442045 ,  0.05780467], dtype=float32),\n",
       " array([ 0.48571137, -0.04422934,  0.05663992], dtype=float32),\n",
       " array([ 0.48571426, -0.04424501,  0.05597852], dtype=float32),\n",
       " array([ 0.48586315, -0.04426059,  0.05522734], dtype=float32),\n",
       " array([ 0.48580274, -0.04437599,  0.05427127], dtype=float32),\n",
       " array([ 0.48588812, -0.04433916,  0.05372554], dtype=float32),\n",
       " array([ 0.4861818 , -0.0443784 ,  0.05229476], dtype=float32),\n",
       " array([ 0.48627597, -0.04445709,  0.05161953], dtype=float32),\n",
       " array([ 0.48618692, -0.04450832,  0.05039622], dtype=float32),\n",
       " array([ 0.48612094, -0.04453119,  0.04967225], dtype=float32),\n",
       " array([ 0.4859855 , -0.04456863,  0.04911959], dtype=float32),\n",
       " array([ 0.4859366 , -0.04451713,  0.04855322], dtype=float32),\n",
       " array([ 0.48573527, -0.04450718,  0.04803987], dtype=float32),\n",
       " array([ 0.48582724, -0.04463571,  0.04672622], dtype=float32),\n",
       " array([ 0.4859011 , -0.04463473,  0.04616629], dtype=float32),\n",
       " array([ 0.485669  , -0.04464433,  0.04502216], dtype=float32),\n",
       " array([ 0.48551625, -0.04462438,  0.04466024], dtype=float32),\n",
       " array([ 0.48553964, -0.04469307,  0.04407308], dtype=float32),\n",
       " array([ 0.48549756, -0.04469298,  0.04353221], dtype=float32),\n",
       " array([ 0.4853892 , -0.04472258,  0.04264325], dtype=float32),\n",
       " array([ 0.4854143 , -0.04475038,  0.04237279], dtype=float32),\n",
       " array([ 0.48545343, -0.0447517 ,  0.04216998], dtype=float32),\n",
       " array([ 0.4852941 , -0.04474184,  0.04166168], dtype=float32),\n",
       " array([ 0.4848874 , -0.04473157,  0.04089561], dtype=float32),\n",
       " array([ 0.4847797 , -0.04474024,  0.04007858], dtype=float32),\n",
       " array([ 0.4846192 , -0.04479332,  0.03888393], dtype=float32),\n",
       " array([ 0.48450947, -0.04482495,  0.03827595], dtype=float32),\n",
       " array([ 0.48441553, -0.04481193,  0.03767021], dtype=float32),\n",
       " array([ 0.48425448, -0.04479849,  0.03723348], dtype=float32),\n",
       " array([ 0.48394492, -0.04485114,  0.03614348], dtype=float32),\n",
       " array([ 0.48379984, -0.04482929,  0.03570734], dtype=float32),\n",
       " array([ 0.4835374 , -0.04484554,  0.03448708], dtype=float32),\n",
       " array([ 0.4833722 , -0.04485229,  0.03410966], dtype=float32),\n",
       " array([ 0.4832474 , -0.04486731,  0.03344274], dtype=float32),\n",
       " array([ 0.48302   , -0.04489845,  0.03324983], dtype=float32),\n",
       " array([ 0.4830096 , -0.04492743,  0.03291153], dtype=float32),\n",
       " array([ 0.48243985, -0.04501732,  0.03221036], dtype=float32),\n",
       " array([ 0.48258433, -0.04503135,  0.03210946], dtype=float32),\n",
       " array([ 0.48251054, -0.04507856,  0.03179206], dtype=float32),\n",
       " array([ 0.4822335 , -0.04502909,  0.03142505], dtype=float32),\n",
       " array([ 0.48185074, -0.04512224,  0.03104786], dtype=float32),\n",
       " array([ 0.48152462, -0.04517934,  0.03013623], dtype=float32),\n",
       " array([ 0.4811836 , -0.04528008,  0.02975518], dtype=float32),\n",
       " array([ 0.48092613, -0.04532895,  0.02900487], dtype=float32),\n",
       " array([ 0.480737  , -0.04531373,  0.02869326], dtype=float32),\n",
       " array([ 0.48063436, -0.04532799,  0.02839707], dtype=float32),\n",
       " array([ 0.48048633, -0.04538267,  0.02824718], dtype=float32),\n",
       " array([ 0.48047653, -0.04536616,  0.02817859], dtype=float32),\n",
       " array([ 0.480335  , -0.04541575,  0.02804281], dtype=float32),\n",
       " array([ 0.48038775, -0.04540969,  0.02807673], dtype=float32),\n",
       " array([ 0.48039877, -0.045415  ,  0.02806113], dtype=float32),\n",
       " array([ 0.48040283, -0.04540981,  0.02805983], dtype=float32),\n",
       " array([ 0.48043618, -0.04538802,  0.02799579], dtype=float32),\n",
       " array([ 0.47999325, -0.04542631,  0.02763263], dtype=float32),\n",
       " array([ 0.47953126, -0.04537816,  0.0273539 ], dtype=float32),\n",
       " array([ 0.47907397, -0.04541118,  0.02701599], dtype=float32),\n",
       " array([ 0.47848433, -0.04539829,  0.02667808], dtype=float32),\n",
       " array([ 0.47803956, -0.04542035,  0.02619948], dtype=float32),\n",
       " array([ 0.47742286, -0.04540907,  0.02552607], dtype=float32),\n",
       " array([ 0.47669652, -0.04546767,  0.0247947 ], dtype=float32),\n",
       " array([ 0.47591665, -0.04546162,  0.02416592], dtype=float32),\n",
       " array([ 0.47557852, -0.04546554,  0.02381378], dtype=float32),\n",
       " array([ 0.47480732, -0.04550522,  0.02300332], dtype=float32),\n",
       " array([ 0.4745271 , -0.04551098,  0.02241631], dtype=float32),\n",
       " array([ 0.4739937 , -0.04554508,  0.0217046 ], dtype=float32),\n",
       " array([ 0.4708597 , -0.04522518,  0.02131009], dtype=float32),\n",
       " array([ 0.4741132 , -0.04486769,  0.01804852], dtype=float32),\n",
       " array([ 0.4725884 , -0.04453522,  0.01721534], dtype=float32),\n",
       " array([ 0.4715687 , -0.04436619,  0.01670326], dtype=float32),\n",
       " array([ 0.47024   , -0.04412649,  0.01621682], dtype=float32),\n",
       " array([ 0.46888295, -0.04394166,  0.01599376], dtype=float32),\n",
       " array([ 0.46667168, -0.04352561,  0.01579884], dtype=float32),\n",
       " array([ 0.46872553, -0.04386209,  0.01588004], dtype=float32),\n",
       " array([ 0.46823302, -0.04385403,  0.0160587 ], dtype=float32),\n",
       " array([ 0.4681963 , -0.04384919,  0.01611546], dtype=float32),\n",
       " array([ 0.4681581 , -0.043845  ,  0.01579336], dtype=float32),\n",
       " array([ 0.46827516, -0.04383358,  0.01551711], dtype=float32),\n",
       " array([ 0.46810904, -0.04372335,  0.01538563], dtype=float32),\n",
       " array([ 0.46846542, -0.04375736,  0.01531147], dtype=float32),\n",
       " array([ 0.46799585, -0.04368935,  0.0149683 ], dtype=float32),\n",
       " array([ 0.46741772, -0.04364222,  0.01485533], dtype=float32),\n",
       " array([ 0.4654131 , -0.04360759,  0.01480396], dtype=float32),\n",
       " array([ 0.4639931 , -0.04357938,  0.01483594], dtype=float32),\n",
       " array([ 0.46322232, -0.04365224,  0.01482967], dtype=float32),\n",
       " array([ 0.46246895, -0.04359705,  0.01483583], dtype=float32),\n",
       " array([ 0.46169248, -0.04366874,  0.01483331], dtype=float32),\n",
       " array([ 0.46152225, -0.04374105,  0.01484721], dtype=float32),\n",
       " array([ 0.46140978, -0.04383971,  0.0149054 ], dtype=float32),\n",
       " array([ 0.46104372, -0.04390652,  0.01489356], dtype=float32),\n",
       " array([ 0.46182963, -0.04409444,  0.01503167], dtype=float32),\n",
       " array([ 0.4622679 , -0.04422451,  0.01511458], dtype=float32),\n",
       " array([ 0.46336168, -0.04439509,  0.01515978], dtype=float32),\n",
       " array([ 0.46530777, -0.04455479,  0.01533728], dtype=float32),\n",
       " array([ 0.46558857, -0.04472841,  0.01538735], dtype=float32),\n",
       " array([ 0.46640298, -0.04489796,  0.01558246], dtype=float32),\n",
       " array([ 0.46732506, -0.04502063,  0.01567259], dtype=float32),\n",
       " array([ 0.46806386, -0.04522943,  0.01575976], dtype=float32),\n",
       " array([ 0.46851796, -0.04540915,  0.01581656], dtype=float32),\n",
       " array([ 0.469046  , -0.04550911,  0.01590392], dtype=float32),\n",
       " array([ 0.46976674, -0.04556749,  0.01600298], dtype=float32),\n",
       " array([ 0.4693816 , -0.04559862,  0.01601427], dtype=float32),\n",
       " array([ 0.4697362 , -0.04562806,  0.01605751], dtype=float32),\n",
       " array([ 0.46958897, -0.04559227,  0.0160891 ], dtype=float32),\n",
       " array([ 0.46955353, -0.04553814,  0.0161714 ], dtype=float32),\n",
       " array([ 0.46933183, -0.04553295,  0.01626903], dtype=float32),\n",
       " array([ 0.4682849 , -0.04559899,  0.01615724], dtype=float32),\n",
       " array([ 0.4682432 , -0.04574102,  0.01609719], dtype=float32),\n",
       " array([ 0.46740463, -0.04568083,  0.01601649], dtype=float32),\n",
       " array([ 0.46657467, -0.04559312,  0.01596636], dtype=float32),\n",
       " array([ 0.46615317, -0.04564711,  0.01587591], dtype=float32),\n",
       " array([ 0.46628457, -0.04562836,  0.0158684 ], dtype=float32),\n",
       " array([ 0.46651542, -0.04570214,  0.01588001], dtype=float32),\n",
       " array([ 0.46674687, -0.04572567,  0.01587055], dtype=float32),\n",
       " array([ 0.46695143, -0.04580893,  0.01591323], dtype=float32),\n",
       " array([ 0.46710494, -0.04575953,  0.01596029], dtype=float32),\n",
       " array([ 0.46730152, -0.04578057,  0.01593976], dtype=float32),\n",
       " array([ 0.46758017, -0.04578431,  0.01604782], dtype=float32),\n",
       " array([ 0.46780527, -0.04578141,  0.01611613], dtype=float32),\n",
       " array([ 0.4678223 , -0.04578393,  0.01613811], dtype=float32),\n",
       " array([ 0.46800214, -0.04577834,  0.01621106], dtype=float32),\n",
       " array([ 0.468194  , -0.04581856,  0.01619986], dtype=float32),\n",
       " array([ 0.46827587, -0.04577661,  0.01630499], dtype=float32),\n",
       " array([ 0.46831006, -0.04574813,  0.01625038], dtype=float32),\n",
       " array([ 0.4682201 , -0.04577503,  0.01619213], dtype=float32),\n",
       " array([ 0.4683253 , -0.04573885,  0.0162849 ], dtype=float32),\n",
       " array([ 0.468248  , -0.04577276,  0.01621516], dtype=float32),\n",
       " array([ 0.46833092, -0.04573927,  0.01628116], dtype=float32),\n",
       " array([ 0.46824422, -0.04573731,  0.01630379], dtype=float32),\n",
       " array([ 0.46822897, -0.04579464,  0.01634179], dtype=float32),\n",
       " array([ 0.4682171 , -0.04576514,  0.01632042], dtype=float32),\n",
       " array([ 0.46823296, -0.04579828,  0.01634332], dtype=float32),\n",
       " array([ 0.46824032, -0.04579939,  0.01632244], dtype=float32),\n",
       " array([ 0.4681896 , -0.04576374,  0.01629131], dtype=float32),\n",
       " array([ 0.46822807, -0.04579578,  0.01634477], dtype=float32),\n",
       " array([ 0.46813092, -0.04578824,  0.01625043], dtype=float32),\n",
       " array([ 0.4682524 , -0.04580384,  0.0163161 ], dtype=float32),\n",
       " array([ 0.468118  , -0.04578604,  0.01628956], dtype=float32),\n",
       " array([ 0.4681664 , -0.04571983,  0.01634479], dtype=float32),\n",
       " array([ 0.4682123 , -0.04574975,  0.01632705], dtype=float32),\n",
       " array([ 0.46824077, -0.04579261,  0.01632781], dtype=float32),\n",
       " array([ 0.46821988, -0.04576157,  0.0163143 ], dtype=float32),\n",
       " array([ 0.46822912, -0.04579897,  0.01633988], dtype=float32),\n",
       " array([ 0.46822804, -0.04575387,  0.01633412], dtype=float32),\n",
       " array([ 0.46813026, -0.04579661,  0.01624377], dtype=float32),\n",
       " array([ 0.4681693 , -0.04576503,  0.01632668], dtype=float32)]"
      ]
     },
     "execution_count": 22,
     "metadata": {},
     "output_type": "execute_result"
    }
   ],
   "source": [
    "exp_20"
   ]
  },
  {
   "cell_type": "code",
   "execution_count": 23,
   "id": "a01ed300",
   "metadata": {},
   "outputs": [],
   "source": [
    "import matplotlib.pyplot as plt\n",
    "x=np.arange(1,len(ls)+1)"
   ]
  },
  {
   "cell_type": "code",
   "execution_count": 24,
   "id": "8e2ed823",
   "metadata": {},
   "outputs": [],
   "source": [
    "real_P_Z=[]\n",
    "predict_P_Z=[]\n",
    "real_P_X=[]\n",
    "predict_P_X=[]\n",
    "real_P_Y=[]\n",
    "predict_P_Y=[]\n",
    "real_exp_X=[]\n",
    "real_exp_Y=[]\n",
    "real_exp_Z=[]\n",
    "exp_20_X=[]\n",
    "exp_20_Y=[]\n",
    "exp_20_Z=[]\n",
    "\n",
    "for i in range(len(real)):\n",
    "    real_P_Z.append(real[i][2])\n",
    "    predict_P_Z.append(ls[i][2])\n",
    "    real_P_X.append(real[i][0])\n",
    "    predict_P_X.append(ls[i][0])\n",
    "    real_P_Y.append(real[i][1])\n",
    "    predict_P_Y.append(ls[i][1])\n",
    "    real_exp_X.append(real_exp[i][0])\n",
    "    real_exp_Y.append(real_exp[i][1])\n",
    "    real_exp_Z.append(real_exp[i][2])\n",
    "    \n",
    "    exp_20_X.append(exp_20[i][0])\n",
    "    exp_20_Y.append(exp_20[i][1])\n",
    "    exp_20_Z.append(exp_20[i][2])"
   ]
  },
  {
   "cell_type": "code",
   "execution_count": 25,
   "id": "da579687",
   "metadata": {},
   "outputs": [
    {
     "data": {
      "image/png": "[encoded data removed]",
      "text/plain": [
       "<Figure size 432x288 with 1 Axes>"
      ]
     },
     "metadata": {
      "needs_background": "light"
     },
     "output_type": "display_data"
    }
   ],
   "source": [
    "x=np.arange(1,len(real_P_Z)+1)\n",
    "plt.plot(x,real_P_Z)\n",
    "plt.plot(x,predict_P_Z)\n",
    "plt.show()"
   ]
  },
  {
   "cell_type": "code",
   "execution_count": 26,
   "id": "8e3f973f",
   "metadata": {},
   "outputs": [
    {
     "data": {
      "image/png": "[encoded data removed]",
      "text/plain": [
       "<Figure size 432x288 with 1 Axes>"
      ]
     },
     "metadata": {
      "needs_background": "light"
     },
     "output_type": "display_data"
    }
   ],
   "source": [
    "x=np.arange(1,len(real_exp_Z)+1)\n",
    "plt.plot(x,real_exp_Z)\n",
    "plt.plot(x,predict_P_Z)\n",
    "plt.show()"
   ]
  },
  {
   "cell_type": "code",
   "execution_count": 27,
   "id": "c4bf338b",
   "metadata": {},
   "outputs": [
    {
     "data": {
      "image/png": "[encoded data removed]",
      "text/plain": [
       "<Figure size 432x288 with 1 Axes>"
      ]
     },
     "metadata": {
      "needs_background": "light"
     },
     "output_type": "display_data"
    }
   ],
   "source": [
    "real_exp_Z=real_exp_Z[20:]\n",
    "x=np.arange(1,len(real_exp_Z)+1)\n",
    "plt.plot(x,real_exp_Z)\n",
    "plt.plot(x,exp_20_Z[:-20])\n",
    "plt.show()"
   ]
  },
  {
   "cell_type": "code",
   "execution_count": null,
   "id": "ff6467ba",
   "metadata": {},
   "outputs": [],
   "source": []
  },
  {
   "cell_type": "code",
   "execution_count": null,
   "id": "33e6ca7c",
   "metadata": {},
   "outputs": [],
   "source": []
  }
 ],
 "metadata": {
  "kernelspec": {
   "display_name": "Python 3 (ipykernel)",
   "language": "python",
   "name": "python3"
  },
  "language_info": {
   "codemirror_mode": {
    "name": "ipython",
    "version": 3
   },
   "file_extension": ".py",
   "mimetype": "text/x-python",
   "name": "python",
   "nbconvert_exporter": "python",
   "pygments_lexer": "ipython3",
   "version": "3.9.7"
  }
 },
 "nbformat": 4,
 "nbformat_minor": 5
}
